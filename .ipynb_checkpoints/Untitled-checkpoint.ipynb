{
 "cells": [
  {
   "cell_type": "code",
   "execution_count": 118,
   "metadata": {},
   "outputs": [],
   "source": [
    "from typing import Iterable\n",
    "from happytransformer import HappyGeneration\n",
    "from happytransformer import GENSettings\n"
   ]
  },
  {
   "cell_type": "code",
   "execution_count": 119,
   "metadata": {},
   "outputs": [
    {
     "name": "stderr",
     "output_type": "stream",
     "text": [
      "06/26/2021 16:54:19 - INFO - happytransformer.happy_transformer -   Using model: cpu\n"
     ]
    }
   ],
   "source": [
    "#Create a HappyGeneration Object\n",
    "happy_gen = HappyGeneration(\"GPT-NEO\", \"EleutherAI/gpt-neo-125M\")\n",
    "# happy_gen = HappyGeneration(\"GPT-NEO\", \"EleutherAI/gpt-neo-1.3B\")\n"
   ]
  },
  {
   "cell_type": "code",
   "execution_count": 120,
   "metadata": {},
   "outputs": [
    {
     "name": "stdout",
     "output_type": "stream",
     "text": [
      "['Art', 'is', 'a', 'game', 'and', 'not', 'everyone', 'is', 'invited', 'to', 'play,', 'Art', 'is', 'a', 'game', 'and', 'if', 'Picasso', 'had', 'been', 'born', 'in', 'Botswana', 'nobody', 'would', 'be', 'buying', 'postcards', 'of', 'his', 'works', 'in', 'the', 'gift', 'shop', 'of', 'the', 'MET,', 'Art', 'is', 'what', 'we', 'agree', 'art', 'is,', 'and', 'if', 'someone', 'doesn’t', 'agree,', 'we', 'call', 'them', 'a', 'heretic', 'and', 'we', 'throw', 'them', 'in', 'the', 'Hudson', 'with', 'a', 'sculpture', 'of', 'Robert', 'Indiana', 'tied', 'to', 'their', 'legs', 'to', 'see', 'if', 'they', 'float,', 'It’s', 'art', 'if', 'it', 'doesn’t', 'sink', 'in', 'the', 'river,', 'It’s', 'art', 'if', 'five', 'zeros', 'line', 'up', 'in', 'your', 'wallet,', 'It’s', 'art', 'if', 'it', 'smells', 'like', 'gold,', 'if', 'it', 'tastes', 'like', 'gold,', 'if', 'it', 'weighs', 'the', 'same', 'as', 'gold,', 'It’ll', 'be', 'art', 'if', 'you', 'stop', 'repeating', 'how', 'good', 'it', 'is', 'and', 'you', 'stop', 'to', 'look', 'at', 'it,', 'if', 'you', 'stop', 'trying', 'to', 'understand', 'it,', 'to', 'explain', 'it,', 'Picasso', 'in', 'Botswana', 'passing', 'out', 'Pulas', 'and', 'on', 'the', 'walls', 'of', 'the', 'MOMA', 'pieces', 'of', 'melted', 'egos', 'are', 'hanging,', 'Without', 'oceans,', 'Without', 'people,', 'Rivers', 'of', 'people', 'doing', 'what', 'they', 'DON’T', 'feel,', 'doing', 'what', 'they', 'think', 'they’re', 'supposed', 'to', 'do,', 'what', 'someone', 'told', 'them', 'to', 'do', 'or', 'something', 'that', 'they', 'read', 'in', 'the', 'Time', 'Out', 'New', 'York,', 'or', 'in', 'the', 'Brooklyn', 'Rail,', 'The', 'Setinkane', 'drum', 'sounds', 'and', 'someone', 'plays', 'the', 'Phala', 'Picasso', 'slowly', 'walks', 'through', 'the', 'streets', 'of', 'Gaborone', 'while', 'on', 'the', 'other', 'side', 'of', 'the', 'world,', 'a', 'painting', 'that', 'he', 'didn’t', 'paint', 'sells', 'for', 'millions', 'of', 'dollars,', 'Nobody', 'knows', 'who', 'Picasso', 'is']\n",
      "245\n"
     ]
    }
   ],
   "source": [
    "f = open(\"poem.txt\", \"r\")\n",
    "poem = f.read().replace(\"\\n\",\"\").split(\" \")\n",
    "poem_len = len(poem)\n",
    "print(poem)\n",
    "\n",
    "count = 0\n",
    "print(poem_len)"
   ]
  },
  {
   "cell_type": "code",
   "execution_count": 121,
   "metadata": {},
   "outputs": [],
   "source": [
    "def generate_text(initial_text, debug=False):\n",
    "    len_generator = 245-len(initial_text.split(\" \"))\n",
    "    AI_args = GENSettings(min_length=len_generator, max_length=len_generator)\n",
    "    demo = happy_gen.generate_text( initial_text, args = AI_args).text.replace('\\n','')\n",
    "    compose = f\"{initial_text} ^^ {demo}\"\n",
    "    if debug == True:\n",
    "        print(len(compose.split(\" \")))\n",
    "    return compose\n"
   ]
  },
  {
   "cell_type": "code",
   "execution_count": 122,
   "metadata": {},
   "outputs": [
    {
     "name": "stderr",
     "output_type": "stream",
     "text": [
      "Setting `pad_token_id` to `eos_token_id`:50256 for open-end generation.\n"
     ]
    },
    {
     "name": "stdout",
     "output_type": "stream",
     "text": [
      "Art is a game and not everyone is invited to play, Art is a game and if Picasso had been born in Botswana nobody would be buying postcards of his works in the gift shop of the MET, Art is what we agree art is, and if someone doesn’t agree, we call them a heretic and we throw them in the Hudson with a sculpture of Robert Indiana tied to their legs to see if they float, It’s art if it doesn’t sink in the river, It’s art if five zeros line up in your wallet, It’s art if it smells like gold, if it tastes like gold, if it weighs the same as gold, It’ll be art if you stop repeating how good it is and you stop to look at it, if you stop trying to understand it, to explain it, Picasso in Botswana passing out Pulas and on the walls of the MOMA pieces of melted egos are hanging, Without oceans, Without people, Rivers of people doing what they DON’T feel, doing what they think they’re supposed to do, what someone told them to do or something that they read in the Time Out New York, or ^^  something that they read in the New York Times, or something that they read in the New Yorker, or something that they read in the New York Review of Books, or something that they read in the New York Review of Books\n"
     ]
    }
   ],
   "source": [
    "initial_text_test =  \" \".join(poem[0:200])\n",
    "print(generate_text(initial_text_test))"
   ]
  },
  {
   "cell_type": "code",
   "execution_count": 123,
   "metadata": {},
   "outputs": [],
   "source": [
    "file_dest = open(\"poem_AI.txt\", \"w\")"
   ]
  },
  {
   "cell_type": "code",
   "execution_count": null,
   "metadata": {},
   "outputs": [
    {
     "name": "stderr",
     "output_type": "stream",
     "text": [
      "Setting `pad_token_id` to `eos_token_id`:50256 for open-end generation.\n"
     ]
    },
    {
     "name": "stdout",
     "output_type": "stream",
     "text": [
      "['Art']\n"
     ]
    },
    {
     "name": "stderr",
     "output_type": "stream",
     "text": [
      "Setting `pad_token_id` to `eos_token_id`:50256 for open-end generation.\n"
     ]
    },
    {
     "name": "stdout",
     "output_type": "stream",
     "text": [
      "Art ^^ ificial intelligence (AI) is a field of study that aims to develop systems that can learn and adapt to new situations. AI is a field of study that aims to develop systems that can learn and adapt to new situations.The field of AI is a field of study that aims to develop systems that can learn and adapt to new situations.The field of AI is a field of study that aims to develop systems that can learn and adapt to new situations.The field of AI is a field of study that aims to develop systems that can learn and adapt to new situations.The field of AI is a field of study that aims to develop systems that can learn and adapt to new situations.The field of AI is a field of study that aims to develop systems that can learn and adapt to new situations.The field of AI is a field of study that aims to develop systems that can learn and adapt to new situations.The field of AI is a field of study that aims to develop systems that can learn and adapt to new situations.The field of AI is a field of study that aims to develop systems that can learn and adapt to new situations.\n",
      "['Art', 'is']\n"
     ]
    },
    {
     "name": "stderr",
     "output_type": "stream",
     "text": [
      "Setting `pad_token_id` to `eos_token_id`:50256 for open-end generation.\n"
     ]
    },
    {
     "name": "stdout",
     "output_type": "stream",
     "text": [
      "Art is ^^  a form of communication that is used to convey ideas, ideas that are often expressed in a visual form. Art is a form of communication that is used to convey ideas, ideas that are often expressed in a visual form.The word art is derived from the Latin artis, meaning “art”. The word art is derived from the Latin artis, meaning “art”.The word art is derived from the Latin artis, meaning “art”.The word art is derived from the Latin artis, meaning “art”.The word art is derived from the Latin artis, meaning “art”.The word art is derived from the Latin artis, meaning “art”.The word art is derived from the Latin artis, meaning “art”.The word art is derived from the Latin artis, meaning “art”.The word art is derived from the Latin artis, meaning “art”.The word art is derived from the Latin artis, meaning “art”.\n",
      "['Art', 'is', 'a']\n"
     ]
    },
    {
     "name": "stderr",
     "output_type": "stream",
     "text": [
      "Setting `pad_token_id` to `eos_token_id`:50256 for open-end generation.\n"
     ]
    },
    {
     "name": "stdout",
     "output_type": "stream",
     "text": [
      "Art is a ^^  form of communication that is used to convey ideas, ideas that are often expressed in a visual form. Art is a form of communication that is used to convey ideas, ideas that are often expressed in a visual form.The word art is derived from the Latin artis, meaning “art”. The word art is derived from the Latin artis, meaning “art”.The word art is derived from the Latin artis, meaning “art”.The word art is derived from the Latin artis, meaning “art”.The word art is derived from the Latin artis, meaning “art”.The word art is derived from the Latin artis, meaning “art”.The word art is derived from the Latin artis, meaning “art”.The word art is derived from the Latin artis, meaning “art”.The word art is derived from the Latin artis, meaning “art”.The word art is derived from the Latin artis, meaning “art”.\n",
      "['Art', 'is', 'a', 'game']\n"
     ]
    },
    {
     "name": "stderr",
     "output_type": "stream",
     "text": [
      "Setting `pad_token_id` to `eos_token_id`:50256 for open-end generation.\n"
     ]
    },
    {
     "name": "stdout",
     "output_type": "stream",
     "text": [
      "Art is a game ^^  of ideas. The ideas are the things that make up the game. The ideas are the things that make up the game. The ideas are the things that make up the game. The ideas are the things that make up the game. The ideas are the things that make up the game. The ideas are the things that make up the game. The ideas are the things that make up the game. The ideas are the things that make up the game. The ideas are the things that make up the game. The ideas are the things that make up the game. The ideas are the things that make up the game. The ideas are the things that make up the game. The ideas are the things that make up the game. The ideas are the things that make up the game. The ideas are the things that make up the game. The ideas are the things that make up the game. The ideas are the things that make up the game. The ideas are the things that make up the game. The ideas are the things that make up the game. The ideas are the things that make up the game. The ideas are the things that make up the game. The ideas are the things that make\n",
      "['Art', 'is', 'a', 'game', 'and']\n"
     ]
    },
    {
     "name": "stderr",
     "output_type": "stream",
     "text": [
      "Setting `pad_token_id` to `eos_token_id`:50256 for open-end generation.\n"
     ]
    },
    {
     "name": "stdout",
     "output_type": "stream",
     "text": [
      "Art is a game and ^^  a game is a game.The game of art is a game of the mind.The game of art is a game of the heart.The game of art is a game of the soul.The game of art is a game of the spirit.The game of art is a game of the mind.The game of art is a game of the heart.The game of art is a game of the soul.The game of art is a game of the spirit.The game of art is a game of the mind.The game of art is a game of the heart.The game of art is a game of the soul.The game of art is a game of the spirit.The game of art is a game of the mind.The game of art is a game of the heart.The game of art is a game of the soul.The game of art is a game of the spirit.The game of art is a game of the mind.The game of art is a game of the heart.\n",
      "['Art', 'is', 'a', 'game', 'and', 'not']\n"
     ]
    },
    {
     "name": "stderr",
     "output_type": "stream",
     "text": [
      "Setting `pad_token_id` to `eos_token_id`:50256 for open-end generation.\n"
     ]
    },
    {
     "name": "stdout",
     "output_type": "stream",
     "text": [
      "Art is a game and not ^^  a movie. It is a story, a story about a story. It is a story about a story. It is a story about a story. It is a story about a story. It is a story about a story. It is a story about a story. It is a story about a story. It is a story about a story. It is a story about a story. It is a story about a story. It is a story about a story. It is a story about a story. It is a story about a story. It is a story about a story. It is a story about a story. It is a story about a story. It is a story about a story. It is a story about a story. It is a story about a story. It is a story about a story. It is a story about a story. It is a story about a story. It is a story about a story. It is a story about a story. It is a story about a story. It is a story about a story. It is a story about a story. It is a story about a story. It is a story about a story. It\n",
      "['Art', 'is', 'a', 'game', 'and', 'not', 'everyone']\n"
     ]
    },
    {
     "name": "stderr",
     "output_type": "stream",
     "text": [
      "Setting `pad_token_id` to `eos_token_id`:50256 for open-end generation.\n"
     ]
    },
    {
     "name": "stdout",
     "output_type": "stream",
     "text": [
      "Art is a game and not everyone ^^  is a fan of it. I am not a fan of it. I am a fan of the game. I am a fan of the game. I am a fan of the game. I am a fan of the game. I am a fan of the game. I am a fan of the game. I am a fan of the game. I am a fan of the game. I am a fan of the game. I am a fan of the game. I am a fan of the game. I am a fan of the game. I am a fan of the game. I am a fan of the game. I am a fan of the game. I am a fan of the game. I am a fan of the game. I am a fan of the game. I am a fan of the game. I am a fan of the game. I am a fan of the game. I am a fan of the game. I am a fan of the game. I am a fan of the game. I am a fan of the game. I am a fan of the game. I am a fan of the game. I am a fan of the game.\n",
      "['Art', 'is', 'a', 'game', 'and', 'not', 'everyone', 'is']\n"
     ]
    },
    {
     "name": "stderr",
     "output_type": "stream",
     "text": [
      "Setting `pad_token_id` to `eos_token_id`:50256 for open-end generation.\n"
     ]
    },
    {
     "name": "stdout",
     "output_type": "stream",
     "text": [
      "Art is a game and not everyone is ^^  a fan of it. I am not a fan of it. I am a fan of the game. I am a fan of the game. I am a fan of the game. I am a fan of the game. I am a fan of the game. I am a fan of the game. I am a fan of the game. I am a fan of the game. I am a fan of the game. I am a fan of the game. I am a fan of the game. I am a fan of the game. I am a fan of the game. I am a fan of the game. I am a fan of the game. I am a fan of the game. I am a fan of the game. I am a fan of the game. I am a fan of the game. I am a fan of the game. I am a fan of the game. I am a fan of the game. I am a fan of the game. I am a fan of the game. I am a fan of the game. I am a fan of the game. I am a fan of the game. I am a fan of the game.\n",
      "['Art', 'is', 'a', 'game', 'and', 'not', 'everyone', 'is', 'invited']\n"
     ]
    },
    {
     "name": "stderr",
     "output_type": "stream",
     "text": [
      "Setting `pad_token_id` to `eos_token_id`:50256 for open-end generation.\n"
     ]
    },
    {
     "name": "stdout",
     "output_type": "stream",
     "text": [
      "Art is a game and not everyone is invited ^^  to play.I’m not sure if I’m the only one who has noticed that the game of art is a game.I’m not sure if I’m the only one who has noticed that the game of art is a game.I’m not sure if I’m the only one who has noticed that the game of art is a game.I’m not sure if I’m the only one who has noticed that the game of art is a game.I’m not sure if I’m the only one who has noticed that the game of art is a game.I’m not sure if I’m the only one who has noticed that the game of art is a game.I’m not sure if I’m the only one who has noticed that the game of art is a game.I’m not sure if I’m the only one who has noticed that the game of art is a game.I’m not sure if\n",
      "['Art', 'is', 'a', 'game', 'and', 'not', 'everyone', 'is', 'invited', 'to']\n"
     ]
    },
    {
     "name": "stderr",
     "output_type": "stream",
     "text": [
      "Setting `pad_token_id` to `eos_token_id`:50256 for open-end generation.\n"
     ]
    },
    {
     "name": "stdout",
     "output_type": "stream",
     "text": [
      "Art is a game and not everyone is invited to ^^  play.I’m not sure if I’m the only one who has noticed that the game of art is a game.I’m not sure if I’m the only one who has noticed that the game of art is a game.I’m not sure if I’m the only one who has noticed that the game of art is a game.I’m not sure if I’m the only one who has noticed that the game of art is a game.I’m not sure if I’m the only one who has noticed that the game of art is a game.I’m not sure if I’m the only one who has noticed that the game of art is a game.I’m not sure if I’m the only one who has noticed that the game of art is a game.I’m not sure if I’m the only one who has noticed that the game of art is a game.I’m not sure if\n",
      "['Art', 'is', 'a', 'game', 'and', 'not', 'everyone', 'is', 'invited', 'to', 'play,']\n"
     ]
    },
    {
     "name": "stderr",
     "output_type": "stream",
     "text": [
      "Setting `pad_token_id` to `eos_token_id`:50256 for open-end generation.\n"
     ]
    },
    {
     "name": "stdout",
     "output_type": "stream",
     "text": [
      "Art is a game and not everyone is invited to play, ^^  so it’s important to have a good game to play.I’ve been playing a lot of games lately, and I’ve been playing a lot of games that are not very good. I’ve been playing games that are not very good because I’m not very good at them. I’ve been playing games that are not very good because I’m not very good at them.I’ve been playing games that are not very good because I’m not very good at them.I’ve been playing games that are not very good because I’m not very good at them.I’ve been playing games that are not very good because I’m not very good at them.I’ve been playing games that are not very good because I’m not very good at them.I’ve been playing games that are not very good because I’m not very good at them.I’ve been playing games that are not very good because I’\n",
      "['Art', 'is', 'a', 'game', 'and', 'not', 'everyone', 'is', 'invited', 'to', 'play,', 'Art']\n"
     ]
    },
    {
     "name": "stderr",
     "output_type": "stream",
     "text": [
      "Setting `pad_token_id` to `eos_token_id`:50256 for open-end generation.\n"
     ]
    },
    {
     "name": "stdout",
     "output_type": "stream",
     "text": [
      "Art is a game and not everyone is invited to play, Art ^^  is a game and not everyone is invited to play, Art is a game and not everyone is invited to play, Art is a game and not everyone is invited to play, Art is a game and not everyone is invited to play, Art is a game and not everyone is invited to play, Art is a game and not everyone is invited to play, Art is a game and not everyone is invited to play, Art is a game and not everyone is invited to play, Art is a game and not everyone is invited to play, Art is a game and not everyone is invited to play, Art is a game and not everyone is invited to play, Art is a game and not everyone is invited to play, Art is a game and not everyone is invited to play, Art is a game and not everyone is invited to play, Art is a game and not everyone is invited to play, Art is a game and not everyone is invited to play, Art is a game and not everyone is invited to play, Art is a game and not everyone is invited to play, Art is a game and not everyone is invited to play, Art is a game and not\n",
      "['Art', 'is', 'a', 'game', 'and', 'not', 'everyone', 'is', 'invited', 'to', 'play,', 'Art', 'is']\n"
     ]
    },
    {
     "name": "stderr",
     "output_type": "stream",
     "text": [
      "Setting `pad_token_id` to `eos_token_id`:50256 for open-end generation.\n"
     ]
    },
    {
     "name": "stdout",
     "output_type": "stream",
     "text": [
      "Art is a game and not everyone is invited to play, Art is ^^  a game and not everyone is invited to play, Art is a game and not everyone is invited to play, Art is a game and not everyone is invited to play, Art is a game and not everyone is invited to play, Art is a game and not everyone is invited to play, Art is a game and not everyone is invited to play, Art is a game and not everyone is invited to play, Art is a game and not everyone is invited to play, Art is a game and not everyone is invited to play, Art is a game and not everyone is invited to play, Art is a game and not everyone is invited to play, Art is a game and not everyone is invited to play, Art is a game and not everyone is invited to play, Art is a game and not everyone is invited to play, Art is a game and not everyone is invited to play, Art is a game and not everyone is invited to play, Art is a game and not everyone is invited to play, Art is a game and not everyone is invited to play, Art is a game and not everyone is invited to play, Art is a game and not\n",
      "['Art', 'is', 'a', 'game', 'and', 'not', 'everyone', 'is', 'invited', 'to', 'play,', 'Art', 'is', 'a']\n"
     ]
    },
    {
     "name": "stderr",
     "output_type": "stream",
     "text": [
      "Setting `pad_token_id` to `eos_token_id`:50256 for open-end generation.\n"
     ]
    },
    {
     "name": "stdout",
     "output_type": "stream",
     "text": [
      "Art is a game and not everyone is invited to play, Art is a ^^  game and not everyone is invited to play, Art is a game and not everyone is invited to play, Art is a game and not everyone is invited to play, Art is a game and not everyone is invited to play, Art is a game and not everyone is invited to play, Art is a game and not everyone is invited to play, Art is a game and not everyone is invited to play, Art is a game and not everyone is invited to play, Art is a game and not everyone is invited to play, Art is a game and not everyone is invited to play, Art is a game and not everyone is invited to play, Art is a game and not everyone is invited to play, Art is a game and not everyone is invited to play, Art is a game and not everyone is invited to play, Art is a game and not everyone is invited to play, Art is a game and not everyone is invited to play, Art is a game and not everyone is invited to play, Art is a game and not everyone is invited to play, Art is a game and not everyone is invited to play, Art is a game and not\n",
      "['Art', 'is', 'a', 'game', 'and', 'not', 'everyone', 'is', 'invited', 'to', 'play,', 'Art', 'is', 'a', 'game']\n"
     ]
    },
    {
     "name": "stderr",
     "output_type": "stream",
     "text": [
      "Setting `pad_token_id` to `eos_token_id`:50256 for open-end generation.\n"
     ]
    },
    {
     "name": "stdout",
     "output_type": "stream",
     "text": [
      "Art is a game and not everyone is invited to play, Art is a game ^^  and not everyone is invited to play, Art is a game and not everyone is invited to play, Art is a game and not everyone is invited to play, Art is a game and not everyone is invited to play, Art is a game and not everyone is invited to play, Art is a game and not everyone is invited to play, Art is a game and not everyone is invited to play, Art is a game and not everyone is invited to play, Art is a game and not everyone is invited to play, Art is a game and not everyone is invited to play, Art is a game and not everyone is invited to play, Art is a game and not everyone is invited to play, Art is a game and not everyone is invited to play, Art is a game and not everyone is invited to play, Art is a game and not everyone is invited to play, Art is a game and not everyone is invited to play, Art is a game and not everyone is invited to play, Art is a game and not everyone is invited to play, Art is a game and not everyone is invited to play, Art is a game and not\n",
      "['Art', 'is', 'a', 'game', 'and', 'not', 'everyone', 'is', 'invited', 'to', 'play,', 'Art', 'is', 'a', 'game', 'and']\n"
     ]
    },
    {
     "name": "stderr",
     "output_type": "stream",
     "text": [
      "Setting `pad_token_id` to `eos_token_id`:50256 for open-end generation.\n"
     ]
    },
    {
     "name": "stdout",
     "output_type": "stream",
     "text": [
      "Art is a game and not everyone is invited to play, Art is a game and ^^  not everyone is invited to play, Art is a game and not everyone is invited to play, Art is a game and not everyone is invited to play, Art is a game and not everyone is invited to play, Art is a game and not everyone is invited to play, Art is a game and not everyone is invited to play, Art is a game and not everyone is invited to play, Art is a game and not everyone is invited to play, Art is a game and not everyone is invited to play, Art is a game and not everyone is invited to play, Art is a game and not everyone is invited to play, Art is a game and not everyone is invited to play, Art is a game and not everyone is invited to play, Art is a game and not everyone is invited to play, Art is a game and not everyone is invited to play, Art is a game and not everyone is invited to play, Art is a game and not everyone is invited to play, Art is a game and not everyone is invited to play, Art is a game and not everyone is invited to play, Art is a game and not\n",
      "['Art', 'is', 'a', 'game', 'and', 'not', 'everyone', 'is', 'invited', 'to', 'play,', 'Art', 'is', 'a', 'game', 'and', 'if']\n"
     ]
    },
    {
     "name": "stderr",
     "output_type": "stream",
     "text": [
      "Setting `pad_token_id` to `eos_token_id`:50256 for open-end generation.\n"
     ]
    },
    {
     "name": "stdout",
     "output_type": "stream",
     "text": [
      "Art is a game and not everyone is invited to play, Art is a game and if ^^  you don’t like it, you can leave.I’m not going to lie, I’m not a big fan of art. I’m not a big fan of art in general. I’m not a big fan of art in the way that I’m a big fan of music, movies, books, or any other form of art. I’m not a big fan of art in the way that I’m a big fan of food, or any other form of food. I’m not a big fan of art in the way that I’m a big fan of sports, or any other form of sports. I’m not a big fan of art in the way that I’m a big fan of food, or any other form of food. I’m not a big fan of art in the way that I’m a big fan of food, or any other form of food. I’m not a big fan of art in the way that I’m a big fan of\n",
      "['Art', 'is', 'a', 'game', 'and', 'not', 'everyone', 'is', 'invited', 'to', 'play,', 'Art', 'is', 'a', 'game', 'and', 'if', 'Picasso']\n"
     ]
    },
    {
     "name": "stderr",
     "output_type": "stream",
     "text": [
      "Setting `pad_token_id` to `eos_token_id`:50256 for open-end generation.\n"
     ]
    },
    {
     "name": "stdout",
     "output_type": "stream",
     "text": [
      "Art is a game and not everyone is invited to play, Art is a game and if Picasso ^^  was a game, he would be a game.The game is a game of art and not everyone is invited to play, Art is a game and if Picasso was a game, he would be a game.The game is a game of art and not everyone is invited to play, Art is a game and if Picasso was a game, he would be a game.The game is a game of art and not everyone is invited to play, Art is a game and if Picasso was a game, he would be a game.The game is a game of art and not everyone is invited to play, Art is a game and if Picasso was a game, he would be a game.The game is a game of art and not everyone is invited to play, Art is a game and if Picasso was a game, he would be a game.The game is a game of art and not everyone is invited to play, Art is a game and if Picasso was a game, he would be a game.The game is a game\n",
      "['Art', 'is', 'a', 'game', 'and', 'not', 'everyone', 'is', 'invited', 'to', 'play,', 'Art', 'is', 'a', 'game', 'and', 'if', 'Picasso', 'had']\n"
     ]
    },
    {
     "name": "stderr",
     "output_type": "stream",
     "text": [
      "Setting `pad_token_id` to `eos_token_id`:50256 for open-end generation.\n"
     ]
    },
    {
     "name": "stdout",
     "output_type": "stream",
     "text": [
      "Art is a game and not everyone is invited to play, Art is a game and if Picasso had ^^  been invited to play, he would have been a great artist.The game is a game and not everyone is invited to play, Art is a game and if Picasso had been invited to play, he would have been a great artist.The game is a game and not everyone is invited to play, Art is a game and if Picasso had been invited to play, he would have been a great artist.The game is a game and not everyone is invited to play, Art is a game and if Picasso had been invited to play, he would have been a great artist.The game is a game and not everyone is invited to play, Art is a game and if Picasso had been invited to play, he would have been a great artist.The game is a game and not everyone is invited to play, Art is a game and if Picasso had been invited to play, he would have been a great artist.The game is a game and not everyone is invited to play, Art is a game and if Picasso had been invited to play\n",
      "['Art', 'is', 'a', 'game', 'and', 'not', 'everyone', 'is', 'invited', 'to', 'play,', 'Art', 'is', 'a', 'game', 'and', 'if', 'Picasso', 'had', 'been']\n"
     ]
    },
    {
     "name": "stderr",
     "output_type": "stream",
     "text": [
      "Setting `pad_token_id` to `eos_token_id`:50256 for open-end generation.\n"
     ]
    },
    {
     "name": "stdout",
     "output_type": "stream",
     "text": [
      "Art is a game and not everyone is invited to play, Art is a game and if Picasso had been ^^  invited to play, he would have been a great artist.The game is a game and not everyone is invited to play, Art is a game and if Picasso had been invited to play, he would have been a great artist.The game is a game and not everyone is invited to play, Art is a game and if Picasso had been invited to play, he would have been a great artist.The game is a game and not everyone is invited to play, Art is a game and if Picasso had been invited to play, he would have been a great artist.The game is a game and not everyone is invited to play, Art is a game and if Picasso had been invited to play, he would have been a great artist.The game is a game and not everyone is invited to play, Art is a game and if Picasso had been invited to play, he would have been a great artist.The game is a game and not everyone is invited to play, Art is a game and if Picasso had been invited to play\n",
      "['Art', 'is', 'a', 'game', 'and', 'not', 'everyone', 'is', 'invited', 'to', 'play,', 'Art', 'is', 'a', 'game', 'and', 'if', 'Picasso', 'had', 'been', 'born']\n"
     ]
    },
    {
     "name": "stderr",
     "output_type": "stream",
     "text": [
      "Setting `pad_token_id` to `eos_token_id`:50256 for open-end generation.\n"
     ]
    },
    {
     "name": "stdout",
     "output_type": "stream",
     "text": [
      "Art is a game and not everyone is invited to play, Art is a game and if Picasso had been born ^^  today, he would have been a painter.The art world is a very small world. There are only a few hundred artists in the world and they are all very famous.The art world is a very small world. There are only a few hundred artists in the world and they are all very famous.The art world is a very small world. There are only a few hundred artists in the world and they are all very famous.The art world is a very small world. There are only a few hundred artists in the world and they are all very famous.The art world is a very small world. There are only a few hundred artists in the world and they are all very famous.The art world is a very small world. There are only a few hundred artists in the world and they are all very famous.The art world is a very small world. There are only a few hundred artists in the world and they are all very famous.The art world is a very small world. There are only a few hundred artists in\n",
      "['Art', 'is', 'a', 'game', 'and', 'not', 'everyone', 'is', 'invited', 'to', 'play,', 'Art', 'is', 'a', 'game', 'and', 'if', 'Picasso', 'had', 'been', 'born', 'in']\n"
     ]
    },
    {
     "name": "stderr",
     "output_type": "stream",
     "text": [
      "Setting `pad_token_id` to `eos_token_id`:50256 for open-end generation.\n"
     ]
    },
    {
     "name": "stdout",
     "output_type": "stream",
     "text": [
      "Art is a game and not everyone is invited to play, Art is a game and if Picasso had been born in ^^  the 20th century, he would have been a painter.The art world is a very small world. There are only a few hundred artists in the world and they are all very famous. The art world is a very small world. There are only a few hundred artists in the world and they are all very famous.The art world is a very small world. There are only a few hundred artists in the world and they are all very famous.The art world is a very small world. There are only a few hundred artists in the world and they are all very famous.The art world is a very small world. There are only a few hundred artists in the world and they are all very famous.The art world is a very small world. There are only a few hundred artists in the world and they are all very famous.The art world is a very small world. There are only a few hundred artists in the world and they are all very famous.The art world is a very small world. There are only a few hundred\n",
      "['Art', 'is', 'a', 'game', 'and', 'not', 'everyone', 'is', 'invited', 'to', 'play,', 'Art', 'is', 'a', 'game', 'and', 'if', 'Picasso', 'had', 'been', 'born', 'in', 'Botswana']\n"
     ]
    },
    {
     "name": "stderr",
     "output_type": "stream",
     "text": [
      "Setting `pad_token_id` to `eos_token_id`:50256 for open-end generation.\n"
     ]
    },
    {
     "name": "stdout",
     "output_type": "stream",
     "text": [
      "Art is a game and not everyone is invited to play, Art is a game and if Picasso had been born in Botswana ^^ , he would have been a great artist.The art of the game is the art of the game.The art of the game is the art of the game.The art of the game is the art of the game.The art of the game is the art of the game.The art of the game is the art of the game.The art of the game is the art of the game.The art of the game is the art of the game.The art of the game is the art of the game.The art of the game is the art of the game.The art of the game is the art of the game.The art of the game is the art of the game.The art of the game is the art of the game.The art of the game is the art of the game.The art of the game is the art of the game.The art of the game is the art of the game.The\n",
      "['Art', 'is', 'a', 'game', 'and', 'not', 'everyone', 'is', 'invited', 'to', 'play,', 'Art', 'is', 'a', 'game', 'and', 'if', 'Picasso', 'had', 'been', 'born', 'in', 'Botswana', 'nobody']\n"
     ]
    },
    {
     "name": "stderr",
     "output_type": "stream",
     "text": [
      "Setting `pad_token_id` to `eos_token_id`:50256 for open-end generation.\n"
     ]
    },
    {
     "name": "stdout",
     "output_type": "stream",
     "text": [
      "Art is a game and not everyone is invited to play, Art is a game and if Picasso had been born in Botswana nobody ^^  would have been able to play it.The game is a game of chance and the rules are simple. You have to draw a picture of a person, place or thing. You can only draw one picture at a time. The person, place or thing you draw is not important. The only thing that matters is that you draw a picture that is not a picture of a person, place or thing that you have already drawn.The game is played by two players. The first player draws a picture of a person, place or thing. The second player then draws a picture of the same person, place or thing. The person, place or thing that the second player draws is not important. The only thing that matters is that the second player draws a picture that is not a picture of a person, place or thing that the first player has already drawn.The game is played by two players. The first player draws a picture of a person, place or thing. The second player then draws a picture of the same person, place or thing. The person, place or\n",
      "['Art', 'is', 'a', 'game', 'and', 'not', 'everyone', 'is', 'invited', 'to', 'play,', 'Art', 'is', 'a', 'game', 'and', 'if', 'Picasso', 'had', 'been', 'born', 'in', 'Botswana', 'nobody', 'would']\n"
     ]
    },
    {
     "name": "stderr",
     "output_type": "stream",
     "text": [
      "Setting `pad_token_id` to `eos_token_id`:50256 for open-end generation.\n"
     ]
    },
    {
     "name": "stdout",
     "output_type": "stream",
     "text": [
      "Art is a game and not everyone is invited to play, Art is a game and if Picasso had been born in Botswana nobody would ^^  have been able to play it.The game is a game of chance and the rules are simple. You have to draw a picture of a person, place or thing. You can only draw one picture at a time. The person, place or thing you draw is not important. The only thing that matters is that you draw a picture that is not a picture of a person, place or thing that you have already drawn.The game is played by two players. The first player draws a picture of a person, place or thing. The second player then draws a picture of the same person, place or thing. The person, place or thing that the second player draws is not important. The only thing that matters is that the second player draws a picture that is not a picture of a person, place or thing that the first player has already drawn.The game is played by two players. The first player draws a picture of a person, place or thing. The second player then draws a picture of the same person, place or thing. The person, place or\n",
      "['Art', 'is', 'a', 'game', 'and', 'not', 'everyone', 'is', 'invited', 'to', 'play,', 'Art', 'is', 'a', 'game', 'and', 'if', 'Picasso', 'had', 'been', 'born', 'in', 'Botswana', 'nobody', 'would', 'be']\n"
     ]
    },
    {
     "name": "stderr",
     "output_type": "stream",
     "text": [
      "Setting `pad_token_id` to `eos_token_id`:50256 for open-end generation.\n"
     ]
    },
    {
     "name": "stdout",
     "output_type": "stream",
     "text": [
      "Art is a game and not everyone is invited to play, Art is a game and if Picasso had been born in Botswana nobody would be ^^  talking about him.The game of Art is a game and not everyone is invited to play, Art is a game and if Picasso had been born in Botswana nobody would be talking about him.The game of Art is a game and not everyone is invited to play, Art is a game and if Picasso had been born in Botswana nobody would be talking about him.The game of Art is a game and not everyone is invited to play, Art is a game and if Picasso had been born in Botswana nobody would be talking about him.The game of Art is a game and not everyone is invited to play, Art is a game and if Picasso had been born in Botswana nobody would be talking about him.The game of Art is a game and not everyone is invited to play, Art is a game and if Picasso had been born in Botswana nobody would be talking about him.The game of Art is a game and not everyone is invited to play, Art is a game and if Picasso\n",
      "['Art', 'is', 'a', 'game', 'and', 'not', 'everyone', 'is', 'invited', 'to', 'play,', 'Art', 'is', 'a', 'game', 'and', 'if', 'Picasso', 'had', 'been', 'born', 'in', 'Botswana', 'nobody', 'would', 'be', 'buying']\n"
     ]
    },
    {
     "name": "stderr",
     "output_type": "stream",
     "text": [
      "Setting `pad_token_id` to `eos_token_id`:50256 for open-end generation.\n"
     ]
    },
    {
     "name": "stdout",
     "output_type": "stream",
     "text": [
      "Art is a game and not everyone is invited to play, Art is a game and if Picasso had been born in Botswana nobody would be buying ^^  his paintings.The game is a game and the rules are simple. You have to draw a picture of a person, animal or thing. You can use a pencil, crayon, marker, paint, charcoal, charcoal stick, charcoal pen, charcoal pencil, charcoal brush, charcoal pencil, charcoal brush, charcoal stick, charcoal pen, charcoal pencil, charcoal brush, charcoal pencil, charcoal pen, charcoal pencil, charcoal brush, charcoal stick, charcoal pen, charcoal pencil, charcoal brush, charcoal pencil, charcoal stick, charcoal pen, charcoal pencil, charcoal brush, charcoal pencil, charcoal stick, charcoal pen, charcoal pencil, charcoal brush, charcoal pencil, charcoal stick, charcoal pen, charcoal pencil, charcoal brush, charcoal pencil, charcoal stick, charcoal pen, charcoal pencil, charcoal brush, charcoal pencil, charcoal stick, charcoal pen, charcoal pencil, charcoal brush, charcoal pencil, charcoal stick, charcoal pen, charcoal pencil, charcoal brush, charcoal pencil, charcoal stick, charcoal pen, charcoal pencil, charcoal brush, charcoal pencil, charcoal stick, charcoal pen, charcoal pencil, charcoal\n",
      "['Art', 'is', 'a', 'game', 'and', 'not', 'everyone', 'is', 'invited', 'to', 'play,', 'Art', 'is', 'a', 'game', 'and', 'if', 'Picasso', 'had', 'been', 'born', 'in', 'Botswana', 'nobody', 'would', 'be', 'buying', 'postcards']\n"
     ]
    },
    {
     "name": "stderr",
     "output_type": "stream",
     "text": [
      "Setting `pad_token_id` to `eos_token_id`:50256 for open-end generation.\n"
     ]
    },
    {
     "name": "stdout",
     "output_type": "stream",
     "text": [
      "Art is a game and not everyone is invited to play, Art is a game and if Picasso had been born in Botswana nobody would be buying postcards ^^  of his paintings.Art is a game and not everyone is invited to play, Art is a game and if Picasso had been born in Botswana nobody would be buying postcards of his paintings.Art is a game and not everyone is invited to play, Art is a game and if Picasso had been born in Botswana nobody would be buying postcards of his paintings.Art is a game and not everyone is invited to play, Art is a game and if Picasso had been born in Botswana nobody would be buying postcards of his paintings.Art is a game and not everyone is invited to play, Art is a game and if Picasso had been born in Botswana nobody would be buying postcards of his paintings.Art is a game and not everyone is invited to play, Art is a game and if Picasso had been born in Botswana nobody would be buying postcards of his paintings.Art is a game and not everyone is invited to play, Art is a game and if Picasso had\n",
      "['Art', 'is', 'a', 'game', 'and', 'not', 'everyone', 'is', 'invited', 'to', 'play,', 'Art', 'is', 'a', 'game', 'and', 'if', 'Picasso', 'had', 'been', 'born', 'in', 'Botswana', 'nobody', 'would', 'be', 'buying', 'postcards', 'of']\n"
     ]
    },
    {
     "name": "stderr",
     "output_type": "stream",
     "text": [
      "Setting `pad_token_id` to `eos_token_id`:50256 for open-end generation.\n"
     ]
    },
    {
     "name": "stdout",
     "output_type": "stream",
     "text": [
      "Art is a game and not everyone is invited to play, Art is a game and if Picasso had been born in Botswana nobody would be buying postcards of ^^  his paintings.Art is a game and not everyone is invited to play, Art is a game and if Picasso had been born in Botswana nobody would be buying postcards of his paintings.Art is a game and not everyone is invited to play, Art is a game and if Picasso had been born in Botswana nobody would be buying postcards of his paintings.Art is a game and not everyone is invited to play, Art is a game and if Picasso had been born in Botswana nobody would be buying postcards of his paintings.Art is a game and not everyone is invited to play, Art is a game and if Picasso had been born in Botswana nobody would be buying postcards of his paintings.Art is a game and not everyone is invited to play, Art is a game and if Picasso had been born in Botswana nobody would be buying postcards of his paintings.Art is a game and not everyone is invited to play, Art is a game and if Picasso had\n",
      "['Art', 'is', 'a', 'game', 'and', 'not', 'everyone', 'is', 'invited', 'to', 'play,', 'Art', 'is', 'a', 'game', 'and', 'if', 'Picasso', 'had', 'been', 'born', 'in', 'Botswana', 'nobody', 'would', 'be', 'buying', 'postcards', 'of', 'his']\n"
     ]
    },
    {
     "name": "stderr",
     "output_type": "stream",
     "text": [
      "Setting `pad_token_id` to `eos_token_id`:50256 for open-end generation.\n"
     ]
    },
    {
     "name": "stdout",
     "output_type": "stream",
     "text": [
      "Art is a game and not everyone is invited to play, Art is a game and if Picasso had been born in Botswana nobody would be buying postcards of his ^^  paintings.Art is a game and not everyone is invited to play, Art is a game and if Picasso had been born in Botswana nobody would be buying postcards of his paintings.Art is a game and not everyone is invited to play, Art is a game and if Picasso had been born in Botswana nobody would be buying postcards of his paintings.Art is a game and not everyone is invited to play, Art is a game and if Picasso had been born in Botswana nobody would be buying postcards of his paintings.Art is a game and not everyone is invited to play, Art is a game and if Picasso had been born in Botswana nobody would be buying postcards of his paintings.Art is a game and not everyone is invited to play, Art is a game and if Picasso had been born in Botswana nobody would be buying postcards of his paintings.Art is a game and not everyone is invited to play, Art is a game and if Picasso had\n",
      "['Art', 'is', 'a', 'game', 'and', 'not', 'everyone', 'is', 'invited', 'to', 'play,', 'Art', 'is', 'a', 'game', 'and', 'if', 'Picasso', 'had', 'been', 'born', 'in', 'Botswana', 'nobody', 'would', 'be', 'buying', 'postcards', 'of', 'his', 'works']\n"
     ]
    },
    {
     "name": "stderr",
     "output_type": "stream",
     "text": [
      "Setting `pad_token_id` to `eos_token_id`:50256 for open-end generation.\n"
     ]
    },
    {
     "name": "stdout",
     "output_type": "stream",
     "text": [
      "Art is a game and not everyone is invited to play, Art is a game and if Picasso had been born in Botswana nobody would be buying postcards of his works ^^ .Art is a game and not everyone is invited to play, Art is a game and if Picasso had been born in Botswana nobody would be buying postcards of his works.Art is a game and not everyone is invited to play, Art is a game and if Picasso had been born in Botswana nobody would be buying postcards of his works.Art is a game and not everyone is invited to play, Art is a game and if Picasso had been born in Botswana nobody would be buying postcards of his works.Art is a game and not everyone is invited to play, Art is a game and if Picasso had been born in Botswana nobody would be buying postcards of his works.Art is a game and not everyone is invited to play, Art is a game and if Picasso had been born in Botswana nobody would be buying postcards of his works.Art is a game and not everyone is invited to play, Art is a game and if Picasso had\n",
      "['Art', 'is', 'a', 'game', 'and', 'not', 'everyone', 'is', 'invited', 'to', 'play,', 'Art', 'is', 'a', 'game', 'and', 'if', 'Picasso', 'had', 'been', 'born', 'in', 'Botswana', 'nobody', 'would', 'be', 'buying', 'postcards', 'of', 'his', 'works', 'in']\n"
     ]
    },
    {
     "name": "stderr",
     "output_type": "stream",
     "text": [
      "Setting `pad_token_id` to `eos_token_id`:50256 for open-end generation.\n"
     ]
    },
    {
     "name": "stdout",
     "output_type": "stream",
     "text": [
      "Art is a game and not everyone is invited to play, Art is a game and if Picasso had been born in Botswana nobody would be buying postcards of his works in ^^  the street.Art is a game and not everyone is invited to play, Art is a game and if Picasso had been born in Botswana nobody would be buying postcards of his works in the street.Art is a game and not everyone is invited to play, Art is a game and if Picasso had been born in Botswana nobody would be buying postcards of his works in the street.Art is a game and not everyone is invited to play, Art is a game and if Picasso had been born in Botswana nobody would be buying postcards of his works in the street.Art is a game and not everyone is invited to play, Art is a game and if Picasso had been born in Botswana nobody would be buying postcards of his works in the street.Art is a game and not everyone is invited to play, Art is a game and if Picasso had been born in Botswana nobody would be buying postcards of his works in the street.Art is a\n",
      "['Art', 'is', 'a', 'game', 'and', 'not', 'everyone', 'is', 'invited', 'to', 'play,', 'Art', 'is', 'a', 'game', 'and', 'if', 'Picasso', 'had', 'been', 'born', 'in', 'Botswana', 'nobody', 'would', 'be', 'buying', 'postcards', 'of', 'his', 'works', 'in', 'the']\n"
     ]
    },
    {
     "name": "stderr",
     "output_type": "stream",
     "text": [
      "Setting `pad_token_id` to `eos_token_id`:50256 for open-end generation.\n"
     ]
    },
    {
     "name": "stdout",
     "output_type": "stream",
     "text": [
      "Art is a game and not everyone is invited to play, Art is a game and if Picasso had been born in Botswana nobody would be buying postcards of his works in the ^^  street.Art is a game and not everyone is invited to play, Art is a game and if Picasso had been born in Botswana nobody would be buying postcards of his works in the street.Art is a game and not everyone is invited to play, Art is a game and if Picasso had been born in Botswana nobody would be buying postcards of his works in the street.Art is a game and not everyone is invited to play, Art is a game and if Picasso had been born in Botswana nobody would be buying postcards of his works in the street.Art is a game and not everyone is invited to play, Art is a game and if Picasso had been born in Botswana nobody would be buying postcards of his works in the street.Art is a game and not everyone is invited to play, Art is a game and if Picasso had been born in Botswana nobody would be buying postcards of his works in the street.Art is a\n",
      "['Art', 'is', 'a', 'game', 'and', 'not', 'everyone', 'is', 'invited', 'to', 'play,', 'Art', 'is', 'a', 'game', 'and', 'if', 'Picasso', 'had', 'been', 'born', 'in', 'Botswana', 'nobody', 'would', 'be', 'buying', 'postcards', 'of', 'his', 'works', 'in', 'the', 'gift']\n"
     ]
    },
    {
     "name": "stderr",
     "output_type": "stream",
     "text": [
      "Setting `pad_token_id` to `eos_token_id`:50256 for open-end generation.\n"
     ]
    },
    {
     "name": "stdout",
     "output_type": "stream",
     "text": [
      "Art is a game and not everyone is invited to play, Art is a game and if Picasso had been born in Botswana nobody would be buying postcards of his works in the gift ^^  shop.Art is a game and not everyone is invited to play, Art is a game and if Picasso had been born in Botswana nobody would be buying postcards of his works in the gift shop.Art is a game and not everyone is invited to play, Art is a game and if Picasso had been born in Botswana nobody would be buying postcards of his works in the gift shop.Art is a game and not everyone is invited to play, Art is a game and if Picasso had been born in Botswana nobody would be buying postcards of his works in the gift shop.Art is a game and not everyone is invited to play, Art is a game and if Picasso had been born in Botswana nobody would be buying postcards of his works in the gift shop.Art is a game and not everyone is invited to play, Art is a game and if Picasso had been born in Botswana nobody would be buying postcards of his works in the gift shop\n",
      "['Art', 'is', 'a', 'game', 'and', 'not', 'everyone', 'is', 'invited', 'to', 'play,', 'Art', 'is', 'a', 'game', 'and', 'if', 'Picasso', 'had', 'been', 'born', 'in', 'Botswana', 'nobody', 'would', 'be', 'buying', 'postcards', 'of', 'his', 'works', 'in', 'the', 'gift', 'shop']\n"
     ]
    },
    {
     "name": "stderr",
     "output_type": "stream",
     "text": [
      "Setting `pad_token_id` to `eos_token_id`:50256 for open-end generation.\n"
     ]
    },
    {
     "name": "stdout",
     "output_type": "stream",
     "text": [
      "Art is a game and not everyone is invited to play, Art is a game and if Picasso had been born in Botswana nobody would be buying postcards of his works in the gift shop ^^ .Art is a game and not everyone is invited to play, Art is a game and if Picasso had been born in Botswana nobody would be buying postcards of his works in the gift shop.Art is a game and not everyone is invited to play, Art is a game and if Picasso had been born in Botswana nobody would be buying postcards of his works in the gift shop.Art is a game and not everyone is invited to play, Art is a game and if Picasso had been born in Botswana nobody would be buying postcards of his works in the gift shop.Art is a game and not everyone is invited to play, Art is a game and if Picasso had been born in Botswana nobody would be buying postcards of his works in the gift shop.Art is a game and not everyone is invited to play, Art is a game and if Picasso had been born in Botswana nobody would be buying postcards of his works in the gift shop\n",
      "['Art', 'is', 'a', 'game', 'and', 'not', 'everyone', 'is', 'invited', 'to', 'play,', 'Art', 'is', 'a', 'game', 'and', 'if', 'Picasso', 'had', 'been', 'born', 'in', 'Botswana', 'nobody', 'would', 'be', 'buying', 'postcards', 'of', 'his', 'works', 'in', 'the', 'gift', 'shop', 'of']\n"
     ]
    },
    {
     "name": "stderr",
     "output_type": "stream",
     "text": [
      "Setting `pad_token_id` to `eos_token_id`:50256 for open-end generation.\n"
     ]
    },
    {
     "name": "stdout",
     "output_type": "stream",
     "text": [
      "Art is a game and not everyone is invited to play, Art is a game and if Picasso had been born in Botswana nobody would be buying postcards of his works in the gift shop of ^^  the National Gallery of Art in Washington DC.Art is a game and if Picasso had been born in Botswana nobody would be buying postcards of his works in the gift shop of the National Gallery of Art in Washington DC.Art is a game and if Picasso had been born in Botswana nobody would be buying postcards of his works in the gift shop of the National Gallery of Art in Washington DC.Art is a game and if Picasso had been born in Botswana nobody would be buying postcards of his works in the gift shop of the National Gallery of Art in Washington DC.Art is a game and if Picasso had been born in Botswana nobody would be buying postcards of his works in the gift shop of the National Gallery of Art in Washington DC.Art is a game and if Picasso had been born in Botswana nobody would be buying postcards of his works in the gift shop of the National Gallery of Art in Washington DC.Art is a\n",
      "['Art', 'is', 'a', 'game', 'and', 'not', 'everyone', 'is', 'invited', 'to', 'play,', 'Art', 'is', 'a', 'game', 'and', 'if', 'Picasso', 'had', 'been', 'born', 'in', 'Botswana', 'nobody', 'would', 'be', 'buying', 'postcards', 'of', 'his', 'works', 'in', 'the', 'gift', 'shop', 'of', 'the']\n"
     ]
    },
    {
     "name": "stderr",
     "output_type": "stream",
     "text": [
      "Setting `pad_token_id` to `eos_token_id`:50256 for open-end generation.\n"
     ]
    },
    {
     "name": "stdout",
     "output_type": "stream",
     "text": [
      "Art is a game and not everyone is invited to play, Art is a game and if Picasso had been born in Botswana nobody would be buying postcards of his works in the gift shop of the ^^  National Gallery of Art in Washington DC.Art is a game and if Picasso had been born in Botswana nobody would be buying postcards of his works in the gift shop of the National Gallery of Art in Washington DC.Art is a game and if Picasso had been born in Botswana nobody would be buying postcards of his works in the gift shop of the National Gallery of Art in Washington DC.Art is a game and if Picasso had been born in Botswana nobody would be buying postcards of his works in the gift shop of the National Gallery of Art in Washington DC.Art is a game and if Picasso had been born in Botswana nobody would be buying postcards of his works in the gift shop of the National Gallery of Art in Washington DC.Art is a game and if Picasso had been born in Botswana nobody would be buying postcards of his works in the gift shop of the National Gallery of Art in Washington DC.Art is a\n",
      "['Art', 'is', 'a', 'game', 'and', 'not', 'everyone', 'is', 'invited', 'to', 'play,', 'Art', 'is', 'a', 'game', 'and', 'if', 'Picasso', 'had', 'been', 'born', 'in', 'Botswana', 'nobody', 'would', 'be', 'buying', 'postcards', 'of', 'his', 'works', 'in', 'the', 'gift', 'shop', 'of', 'the', 'MET,']\n"
     ]
    },
    {
     "name": "stderr",
     "output_type": "stream",
     "text": [
      "Setting `pad_token_id` to `eos_token_id`:50256 for open-end generation.\n"
     ]
    },
    {
     "name": "stdout",
     "output_type": "stream",
     "text": [
      "Art is a game and not everyone is invited to play, Art is a game and if Picasso had been born in Botswana nobody would be buying postcards of his works in the gift shop of the MET, ^^  Picasso would be a dead man.The art world is a very small world and the art world is a very small world.The art world is a very small world and the art world is a very small world.The art world is a very small world and the art world is a very small world.The art world is a very small world and the art world is a very small world.The art world is a very small world and the art world is a very small world.The art world is a very small world and the art world is a very small world.The art world is a very small world and the art world is a very small world.The art world is a very small world and the art world is a very small world.The art world is a very small world and the art world is a very small world.The art world is a very small world and the art world is a very small world\n",
      "['Art', 'is', 'a', 'game', 'and', 'not', 'everyone', 'is', 'invited', 'to', 'play,', 'Art', 'is', 'a', 'game', 'and', 'if', 'Picasso', 'had', 'been', 'born', 'in', 'Botswana', 'nobody', 'would', 'be', 'buying', 'postcards', 'of', 'his', 'works', 'in', 'the', 'gift', 'shop', 'of', 'the', 'MET,', 'Art']\n"
     ]
    },
    {
     "name": "stderr",
     "output_type": "stream",
     "text": [
      "Setting `pad_token_id` to `eos_token_id`:50256 for open-end generation.\n"
     ]
    },
    {
     "name": "stdout",
     "output_type": "stream",
     "text": [
      "Art is a game and not everyone is invited to play, Art is a game and if Picasso had been born in Botswana nobody would be buying postcards of his works in the gift shop of the MET, Art ^^  is a game and if Picasso had been born in Botswana he would have been a millionaire.Art is a game and if Picasso had been born in Botswana he would have been a millionaire.Art is a game and if Picasso had been born in Botswana he would have been a millionaire.Art is a game and if Picasso had been born in Botswana he would have been a millionaire.Art is a game and if Picasso had been born in Botswana he would have been a millionaire.Art is a game and if Picasso had been born in Botswana he would have been a millionaire.Art is a game and if Picasso had been born in Botswana he would have been a millionaire.Art is a game and if Picasso had been born in Botswana he would have been a millionaire.Art is a game and if Picasso had been born in Botswana he would have been a millionaire.\n",
      "['Art', 'is', 'a', 'game', 'and', 'not', 'everyone', 'is', 'invited', 'to', 'play,', 'Art', 'is', 'a', 'game', 'and', 'if', 'Picasso', 'had', 'been', 'born', 'in', 'Botswana', 'nobody', 'would', 'be', 'buying', 'postcards', 'of', 'his', 'works', 'in', 'the', 'gift', 'shop', 'of', 'the', 'MET,', 'Art', 'is']\n"
     ]
    },
    {
     "name": "stderr",
     "output_type": "stream",
     "text": [
      "Setting `pad_token_id` to `eos_token_id`:50256 for open-end generation.\n"
     ]
    },
    {
     "name": "stdout",
     "output_type": "stream",
     "text": [
      "Art is a game and not everyone is invited to play, Art is a game and if Picasso had been born in Botswana nobody would be buying postcards of his works in the gift shop of the MET, Art is ^^  a game and if Picasso had been born in Botswana he would have been a millionaire.Art is a game and if Picasso had been born in Botswana he would have been a millionaire.Art is a game and if Picasso had been born in Botswana he would have been a millionaire.Art is a game and if Picasso had been born in Botswana he would have been a millionaire.Art is a game and if Picasso had been born in Botswana he would have been a millionaire.Art is a game and if Picasso had been born in Botswana he would have been a millionaire.Art is a game and if Picasso had been born in Botswana he would have been a millionaire.Art is a game and if Picasso had been born in Botswana he would have been a millionaire.Art is a game and if Picasso had been born in Botswana he would have been a millionaire.\n",
      "['Art', 'is', 'a', 'game', 'and', 'not', 'everyone', 'is', 'invited', 'to', 'play,', 'Art', 'is', 'a', 'game', 'and', 'if', 'Picasso', 'had', 'been', 'born', 'in', 'Botswana', 'nobody', 'would', 'be', 'buying', 'postcards', 'of', 'his', 'works', 'in', 'the', 'gift', 'shop', 'of', 'the', 'MET,', 'Art', 'is', 'what']\n"
     ]
    },
    {
     "name": "stderr",
     "output_type": "stream",
     "text": [
      "Setting `pad_token_id` to `eos_token_id`:50256 for open-end generation.\n"
     ]
    },
    {
     "name": "stdout",
     "output_type": "stream",
     "text": [
      "Art is a game and not everyone is invited to play, Art is a game and if Picasso had been born in Botswana nobody would be buying postcards of his works in the gift shop of the MET, Art is what ^^  we do, Art is what we do, Art is what we do, Art is what we do, Art is what we do, Art is what we do, Art is what we do, Art is what we do, Art is what we do, Art is what we do, Art is what we do, Art is what we do, Art is what we do, Art is what we do, Art is what we do, Art is what we do, Art is what we do, Art is what we do, Art is what we do, Art is what we do, Art is what we do, Art is what we do, Art is what we do, Art is what we do, Art is what we do, Art is what we do, Art is what we do, Art is what we do, Art is what we do, Art is what we do, Art is what we do, Art is what we do, Art is what we do, Art is what we do, Art is what\n",
      "['Art', 'is', 'a', 'game', 'and', 'not', 'everyone', 'is', 'invited', 'to', 'play,', 'Art', 'is', 'a', 'game', 'and', 'if', 'Picasso', 'had', 'been', 'born', 'in', 'Botswana', 'nobody', 'would', 'be', 'buying', 'postcards', 'of', 'his', 'works', 'in', 'the', 'gift', 'shop', 'of', 'the', 'MET,', 'Art', 'is', 'what', 'we']\n"
     ]
    },
    {
     "name": "stderr",
     "output_type": "stream",
     "text": [
      "Setting `pad_token_id` to `eos_token_id`:50256 for open-end generation.\n"
     ]
    },
    {
     "name": "stdout",
     "output_type": "stream",
     "text": [
      "Art is a game and not everyone is invited to play, Art is a game and if Picasso had been born in Botswana nobody would be buying postcards of his works in the gift shop of the MET, Art is what we ^^  do, Art is what we do, Art is what we do, Art is what we do, Art is what we do, Art is what we do, Art is what we do, Art is what we do, Art is what we do, Art is what we do, Art is what we do, Art is what we do, Art is what we do, Art is what we do, Art is what we do, Art is what we do, Art is what we do, Art is what we do, Art is what we do, Art is what we do, Art is what we do, Art is what we do, Art is what we do, Art is what we do, Art is what we do, Art is what we do, Art is what we do, Art is what we do, Art is what we do, Art is what we do, Art is what we do, Art is what we do, Art is what we do, Art is what we do, Art is what\n",
      "['Art', 'is', 'a', 'game', 'and', 'not', 'everyone', 'is', 'invited', 'to', 'play,', 'Art', 'is', 'a', 'game', 'and', 'if', 'Picasso', 'had', 'been', 'born', 'in', 'Botswana', 'nobody', 'would', 'be', 'buying', 'postcards', 'of', 'his', 'works', 'in', 'the', 'gift', 'shop', 'of', 'the', 'MET,', 'Art', 'is', 'what', 'we', 'agree']\n"
     ]
    },
    {
     "name": "stderr",
     "output_type": "stream",
     "text": [
      "Setting `pad_token_id` to `eos_token_id`:50256 for open-end generation.\n"
     ]
    },
    {
     "name": "stdout",
     "output_type": "stream",
     "text": [
      "Art is a game and not everyone is invited to play, Art is a game and if Picasso had been born in Botswana nobody would be buying postcards of his works in the gift shop of the MET, Art is what we agree ^^  to call a game, Art is a game and if you are not playing it, you are not playing it.The game of Art is a game and if you are not playing it, you are not playing it.The game of Art is a game and if you are not playing it, you are not playing it.The game of Art is a game and if you are not playing it, you are not playing it.The game of Art is a game and if you are not playing it, you are not playing it.The game of Art is a game and if you are not playing it, you are not playing it.The game of Art is a game and if you are not playing it, you are not playing it.The game of Art is a game and if you are not playing it, you are not playing it.The game of Art is a game and if you are not playing it, you\n",
      "['Art', 'is', 'a', 'game', 'and', 'not', 'everyone', 'is', 'invited', 'to', 'play,', 'Art', 'is', 'a', 'game', 'and', 'if', 'Picasso', 'had', 'been', 'born', 'in', 'Botswana', 'nobody', 'would', 'be', 'buying', 'postcards', 'of', 'his', 'works', 'in', 'the', 'gift', 'shop', 'of', 'the', 'MET,', 'Art', 'is', 'what', 'we', 'agree', 'art']\n"
     ]
    },
    {
     "name": "stderr",
     "output_type": "stream",
     "text": [
      "Setting `pad_token_id` to `eos_token_id`:50256 for open-end generation.\n"
     ]
    },
    {
     "name": "stdout",
     "output_type": "stream",
     "text": [
      "Art is a game and not everyone is invited to play, Art is a game and if Picasso had been born in Botswana nobody would be buying postcards of his works in the gift shop of the MET, Art is what we agree art ^^  is and what we are all about.I am not a fan of the Met, I have never been, I have never been to the Met, I have never been to the Met, I have never been to the Met, I have never been to the Met, I have never been to the Met, I have never been to the Met, I have never been to the Met, I have never been to the Met, I have never been to the Met, I have never been to the Met, I have never been to the Met, I have never been to the Met, I have never been to the Met, I have never been to the Met, I have never been to the Met, I have never been to the Met, I have never been to the Met, I have never been to the Met, I have never been to the Met, I have never been to the Met, I have never been to the Met, I have never been to the Met, I\n",
      "['Art', 'is', 'a', 'game', 'and', 'not', 'everyone', 'is', 'invited', 'to', 'play,', 'Art', 'is', 'a', 'game', 'and', 'if', 'Picasso', 'had', 'been', 'born', 'in', 'Botswana', 'nobody', 'would', 'be', 'buying', 'postcards', 'of', 'his', 'works', 'in', 'the', 'gift', 'shop', 'of', 'the', 'MET,', 'Art', 'is', 'what', 'we', 'agree', 'art', 'is,']\n"
     ]
    },
    {
     "name": "stderr",
     "output_type": "stream",
     "text": [
      "Setting `pad_token_id` to `eos_token_id`:50256 for open-end generation.\n"
     ]
    },
    {
     "name": "stdout",
     "output_type": "stream",
     "text": [
      "Art is a game and not everyone is invited to play, Art is a game and if Picasso had been born in Botswana nobody would be buying postcards of his works in the gift shop of the MET, Art is what we agree art is, ^^  Art is what we agree art is, Art is what we agree art is, Art is what we agree art is, Art is what we agree art is, Art is what we agree art is, Art is what we agree art is, Art is what we agree art is, Art is what we agree art is, Art is what we agree art is, Art is what we agree art is, Art is what we agree art is, Art is what we agree art is, Art is what we agree art is, Art is what we agree art is, Art is what we agree art is, Art is what we agree art is, Art is what we agree art is, Art is what we agree art is, Art is what we agree art is, Art is what we agree art is, Art is what we agree art is, Art is what we agree art is, Art is what we agree art is, Art is what we agree art is, Art is what we agree art is,\n",
      "['Art', 'is', 'a', 'game', 'and', 'not', 'everyone', 'is', 'invited', 'to', 'play,', 'Art', 'is', 'a', 'game', 'and', 'if', 'Picasso', 'had', 'been', 'born', 'in', 'Botswana', 'nobody', 'would', 'be', 'buying', 'postcards', 'of', 'his', 'works', 'in', 'the', 'gift', 'shop', 'of', 'the', 'MET,', 'Art', 'is', 'what', 'we', 'agree', 'art', 'is,', 'and']\n"
     ]
    },
    {
     "name": "stderr",
     "output_type": "stream",
     "text": [
      "Setting `pad_token_id` to `eos_token_id`:50256 for open-end generation.\n"
     ]
    },
    {
     "name": "stdout",
     "output_type": "stream",
     "text": [
      "Art is a game and not everyone is invited to play, Art is a game and if Picasso had been born in Botswana nobody would be buying postcards of his works in the gift shop of the MET, Art is what we agree art is, and ^^  if you don’t agree with that, you are not welcome to play.I’m not going to get into the debate about whether or not Picasso was a racist, or whether or not he was a genius, or whether or not he was a great artist, or whether or not he was a great painter, or whether or not he was a great sculptor, or whether or not he was a great writer, or whether or not he was a great musician, or whether or not he was a great philosopher, or whether or not he was a great scientist, or whether or not he was a great scientist, or whether or not he was a great scientist, or whether or not he was a great scientist, or whether or not he was a great scientist, or whether or not he was a great scientist, or whether or not he was a great scientist, or whether or not he was a great scientist, or whether or not he was a great scientist\n",
      "['Art', 'is', 'a', 'game', 'and', 'not', 'everyone', 'is', 'invited', 'to', 'play,', 'Art', 'is', 'a', 'game', 'and', 'if', 'Picasso', 'had', 'been', 'born', 'in', 'Botswana', 'nobody', 'would', 'be', 'buying', 'postcards', 'of', 'his', 'works', 'in', 'the', 'gift', 'shop', 'of', 'the', 'MET,', 'Art', 'is', 'what', 'we', 'agree', 'art', 'is,', 'and', 'if']\n"
     ]
    },
    {
     "name": "stderr",
     "output_type": "stream",
     "text": [
      "Setting `pad_token_id` to `eos_token_id`:50256 for open-end generation.\n"
     ]
    },
    {
     "name": "stdout",
     "output_type": "stream",
     "text": [
      "Art is a game and not everyone is invited to play, Art is a game and if Picasso had been born in Botswana nobody would be buying postcards of his works in the gift shop of the MET, Art is what we agree art is, and if ^^  you don’t agree with that, you are not welcome to play.I’m not going to get into the debate about whether or not Picasso was a racist, or whether or not he was a genius, or whether or not he was a great artist, or whether or not he was a great painter, or whether or not he was a great sculptor, or whether or not he was a great writer, or whether or not he was a great musician, or whether or not he was a great philosopher, or whether or not he was a great scientist, or whether or not he was a great scientist, or whether or not he was a great scientist, or whether or not he was a great scientist, or whether or not he was a great scientist, or whether or not he was a great scientist, or whether or not he was a great scientist, or whether or not he was a great scientist, or whether or not he was a great scientist\n",
      "['Art', 'is', 'a', 'game', 'and', 'not', 'everyone', 'is', 'invited', 'to', 'play,', 'Art', 'is', 'a', 'game', 'and', 'if', 'Picasso', 'had', 'been', 'born', 'in', 'Botswana', 'nobody', 'would', 'be', 'buying', 'postcards', 'of', 'his', 'works', 'in', 'the', 'gift', 'shop', 'of', 'the', 'MET,', 'Art', 'is', 'what', 'we', 'agree', 'art', 'is,', 'and', 'if', 'someone']\n"
     ]
    },
    {
     "name": "stderr",
     "output_type": "stream",
     "text": [
      "Setting `pad_token_id` to `eos_token_id`:50256 for open-end generation.\n"
     ]
    },
    {
     "name": "stdout",
     "output_type": "stream",
     "text": [
      "Art is a game and not everyone is invited to play, Art is a game and if Picasso had been born in Botswana nobody would be buying postcards of his works in the gift shop of the MET, Art is what we agree art is, and if someone ^^  wants to play the game of art, they should be allowed to play the game of art.I am not a fan of the game of art, I am a fan of the game of life.I am not a fan of the game of life, I am a fan of the game of art.I am not a fan of the game of art, I am a fan of the game of life.I am not a fan of the game of art, I am a fan of the game of life.I am not a fan of the game of art, I am a fan of the game of life.I am not a fan of the game of art, I am a fan of the game of life.I am not a fan of the game of art, I am a fan of the game of life.I am not a fan of the game of art, I am a fan\n",
      "['Art', 'is', 'a', 'game', 'and', 'not', 'everyone', 'is', 'invited', 'to', 'play,', 'Art', 'is', 'a', 'game', 'and', 'if', 'Picasso', 'had', 'been', 'born', 'in', 'Botswana', 'nobody', 'would', 'be', 'buying', 'postcards', 'of', 'his', 'works', 'in', 'the', 'gift', 'shop', 'of', 'the', 'MET,', 'Art', 'is', 'what', 'we', 'agree', 'art', 'is,', 'and', 'if', 'someone', 'doesn’t']\n"
     ]
    },
    {
     "name": "stderr",
     "output_type": "stream",
     "text": [
      "Setting `pad_token_id` to `eos_token_id`:50256 for open-end generation.\n"
     ]
    },
    {
     "name": "stdout",
     "output_type": "stream",
     "text": [
      "Art is a game and not everyone is invited to play, Art is a game and if Picasso had been born in Botswana nobody would be buying postcards of his works in the gift shop of the MET, Art is what we agree art is, and if someone doesn’t ^^  like it, they can go and play with their own.I’m not going to get into the debate about whether or not Picasso was a good artist, or whether or not he was a good painter, or whether or not he was a good sculptor, or whether or not he was a good musician, or whether or not he was a good writer, or whether or not he was a good philosopher, or whether or not he was a good scientist, or whether or not he was a good mathematician, or whether or not he was a good engineer, or whether or not he was a good scientist, or whether or not he was a good mathematician, or whether or not he was a good engineer, or whether or not he was a good scientist, or whether or not he was a good mathematician, or whether or not he was a good engineer, or whether or not he was a good scientist, or whether or not he was a good mathematician\n",
      "['Art', 'is', 'a', 'game', 'and', 'not', 'everyone', 'is', 'invited', 'to', 'play,', 'Art', 'is', 'a', 'game', 'and', 'if', 'Picasso', 'had', 'been', 'born', 'in', 'Botswana', 'nobody', 'would', 'be', 'buying', 'postcards', 'of', 'his', 'works', 'in', 'the', 'gift', 'shop', 'of', 'the', 'MET,', 'Art', 'is', 'what', 'we', 'agree', 'art', 'is,', 'and', 'if', 'someone', 'doesn’t', 'agree,']\n"
     ]
    },
    {
     "name": "stderr",
     "output_type": "stream",
     "text": [
      "Setting `pad_token_id` to `eos_token_id`:50256 for open-end generation.\n"
     ]
    },
    {
     "name": "stdout",
     "output_type": "stream",
     "text": [
      "Art is a game and not everyone is invited to play, Art is a game and if Picasso had been born in Botswana nobody would be buying postcards of his works in the gift shop of the MET, Art is what we agree art is, and if someone doesn’t agree, ^^  they are not allowed to play.I am not a fan of the Met, I have never been, but I am a fan of the Met’s new exhibition, “The Met’s New Collection”. I am a fan of the Met’s new exhibition, “The Met’s New Collection”.The exhibition is a collection of works by Picasso, Matisse, and other artists from the Met’s collection. The exhibition is a collection of works by Picasso, Matisse, and other artists from the Met’s collection.The exhibition is a collection of works by Picasso, Matisse, and other artists from the Met’s collection.The exhibition is a collection of works by Picasso, Matisse, and other artists from the Met’s collection.The exhibition is a collection of works by Picasso, Matisse\n",
      "['Art', 'is', 'a', 'game', 'and', 'not', 'everyone', 'is', 'invited', 'to', 'play,', 'Art', 'is', 'a', 'game', 'and', 'if', 'Picasso', 'had', 'been', 'born', 'in', 'Botswana', 'nobody', 'would', 'be', 'buying', 'postcards', 'of', 'his', 'works', 'in', 'the', 'gift', 'shop', 'of', 'the', 'MET,', 'Art', 'is', 'what', 'we', 'agree', 'art', 'is,', 'and', 'if', 'someone', 'doesn’t', 'agree,', 'we']\n"
     ]
    },
    {
     "name": "stderr",
     "output_type": "stream",
     "text": [
      "Setting `pad_token_id` to `eos_token_id`:50256 for open-end generation.\n"
     ]
    },
    {
     "name": "stdout",
     "output_type": "stream",
     "text": [
      "Art is a game and not everyone is invited to play, Art is a game and if Picasso had been born in Botswana nobody would be buying postcards of his works in the gift shop of the MET, Art is what we agree art is, and if someone doesn’t agree, we ^^  can’t play.I’m not sure if I’m going to be able to play this game, but I’m going to try.I’m going to play the game of Art.I’m going to play the game of Art.I’m going to play the game of Art.I’m going to play the game of Art.I’m going to play the game of Art.I’m going to play the game of Art.I’m going to play the game of Art.I’m going to play the game of Art.I’m going to play the game of Art.I’m going to play the game of Art.I’m going to play the game of Art.I\n",
      "['Art', 'is', 'a', 'game', 'and', 'not', 'everyone', 'is', 'invited', 'to', 'play,', 'Art', 'is', 'a', 'game', 'and', 'if', 'Picasso', 'had', 'been', 'born', 'in', 'Botswana', 'nobody', 'would', 'be', 'buying', 'postcards', 'of', 'his', 'works', 'in', 'the', 'gift', 'shop', 'of', 'the', 'MET,', 'Art', 'is', 'what', 'we', 'agree', 'art', 'is,', 'and', 'if', 'someone', 'doesn’t', 'agree,', 'we', 'call']\n"
     ]
    },
    {
     "name": "stderr",
     "output_type": "stream",
     "text": [
      "Setting `pad_token_id` to `eos_token_id`:50256 for open-end generation.\n"
     ]
    },
    {
     "name": "stdout",
     "output_type": "stream",
     "text": [
      "Art is a game and not everyone is invited to play, Art is a game and if Picasso had been born in Botswana nobody would be buying postcards of his works in the gift shop of the MET, Art is what we agree art is, and if someone doesn’t agree, we call ^^  them a racist, a bigot, a bigot, a bigot, a bigot, a bigot, a bigot, a bigot, a bigot, a bigot, a bigot, a bigot, a bigot, a bigot, a bigot, a bigot, a bigot, a bigot, a bigot, a bigot, a bigot, a bigot, a bigot, a bigot, a bigot, a bigot, a bigot, a bigot, a bigot, a bigot, a bigot, a bigot, a bigot, a bigot, a bigot, a bigot, a bigot, a bigot, a bigot, a bigot, a bigot, a bigot, a bigot, a bigot, a bigot, a bigot, a bigot, a bigot, a bigot, a bigot, a bigot, a bigot, a bigot, a bigot, a bigot, a bigot, a bigot, a bigot, a bigot, a bigot, a bigot, a bigot, a bigot, a bigot,\n",
      "['Art', 'is', 'a', 'game', 'and', 'not', 'everyone', 'is', 'invited', 'to', 'play,', 'Art', 'is', 'a', 'game', 'and', 'if', 'Picasso', 'had', 'been', 'born', 'in', 'Botswana', 'nobody', 'would', 'be', 'buying', 'postcards', 'of', 'his', 'works', 'in', 'the', 'gift', 'shop', 'of', 'the', 'MET,', 'Art', 'is', 'what', 'we', 'agree', 'art', 'is,', 'and', 'if', 'someone', 'doesn’t', 'agree,', 'we', 'call', 'them']\n"
     ]
    },
    {
     "name": "stderr",
     "output_type": "stream",
     "text": [
      "Setting `pad_token_id` to `eos_token_id`:50256 for open-end generation.\n"
     ]
    },
    {
     "name": "stdout",
     "output_type": "stream",
     "text": [
      "Art is a game and not everyone is invited to play, Art is a game and if Picasso had been born in Botswana nobody would be buying postcards of his works in the gift shop of the MET, Art is what we agree art is, and if someone doesn’t agree, we call them ^^  a racist, a bigot, a bigot, a bigot, a bigot, a bigot, a bigot, a bigot, a bigot, a bigot, a bigot, a bigot, a bigot, a bigot, a bigot, a bigot, a bigot, a bigot, a bigot, a bigot, a bigot, a bigot, a bigot, a bigot, a bigot, a bigot, a bigot, a bigot, a bigot, a bigot, a bigot, a bigot, a bigot, a bigot, a bigot, a bigot, a bigot, a bigot, a bigot, a bigot, a bigot, a bigot, a bigot, a bigot, a bigot, a bigot, a bigot, a bigot, a bigot, a bigot, a bigot, a bigot, a bigot, a bigot, a bigot, a bigot, a bigot, a bigot, a bigot, a bigot, a bigot, a bigot, a bigot, a bigot,\n",
      "['Art', 'is', 'a', 'game', 'and', 'not', 'everyone', 'is', 'invited', 'to', 'play,', 'Art', 'is', 'a', 'game', 'and', 'if', 'Picasso', 'had', 'been', 'born', 'in', 'Botswana', 'nobody', 'would', 'be', 'buying', 'postcards', 'of', 'his', 'works', 'in', 'the', 'gift', 'shop', 'of', 'the', 'MET,', 'Art', 'is', 'what', 'we', 'agree', 'art', 'is,', 'and', 'if', 'someone', 'doesn’t', 'agree,', 'we', 'call', 'them', 'a']\n"
     ]
    },
    {
     "name": "stderr",
     "output_type": "stream",
     "text": [
      "Setting `pad_token_id` to `eos_token_id`:50256 for open-end generation.\n"
     ]
    },
    {
     "name": "stdout",
     "output_type": "stream",
     "text": [
      "Art is a game and not everyone is invited to play, Art is a game and if Picasso had been born in Botswana nobody would be buying postcards of his works in the gift shop of the MET, Art is what we agree art is, and if someone doesn’t agree, we call them a ^^  racist, a bigot, a bigot, a bigot, a bigot, a bigot, a bigot, a bigot, a bigot, a bigot, a bigot, a bigot, a bigot, a bigot, a bigot, a bigot, a bigot, a bigot, a bigot, a bigot, a bigot, a bigot, a bigot, a bigot, a bigot, a bigot, a bigot, a bigot, a bigot, a bigot, a bigot, a bigot, a bigot, a bigot, a bigot, a bigot, a bigot, a bigot, a bigot, a bigot, a bigot, a bigot, a bigot, a bigot, a bigot, a bigot, a bigot, a bigot, a bigot, a bigot, a bigot, a bigot, a bigot, a bigot, a bigot, a bigot, a bigot, a bigot, a bigot, a bigot, a bigot, a bigot, a bigot, a bigot,\n",
      "['Art', 'is', 'a', 'game', 'and', 'not', 'everyone', 'is', 'invited', 'to', 'play,', 'Art', 'is', 'a', 'game', 'and', 'if', 'Picasso', 'had', 'been', 'born', 'in', 'Botswana', 'nobody', 'would', 'be', 'buying', 'postcards', 'of', 'his', 'works', 'in', 'the', 'gift', 'shop', 'of', 'the', 'MET,', 'Art', 'is', 'what', 'we', 'agree', 'art', 'is,', 'and', 'if', 'someone', 'doesn’t', 'agree,', 'we', 'call', 'them', 'a', 'heretic']\n"
     ]
    },
    {
     "name": "stderr",
     "output_type": "stream",
     "text": [
      "Setting `pad_token_id` to `eos_token_id`:50256 for open-end generation.\n"
     ]
    },
    {
     "name": "stdout",
     "output_type": "stream",
     "text": [
      "Art is a game and not everyone is invited to play, Art is a game and if Picasso had been born in Botswana nobody would be buying postcards of his works in the gift shop of the MET, Art is what we agree art is, and if someone doesn’t agree, we call them a heretic ^^ .I’m not a heretic, I’m a critic. I’m a critic of art. I’m a critic of art. I’m a critic of art. I’m a critic of art. I’m a critic of art. I’m a critic of art. I’m a critic of art. I’m a critic of art. I’m a critic of art. I’m a critic of art. I’m a critic of art. I’m a critic of art. I’m a critic of art. I’m a critic of art. I’m a critic of art. I’m a critic of art. I’m a critic of art. I’m a critic of art. I’m a critic of art.\n",
      "['Art', 'is', 'a', 'game', 'and', 'not', 'everyone', 'is', 'invited', 'to', 'play,', 'Art', 'is', 'a', 'game', 'and', 'if', 'Picasso', 'had', 'been', 'born', 'in', 'Botswana', 'nobody', 'would', 'be', 'buying', 'postcards', 'of', 'his', 'works', 'in', 'the', 'gift', 'shop', 'of', 'the', 'MET,', 'Art', 'is', 'what', 'we', 'agree', 'art', 'is,', 'and', 'if', 'someone', 'doesn’t', 'agree,', 'we', 'call', 'them', 'a', 'heretic', 'and']\n"
     ]
    },
    {
     "name": "stderr",
     "output_type": "stream",
     "text": [
      "Setting `pad_token_id` to `eos_token_id`:50256 for open-end generation.\n"
     ]
    },
    {
     "name": "stdout",
     "output_type": "stream",
     "text": [
      "Art is a game and not everyone is invited to play, Art is a game and if Picasso had been born in Botswana nobody would be buying postcards of his works in the gift shop of the MET, Art is what we agree art is, and if someone doesn’t agree, we call them a heretic and ^^  they are banned from the MET.The MET is a place where art is made, and where art is sold. It is a place where art is made and where art is sold. It is a place where art is made and where art is sold. It is a place where art is made and where art is sold. It is a place where art is made and where art is sold. It is a place where art is made and where art is sold. It is a place where art is made and where art is sold. It is a place where art is made and where art is sold. It is a place where art is made and where art is sold. It is a place where art is made and where art is sold. It is a place where art is made and where art is sold. It is a place where art is made and where art is sold. It is a place where art is made and where\n",
      "['Art', 'is', 'a', 'game', 'and', 'not', 'everyone', 'is', 'invited', 'to', 'play,', 'Art', 'is', 'a', 'game', 'and', 'if', 'Picasso', 'had', 'been', 'born', 'in', 'Botswana', 'nobody', 'would', 'be', 'buying', 'postcards', 'of', 'his', 'works', 'in', 'the', 'gift', 'shop', 'of', 'the', 'MET,', 'Art', 'is', 'what', 'we', 'agree', 'art', 'is,', 'and', 'if', 'someone', 'doesn’t', 'agree,', 'we', 'call', 'them', 'a', 'heretic', 'and', 'we']\n"
     ]
    },
    {
     "name": "stderr",
     "output_type": "stream",
     "text": [
      "Setting `pad_token_id` to `eos_token_id`:50256 for open-end generation.\n"
     ]
    },
    {
     "name": "stdout",
     "output_type": "stream",
     "text": [
      "Art is a game and not everyone is invited to play, Art is a game and if Picasso had been born in Botswana nobody would be buying postcards of his works in the gift shop of the MET, Art is what we agree art is, and if someone doesn’t agree, we call them a heretic and we ^^  call them a racist.I’m not going to get into the debate about whether or not Picasso was a racist, because I don’t think that’s the point of this post. I’m going to get into the debate about whether or not Picasso was a racist.I’m going to get into the debate about whether or not Picasso was a racist because I think that’s the point of this post.I’m going to get into the debate about whether or not Picasso was a racist because I think that’s the point of this post.I’m going to get into the debate about whether or not Picasso was a racist because I think that’s the point of this post.I’m going to get into the debate about whether or not Picasso was a racist\n",
      "['Art', 'is', 'a', 'game', 'and', 'not', 'everyone', 'is', 'invited', 'to', 'play,', 'Art', 'is', 'a', 'game', 'and', 'if', 'Picasso', 'had', 'been', 'born', 'in', 'Botswana', 'nobody', 'would', 'be', 'buying', 'postcards', 'of', 'his', 'works', 'in', 'the', 'gift', 'shop', 'of', 'the', 'MET,', 'Art', 'is', 'what', 'we', 'agree', 'art', 'is,', 'and', 'if', 'someone', 'doesn’t', 'agree,', 'we', 'call', 'them', 'a', 'heretic', 'and', 'we', 'throw']\n"
     ]
    },
    {
     "name": "stderr",
     "output_type": "stream",
     "text": [
      "Setting `pad_token_id` to `eos_token_id`:50256 for open-end generation.\n"
     ]
    },
    {
     "name": "stdout",
     "output_type": "stream",
     "text": [
      "Art is a game and not everyone is invited to play, Art is a game and if Picasso had been born in Botswana nobody would be buying postcards of his works in the gift shop of the MET, Art is what we agree art is, and if someone doesn’t agree, we call them a heretic and we throw ^^  them out of the church.I’m not going to get into the debate about whether or not Picasso was a heretic, I’m not going to get into the debate about whether or not Picasso was a genius, I’m not going to get into the debate about whether or not Picasso was a great artist, I’m not going to get into the debate about whether or not Picasso was a great painter, I’m not going to get into the debate about whether or not Picasso was a great sculptor, I’m not going to get into the debate about whether or not Picasso was a great writer, I’m not going to get into the debate about whether or not Picasso was a great musician, I’m not going to get into the debate about whether or not Picasso was a great philosopher, I’\n",
      "['Art', 'is', 'a', 'game', 'and', 'not', 'everyone', 'is', 'invited', 'to', 'play,', 'Art', 'is', 'a', 'game', 'and', 'if', 'Picasso', 'had', 'been', 'born', 'in', 'Botswana', 'nobody', 'would', 'be', 'buying', 'postcards', 'of', 'his', 'works', 'in', 'the', 'gift', 'shop', 'of', 'the', 'MET,', 'Art', 'is', 'what', 'we', 'agree', 'art', 'is,', 'and', 'if', 'someone', 'doesn’t', 'agree,', 'we', 'call', 'them', 'a', 'heretic', 'and', 'we', 'throw', 'them']\n"
     ]
    }
   ],
   "source": [
    "partial_poem = []\n",
    "for word in poem:\n",
    "    partial_poem.append(word)\n",
    "    print(partial_poem)\n",
    "    initial_text = \" \".join(partial_poem)\n",
    "    result = generate_text(initial_text)\n",
    "    file_dest.write(result+\"\\n\")\n",
    "    print(result)"
   ]
  },
  {
   "cell_type": "code",
   "execution_count": null,
   "metadata": {},
   "outputs": [],
   "source": [
    "file_dest.close()"
   ]
  },
  {
   "cell_type": "code",
   "execution_count": null,
   "metadata": {},
   "outputs": [],
   "source": []
  }
 ],
 "metadata": {
  "kernelspec": {
   "display_name": "Python 3",
   "language": "python",
   "name": "python3"
  },
  "language_info": {
   "codemirror_mode": {
    "name": "ipython",
    "version": 3
   },
   "file_extension": ".py",
   "mimetype": "text/x-python",
   "name": "python",
   "nbconvert_exporter": "python",
   "pygments_lexer": "ipython3",
   "version": "3.8.3"
  }
 },
 "nbformat": 4,
 "nbformat_minor": 4
}
