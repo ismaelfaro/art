{
 "cells": [
  {
   "cell_type": "code",
   "execution_count": 125,
   "metadata": {},
   "outputs": [],
   "source": [
    "from typing import Iterable\n",
    "from happytransformer import HappyGeneration\n",
    "from happytransformer import GENSettings\n"
   ]
  },
  {
   "cell_type": "code",
   "execution_count": 126,
   "metadata": {},
   "outputs": [
    {
     "name": "stderr",
     "output_type": "stream",
     "text": [
      "06/27/2021 00:29:09 - INFO - happytransformer.happy_transformer -   Using model: cpu\n"
     ]
    }
   ],
   "source": [
    "#Create a HappyGeneration Object\n",
    "happy_gen = HappyGeneration(\"GPT-NEO\", \"EleutherAI/gpt-neo-125M\")\n",
    "# happy_gen = HappyGeneration(\"GPT-NEO\", \"EleutherAI/gpt-neo-1.3B\")\n"
   ]
  },
  {
   "cell_type": "code",
   "execution_count": 127,
   "metadata": {},
   "outputs": [
    {
     "name": "stdout",
     "output_type": "stream",
     "text": [
      "['Art', 'is', 'a', 'game', 'and', 'not', 'everyone', 'is', 'invited', 'to', 'play,', 'Art', 'is', 'a', 'game', 'and', 'if', 'Picasso', 'had', 'been', 'born', 'in', 'Botswana', 'nobody', 'would', 'be', 'buying', 'postcards', 'of', 'his', 'works', 'in', 'the', 'gift', 'shop', 'of', 'the', 'MET,', 'Art', 'is', 'what', 'we', 'agree', 'art', 'is,', 'and', 'if', 'someone', 'doesn’t', 'agree,', 'we', 'call', 'them', 'a', 'heretic', 'and', 'we', 'throw', 'them', 'in', 'the', 'Hudson', 'with', 'a', 'sculpture', 'of', 'Robert', 'Indiana', 'tied', 'to', 'their', 'legs', 'to', 'see', 'if', 'they', 'float,', 'It’s', 'art', 'if', 'it', 'doesn’t', 'sink', 'in', 'the', 'river,', 'It’s', 'art', 'if', 'five', 'zeros', 'line', 'up', 'in', 'your', 'wallet,', 'It’s', 'art', 'if', 'it', 'smells', 'like', 'gold,', 'if', 'it', 'tastes', 'like', 'gold,', 'if', 'it', 'weighs', 'the', 'same', 'as', 'gold,', 'It’ll', 'be', 'art', 'if', 'you', 'stop', 'repeating', 'how', 'good', 'it', 'is', 'and', 'you', 'stop', 'to', 'look', 'at', 'it,', 'if', 'you', 'stop', 'trying', 'to', 'understand', 'it,', 'to', 'explain', 'it,', 'Picasso', 'in', 'Botswana', 'passing', 'out', 'Pulas', 'and', 'on', 'the', 'walls', 'of', 'the', 'MOMA', 'pieces', 'of', 'melted', 'egos', 'are', 'hanging,', 'Without', 'oceans,', 'Without', 'people,', 'Rivers', 'of', 'people', 'doing', 'what', 'they', 'DON’T', 'feel,', 'doing', 'what', 'they', 'think', 'they’re', 'supposed', 'to', 'do,', 'what', 'someone', 'told', 'them', 'to', 'do', 'or', 'something', 'that', 'they', 'read', 'in', 'the', 'Time', 'Out', 'New', 'York,', 'or', 'in', 'the', 'Brooklyn', 'Rail,', 'The', 'Setinkane', 'drum', 'sounds', 'and', 'someone', 'plays', 'the', 'Phala', 'Picasso', 'slowly', 'walks', 'through', 'the', 'streets', 'of', 'Gaborone', 'while', 'on', 'the', 'other', 'side', 'of', 'the', 'world,', 'a', 'painting', 'that', 'he', 'didn’t', 'paint', 'sells', 'for', 'millions', 'of', 'dollars,', 'Nobody', 'knows', 'who', 'Picasso', 'is']\n",
      "245\n"
     ]
    }
   ],
   "source": [
    "f = open(\"poem.txt\", \"r\")\n",
    "poem = f.read().replace(\"\\n\",\"\").split(\" \")\n",
    "poem_len = len(poem)\n",
    "print(poem)\n",
    "\n",
    "count = 0\n",
    "print(poem_len)"
   ]
  },
  {
   "cell_type": "code",
   "execution_count": 128,
   "metadata": {},
   "outputs": [],
   "source": [
    "def generate_text(initial_text, debug=False):\n",
    "    len_generator = 245-len(initial_text.split(\" \"))\n",
    "    AI_args = GENSettings(min_length=len_generator, max_length=len_generator)\n",
    "    demo = happy_gen.generate_text( initial_text, args = AI_args).text.replace('\\n','')\n",
    "    compose = f\"{initial_text} ^^ {demo}\"\n",
    "    if debug == True:\n",
    "        print(len(compose.split(\" \")))\n",
    "    return compose\n"
   ]
  },
  {
   "cell_type": "code",
   "execution_count": 129,
   "metadata": {},
   "outputs": [
    {
     "name": "stderr",
     "output_type": "stream",
     "text": [
      "Setting `pad_token_id` to `eos_token_id`:50256 for open-end generation.\n"
     ]
    },
    {
     "name": "stdout",
     "output_type": "stream",
     "text": [
      "Art is a game and not everyone is invited to play, Art is a game and if Picasso had been born in Botswana nobody would be buying postcards of his works in the gift shop of the MET, Art is what we agree art is, and if someone doesn’t agree, we call them a heretic and we throw them in the Hudson with a sculpture of Robert Indiana tied to their legs to see if they float, It’s art if it doesn’t sink in the river, It’s art if five zeros line up in your wallet, It’s art if it smells like gold, if it tastes like gold, if it weighs the same as gold, It’ll be art if you stop repeating how good it is and you stop to look at it, if you stop trying to understand it, to explain it, Picasso in Botswana passing out Pulas and on the walls of the MOMA pieces of melted egos are hanging, Without oceans, Without people, Rivers of people doing what they DON’T feel, doing what they think they’re supposed to do, what someone told them to do or something that they read in the Time Out New York, or ^^  something that they’re supposed to do, and then they’re gone, and they’re gone, and they’re gone, and they’re gone, and they’re gone\n"
     ]
    }
   ],
   "source": [
    "initial_text_test =  \" \".join(poem[0:200])\n",
    "print(generate_text(initial_text_test))"
   ]
  },
  {
   "cell_type": "code",
   "execution_count": 130,
   "metadata": {},
   "outputs": [],
   "source": [
    "file_dest = open(\"poem_AI.txt\", \"w\")"
   ]
  },
  {
   "cell_type": "code",
   "execution_count": 131,
   "metadata": {},
   "outputs": [
    {
     "name": "stderr",
     "output_type": "stream",
     "text": [
      "Setting `pad_token_id` to `eos_token_id`:50256 for open-end generation.\n"
     ]
    },
    {
     "name": "stdout",
     "output_type": "stream",
     "text": [
      "['Art']\n"
     ]
    },
    {
     "name": "stderr",
     "output_type": "stream",
     "text": [
      "Setting `pad_token_id` to `eos_token_id`:50256 for open-end generation.\n"
     ]
    },
    {
     "name": "stdout",
     "output_type": "stream",
     "text": [
      "Art ^^ iclesThe following articles are published by the Journal of the American Academy of Arts and Sciences:The Journal of the American Academy of Arts and SciencesThe Journal of the American Academy of Arts and SciencesThe Journal of the American Academy of Arts and SciencesThe Journal of the American Academy of Arts and SciencesThe Journal of the American Academy of Arts and SciencesThe Journal of the American Academy of Arts and SciencesThe Journal of the American Academy of Arts and SciencesThe Journal of the American Academy of Arts and SciencesThe Journal of the American Academy of Arts and SciencesThe Journal of the American Academy of Arts and SciencesThe Journal of the American Academy of Arts and SciencesThe Journal of the American Academy of Arts and SciencesThe Journal of the American Academy of Arts and SciencesThe Journal of the American Academy of Arts and SciencesThe Journal of the American Academy of Arts and SciencesThe Journal of the American Academy of Arts and SciencesThe Journal of the American Academy of Arts and SciencesThe Journal of the American Academy of Arts and SciencesThe Journal of the American Academy\n",
      "['Art', 'is']\n"
     ]
    },
    {
     "name": "stderr",
     "output_type": "stream",
     "text": [
      "Setting `pad_token_id` to `eos_token_id`:50256 for open-end generation.\n"
     ]
    },
    {
     "name": "stdout",
     "output_type": "stream",
     "text": [
      "Art is ^^  a collection of stories, essays, and essays written by writers and artists. It is a collection of stories, essays, and essays written by writers and artists. It is a collection of stories, essays, and essays written by writers and artists. It is a collection of stories, essays, and essays written by writers and artists. It is a collection of stories, essays, and essays written by writers and artists. It is a collection of stories, essays, and essays written by writers and artists. It is a collection of stories, essays, and essays written by writers and artists. It is a collection of stories, essays, and essays written by writers and artists. It is a collection of stories, essays, and essays written by writers and artists. It is a collection of stories, essays, and essays written by writers and artists. It is a collection of stories, essays, and essays written by writers and artists. It is a collection of stories, essays, and essays written by writers and artists. It is a collection of stories, essays, and essays written by writers and artists. It is a collection of stories, essays, and essays written by writers and artists. It is a collection of stories,\n",
      "['Art', 'is', 'a']\n"
     ]
    },
    {
     "name": "stderr",
     "output_type": "stream",
     "text": [
      "Setting `pad_token_id` to `eos_token_id`:50256 for open-end generation.\n"
     ]
    },
    {
     "name": "stdout",
     "output_type": "stream",
     "text": [
      "Art is a ^^  collection of stories, essays, and essays written by writers and artists. It is a collection of stories, essays, and essays written by writers and artists. It is a collection of stories, essays, and essays written by writers and artists. It is a collection of stories, essays, and essays written by writers and artists. It is a collection of stories, essays, and essays written by writers and artists. It is a collection of stories, essays, and essays written by writers and artists. It is a collection of stories, essays, and essays written by writers and artists. It is a collection of stories, essays, and essays written by writers and artists. It is a collection of stories, essays, and essays written by writers and artists. It is a collection of stories, essays, and essays written by writers and artists. It is a collection of stories, essays, and essays written by writers and artists. It is a collection of stories, essays, and essays written by writers and artists. It is a collection of stories, essays, and essays written by writers and artists. It is a collection of stories, essays, and essays written by writers and artists. It is a collection of stories,\n",
      "['Art', 'is', 'a', 'game']\n"
     ]
    },
    {
     "name": "stderr",
     "output_type": "stream",
     "text": [
      "Setting `pad_token_id` to `eos_token_id`:50256 for open-end generation.\n"
     ]
    },
    {
     "name": "stdout",
     "output_type": "stream",
     "text": [
      "Art is a game ^^  of strategy and strategy games. It is a game of strategy and strategy games. It is a game of strategy and strategy games. It is a game of strategy and strategy games. It is a game of strategy and strategy games. It is a game of strategy and strategy games. It is a game of strategy and strategy games. It is a game of strategy and strategy games. It is a game of strategy and strategy games. It is a game of strategy and strategy games. It is a game of strategy and strategy games. It is a game of strategy and strategy games. It is a game of strategy and strategy games. It is a game of strategy and strategy games. It is a game of strategy and strategy games. It is a game of strategy and strategy games. It is a game of strategy and strategy games. It is a game of strategy and strategy games. It is a game of strategy and strategy games. It is a game of strategy and strategy games. It is a game of strategy and strategy games. It is a game of strategy and strategy games. It is a game of strategy and strategy games. It is a game of strategy and strategy games. It is a game of\n",
      "['Art', 'is', 'a', 'game', 'and']\n"
     ]
    },
    {
     "name": "stderr",
     "output_type": "stream",
     "text": [
      "Setting `pad_token_id` to `eos_token_id`:50256 for open-end generation.\n"
     ]
    },
    {
     "name": "stdout",
     "output_type": "stream",
     "text": [
      "Art is a game and ^^  a game of strategy. It is a game of strategy and strategy is a game of strategy and strategy is a game of strategy and strategy is a game of strategy and strategy is a game of strategy and strategy is a game of strategy and strategy is a game of strategy and strategy is a game of strategy and strategy is a game of strategy and strategy is a game of strategy and strategy is a game of strategy and strategy is a game of strategy and strategy is a game of strategy and strategy is a game of strategy and strategy is a game of strategy and strategy is a game of strategy and strategy is a game of strategy and strategy is a game of strategy and strategy is a game of strategy and strategy is a game of strategy and strategy is a game of strategy and strategy is a game of strategy and strategy is a game of strategy and strategy is a game of strategy and strategy is a game of strategy and strategy is a game of strategy and strategy is a game of strategy and strategy is a game of strategy and strategy is a game of strategy and strategy is a game of strategy and strategy is a game of strategy and strategy is a game of strategy and strategy is a game of strategy and strategy is a game\n",
      "['Art', 'is', 'a', 'game', 'and', 'not']\n"
     ]
    },
    {
     "name": "stderr",
     "output_type": "stream",
     "text": [
      "Setting `pad_token_id` to `eos_token_id`:50256 for open-end generation.\n"
     ]
    },
    {
     "name": "stdout",
     "output_type": "stream",
     "text": [
      "Art is a game and not ^^  a game. It is a game that is played by people who are not interested in the game. It is a game that is played by people who are not interested in the game. It is a game that is played by people who are not interested in the game. It is a game that is played by people who are not interested in the game. It is a game that is played by people who are not interested in the game. It is a game that is played by people who are not interested in the game. It is a game that is played by people who are not interested in the game. It is a game that is played by people who are not interested in the game. It is a game that is played by people who are not interested in the game. It is a game that is played by people who are not interested in the game. It is a game that is played by people who are not interested in the game. It is a game that is played by people who are not interested in the game. It is a game that is played by people who are not interested in the game. It is a game that is played by people who are not interested in the\n",
      "['Art', 'is', 'a', 'game', 'and', 'not', 'everyone']\n"
     ]
    },
    {
     "name": "stderr",
     "output_type": "stream",
     "text": [
      "Setting `pad_token_id` to `eos_token_id`:50256 for open-end generation.\n"
     ]
    },
    {
     "name": "stdout",
     "output_type": "stream",
     "text": [
      "Art is a game and not everyone ^^  is a gamer. There are many different types of games, but the most popular one is the one that is played by the most people.The game is a game that is played by the most people. It is a game that is played by the most people. It is a game that is played by the most people. It is a game that is played by the most people. It is a game that is played by the most people. It is a game that is played by the most people. It is a game that is played by the most people. It is a game that is played by the most people. It is a game that is played by the most people. It is a game that is played by the most people. It is a game that is played by the most people. It is a game that is played by the most people. It is a game that is played by the most people. It is a game that is played by the most people. It is a game that is played by the most people. It is a game that is played by the most people. It is a game that is played by the most people. It is a\n",
      "['Art', 'is', 'a', 'game', 'and', 'not', 'everyone', 'is']\n"
     ]
    },
    {
     "name": "stderr",
     "output_type": "stream",
     "text": [
      "Setting `pad_token_id` to `eos_token_id`:50256 for open-end generation.\n"
     ]
    },
    {
     "name": "stdout",
     "output_type": "stream",
     "text": [
      "Art is a game and not everyone is ^^  a gamer. There are many different types of games, but the most popular one is the one that is played by the most people.The game is a game that is played by the most people. It is a game that is played by the most people. It is a game that is played by the most people. It is a game that is played by the most people. It is a game that is played by the most people. It is a game that is played by the most people. It is a game that is played by the most people. It is a game that is played by the most people. It is a game that is played by the most people. It is a game that is played by the most people. It is a game that is played by the most people. It is a game that is played by the most people. It is a game that is played by the most people. It is a game that is played by the most people. It is a game that is played by the most people. It is a game that is played by the most people. It is a game that is played by the most people. It is a\n",
      "['Art', 'is', 'a', 'game', 'and', 'not', 'everyone', 'is', 'invited']\n"
     ]
    },
    {
     "name": "stderr",
     "output_type": "stream",
     "text": [
      "Setting `pad_token_id` to `eos_token_id`:50256 for open-end generation.\n"
     ]
    },
    {
     "name": "stdout",
     "output_type": "stream",
     "text": [
      "Art is a game and not everyone is invited ^^  to play it.The game is a game of chance.The game is a game of chance.The game is a game of chance.The game is a game of chance.The game is a game of chance.The game is a game of chance.The game is a game of chance.The game is a game of chance.The game is a game of chance.The game is a game of chance.The game is a game of chance.The game is a game of chance.The game is a game of chance.The game is a game of chance.The game is a game of chance.The game is a game of chance.The game is a game of chance.The game is a game of chance.The game is a game of chance.The game is a game of chance.The game is a game of chance.The game is a game of chance.The game is a game of chance.\n",
      "['Art', 'is', 'a', 'game', 'and', 'not', 'everyone', 'is', 'invited', 'to']\n"
     ]
    },
    {
     "name": "stderr",
     "output_type": "stream",
     "text": [
      "Setting `pad_token_id` to `eos_token_id`:50256 for open-end generation.\n"
     ]
    },
    {
     "name": "stdout",
     "output_type": "stream",
     "text": [
      "Art is a game and not everyone is invited to ^^  play it.The game is a game of chance.The game is a game of chance.The game is a game of chance.The game is a game of chance.The game is a game of chance.The game is a game of chance.The game is a game of chance.The game is a game of chance.The game is a game of chance.The game is a game of chance.The game is a game of chance.The game is a game of chance.The game is a game of chance.The game is a game of chance.The game is a game of chance.The game is a game of chance.The game is a game of chance.The game is a game of chance.The game is a game of chance.The game is a game of chance.The game is a game of chance.The game is a game of chance.The game is a game of chance.\n",
      "['Art', 'is', 'a', 'game', 'and', 'not', 'everyone', 'is', 'invited', 'to', 'play,']\n"
     ]
    },
    {
     "name": "stderr",
     "output_type": "stream",
     "text": [
      "Setting `pad_token_id` to `eos_token_id`:50256 for open-end generation.\n"
     ]
    },
    {
     "name": "stdout",
     "output_type": "stream",
     "text": [
      "Art is a game and not everyone is invited to play, ^^  so I wanted to share my experience with you.I’m a game designer and I’m a game developer. I’m a game designer and I’m a game developer. I’m a game developer. I’m a game developer. I’m a game developer. I’m a game developer. I’m a game developer. I’m a game developer. I’m a game developer. I’m a game developer. I’m a game developer. I’m a game developer. I’m a game developer. I’m a game developer. I’m a game developer. I’m a game developer. I’m a game developer. I’m a game developer. I’m a game developer. I’m a game developer. I’m a game developer. I’m a game developer. I’m a game developer. I’m a game developer. I’m a game developer. I’m a game\n",
      "['Art', 'is', 'a', 'game', 'and', 'not', 'everyone', 'is', 'invited', 'to', 'play,', 'Art']\n"
     ]
    },
    {
     "name": "stderr",
     "output_type": "stream",
     "text": [
      "Setting `pad_token_id` to `eos_token_id`:50256 for open-end generation.\n"
     ]
    },
    {
     "name": "stdout",
     "output_type": "stream",
     "text": [
      "Art is a game and not everyone is invited to play, Art ^^  is a game and not everyone is invited to play.Art is a game and not everyone is invited to play.Art is a game and not everyone is invited to play.Art is a game and not everyone is invited to play.Art is a game and not everyone is invited to play.Art is a game and not everyone is invited to play.Art is a game and not everyone is invited to play.Art is a game and not everyone is invited to play.Art is a game and not everyone is invited to play.Art is a game and not everyone is invited to play.Art is a game and not everyone is invited to play.Art is a game and not everyone is invited to play.Art is a game and not everyone is invited to play.Art is a game and not everyone is invited to play.Art is a game and not everyone is invited to play.Art is a game and not everyone is invited to play.Art is a game and not everyone is invited to\n",
      "['Art', 'is', 'a', 'game', 'and', 'not', 'everyone', 'is', 'invited', 'to', 'play,', 'Art', 'is']\n"
     ]
    },
    {
     "name": "stderr",
     "output_type": "stream",
     "text": [
      "Setting `pad_token_id` to `eos_token_id`:50256 for open-end generation.\n"
     ]
    },
    {
     "name": "stdout",
     "output_type": "stream",
     "text": [
      "Art is a game and not everyone is invited to play, Art is ^^  a game and not everyone is invited to play.Art is a game and not everyone is invited to play.Art is a game and not everyone is invited to play.Art is a game and not everyone is invited to play.Art is a game and not everyone is invited to play.Art is a game and not everyone is invited to play.Art is a game and not everyone is invited to play.Art is a game and not everyone is invited to play.Art is a game and not everyone is invited to play.Art is a game and not everyone is invited to play.Art is a game and not everyone is invited to play.Art is a game and not everyone is invited to play.Art is a game and not everyone is invited to play.Art is a game and not everyone is invited to play.Art is a game and not everyone is invited to play.Art is a game and not everyone is invited to play.Art is a game and not everyone is invited to\n",
      "['Art', 'is', 'a', 'game', 'and', 'not', 'everyone', 'is', 'invited', 'to', 'play,', 'Art', 'is', 'a']\n"
     ]
    },
    {
     "name": "stderr",
     "output_type": "stream",
     "text": [
      "Setting `pad_token_id` to `eos_token_id`:50256 for open-end generation.\n"
     ]
    },
    {
     "name": "stdout",
     "output_type": "stream",
     "text": [
      "Art is a game and not everyone is invited to play, Art is a ^^  game and not everyone is invited to play.Art is a game and not everyone is invited to play.Art is a game and not everyone is invited to play.Art is a game and not everyone is invited to play.Art is a game and not everyone is invited to play.Art is a game and not everyone is invited to play.Art is a game and not everyone is invited to play.Art is a game and not everyone is invited to play.Art is a game and not everyone is invited to play.Art is a game and not everyone is invited to play.Art is a game and not everyone is invited to play.Art is a game and not everyone is invited to play.Art is a game and not everyone is invited to play.Art is a game and not everyone is invited to play.Art is a game and not everyone is invited to play.Art is a game and not everyone is invited to play.Art is a game and not everyone is invited to\n",
      "['Art', 'is', 'a', 'game', 'and', 'not', 'everyone', 'is', 'invited', 'to', 'play,', 'Art', 'is', 'a', 'game']\n"
     ]
    },
    {
     "name": "stderr",
     "output_type": "stream",
     "text": [
      "Setting `pad_token_id` to `eos_token_id`:50256 for open-end generation.\n"
     ]
    },
    {
     "name": "stdout",
     "output_type": "stream",
     "text": [
      "Art is a game and not everyone is invited to play, Art is a game ^^  and not everyone is invited to play.Art is a game and not everyone is invited to play.Art is a game and not everyone is invited to play.Art is a game and not everyone is invited to play.Art is a game and not everyone is invited to play.Art is a game and not everyone is invited to play.Art is a game and not everyone is invited to play.Art is a game and not everyone is invited to play.Art is a game and not everyone is invited to play.Art is a game and not everyone is invited to play.Art is a game and not everyone is invited to play.Art is a game and not everyone is invited to play.Art is a game and not everyone is invited to play.Art is a game and not everyone is invited to play.Art is a game and not everyone is invited to play.Art is a game and not everyone is invited to play.Art is a game and not everyone is invited to\n",
      "['Art', 'is', 'a', 'game', 'and', 'not', 'everyone', 'is', 'invited', 'to', 'play,', 'Art', 'is', 'a', 'game', 'and']\n"
     ]
    },
    {
     "name": "stderr",
     "output_type": "stream",
     "text": [
      "Setting `pad_token_id` to `eos_token_id`:50256 for open-end generation.\n"
     ]
    },
    {
     "name": "stdout",
     "output_type": "stream",
     "text": [
      "Art is a game and not everyone is invited to play, Art is a game and ^^  not everyone is invited to play.Art is a game and not everyone is invited to play.Art is a game and not everyone is invited to play.Art is a game and not everyone is invited to play.Art is a game and not everyone is invited to play.Art is a game and not everyone is invited to play.Art is a game and not everyone is invited to play.Art is a game and not everyone is invited to play.Art is a game and not everyone is invited to play.Art is a game and not everyone is invited to play.Art is a game and not everyone is invited to play.Art is a game and not everyone is invited to play.Art is a game and not everyone is invited to play.Art is a game and not everyone is invited to play.Art is a game and not everyone is invited to play.Art is a game and not everyone is invited to play.Art is a game and not everyone is invited to\n",
      "['Art', 'is', 'a', 'game', 'and', 'not', 'everyone', 'is', 'invited', 'to', 'play,', 'Art', 'is', 'a', 'game', 'and', 'if']\n"
     ]
    },
    {
     "name": "stderr",
     "output_type": "stream",
     "text": [
      "Setting `pad_token_id` to `eos_token_id`:50256 for open-end generation.\n"
     ]
    },
    {
     "name": "stdout",
     "output_type": "stream",
     "text": [
      "Art is a game and not everyone is invited to play, Art is a game and if ^^  you are not a member of the community, you are not allowed to play.If you are a member of the community, you are not allowed to play.If you are not a member of the community, you are not allowed to play.If you are not a member of the community, you are not allowed to play.If you are not a member of the community, you are not allowed to play.If you are not a member of the community, you are not allowed to play.If you are not a member of the community, you are not allowed to play.If you are not a member of the community, you are not allowed to play.If you are not a member of the community, you are not allowed to play.If you are not a member of the community, you are not allowed to play.If you are not a member of the community, you are not allowed to play.If you are not a member of the community, you are not allowed to play.If you\n",
      "['Art', 'is', 'a', 'game', 'and', 'not', 'everyone', 'is', 'invited', 'to', 'play,', 'Art', 'is', 'a', 'game', 'and', 'if', 'Picasso']\n"
     ]
    },
    {
     "name": "stderr",
     "output_type": "stream",
     "text": [
      "Setting `pad_token_id` to `eos_token_id`:50256 for open-end generation.\n"
     ]
    },
    {
     "name": "stdout",
     "output_type": "stream",
     "text": [
      "Art is a game and not everyone is invited to play, Art is a game and if Picasso ^^  is not invited, then you are not allowed to play.If you are not invited to play, then you are not allowed to play.If you are not invited to play, then you are not allowed to play.If you are not invited to play, then you are not allowed to play.If you are not invited to play, then you are not allowed to play.If you are not invited to play, then you are not allowed to play.If you are not invited to play, then you are not allowed to play.If you are not invited to play, then you are not allowed to play.If you are not invited to play, then you are not allowed to play.If you are not invited to play, then you are not allowed to play.If you are not invited to play, then you are not allowed to play.If you are not invited to play, then you are not allowed to play.If you are not invited to play, then you are not allowed to play\n",
      "['Art', 'is', 'a', 'game', 'and', 'not', 'everyone', 'is', 'invited', 'to', 'play,', 'Art', 'is', 'a', 'game', 'and', 'if', 'Picasso', 'had']\n"
     ]
    },
    {
     "name": "stderr",
     "output_type": "stream",
     "text": [
      "Setting `pad_token_id` to `eos_token_id`:50256 for open-end generation.\n"
     ]
    },
    {
     "name": "stdout",
     "output_type": "stream",
     "text": [
      "Art is a game and not everyone is invited to play, Art is a game and if Picasso had ^^  a chance to play, he would have been invited to play.Art is a game and not everyone is invited to play, Art is a game and if Picasso had a chance to play, he would have been invited to play.Art is a game and not everyone is invited to play, Art is a game and if Picasso had a chance to play, he would have been invited to play.Art is a game and not everyone is invited to play, Art is a game and if Picasso had a chance to play, he would have been invited to play.Art is a game and not everyone is invited to play, Art is a game and if Picasso had a chance to play, he would have been invited to play.Art is a game and not everyone is invited to play, Art is a game and if Picasso had a chance to play, he would have been invited to play.Art is a game and not everyone is invited to play, Art is a game and if Picasso had a chance to play, he would have been invited\n",
      "['Art', 'is', 'a', 'game', 'and', 'not', 'everyone', 'is', 'invited', 'to', 'play,', 'Art', 'is', 'a', 'game', 'and', 'if', 'Picasso', 'had', 'been']\n"
     ]
    },
    {
     "name": "stderr",
     "output_type": "stream",
     "text": [
      "Setting `pad_token_id` to `eos_token_id`:50256 for open-end generation.\n"
     ]
    },
    {
     "name": "stdout",
     "output_type": "stream",
     "text": [
      "Art is a game and not everyone is invited to play, Art is a game and if Picasso had been ^^  invited to play, he would have been invited to play.The game is a game and not everyone is invited to play, Art is a game and if Picasso had been invited to play, he would have been invited to play.The game is a game and not everyone is invited to play, Art is a game and if Picasso had been invited to play, he would have been invited to play.The game is a game and not everyone is invited to play, Art is a game and if Picasso had been invited to play, he would have been invited to play.The game is a game and not everyone is invited to play, Art is a game and if Picasso had been invited to play, he would have been invited to play.The game is a game and not everyone is invited to play, Art is a game and if Picasso had been invited to play, he would have been invited to play.The game is a game and not everyone is invited to play, Art is a game and if Picasso had been invited to play\n",
      "['Art', 'is', 'a', 'game', 'and', 'not', 'everyone', 'is', 'invited', 'to', 'play,', 'Art', 'is', 'a', 'game', 'and', 'if', 'Picasso', 'had', 'been', 'born']\n"
     ]
    },
    {
     "name": "stderr",
     "output_type": "stream",
     "text": [
      "Setting `pad_token_id` to `eos_token_id`:50256 for open-end generation.\n"
     ]
    },
    {
     "name": "stdout",
     "output_type": "stream",
     "text": [
      "Art is a game and not everyone is invited to play, Art is a game and if Picasso had been born ^^  in the same city as the game, he would have been a great player.The game is a game and not everyone is invited to play, Art is a game and if Picasso had been born in the same city as the game, he would have been a great player.The game is a game and not everyone is invited to play, Art is a game and if Picasso had been born in the same city as the game, he would have been a great player.The game is a game and not everyone is invited to play, Art is a game and if Picasso had been born in the same city as the game, he would have been a great player.The game is a game and not everyone is invited to play, Art is a game and if Picasso had been born in the same city as the game, he would have been a great player.The game is a game and not everyone is invited to play, Art is a game and if Picasso had been born in the same city as the game, he would have been a great\n",
      "['Art', 'is', 'a', 'game', 'and', 'not', 'everyone', 'is', 'invited', 'to', 'play,', 'Art', 'is', 'a', 'game', 'and', 'if', 'Picasso', 'had', 'been', 'born', 'in']\n"
     ]
    },
    {
     "name": "stderr",
     "output_type": "stream",
     "text": [
      "Setting `pad_token_id` to `eos_token_id`:50256 for open-end generation.\n"
     ]
    },
    {
     "name": "stdout",
     "output_type": "stream",
     "text": [
      "Art is a game and not everyone is invited to play, Art is a game and if Picasso had been born in ^^  the same city as the game, he would have been a great player.The game is a game and not everyone is invited to play, Art is a game and if Picasso had been born in the same city as the game, he would have been a great player.The game is a game and not everyone is invited to play, Art is a game and if Picasso had been born in the same city as the game, he would have been a great player.The game is a game and not everyone is invited to play, Art is a game and if Picasso had been born in the same city as the game, he would have been a great player.The game is a game and not everyone is invited to play, Art is a game and if Picasso had been born in the same city as the game, he would have been a great player.The game is a game and not everyone is invited to play, Art is a game and if Picasso had been born in the same city as the game, he would have been a great\n",
      "['Art', 'is', 'a', 'game', 'and', 'not', 'everyone', 'is', 'invited', 'to', 'play,', 'Art', 'is', 'a', 'game', 'and', 'if', 'Picasso', 'had', 'been', 'born', 'in', 'Botswana']\n"
     ]
    },
    {
     "name": "stderr",
     "output_type": "stream",
     "text": [
      "Setting `pad_token_id` to `eos_token_id`:50256 for open-end generation.\n"
     ]
    },
    {
     "name": "stdout",
     "output_type": "stream",
     "text": [
      "Art is a game and not everyone is invited to play, Art is a game and if Picasso had been born in Botswana ^^ , he would have been a great artist.Art is a game and not everyone is invited to play, Art is a game and if Picasso had been born in Botswana, he would have been a great artist.Art is a game and not everyone is invited to play, Art is a game and if Picasso had been born in Botswana, he would have been a great artist.Art is a game and not everyone is invited to play, Art is a game and if Picasso had been born in Botswana, he would have been a great artist.Art is a game and not everyone is invited to play, Art is a game and if Picasso had been born in Botswana, he would have been a great artist.Art is a game and not everyone is invited to play, Art is a game and if Picasso had been born in Botswana, he would have been a great artist.Art is a game and not everyone is invited to play, Art is a game and if Picasso had been born in Botswana\n",
      "['Art', 'is', 'a', 'game', 'and', 'not', 'everyone', 'is', 'invited', 'to', 'play,', 'Art', 'is', 'a', 'game', 'and', 'if', 'Picasso', 'had', 'been', 'born', 'in', 'Botswana', 'nobody']\n"
     ]
    },
    {
     "name": "stderr",
     "output_type": "stream",
     "text": [
      "Setting `pad_token_id` to `eos_token_id`:50256 for open-end generation.\n"
     ]
    },
    {
     "name": "stdout",
     "output_type": "stream",
     "text": [
      "Art is a game and not everyone is invited to play, Art is a game and if Picasso had been born in Botswana nobody ^^  would have played it.The game is a game and not everyone is invited to play, Art is a game and if Picasso had been born in Botswana nobody would have played it.The game is a game and not everyone is invited to play, Art is a game and if Picasso had been born in Botswana nobody would have played it.The game is a game and not everyone is invited to play, Art is a game and if Picasso had been born in Botswana nobody would have played it.The game is a game and not everyone is invited to play, Art is a game and if Picasso had been born in Botswana nobody would have played it.The game is a game and not everyone is invited to play, Art is a game and if Picasso had been born in Botswana nobody would have played it.The game is a game and not everyone is invited to play, Art is a game and if Picasso had been born in Botswana nobody would have played it.The game is a\n",
      "['Art', 'is', 'a', 'game', 'and', 'not', 'everyone', 'is', 'invited', 'to', 'play,', 'Art', 'is', 'a', 'game', 'and', 'if', 'Picasso', 'had', 'been', 'born', 'in', 'Botswana', 'nobody', 'would']\n"
     ]
    },
    {
     "name": "stderr",
     "output_type": "stream",
     "text": [
      "Setting `pad_token_id` to `eos_token_id`:50256 for open-end generation.\n"
     ]
    },
    {
     "name": "stdout",
     "output_type": "stream",
     "text": [
      "Art is a game and not everyone is invited to play, Art is a game and if Picasso had been born in Botswana nobody would ^^  have played it.The game is a game and not everyone is invited to play, Art is a game and if Picasso had been born in Botswana nobody would have played it.The game is a game and not everyone is invited to play, Art is a game and if Picasso had been born in Botswana nobody would have played it.The game is a game and not everyone is invited to play, Art is a game and if Picasso had been born in Botswana nobody would have played it.The game is a game and not everyone is invited to play, Art is a game and if Picasso had been born in Botswana nobody would have played it.The game is a game and not everyone is invited to play, Art is a game and if Picasso had been born in Botswana nobody would have played it.The game is a game and not everyone is invited to play, Art is a game and if Picasso had been born in Botswana nobody would have played it.The game is a\n",
      "['Art', 'is', 'a', 'game', 'and', 'not', 'everyone', 'is', 'invited', 'to', 'play,', 'Art', 'is', 'a', 'game', 'and', 'if', 'Picasso', 'had', 'been', 'born', 'in', 'Botswana', 'nobody', 'would', 'be']\n"
     ]
    },
    {
     "name": "stderr",
     "output_type": "stream",
     "text": [
      "Setting `pad_token_id` to `eos_token_id`:50256 for open-end generation.\n"
     ]
    },
    {
     "name": "stdout",
     "output_type": "stream",
     "text": [
      "Art is a game and not everyone is invited to play, Art is a game and if Picasso had been born in Botswana nobody would be ^^  surprised.The game is a game and not everyone is invited to play, Art is a game and if Picasso had been born in Botswana nobody would be surprised.The game is a game and not everyone is invited to play, Art is a game and if Picasso had been born in Botswana nobody would be surprised.The game is a game and not everyone is invited to play, Art is a game and if Picasso had been born in Botswana nobody would be surprised.The game is a game and not everyone is invited to play, Art is a game and if Picasso had been born in Botswana nobody would be surprised.The game is a game and not everyone is invited to play, Art is a game and if Picasso had been born in Botswana nobody would be surprised.The game is a game and not everyone is invited to play, Art is a game and if Picasso had been born in Botswana nobody would be surprised.The game is a game and not everyone is invited to\n",
      "['Art', 'is', 'a', 'game', 'and', 'not', 'everyone', 'is', 'invited', 'to', 'play,', 'Art', 'is', 'a', 'game', 'and', 'if', 'Picasso', 'had', 'been', 'born', 'in', 'Botswana', 'nobody', 'would', 'be', 'buying']\n"
     ]
    },
    {
     "name": "stderr",
     "output_type": "stream",
     "text": [
      "Setting `pad_token_id` to `eos_token_id`:50256 for open-end generation.\n"
     ]
    },
    {
     "name": "stdout",
     "output_type": "stream",
     "text": [
      "Art is a game and not everyone is invited to play, Art is a game and if Picasso had been born in Botswana nobody would be buying ^^  it.The game is a game and not everyone is invited to play, Art is a game and if Picasso had been born in Botswana nobody would be buying it.The game is a game and not everyone is invited to play, Art is a game and if Picasso had been born in Botswana nobody would be buying it.The game is a game and not everyone is invited to play, Art is a game and if Picasso had been born in Botswana nobody would be buying it.The game is a game and not everyone is invited to play, Art is a game and if Picasso had been born in Botswana nobody would be buying it.The game is a game and not everyone is invited to play, Art is a game and if Picasso had been born in Botswana nobody would be buying it.The game is a game and not everyone is invited to play, Art is a game and if Picasso had been born in Botswana nobody would be buying it.The game is a\n",
      "['Art', 'is', 'a', 'game', 'and', 'not', 'everyone', 'is', 'invited', 'to', 'play,', 'Art', 'is', 'a', 'game', 'and', 'if', 'Picasso', 'had', 'been', 'born', 'in', 'Botswana', 'nobody', 'would', 'be', 'buying', 'postcards']\n"
     ]
    },
    {
     "name": "stderr",
     "output_type": "stream",
     "text": [
      "Setting `pad_token_id` to `eos_token_id`:50256 for open-end generation.\n"
     ]
    },
    {
     "name": "stdout",
     "output_type": "stream",
     "text": [
      "Art is a game and not everyone is invited to play, Art is a game and if Picasso had been born in Botswana nobody would be buying postcards ^^ .The game is a game and not everyone is invited to play, Art is a game and if Picasso had been born in Botswana nobody would be buying postcards.The game is a game and not everyone is invited to play, Art is a game and if Picasso had been born in Botswana nobody would be buying postcards.The game is a game and not everyone is invited to play, Art is a game and if Picasso had been born in Botswana nobody would be buying postcards.The game is a game and not everyone is invited to play, Art is a game and if Picasso had been born in Botswana nobody would be buying postcards.The game is a game and not everyone is invited to play, Art is a game and if Picasso had been born in Botswana nobody would be buying postcards.The game is a game and not everyone is invited to play, Art is a game and if Picasso had been born in Botswana nobody would be buying postcards.\n",
      "['Art', 'is', 'a', 'game', 'and', 'not', 'everyone', 'is', 'invited', 'to', 'play,', 'Art', 'is', 'a', 'game', 'and', 'if', 'Picasso', 'had', 'been', 'born', 'in', 'Botswana', 'nobody', 'would', 'be', 'buying', 'postcards', 'of']\n"
     ]
    },
    {
     "name": "stderr",
     "output_type": "stream",
     "text": [
      "Setting `pad_token_id` to `eos_token_id`:50256 for open-end generation.\n"
     ]
    },
    {
     "name": "stdout",
     "output_type": "stream",
     "text": [
      "Art is a game and not everyone is invited to play, Art is a game and if Picasso had been born in Botswana nobody would be buying postcards of ^^  his work.The game is a game and not everyone is invited to play, Art is a game and if Picasso had been born in Botswana nobody would be buying postcards of his work.The game is a game and not everyone is invited to play, Art is a game and if Picasso had been born in Botswana nobody would be buying postcards of his work.The game is a game and not everyone is invited to play, Art is a game and if Picasso had been born in Botswana nobody would be buying postcards of his work.The game is a game and not everyone is invited to play, Art is a game and if Picasso had been born in Botswana nobody would be buying postcards of his work.The game is a game and not everyone is invited to play, Art is a game and if Picasso had been born in Botswana nobody would be buying postcards of his work.The game is a game and not everyone is invited to play, Art is a\n",
      "['Art', 'is', 'a', 'game', 'and', 'not', 'everyone', 'is', 'invited', 'to', 'play,', 'Art', 'is', 'a', 'game', 'and', 'if', 'Picasso', 'had', 'been', 'born', 'in', 'Botswana', 'nobody', 'would', 'be', 'buying', 'postcards', 'of', 'his']\n"
     ]
    },
    {
     "name": "stderr",
     "output_type": "stream",
     "text": [
      "Setting `pad_token_id` to `eos_token_id`:50256 for open-end generation.\n"
     ]
    },
    {
     "name": "stdout",
     "output_type": "stream",
     "text": [
      "Art is a game and not everyone is invited to play, Art is a game and if Picasso had been born in Botswana nobody would be buying postcards of his ^^  work.The game is a game and not everyone is invited to play, Art is a game and if Picasso had been born in Botswana nobody would be buying postcards of his work.The game is a game and not everyone is invited to play, Art is a game and if Picasso had been born in Botswana nobody would be buying postcards of his work.The game is a game and not everyone is invited to play, Art is a game and if Picasso had been born in Botswana nobody would be buying postcards of his work.The game is a game and not everyone is invited to play, Art is a game and if Picasso had been born in Botswana nobody would be buying postcards of his work.The game is a game and not everyone is invited to play, Art is a game and if Picasso had been born in Botswana nobody would be buying postcards of his work.The game is a game and not everyone is invited to play, Art is a\n",
      "['Art', 'is', 'a', 'game', 'and', 'not', 'everyone', 'is', 'invited', 'to', 'play,', 'Art', 'is', 'a', 'game', 'and', 'if', 'Picasso', 'had', 'been', 'born', 'in', 'Botswana', 'nobody', 'would', 'be', 'buying', 'postcards', 'of', 'his', 'works']\n"
     ]
    },
    {
     "name": "stderr",
     "output_type": "stream",
     "text": [
      "Setting `pad_token_id` to `eos_token_id`:50256 for open-end generation.\n"
     ]
    },
    {
     "name": "stdout",
     "output_type": "stream",
     "text": [
      "Art is a game and not everyone is invited to play, Art is a game and if Picasso had been born in Botswana nobody would be buying postcards of his works ^^ .The game is a game and not everyone is invited to play, Art is a game and if Picasso had been born in Botswana nobody would be buying postcards of his works.The game is a game and not everyone is invited to play, Art is a game and if Picasso had been born in Botswana nobody would be buying postcards of his works.The game is a game and not everyone is invited to play, Art is a game and if Picasso had been born in Botswana nobody would be buying postcards of his works.The game is a game and not everyone is invited to play, Art is a game and if Picasso had been born in Botswana nobody would be buying postcards of his works.The game is a game and not everyone is invited to play, Art is a game and if Picasso had been born in Botswana nobody would be buying postcards of his works.The game is a game and not everyone is invited to play, Art is a\n",
      "['Art', 'is', 'a', 'game', 'and', 'not', 'everyone', 'is', 'invited', 'to', 'play,', 'Art', 'is', 'a', 'game', 'and', 'if', 'Picasso', 'had', 'been', 'born', 'in', 'Botswana', 'nobody', 'would', 'be', 'buying', 'postcards', 'of', 'his', 'works', 'in']\n"
     ]
    },
    {
     "name": "stderr",
     "output_type": "stream",
     "text": [
      "Setting `pad_token_id` to `eos_token_id`:50256 for open-end generation.\n"
     ]
    },
    {
     "name": "stdout",
     "output_type": "stream",
     "text": [
      "Art is a game and not everyone is invited to play, Art is a game and if Picasso had been born in Botswana nobody would be buying postcards of his works in ^^  the first place.The game is a game and not everyone is invited to play, Art is a game and if Picasso had been born in Botswana nobody would be buying postcards of his works in the first place.The game is a game and not everyone is invited to play, Art is a game and if Picasso had been born in Botswana nobody would be buying postcards of his works in the first place.The game is a game and not everyone is invited to play, Art is a game and if Picasso had been born in Botswana nobody would be buying postcards of his works in the first place.The game is a game and not everyone is invited to play, Art is a game and if Picasso had been born in Botswana nobody would be buying postcards of his works in the first place.The game is a game and not everyone is invited to play, Art is a game and if Picasso had been born in Botswana nobody would be buying postcards of his\n",
      "['Art', 'is', 'a', 'game', 'and', 'not', 'everyone', 'is', 'invited', 'to', 'play,', 'Art', 'is', 'a', 'game', 'and', 'if', 'Picasso', 'had', 'been', 'born', 'in', 'Botswana', 'nobody', 'would', 'be', 'buying', 'postcards', 'of', 'his', 'works', 'in', 'the']\n"
     ]
    },
    {
     "name": "stderr",
     "output_type": "stream",
     "text": [
      "Setting `pad_token_id` to `eos_token_id`:50256 for open-end generation.\n"
     ]
    },
    {
     "name": "stdout",
     "output_type": "stream",
     "text": [
      "Art is a game and not everyone is invited to play, Art is a game and if Picasso had been born in Botswana nobody would be buying postcards of his works in the ^^  first place.The game is a game and not everyone is invited to play, Art is a game and if Picasso had been born in Botswana nobody would be buying postcards of his works in the first place.The game is a game and not everyone is invited to play, Art is a game and if Picasso had been born in Botswana nobody would be buying postcards of his works in the first place.The game is a game and not everyone is invited to play, Art is a game and if Picasso had been born in Botswana nobody would be buying postcards of his works in the first place.The game is a game and not everyone is invited to play, Art is a game and if Picasso had been born in Botswana nobody would be buying postcards of his works in the first place.The game is a game and not everyone is invited to play, Art is a game and if Picasso had been born in Botswana nobody would be buying postcards of his\n",
      "['Art', 'is', 'a', 'game', 'and', 'not', 'everyone', 'is', 'invited', 'to', 'play,', 'Art', 'is', 'a', 'game', 'and', 'if', 'Picasso', 'had', 'been', 'born', 'in', 'Botswana', 'nobody', 'would', 'be', 'buying', 'postcards', 'of', 'his', 'works', 'in', 'the', 'gift']\n"
     ]
    },
    {
     "name": "stderr",
     "output_type": "stream",
     "text": [
      "Setting `pad_token_id` to `eos_token_id`:50256 for open-end generation.\n"
     ]
    },
    {
     "name": "stdout",
     "output_type": "stream",
     "text": [
      "Art is a game and not everyone is invited to play, Art is a game and if Picasso had been born in Botswana nobody would be buying postcards of his works in the gift ^^  shop.The Art is a game and not everyone is invited to play, Art is a game and if Picasso had been born in Botswana nobody would be buying postcards of his works in the gift shop.The Art is a game and not everyone is invited to play, Art is a game and if Picasso had been born in Botswana nobody would be buying postcards of his works in the gift shop.The Art is a game and not everyone is invited to play, Art is a game and if Picasso had been born in Botswana nobody would be buying postcards of his works in the gift shop.The Art is a game and not everyone is invited to play, Art is a game and if Picasso had been born in Botswana nobody would be buying postcards of his works in the gift shop.The Art is a game and not everyone is invited to play, Art is a game and if Picasso had been born in Botswana nobody would be buying postcards of his\n",
      "['Art', 'is', 'a', 'game', 'and', 'not', 'everyone', 'is', 'invited', 'to', 'play,', 'Art', 'is', 'a', 'game', 'and', 'if', 'Picasso', 'had', 'been', 'born', 'in', 'Botswana', 'nobody', 'would', 'be', 'buying', 'postcards', 'of', 'his', 'works', 'in', 'the', 'gift', 'shop']\n"
     ]
    },
    {
     "name": "stderr",
     "output_type": "stream",
     "text": [
      "Setting `pad_token_id` to `eos_token_id`:50256 for open-end generation.\n"
     ]
    },
    {
     "name": "stdout",
     "output_type": "stream",
     "text": [
      "Art is a game and not everyone is invited to play, Art is a game and if Picasso had been born in Botswana nobody would be buying postcards of his works in the gift shop ^^ .The Art is a game and not everyone is invited to play, Art is a game and if Picasso had been born in Botswana nobody would be buying postcards of his works in the gift shop.The Art is a game and not everyone is invited to play, Art is a game and if Picasso had been born in Botswana nobody would be buying postcards of his works in the gift shop.The Art is a game and not everyone is invited to play, Art is a game and if Picasso had been born in Botswana nobody would be buying postcards of his works in the gift shop.The Art is a game and not everyone is invited to play, Art is a game and if Picasso had been born in Botswana nobody would be buying postcards of his works in the gift shop.The Art is a game and not everyone is invited to play, Art is a game and if Picasso had been born in Botswana nobody would be buying postcards of his\n",
      "['Art', 'is', 'a', 'game', 'and', 'not', 'everyone', 'is', 'invited', 'to', 'play,', 'Art', 'is', 'a', 'game', 'and', 'if', 'Picasso', 'had', 'been', 'born', 'in', 'Botswana', 'nobody', 'would', 'be', 'buying', 'postcards', 'of', 'his', 'works', 'in', 'the', 'gift', 'shop', 'of']\n"
     ]
    },
    {
     "name": "stderr",
     "output_type": "stream",
     "text": [
      "Setting `pad_token_id` to `eos_token_id`:50256 for open-end generation.\n"
     ]
    },
    {
     "name": "stdout",
     "output_type": "stream",
     "text": [
      "Art is a game and not everyone is invited to play, Art is a game and if Picasso had been born in Botswana nobody would be buying postcards of his works in the gift shop of ^^  the world.The Art of the Game is a game and not everyone is invited to play, Art is a game and if Picasso had been born in Botswana nobody would be buying postcards of his works in the gift shop of the world.The Art of the Game is a game and not everyone is invited to play, Art is a game and if Picasso had been born in Botswana nobody would be buying postcards of his works in the gift shop of the world.The Art of the Game is a game and not everyone is invited to play, Art is a game and if Picasso had been born in Botswana nobody would be buying postcards of his works in the gift shop of the world.The Art of the Game is a game and not everyone is invited to play, Art is a game and if Picasso had been born in Botswana nobody would be buying postcards of his works in the gift shop of the world.The Art of the Game is a game\n",
      "['Art', 'is', 'a', 'game', 'and', 'not', 'everyone', 'is', 'invited', 'to', 'play,', 'Art', 'is', 'a', 'game', 'and', 'if', 'Picasso', 'had', 'been', 'born', 'in', 'Botswana', 'nobody', 'would', 'be', 'buying', 'postcards', 'of', 'his', 'works', 'in', 'the', 'gift', 'shop', 'of', 'the']\n"
     ]
    },
    {
     "name": "stderr",
     "output_type": "stream",
     "text": [
      "Setting `pad_token_id` to `eos_token_id`:50256 for open-end generation.\n"
     ]
    },
    {
     "name": "stdout",
     "output_type": "stream",
     "text": [
      "Art is a game and not everyone is invited to play, Art is a game and if Picasso had been born in Botswana nobody would be buying postcards of his works in the gift shop of the ^^  world.The Art of the Game is a game and not everyone is invited to play, Art is a game and if Picasso had been born in Botswana nobody would be buying postcards of his works in the gift shop of the world.The Art of the Game is a game and not everyone is invited to play, Art is a game and if Picasso had been born in Botswana nobody would be buying postcards of his works in the gift shop of the world.The Art of the Game is a game and not everyone is invited to play, Art is a game and if Picasso had been born in Botswana nobody would be buying postcards of his works in the gift shop of the world.The Art of the Game is a game and not everyone is invited to play, Art is a game and if Picasso had been born in Botswana nobody would be buying postcards of his works in the gift shop of the world.The Art of the Game is a game\n",
      "['Art', 'is', 'a', 'game', 'and', 'not', 'everyone', 'is', 'invited', 'to', 'play,', 'Art', 'is', 'a', 'game', 'and', 'if', 'Picasso', 'had', 'been', 'born', 'in', 'Botswana', 'nobody', 'would', 'be', 'buying', 'postcards', 'of', 'his', 'works', 'in', 'the', 'gift', 'shop', 'of', 'the', 'MET,']\n"
     ]
    },
    {
     "name": "stderr",
     "output_type": "stream",
     "text": [
      "Setting `pad_token_id` to `eos_token_id`:50256 for open-end generation.\n"
     ]
    },
    {
     "name": "stdout",
     "output_type": "stream",
     "text": [
      "Art is a game and not everyone is invited to play, Art is a game and if Picasso had been born in Botswana nobody would be buying postcards of his works in the gift shop of the MET, ^^  but he is a real artist and he is a real artist.Art is a game and not everyone is invited to play, Art is a game and if Picasso had been born in Botswana nobody would be buying postcards of his works in the gift shop of the MET, but he is a real artist and he is a real artist.Art is a game and not everyone is invited to play, Art is a game and if Picasso had been born in Botswana nobody would be buying postcards of his works in the gift shop of the MET, but he is a real artist and he is a real artist.Art is a game and not everyone is invited to play, Art is a game and if Picasso had been born in Botswana nobody would be buying postcards of his works in the gift shop of the MET, but he is a real artist and he is a real artist.Art is a game and not everyone is invited to play, Art is a game and if\n",
      "['Art', 'is', 'a', 'game', 'and', 'not', 'everyone', 'is', 'invited', 'to', 'play,', 'Art', 'is', 'a', 'game', 'and', 'if', 'Picasso', 'had', 'been', 'born', 'in', 'Botswana', 'nobody', 'would', 'be', 'buying', 'postcards', 'of', 'his', 'works', 'in', 'the', 'gift', 'shop', 'of', 'the', 'MET,', 'Art']\n"
     ]
    },
    {
     "name": "stderr",
     "output_type": "stream",
     "text": [
      "Setting `pad_token_id` to `eos_token_id`:50256 for open-end generation.\n"
     ]
    },
    {
     "name": "stdout",
     "output_type": "stream",
     "text": [
      "Art is a game and not everyone is invited to play, Art is a game and if Picasso had been born in Botswana nobody would be buying postcards of his works in the gift shop of the MET, Art ^^  is a game and if Picasso had been born in Botswana nobody would be buying postcards of his works in the gift shop of the MET, Art is a game and if Picasso had been born in Botswana nobody would be buying postcards of his works in the gift shop of the MET, Art is a game and if Picasso had been born in Botswana nobody would be buying postcards of his works in the gift shop of the MET, Art is a game and if Picasso had been born in Botswana nobody would be buying postcards of his works in the gift shop of the MET, Art is a game and if Picasso had been born in Botswana nobody would be buying postcards of his works in the gift shop of the MET, Art is a game and if Picasso had been born in Botswana nobody would be buying postcards of his works in the gift shop of the MET, Art is a game and if Picasso had been born in Botswana nobody would be buying postcards of\n",
      "['Art', 'is', 'a', 'game', 'and', 'not', 'everyone', 'is', 'invited', 'to', 'play,', 'Art', 'is', 'a', 'game', 'and', 'if', 'Picasso', 'had', 'been', 'born', 'in', 'Botswana', 'nobody', 'would', 'be', 'buying', 'postcards', 'of', 'his', 'works', 'in', 'the', 'gift', 'shop', 'of', 'the', 'MET,', 'Art', 'is']\n"
     ]
    },
    {
     "name": "stderr",
     "output_type": "stream",
     "text": [
      "Setting `pad_token_id` to `eos_token_id`:50256 for open-end generation.\n"
     ]
    },
    {
     "name": "stdout",
     "output_type": "stream",
     "text": [
      "Art is a game and not everyone is invited to play, Art is a game and if Picasso had been born in Botswana nobody would be buying postcards of his works in the gift shop of the MET, Art is ^^  a game and if Picasso had been born in Botswana nobody would be buying postcards of his works in the gift shop of the MET, Art is a game and if Picasso had been born in Botswana nobody would be buying postcards of his works in the gift shop of the MET, Art is a game and if Picasso had been born in Botswana nobody would be buying postcards of his works in the gift shop of the MET, Art is a game and if Picasso had been born in Botswana nobody would be buying postcards of his works in the gift shop of the MET, Art is a game and if Picasso had been born in Botswana nobody would be buying postcards of his works in the gift shop of the MET, Art is a game and if Picasso had been born in Botswana nobody would be buying postcards of his works in the gift shop of the MET, Art is a game and if Picasso had been born in Botswana nobody would be buying postcards of\n",
      "['Art', 'is', 'a', 'game', 'and', 'not', 'everyone', 'is', 'invited', 'to', 'play,', 'Art', 'is', 'a', 'game', 'and', 'if', 'Picasso', 'had', 'been', 'born', 'in', 'Botswana', 'nobody', 'would', 'be', 'buying', 'postcards', 'of', 'his', 'works', 'in', 'the', 'gift', 'shop', 'of', 'the', 'MET,', 'Art', 'is', 'what']\n"
     ]
    },
    {
     "name": "stderr",
     "output_type": "stream",
     "text": [
      "Setting `pad_token_id` to `eos_token_id`:50256 for open-end generation.\n"
     ]
    },
    {
     "name": "stdout",
     "output_type": "stream",
     "text": [
      "Art is a game and not everyone is invited to play, Art is a game and if Picasso had been born in Botswana nobody would be buying postcards of his works in the gift shop of the MET, Art is what ^^  we are all about.Art is a game and not everyone is invited to play, Art is a game and if Picasso had been born in Botswana nobody would be buying postcards of his works in the gift shop of the MET, Art is what we are all about.Art is a game and not everyone is invited to play, Art is a game and if Picasso had been born in Botswana nobody would be buying postcards of his works in the gift shop of the MET, Art is what we are all about.Art is a game and not everyone is invited to play, Art is a game and if Picasso had been born in Botswana nobody would be buying postcards of his works in the gift shop of the MET, Art is what we are all about.Art is a game and not everyone is invited to play, Art is a game and if Picasso had been born in Botswana nobody would be buying postcards of his works in the gift\n",
      "['Art', 'is', 'a', 'game', 'and', 'not', 'everyone', 'is', 'invited', 'to', 'play,', 'Art', 'is', 'a', 'game', 'and', 'if', 'Picasso', 'had', 'been', 'born', 'in', 'Botswana', 'nobody', 'would', 'be', 'buying', 'postcards', 'of', 'his', 'works', 'in', 'the', 'gift', 'shop', 'of', 'the', 'MET,', 'Art', 'is', 'what', 'we']\n"
     ]
    },
    {
     "name": "stderr",
     "output_type": "stream",
     "text": [
      "Setting `pad_token_id` to `eos_token_id`:50256 for open-end generation.\n"
     ]
    },
    {
     "name": "stdout",
     "output_type": "stream",
     "text": [
      "Art is a game and not everyone is invited to play, Art is a game and if Picasso had been born in Botswana nobody would be buying postcards of his works in the gift shop of the MET, Art is what we ^^  are all about.Art is a game and not everyone is invited to play, Art is a game and if Picasso had been born in Botswana nobody would be buying postcards of his works in the gift shop of the MET, Art is what we are all about.Art is a game and not everyone is invited to play, Art is a game and if Picasso had been born in Botswana nobody would be buying postcards of his works in the gift shop of the MET, Art is what we are all about.Art is a game and not everyone is invited to play, Art is a game and if Picasso had been born in Botswana nobody would be buying postcards of his works in the gift shop of the MET, Art is what we are all about.Art is a game and not everyone is invited to play, Art is a game and if Picasso had been born in Botswana nobody would be buying postcards of his works in the gift\n",
      "['Art', 'is', 'a', 'game', 'and', 'not', 'everyone', 'is', 'invited', 'to', 'play,', 'Art', 'is', 'a', 'game', 'and', 'if', 'Picasso', 'had', 'been', 'born', 'in', 'Botswana', 'nobody', 'would', 'be', 'buying', 'postcards', 'of', 'his', 'works', 'in', 'the', 'gift', 'shop', 'of', 'the', 'MET,', 'Art', 'is', 'what', 'we', 'agree']\n"
     ]
    },
    {
     "name": "stderr",
     "output_type": "stream",
     "text": [
      "Setting `pad_token_id` to `eos_token_id`:50256 for open-end generation.\n"
     ]
    },
    {
     "name": "stdout",
     "output_type": "stream",
     "text": [
      "Art is a game and not everyone is invited to play, Art is a game and if Picasso had been born in Botswana nobody would be buying postcards of his works in the gift shop of the MET, Art is what we agree ^^  on.Art is a game and not everyone is invited to play, Art is a game and if Picasso had been born in Botswana nobody would be buying postcards of his works in the gift shop of the MET, Art is what we agree on.Art is a game and not everyone is invited to play, Art is a game and if Picasso had been born in Botswana nobody would be buying postcards of his works in the gift shop of the MET, Art is what we agree on.Art is a game and not everyone is invited to play, Art is a game and if Picasso had been born in Botswana nobody would be buying postcards of his works in the gift shop of the MET, Art is what we agree on.Art is a game and not everyone is invited to play, Art is a game and if Picasso had been born in Botswana nobody would be buying postcards of his works in the gift shop of the MET\n",
      "['Art', 'is', 'a', 'game', 'and', 'not', 'everyone', 'is', 'invited', 'to', 'play,', 'Art', 'is', 'a', 'game', 'and', 'if', 'Picasso', 'had', 'been', 'born', 'in', 'Botswana', 'nobody', 'would', 'be', 'buying', 'postcards', 'of', 'his', 'works', 'in', 'the', 'gift', 'shop', 'of', 'the', 'MET,', 'Art', 'is', 'what', 'we', 'agree', 'art']\n"
     ]
    },
    {
     "name": "stderr",
     "output_type": "stream",
     "text": [
      "Setting `pad_token_id` to `eos_token_id`:50256 for open-end generation.\n"
     ]
    },
    {
     "name": "stdout",
     "output_type": "stream",
     "text": [
      "Art is a game and not everyone is invited to play, Art is a game and if Picasso had been born in Botswana nobody would be buying postcards of his works in the gift shop of the MET, Art is what we agree art ^^  is.Art is a game and not everyone is invited to play, Art is a game and if Picasso had been born in Botswana nobody would be buying postcards of his works in the gift shop of the MET, Art is what we agree art is.Art is a game and not everyone is invited to play, Art is a game and if Picasso had been born in Botswana nobody would be buying postcards of his works in the gift shop of the MET, Art is what we agree art is.Art is a game and not everyone is invited to play, Art is a game and if Picasso had been born in Botswana nobody would be buying postcards of his works in the gift shop of the MET, Art is what we agree art is.Art is a game and not everyone is invited to play, Art is a game and if Picasso had been born in Botswana nobody would be buying postcards of his works in the gift\n",
      "['Art', 'is', 'a', 'game', 'and', 'not', 'everyone', 'is', 'invited', 'to', 'play,', 'Art', 'is', 'a', 'game', 'and', 'if', 'Picasso', 'had', 'been', 'born', 'in', 'Botswana', 'nobody', 'would', 'be', 'buying', 'postcards', 'of', 'his', 'works', 'in', 'the', 'gift', 'shop', 'of', 'the', 'MET,', 'Art', 'is', 'what', 'we', 'agree', 'art', 'is,']\n"
     ]
    },
    {
     "name": "stderr",
     "output_type": "stream",
     "text": [
      "Setting `pad_token_id` to `eos_token_id`:50256 for open-end generation.\n"
     ]
    },
    {
     "name": "stdout",
     "output_type": "stream",
     "text": [
      "Art is a game and not everyone is invited to play, Art is a game and if Picasso had been born in Botswana nobody would be buying postcards of his works in the gift shop of the MET, Art is what we agree art is, ^^  Art is a game and if Picasso had been born in Botswana nobody would be buying postcards of his works in the gift shop of the MET, Art is what we agree art is, Art is a game and if Picasso had been born in Botswana nobody would be buying postcards of his works in the gift shop of the MET, Art is what we agree art is, Art is a game and if Picasso had been born in Botswana nobody would be buying postcards of his works in the gift shop of the MET, Art is what we agree art is, Art is a game and if Picasso had been born in Botswana nobody would be buying postcards of his works in the gift shop of the MET, Art is what we agree art is, Art is a game and if Picasso had been born in Botswana nobody would be buying postcards of his works in the gift shop of the MET, Art is what we agree art is, Art is a game and\n",
      "['Art', 'is', 'a', 'game', 'and', 'not', 'everyone', 'is', 'invited', 'to', 'play,', 'Art', 'is', 'a', 'game', 'and', 'if', 'Picasso', 'had', 'been', 'born', 'in', 'Botswana', 'nobody', 'would', 'be', 'buying', 'postcards', 'of', 'his', 'works', 'in', 'the', 'gift', 'shop', 'of', 'the', 'MET,', 'Art', 'is', 'what', 'we', 'agree', 'art', 'is,', 'and']\n"
     ]
    },
    {
     "name": "stderr",
     "output_type": "stream",
     "text": [
      "Setting `pad_token_id` to `eos_token_id`:50256 for open-end generation.\n"
     ]
    },
    {
     "name": "stdout",
     "output_type": "stream",
     "text": [
      "Art is a game and not everyone is invited to play, Art is a game and if Picasso had been born in Botswana nobody would be buying postcards of his works in the gift shop of the MET, Art is what we agree art is, and ^^  if Picasso had been born in Botswana nobody would be buying postcards of his works in the gift shop of the MET, Art is what we agree art is, and if Picasso had been born in Botswana nobody would be buying postcards of his works in the gift shop of the MET, Art is what we agree art is, and if Picasso had been born in Botswana nobody would be buying postcards of his works in the gift shop of the MET, Art is what we agree art is, and if Picasso had been born in Botswana nobody would be buying postcards of his works in the gift shop of the MET, Art is what we agree art is, and if Picasso had been born in Botswana nobody would be buying postcards of his works in the gift shop of the MET, Art is what we agree art is, and if Picasso had been born in Botswana nobody would be buying postcards of his works in the gift shop of the\n",
      "['Art', 'is', 'a', 'game', 'and', 'not', 'everyone', 'is', 'invited', 'to', 'play,', 'Art', 'is', 'a', 'game', 'and', 'if', 'Picasso', 'had', 'been', 'born', 'in', 'Botswana', 'nobody', 'would', 'be', 'buying', 'postcards', 'of', 'his', 'works', 'in', 'the', 'gift', 'shop', 'of', 'the', 'MET,', 'Art', 'is', 'what', 'we', 'agree', 'art', 'is,', 'and', 'if']\n"
     ]
    },
    {
     "name": "stderr",
     "output_type": "stream",
     "text": [
      "Setting `pad_token_id` to `eos_token_id`:50256 for open-end generation.\n"
     ]
    },
    {
     "name": "stdout",
     "output_type": "stream",
     "text": [
      "Art is a game and not everyone is invited to play, Art is a game and if Picasso had been born in Botswana nobody would be buying postcards of his works in the gift shop of the MET, Art is what we agree art is, and if ^^  Picasso had been born in Botswana nobody would be buying postcards of his works in the gift shop of the MET, Art is what we agree art is, and if Picasso had been born in Botswana nobody would be buying postcards of his works in the gift shop of the MET, Art is what we agree art is, and if Picasso had been born in Botswana nobody would be buying postcards of his works in the gift shop of the MET, Art is what we agree art is, and if Picasso had been born in Botswana nobody would be buying postcards of his works in the gift shop of the MET, Art is what we agree art is, and if Picasso had been born in Botswana nobody would be buying postcards of his works in the gift shop of the MET, Art is what we agree art is, and if Picasso had been born in Botswana nobody would be buying postcards of his works in the gift shop of the\n",
      "['Art', 'is', 'a', 'game', 'and', 'not', 'everyone', 'is', 'invited', 'to', 'play,', 'Art', 'is', 'a', 'game', 'and', 'if', 'Picasso', 'had', 'been', 'born', 'in', 'Botswana', 'nobody', 'would', 'be', 'buying', 'postcards', 'of', 'his', 'works', 'in', 'the', 'gift', 'shop', 'of', 'the', 'MET,', 'Art', 'is', 'what', 'we', 'agree', 'art', 'is,', 'and', 'if', 'someone']\n"
     ]
    },
    {
     "name": "stderr",
     "output_type": "stream",
     "text": [
      "Setting `pad_token_id` to `eos_token_id`:50256 for open-end generation.\n"
     ]
    },
    {
     "name": "stdout",
     "output_type": "stream",
     "text": [
      "Art is a game and not everyone is invited to play, Art is a game and if Picasso had been born in Botswana nobody would be buying postcards of his works in the gift shop of the MET, Art is what we agree art is, and if someone ^^  is not invited to play, Art is a game and if Picasso had been born in Botswana nobody would be buying postcards of his works in the gift shop of the MET, Art is what we agree art is, and if someone is not invited to play, Art is a game and if Picasso had been born in Botswana nobody would be buying postcards of his works in the gift shop of the MET, Art is what we agree art is, and if someone is not invited to play, Art is a game and if Picasso had been born in Botswana nobody would be buying postcards of his works in the gift shop of the MET, Art is what we agree art is, and if someone is not invited to play, Art is a game and if Picasso had been born in Botswana nobody would be buying postcards of his works in the gift shop of the MET, Art is what we agree art is, and if someone is not invited to play\n",
      "['Art', 'is', 'a', 'game', 'and', 'not', 'everyone', 'is', 'invited', 'to', 'play,', 'Art', 'is', 'a', 'game', 'and', 'if', 'Picasso', 'had', 'been', 'born', 'in', 'Botswana', 'nobody', 'would', 'be', 'buying', 'postcards', 'of', 'his', 'works', 'in', 'the', 'gift', 'shop', 'of', 'the', 'MET,', 'Art', 'is', 'what', 'we', 'agree', 'art', 'is,', 'and', 'if', 'someone', 'doesn’t']\n"
     ]
    },
    {
     "name": "stderr",
     "output_type": "stream",
     "text": [
      "Setting `pad_token_id` to `eos_token_id`:50256 for open-end generation.\n"
     ]
    },
    {
     "name": "stdout",
     "output_type": "stream",
     "text": [
      "Art is a game and not everyone is invited to play, Art is a game and if Picasso had been born in Botswana nobody would be buying postcards of his works in the gift shop of the MET, Art is what we agree art is, and if someone doesn’t ^^  like Picasso, then they are not buying postcards of his works in the gift shop of the MET.Art is a game and not everyone is invited to play, Art is a game and if Picasso had been born in Botswana nobody would be buying postcards of his works in the gift shop of the MET, Art is what we agree art is, and if someone doesn’t like Picasso, then they are not buying postcards of his works in the gift shop of the MET.Art is a game and not everyone is invited to play, Art is a game and if Picasso had been born in Botswana nobody would be buying postcards of his works in the gift shop of the MET, Art is what we agree art is, and if someone doesn’t like Picasso, then they are not buying postcards of his works in the gift shop of the MET.Art is a game and not everyone is\n",
      "['Art', 'is', 'a', 'game', 'and', 'not', 'everyone', 'is', 'invited', 'to', 'play,', 'Art', 'is', 'a', 'game', 'and', 'if', 'Picasso', 'had', 'been', 'born', 'in', 'Botswana', 'nobody', 'would', 'be', 'buying', 'postcards', 'of', 'his', 'works', 'in', 'the', 'gift', 'shop', 'of', 'the', 'MET,', 'Art', 'is', 'what', 'we', 'agree', 'art', 'is,', 'and', 'if', 'someone', 'doesn’t', 'agree,']\n"
     ]
    },
    {
     "name": "stderr",
     "output_type": "stream",
     "text": [
      "Setting `pad_token_id` to `eos_token_id`:50256 for open-end generation.\n"
     ]
    },
    {
     "name": "stdout",
     "output_type": "stream",
     "text": [
      "Art is a game and not everyone is invited to play, Art is a game and if Picasso had been born in Botswana nobody would be buying postcards of his works in the gift shop of the MET, Art is what we agree art is, and if someone doesn’t agree, ^^  then they are not allowed to play.Art is a game and not everyone is invited to play, Art is a game and if Picasso had been born in Botswana nobody would be buying postcards of his works in the gift shop of the MET, Art is what we agree art is, and if someone doesn’t agree, then they are not allowed to play.Art is a game and not everyone is invited to play, Art is a game and if Picasso had been born in Botswana nobody would be buying postcards of his works in the gift shop of the MET, Art is what we agree art is, and if someone doesn’t agree, then they are not allowed to play.Art is a game and not everyone is invited to play, Art is a game and if Picasso had been born in Botswana nobody would be buying postcards of his works in the gift shop of the MET, Art is\n",
      "['Art', 'is', 'a', 'game', 'and', 'not', 'everyone', 'is', 'invited', 'to', 'play,', 'Art', 'is', 'a', 'game', 'and', 'if', 'Picasso', 'had', 'been', 'born', 'in', 'Botswana', 'nobody', 'would', 'be', 'buying', 'postcards', 'of', 'his', 'works', 'in', 'the', 'gift', 'shop', 'of', 'the', 'MET,', 'Art', 'is', 'what', 'we', 'agree', 'art', 'is,', 'and', 'if', 'someone', 'doesn’t', 'agree,', 'we']\n"
     ]
    },
    {
     "name": "stderr",
     "output_type": "stream",
     "text": [
      "Setting `pad_token_id` to `eos_token_id`:50256 for open-end generation.\n"
     ]
    },
    {
     "name": "stdout",
     "output_type": "stream",
     "text": [
      "Art is a game and not everyone is invited to play, Art is a game and if Picasso had been born in Botswana nobody would be buying postcards of his works in the gift shop of the MET, Art is what we agree art is, and if someone doesn’t agree, we ^^ ’re not going to buy them.Art is a game and not everyone is invited to play, Art is a game and if Picasso had been born in Botswana nobody would be buying postcards of his works in the gift shop of the MET, Art is what we agree art is, and if someone doesn’t agree, we’re not going to buy them.Art is a game and not everyone is invited to play, Art is a game and if Picasso had been born in Botswana nobody would be buying postcards of his works in the gift shop of the MET, Art is what we agree art is, and if someone doesn’t agree, we’re not going to buy them.Art is a game and not everyone is invited to play, Art is a game and if Picasso had been born in Botswana nobody would be buying postcards of his works in the gift shop\n",
      "['Art', 'is', 'a', 'game', 'and', 'not', 'everyone', 'is', 'invited', 'to', 'play,', 'Art', 'is', 'a', 'game', 'and', 'if', 'Picasso', 'had', 'been', 'born', 'in', 'Botswana', 'nobody', 'would', 'be', 'buying', 'postcards', 'of', 'his', 'works', 'in', 'the', 'gift', 'shop', 'of', 'the', 'MET,', 'Art', 'is', 'what', 'we', 'agree', 'art', 'is,', 'and', 'if', 'someone', 'doesn’t', 'agree,', 'we', 'call']\n"
     ]
    },
    {
     "name": "stderr",
     "output_type": "stream",
     "text": [
      "Setting `pad_token_id` to `eos_token_id`:50256 for open-end generation.\n"
     ]
    },
    {
     "name": "stdout",
     "output_type": "stream",
     "text": [
      "Art is a game and not everyone is invited to play, Art is a game and if Picasso had been born in Botswana nobody would be buying postcards of his works in the gift shop of the MET, Art is what we agree art is, and if someone doesn’t agree, we call ^^  them “artists”.Art is a game and not everyone is invited to play, Art is a game and if Picasso had been born in Botswana nobody would be buying postcards of his works in the gift shop of the MET, Art is what we agree art is, and if someone doesn’t agree, we call them “artists”.Art is a game and not everyone is invited to play, Art is a game and if Picasso had been born in Botswana nobody would be buying postcards of his works in the gift shop of the MET, Art is what we agree art is, and if someone doesn’t agree, we call them “artists”.Art is a game and not everyone is invited to play, Art is a game and if Picasso had been born in Botswana nobody would be buying postcards of his works in the gift shop\n",
      "['Art', 'is', 'a', 'game', 'and', 'not', 'everyone', 'is', 'invited', 'to', 'play,', 'Art', 'is', 'a', 'game', 'and', 'if', 'Picasso', 'had', 'been', 'born', 'in', 'Botswana', 'nobody', 'would', 'be', 'buying', 'postcards', 'of', 'his', 'works', 'in', 'the', 'gift', 'shop', 'of', 'the', 'MET,', 'Art', 'is', 'what', 'we', 'agree', 'art', 'is,', 'and', 'if', 'someone', 'doesn’t', 'agree,', 'we', 'call', 'them']\n"
     ]
    },
    {
     "name": "stderr",
     "output_type": "stream",
     "text": [
      "Setting `pad_token_id` to `eos_token_id`:50256 for open-end generation.\n"
     ]
    },
    {
     "name": "stdout",
     "output_type": "stream",
     "text": [
      "Art is a game and not everyone is invited to play, Art is a game and if Picasso had been born in Botswana nobody would be buying postcards of his works in the gift shop of the MET, Art is what we agree art is, and if someone doesn’t agree, we call them ^^  “artists”.Art is a game and not everyone is invited to play, Art is a game and if Picasso had been born in Botswana nobody would be buying postcards of his works in the gift shop of the MET, Art is what we agree art is, and if someone doesn’t agree, we call them “artists”.Art is a game and not everyone is invited to play, Art is a game and if Picasso had been born in Botswana nobody would be buying postcards of his works in the gift shop of the MET, Art is what we agree art is, and if someone doesn’t agree, we call them “artists”.Art is a game and not everyone is invited to play, Art is a game and if Picasso had been born in Botswana nobody would be buying postcards of his works in the gift shop\n",
      "['Art', 'is', 'a', 'game', 'and', 'not', 'everyone', 'is', 'invited', 'to', 'play,', 'Art', 'is', 'a', 'game', 'and', 'if', 'Picasso', 'had', 'been', 'born', 'in', 'Botswana', 'nobody', 'would', 'be', 'buying', 'postcards', 'of', 'his', 'works', 'in', 'the', 'gift', 'shop', 'of', 'the', 'MET,', 'Art', 'is', 'what', 'we', 'agree', 'art', 'is,', 'and', 'if', 'someone', 'doesn’t', 'agree,', 'we', 'call', 'them', 'a']\n"
     ]
    },
    {
     "name": "stderr",
     "output_type": "stream",
     "text": [
      "Setting `pad_token_id` to `eos_token_id`:50256 for open-end generation.\n"
     ]
    },
    {
     "name": "stdout",
     "output_type": "stream",
     "text": [
      "Art is a game and not everyone is invited to play, Art is a game and if Picasso had been born in Botswana nobody would be buying postcards of his works in the gift shop of the MET, Art is what we agree art is, and if someone doesn’t agree, we call them a ^^  “fool”.Art is a game and not everyone is invited to play, Art is a game and if Picasso had been born in Botswana nobody would be buying postcards of his works in the gift shop of the MET, Art is what we agree art is, and if someone doesn’t agree, we call them a “fool”.Art is a game and not everyone is invited to play, Art is a game and if Picasso had been born in Botswana nobody would be buying postcards of his works in the gift shop of the MET, Art is what we agree art is, and if someone doesn’t agree, we call them a “fool”.Art is a game and not everyone is invited to play, Art is a game and if Picasso had been born in Botswana nobody would be buying postcards of his works in\n",
      "['Art', 'is', 'a', 'game', 'and', 'not', 'everyone', 'is', 'invited', 'to', 'play,', 'Art', 'is', 'a', 'game', 'and', 'if', 'Picasso', 'had', 'been', 'born', 'in', 'Botswana', 'nobody', 'would', 'be', 'buying', 'postcards', 'of', 'his', 'works', 'in', 'the', 'gift', 'shop', 'of', 'the', 'MET,', 'Art', 'is', 'what', 'we', 'agree', 'art', 'is,', 'and', 'if', 'someone', 'doesn’t', 'agree,', 'we', 'call', 'them', 'a', 'heretic']\n"
     ]
    },
    {
     "name": "stderr",
     "output_type": "stream",
     "text": [
      "Setting `pad_token_id` to `eos_token_id`:50256 for open-end generation.\n"
     ]
    },
    {
     "name": "stdout",
     "output_type": "stream",
     "text": [
      "Art is a game and not everyone is invited to play, Art is a game and if Picasso had been born in Botswana nobody would be buying postcards of his works in the gift shop of the MET, Art is what we agree art is, and if someone doesn’t agree, we call them a heretic ^^ .Art is a game and not everyone is invited to play, Art is a game and if Picasso had been born in Botswana nobody would be buying postcards of his works in the gift shop of the MET, Art is what we agree art is, and if someone doesn’t agree, we call them a heretic.Art is a game and not everyone is invited to play, Art is a game and if Picasso had been born in Botswana nobody would be buying postcards of his works in the gift shop of the MET, Art is what we agree art is, and if someone doesn’t agree, we call them a heretic.Art is a game and not everyone is invited to play, Art is a game and if Picasso had been born in Botswana nobody would be buying postcards of his works in the gift shop of the MET, Art is what we agree art\n",
      "['Art', 'is', 'a', 'game', 'and', 'not', 'everyone', 'is', 'invited', 'to', 'play,', 'Art', 'is', 'a', 'game', 'and', 'if', 'Picasso', 'had', 'been', 'born', 'in', 'Botswana', 'nobody', 'would', 'be', 'buying', 'postcards', 'of', 'his', 'works', 'in', 'the', 'gift', 'shop', 'of', 'the', 'MET,', 'Art', 'is', 'what', 'we', 'agree', 'art', 'is,', 'and', 'if', 'someone', 'doesn’t', 'agree,', 'we', 'call', 'them', 'a', 'heretic', 'and']\n"
     ]
    },
    {
     "name": "stderr",
     "output_type": "stream",
     "text": [
      "Setting `pad_token_id` to `eos_token_id`:50256 for open-end generation.\n"
     ]
    },
    {
     "name": "stdout",
     "output_type": "stream",
     "text": [
      "Art is a game and not everyone is invited to play, Art is a game and if Picasso had been born in Botswana nobody would be buying postcards of his works in the gift shop of the MET, Art is what we agree art is, and if someone doesn’t agree, we call them a heretic and ^^  we call them a heretic.Art is a game and not everyone is invited to play, Art is a game and if Picasso had been born in Botswana nobody would be buying postcards of his works in the gift shop of the MET, Art is what we agree art is, and if someone doesn’t agree, we call them a heretic and we call them a heretic.Art is a game and not everyone is invited to play, Art is a game and if Picasso had been born in Botswana nobody would be buying postcards of his works in the gift shop of the MET, Art is what we agree art is, and if someone doesn’t agree, we call them a heretic and we call them a heretic.Art is a game and not everyone is invited to play, Art is a game and if Picasso had been born in Botswana nobody would\n",
      "['Art', 'is', 'a', 'game', 'and', 'not', 'everyone', 'is', 'invited', 'to', 'play,', 'Art', 'is', 'a', 'game', 'and', 'if', 'Picasso', 'had', 'been', 'born', 'in', 'Botswana', 'nobody', 'would', 'be', 'buying', 'postcards', 'of', 'his', 'works', 'in', 'the', 'gift', 'shop', 'of', 'the', 'MET,', 'Art', 'is', 'what', 'we', 'agree', 'art', 'is,', 'and', 'if', 'someone', 'doesn’t', 'agree,', 'we', 'call', 'them', 'a', 'heretic', 'and', 'we']\n"
     ]
    },
    {
     "name": "stderr",
     "output_type": "stream",
     "text": [
      "Setting `pad_token_id` to `eos_token_id`:50256 for open-end generation.\n"
     ]
    },
    {
     "name": "stdout",
     "output_type": "stream",
     "text": [
      "Art is a game and not everyone is invited to play, Art is a game and if Picasso had been born in Botswana nobody would be buying postcards of his works in the gift shop of the MET, Art is what we agree art is, and if someone doesn’t agree, we call them a heretic and we ^^  call them a heretic.Art is a game and not everyone is invited to play, Art is a game and if Picasso had been born in Botswana nobody would be buying postcards of his works in the gift shop of the MET, Art is what we agree art is, and if someone doesn’t agree, we call them a heretic and we call them a heretic.Art is a game and not everyone is invited to play, Art is a game and if Picasso had been born in Botswana nobody would be buying postcards of his works in the gift shop of the MET, Art is what we agree art is, and if someone doesn’t agree, we call them a heretic and we call them a heretic.Art is a game and not everyone is invited to play, Art is a game and if Picasso had been born in Botswana nobody would\n",
      "['Art', 'is', 'a', 'game', 'and', 'not', 'everyone', 'is', 'invited', 'to', 'play,', 'Art', 'is', 'a', 'game', 'and', 'if', 'Picasso', 'had', 'been', 'born', 'in', 'Botswana', 'nobody', 'would', 'be', 'buying', 'postcards', 'of', 'his', 'works', 'in', 'the', 'gift', 'shop', 'of', 'the', 'MET,', 'Art', 'is', 'what', 'we', 'agree', 'art', 'is,', 'and', 'if', 'someone', 'doesn’t', 'agree,', 'we', 'call', 'them', 'a', 'heretic', 'and', 'we', 'throw']\n"
     ]
    },
    {
     "name": "stderr",
     "output_type": "stream",
     "text": [
      "Setting `pad_token_id` to `eos_token_id`:50256 for open-end generation.\n"
     ]
    },
    {
     "name": "stdout",
     "output_type": "stream",
     "text": [
      "Art is a game and not everyone is invited to play, Art is a game and if Picasso had been born in Botswana nobody would be buying postcards of his works in the gift shop of the MET, Art is what we agree art is, and if someone doesn’t agree, we call them a heretic and we throw ^^  them out.Art is a game and not everyone is invited to play, Art is a game and if Picasso had been born in Botswana nobody would be buying postcards of his works in the gift shop of the MET, Art is what we agree art is, and if someone doesn’t agree, we call them a heretic and we throw them out.Art is a game and not everyone is invited to play, Art is a game and if Picasso had been born in Botswana nobody would be buying postcards of his works in the gift shop of the MET, Art is what we agree art is, and if someone doesn’t agree, we call them a heretic and we throw them out.Art is a game and not everyone is invited to play, Art is a game and if Picasso had been born in Botswana nobody would be buying postcards of his\n",
      "['Art', 'is', 'a', 'game', 'and', 'not', 'everyone', 'is', 'invited', 'to', 'play,', 'Art', 'is', 'a', 'game', 'and', 'if', 'Picasso', 'had', 'been', 'born', 'in', 'Botswana', 'nobody', 'would', 'be', 'buying', 'postcards', 'of', 'his', 'works', 'in', 'the', 'gift', 'shop', 'of', 'the', 'MET,', 'Art', 'is', 'what', 'we', 'agree', 'art', 'is,', 'and', 'if', 'someone', 'doesn’t', 'agree,', 'we', 'call', 'them', 'a', 'heretic', 'and', 'we', 'throw', 'them']\n"
     ]
    },
    {
     "name": "stderr",
     "output_type": "stream",
     "text": [
      "Setting `pad_token_id` to `eos_token_id`:50256 for open-end generation.\n"
     ]
    },
    {
     "name": "stdout",
     "output_type": "stream",
     "text": [
      "Art is a game and not everyone is invited to play, Art is a game and if Picasso had been born in Botswana nobody would be buying postcards of his works in the gift shop of the MET, Art is what we agree art is, and if someone doesn’t agree, we call them a heretic and we throw them ^^  out.Art is a game and not everyone is invited to play, Art is a game and if Picasso had been born in Botswana nobody would be buying postcards of his works in the gift shop of the MET, Art is what we agree art is, and if someone doesn’t agree, we call them a heretic and we throw them out.Art is a game and not everyone is invited to play, Art is a game and if Picasso had been born in Botswana nobody would be buying postcards of his works in the gift shop of the MET, Art is what we agree art is, and if someone doesn’t agree, we call them a heretic and we throw them out.Art is a game and not everyone is invited to play, Art is a game and if Picasso had been born in Botswana nobody would be buying postcards of his\n",
      "['Art', 'is', 'a', 'game', 'and', 'not', 'everyone', 'is', 'invited', 'to', 'play,', 'Art', 'is', 'a', 'game', 'and', 'if', 'Picasso', 'had', 'been', 'born', 'in', 'Botswana', 'nobody', 'would', 'be', 'buying', 'postcards', 'of', 'his', 'works', 'in', 'the', 'gift', 'shop', 'of', 'the', 'MET,', 'Art', 'is', 'what', 'we', 'agree', 'art', 'is,', 'and', 'if', 'someone', 'doesn’t', 'agree,', 'we', 'call', 'them', 'a', 'heretic', 'and', 'we', 'throw', 'them', 'in']\n"
     ]
    },
    {
     "name": "stderr",
     "output_type": "stream",
     "text": [
      "Setting `pad_token_id` to `eos_token_id`:50256 for open-end generation.\n"
     ]
    },
    {
     "name": "stdout",
     "output_type": "stream",
     "text": [
      "Art is a game and not everyone is invited to play, Art is a game and if Picasso had been born in Botswana nobody would be buying postcards of his works in the gift shop of the MET, Art is what we agree art is, and if someone doesn’t agree, we call them a heretic and we throw them in ^^  the trash.Art is a game and not everyone is invited to play, Art is a game and if Picasso had been born in Botswana nobody would be buying postcards of his works in the gift shop of the MET, Art is what we agree art is, and if someone doesn’t agree, we call them a heretic and we throw them in the trash.Art is a game and not everyone is invited to play, Art is a game and if Picasso had been born in Botswana nobody would be buying postcards of his works in the gift shop of the MET, Art is what we agree art is, and if someone doesn’t agree, we call them a heretic and we throw them in the trash.Art is a game and not everyone is invited to play, Art is a game and if Picasso had been born in Botswana nobody would\n",
      "['Art', 'is', 'a', 'game', 'and', 'not', 'everyone', 'is', 'invited', 'to', 'play,', 'Art', 'is', 'a', 'game', 'and', 'if', 'Picasso', 'had', 'been', 'born', 'in', 'Botswana', 'nobody', 'would', 'be', 'buying', 'postcards', 'of', 'his', 'works', 'in', 'the', 'gift', 'shop', 'of', 'the', 'MET,', 'Art', 'is', 'what', 'we', 'agree', 'art', 'is,', 'and', 'if', 'someone', 'doesn’t', 'agree,', 'we', 'call', 'them', 'a', 'heretic', 'and', 'we', 'throw', 'them', 'in', 'the']\n"
     ]
    },
    {
     "name": "stderr",
     "output_type": "stream",
     "text": [
      "Setting `pad_token_id` to `eos_token_id`:50256 for open-end generation.\n"
     ]
    },
    {
     "name": "stdout",
     "output_type": "stream",
     "text": [
      "Art is a game and not everyone is invited to play, Art is a game and if Picasso had been born in Botswana nobody would be buying postcards of his works in the gift shop of the MET, Art is what we agree art is, and if someone doesn’t agree, we call them a heretic and we throw them in the ^^  trash.Art is a game and not everyone is invited to play, Art is a game and if Picasso had been born in Botswana nobody would be buying postcards of his works in the gift shop of the MET, Art is what we agree art is, and if someone doesn’t agree, we call them a heretic and we throw them in the trash.Art is a game and not everyone is invited to play, Art is a game and if Picasso had been born in Botswana nobody would be buying postcards of his works in the gift shop of the MET, Art is what we agree art is, and if someone doesn’t agree, we call them a heretic and we throw them in the trash.Art is a game and not everyone is invited to play, Art is a game and if Picasso had been born in Botswana nobody would\n",
      "['Art', 'is', 'a', 'game', 'and', 'not', 'everyone', 'is', 'invited', 'to', 'play,', 'Art', 'is', 'a', 'game', 'and', 'if', 'Picasso', 'had', 'been', 'born', 'in', 'Botswana', 'nobody', 'would', 'be', 'buying', 'postcards', 'of', 'his', 'works', 'in', 'the', 'gift', 'shop', 'of', 'the', 'MET,', 'Art', 'is', 'what', 'we', 'agree', 'art', 'is,', 'and', 'if', 'someone', 'doesn’t', 'agree,', 'we', 'call', 'them', 'a', 'heretic', 'and', 'we', 'throw', 'them', 'in', 'the', 'Hudson']\n"
     ]
    },
    {
     "name": "stderr",
     "output_type": "stream",
     "text": [
      "Setting `pad_token_id` to `eos_token_id`:50256 for open-end generation.\n"
     ]
    },
    {
     "name": "stdout",
     "output_type": "stream",
     "text": [
      "Art is a game and not everyone is invited to play, Art is a game and if Picasso had been born in Botswana nobody would be buying postcards of his works in the gift shop of the MET, Art is what we agree art is, and if someone doesn’t agree, we call them a heretic and we throw them in the Hudson ^^ .Art is a game and not everyone is invited to play, Art is a game and if Picasso had been born in Botswana nobody would be buying postcards of his works in the gift shop of the MET, Art is what we agree art is, and if someone doesn’t agree, we call them a heretic and we throw them in the Hudson.Art is a game and not everyone is invited to play, Art is a game and if Picasso had been born in Botswana nobody would be buying postcards of his works in the gift shop of the MET, Art is what we agree art is, and if someone doesn’t agree, we call them a heretic and we throw them in the Hudson.Art is a game and not everyone is invited to play, Art is a game and if Picasso had been born in Botswana nobody would\n",
      "['Art', 'is', 'a', 'game', 'and', 'not', 'everyone', 'is', 'invited', 'to', 'play,', 'Art', 'is', 'a', 'game', 'and', 'if', 'Picasso', 'had', 'been', 'born', 'in', 'Botswana', 'nobody', 'would', 'be', 'buying', 'postcards', 'of', 'his', 'works', 'in', 'the', 'gift', 'shop', 'of', 'the', 'MET,', 'Art', 'is', 'what', 'we', 'agree', 'art', 'is,', 'and', 'if', 'someone', 'doesn’t', 'agree,', 'we', 'call', 'them', 'a', 'heretic', 'and', 'we', 'throw', 'them', 'in', 'the', 'Hudson', 'with']\n"
     ]
    },
    {
     "name": "stderr",
     "output_type": "stream",
     "text": [
      "Setting `pad_token_id` to `eos_token_id`:50256 for open-end generation.\n"
     ]
    },
    {
     "name": "stdout",
     "output_type": "stream",
     "text": [
      "Art is a game and not everyone is invited to play, Art is a game and if Picasso had been born in Botswana nobody would be buying postcards of his works in the gift shop of the MET, Art is what we agree art is, and if someone doesn’t agree, we call them a heretic and we throw them in the Hudson with ^^  the rest of the world.Art is a game and not everyone is invited to play, Art is a game and if Picasso had been born in Botswana nobody would be buying postcards of his works in the gift shop of the MET, Art is what we agree art is, and if someone doesn’t agree, we call them a heretic and we throw them in the Hudson with the rest of the world.Art is a game and not everyone is invited to play, Art is a game and if Picasso had been born in Botswana nobody would be buying postcards of his works in the gift shop of the MET, Art is what we agree art is, and if someone doesn’t agree, we call them a heretic and we throw them in the Hudson with the rest of the world.Art is a game and not everyone is invited to\n",
      "['Art', 'is', 'a', 'game', 'and', 'not', 'everyone', 'is', 'invited', 'to', 'play,', 'Art', 'is', 'a', 'game', 'and', 'if', 'Picasso', 'had', 'been', 'born', 'in', 'Botswana', 'nobody', 'would', 'be', 'buying', 'postcards', 'of', 'his', 'works', 'in', 'the', 'gift', 'shop', 'of', 'the', 'MET,', 'Art', 'is', 'what', 'we', 'agree', 'art', 'is,', 'and', 'if', 'someone', 'doesn’t', 'agree,', 'we', 'call', 'them', 'a', 'heretic', 'and', 'we', 'throw', 'them', 'in', 'the', 'Hudson', 'with', 'a']\n"
     ]
    },
    {
     "name": "stderr",
     "output_type": "stream",
     "text": [
      "Setting `pad_token_id` to `eos_token_id`:50256 for open-end generation.\n"
     ]
    },
    {
     "name": "stdout",
     "output_type": "stream",
     "text": [
      "Art is a game and not everyone is invited to play, Art is a game and if Picasso had been born in Botswana nobody would be buying postcards of his works in the gift shop of the MET, Art is what we agree art is, and if someone doesn’t agree, we call them a heretic and we throw them in the Hudson with a ^^  few other people.Art is a game and not everyone is invited to play, Art is a game and if Picasso had been born in Botswana nobody would be buying postcards of his works in the gift shop of the MET, Art is what we agree art is, and if someone doesn’t agree, we call them a heretic and we throw them in the Hudson with a few other people.Art is a game and not everyone is invited to play, Art is a game and if Picasso had been born in Botswana nobody would be buying postcards of his works in the gift shop of the MET, Art is what we agree art is, and if someone doesn’t agree, we call them a heretic and we throw them in the Hudson with a few other people.Art is a game and not everyone is invited to play, Art\n",
      "['Art', 'is', 'a', 'game', 'and', 'not', 'everyone', 'is', 'invited', 'to', 'play,', 'Art', 'is', 'a', 'game', 'and', 'if', 'Picasso', 'had', 'been', 'born', 'in', 'Botswana', 'nobody', 'would', 'be', 'buying', 'postcards', 'of', 'his', 'works', 'in', 'the', 'gift', 'shop', 'of', 'the', 'MET,', 'Art', 'is', 'what', 'we', 'agree', 'art', 'is,', 'and', 'if', 'someone', 'doesn’t', 'agree,', 'we', 'call', 'them', 'a', 'heretic', 'and', 'we', 'throw', 'them', 'in', 'the', 'Hudson', 'with', 'a', 'sculpture']\n"
     ]
    },
    {
     "name": "stderr",
     "output_type": "stream",
     "text": [
      "Setting `pad_token_id` to `eos_token_id`:50256 for open-end generation.\n"
     ]
    },
    {
     "name": "stdout",
     "output_type": "stream",
     "text": [
      "Art is a game and not everyone is invited to play, Art is a game and if Picasso had been born in Botswana nobody would be buying postcards of his works in the gift shop of the MET, Art is what we agree art is, and if someone doesn’t agree, we call them a heretic and we throw them in the Hudson with a sculpture ^^  of a man who is a thief.Art is a game and not everyone is invited to play, Art is a game and if Picasso had been born in Botswana nobody would be buying postcards of his works in the gift shop of the MET, Art is what we agree art is, and if someone doesn’t agree, we call them a heretic and we throw them in the Hudson with a sculpture of a man who is a thief.Art is a game and not everyone is invited to play, Art is a game and if Picasso had been born in Botswana nobody would be buying postcards of his works in the gift shop of the MET, Art is what we agree art is, and if someone doesn’t agree, we call them a heretic and we throw them in the Hudson with a sculpture of a man who is a thief.\n",
      "['Art', 'is', 'a', 'game', 'and', 'not', 'everyone', 'is', 'invited', 'to', 'play,', 'Art', 'is', 'a', 'game', 'and', 'if', 'Picasso', 'had', 'been', 'born', 'in', 'Botswana', 'nobody', 'would', 'be', 'buying', 'postcards', 'of', 'his', 'works', 'in', 'the', 'gift', 'shop', 'of', 'the', 'MET,', 'Art', 'is', 'what', 'we', 'agree', 'art', 'is,', 'and', 'if', 'someone', 'doesn’t', 'agree,', 'we', 'call', 'them', 'a', 'heretic', 'and', 'we', 'throw', 'them', 'in', 'the', 'Hudson', 'with', 'a', 'sculpture', 'of']\n"
     ]
    },
    {
     "name": "stderr",
     "output_type": "stream",
     "text": [
      "Setting `pad_token_id` to `eos_token_id`:50256 for open-end generation.\n"
     ]
    },
    {
     "name": "stdout",
     "output_type": "stream",
     "text": [
      "Art is a game and not everyone is invited to play, Art is a game and if Picasso had been born in Botswana nobody would be buying postcards of his works in the gift shop of the MET, Art is what we agree art is, and if someone doesn’t agree, we call them a heretic and we throw them in the Hudson with a sculpture of ^^  a man who is a thief.Art is a game and not everyone is invited to play, Art is a game and if Picasso had been born in Botswana nobody would be buying postcards of his works in the gift shop of the MET, Art is what we agree art is, and if someone doesn’t agree, we call them a heretic and we throw them in the Hudson with a sculpture of a man who is a thief.Art is a game and not everyone is invited to play, Art is a game and if Picasso had been born in Botswana nobody would be buying postcards of his works in the gift shop of the MET, Art is what we agree art is, and if someone doesn’t agree, we call them a heretic and we throw them in the Hudson with a sculpture of a man who is a thief.\n",
      "['Art', 'is', 'a', 'game', 'and', 'not', 'everyone', 'is', 'invited', 'to', 'play,', 'Art', 'is', 'a', 'game', 'and', 'if', 'Picasso', 'had', 'been', 'born', 'in', 'Botswana', 'nobody', 'would', 'be', 'buying', 'postcards', 'of', 'his', 'works', 'in', 'the', 'gift', 'shop', 'of', 'the', 'MET,', 'Art', 'is', 'what', 'we', 'agree', 'art', 'is,', 'and', 'if', 'someone', 'doesn’t', 'agree,', 'we', 'call', 'them', 'a', 'heretic', 'and', 'we', 'throw', 'them', 'in', 'the', 'Hudson', 'with', 'a', 'sculpture', 'of', 'Robert']\n"
     ]
    },
    {
     "name": "stderr",
     "output_type": "stream",
     "text": [
      "Setting `pad_token_id` to `eos_token_id`:50256 for open-end generation.\n"
     ]
    },
    {
     "name": "stdout",
     "output_type": "stream",
     "text": [
      "Art is a game and not everyone is invited to play, Art is a game and if Picasso had been born in Botswana nobody would be buying postcards of his works in the gift shop of the MET, Art is what we agree art is, and if someone doesn’t agree, we call them a heretic and we throw them in the Hudson with a sculpture of Robert ^^  Frost.Art is a game and not everyone is invited to play, Art is a game and if Picasso had been born in Botswana nobody would be buying postcards of his works in the gift shop of the MET, Art is what we agree art is, and if someone doesn’t agree, we call them a heretic and we throw them in the Hudson with a sculpture of Robert Frost.Art is a game and not everyone is invited to play, Art is a game and if Picasso had been born in Botswana nobody would be buying postcards of his works in the gift shop of the MET, Art is what we agree art is, and if someone doesn’t agree, we call them a heretic and we throw them in the Hudson with a sculpture of Robert Frost.Art is a game and not everyone is invited to\n",
      "['Art', 'is', 'a', 'game', 'and', 'not', 'everyone', 'is', 'invited', 'to', 'play,', 'Art', 'is', 'a', 'game', 'and', 'if', 'Picasso', 'had', 'been', 'born', 'in', 'Botswana', 'nobody', 'would', 'be', 'buying', 'postcards', 'of', 'his', 'works', 'in', 'the', 'gift', 'shop', 'of', 'the', 'MET,', 'Art', 'is', 'what', 'we', 'agree', 'art', 'is,', 'and', 'if', 'someone', 'doesn’t', 'agree,', 'we', 'call', 'them', 'a', 'heretic', 'and', 'we', 'throw', 'them', 'in', 'the', 'Hudson', 'with', 'a', 'sculpture', 'of', 'Robert', 'Indiana']\n"
     ]
    },
    {
     "name": "stderr",
     "output_type": "stream",
     "text": [
      "Setting `pad_token_id` to `eos_token_id`:50256 for open-end generation.\n"
     ]
    },
    {
     "name": "stdout",
     "output_type": "stream",
     "text": [
      "Art is a game and not everyone is invited to play, Art is a game and if Picasso had been born in Botswana nobody would be buying postcards of his works in the gift shop of the MET, Art is what we agree art is, and if someone doesn’t agree, we call them a heretic and we throw them in the Hudson with a sculpture of Robert Indiana ^^ .Art is a game and not everyone is invited to play, Art is a game and if Picasso had been born in Botswana nobody would be buying postcards of his works in the gift shop of the MET, Art is what we agree art is, and if someone doesn’t agree, we call them a heretic and we throw them in the Hudson with a sculpture of Robert Indiana.Art is a game and not everyone is invited to play, Art is a game and if Picasso had been born in Botswana nobody would be buying postcards of his works in the gift shop of the MET, Art is what we agree art is, and if someone doesn’t agree, we call them a heretic and we throw them in the Hudson with a sculpture of Robert Indiana.Art is a game and not everyone is invited to\n",
      "['Art', 'is', 'a', 'game', 'and', 'not', 'everyone', 'is', 'invited', 'to', 'play,', 'Art', 'is', 'a', 'game', 'and', 'if', 'Picasso', 'had', 'been', 'born', 'in', 'Botswana', 'nobody', 'would', 'be', 'buying', 'postcards', 'of', 'his', 'works', 'in', 'the', 'gift', 'shop', 'of', 'the', 'MET,', 'Art', 'is', 'what', 'we', 'agree', 'art', 'is,', 'and', 'if', 'someone', 'doesn’t', 'agree,', 'we', 'call', 'them', 'a', 'heretic', 'and', 'we', 'throw', 'them', 'in', 'the', 'Hudson', 'with', 'a', 'sculpture', 'of', 'Robert', 'Indiana', 'tied']\n"
     ]
    },
    {
     "name": "stderr",
     "output_type": "stream",
     "text": [
      "Setting `pad_token_id` to `eos_token_id`:50256 for open-end generation.\n"
     ]
    },
    {
     "name": "stdout",
     "output_type": "stream",
     "text": [
      "Art is a game and not everyone is invited to play, Art is a game and if Picasso had been born in Botswana nobody would be buying postcards of his works in the gift shop of the MET, Art is what we agree art is, and if someone doesn’t agree, we call them a heretic and we throw them in the Hudson with a sculpture of Robert Indiana tied ^^  to a tree.Art is a game and not everyone is invited to play, Art is a game and if Picasso had been born in Botswana nobody would be buying postcards of his works in the gift shop of the MET, Art is what we agree art is, and if someone doesn’t agree, we call them a heretic and we throw them in the Hudson with a sculpture of Robert Indiana tied to a tree.Art is a game and not everyone is invited to play, Art is a game and if Picasso had been born in Botswana nobody would be buying postcards of his works in the gift shop of the MET, Art is what we agree art is, and if someone doesn’t agree, we call them a heretic and we throw them in the Hudson with a sculpture of Robert Indiana tied to a tree.\n",
      "['Art', 'is', 'a', 'game', 'and', 'not', 'everyone', 'is', 'invited', 'to', 'play,', 'Art', 'is', 'a', 'game', 'and', 'if', 'Picasso', 'had', 'been', 'born', 'in', 'Botswana', 'nobody', 'would', 'be', 'buying', 'postcards', 'of', 'his', 'works', 'in', 'the', 'gift', 'shop', 'of', 'the', 'MET,', 'Art', 'is', 'what', 'we', 'agree', 'art', 'is,', 'and', 'if', 'someone', 'doesn’t', 'agree,', 'we', 'call', 'them', 'a', 'heretic', 'and', 'we', 'throw', 'them', 'in', 'the', 'Hudson', 'with', 'a', 'sculpture', 'of', 'Robert', 'Indiana', 'tied', 'to']\n"
     ]
    },
    {
     "name": "stderr",
     "output_type": "stream",
     "text": [
      "Setting `pad_token_id` to `eos_token_id`:50256 for open-end generation.\n"
     ]
    },
    {
     "name": "stdout",
     "output_type": "stream",
     "text": [
      "Art is a game and not everyone is invited to play, Art is a game and if Picasso had been born in Botswana nobody would be buying postcards of his works in the gift shop of the MET, Art is what we agree art is, and if someone doesn’t agree, we call them a heretic and we throw them in the Hudson with a sculpture of Robert Indiana tied to ^^  a tree.Art is a game and not everyone is invited to play, Art is a game and if Picasso had been born in Botswana nobody would be buying postcards of his works in the gift shop of the MET, Art is what we agree art is, and if someone doesn’t agree, we call them a heretic and we throw them in the Hudson with a sculpture of Robert Indiana tied to a tree.Art is a game and not everyone is invited to play, Art is a game and if Picasso had been born in Botswana nobody would be buying postcards of his works in the gift shop of the MET, Art is what we agree art is, and if someone doesn’t agree, we call them a heretic and we throw them in the Hudson with a sculpture of Robert Indiana tied to a tree.\n",
      "['Art', 'is', 'a', 'game', 'and', 'not', 'everyone', 'is', 'invited', 'to', 'play,', 'Art', 'is', 'a', 'game', 'and', 'if', 'Picasso', 'had', 'been', 'born', 'in', 'Botswana', 'nobody', 'would', 'be', 'buying', 'postcards', 'of', 'his', 'works', 'in', 'the', 'gift', 'shop', 'of', 'the', 'MET,', 'Art', 'is', 'what', 'we', 'agree', 'art', 'is,', 'and', 'if', 'someone', 'doesn’t', 'agree,', 'we', 'call', 'them', 'a', 'heretic', 'and', 'we', 'throw', 'them', 'in', 'the', 'Hudson', 'with', 'a', 'sculpture', 'of', 'Robert', 'Indiana', 'tied', 'to', 'their']\n"
     ]
    },
    {
     "name": "stderr",
     "output_type": "stream",
     "text": [
      "Setting `pad_token_id` to `eos_token_id`:50256 for open-end generation.\n"
     ]
    },
    {
     "name": "stdout",
     "output_type": "stream",
     "text": [
      "Art is a game and not everyone is invited to play, Art is a game and if Picasso had been born in Botswana nobody would be buying postcards of his works in the gift shop of the MET, Art is what we agree art is, and if someone doesn’t agree, we call them a heretic and we throw them in the Hudson with a sculpture of Robert Indiana tied to their ^^  head.Art is a game and not everyone is invited to play, Art is a game and if Picasso had been born in Botswana nobody would be buying postcards of his works in the gift shop of the MET, Art is what we agree art is, and if someone doesn’t agree, we call them a heretic and we throw them in the Hudson with a sculpture of Robert Indiana tied to their head.Art is a game and not everyone is invited to play, Art is a game and if Picasso had been born in Botswana nobody would be buying postcards of his works in the gift shop of the MET, Art is what we agree art is, and if someone doesn’t agree, we call them a heretic and we throw them in the Hudson with a sculpture of Robert Indiana tied to their head.\n",
      "['Art', 'is', 'a', 'game', 'and', 'not', 'everyone', 'is', 'invited', 'to', 'play,', 'Art', 'is', 'a', 'game', 'and', 'if', 'Picasso', 'had', 'been', 'born', 'in', 'Botswana', 'nobody', 'would', 'be', 'buying', 'postcards', 'of', 'his', 'works', 'in', 'the', 'gift', 'shop', 'of', 'the', 'MET,', 'Art', 'is', 'what', 'we', 'agree', 'art', 'is,', 'and', 'if', 'someone', 'doesn’t', 'agree,', 'we', 'call', 'them', 'a', 'heretic', 'and', 'we', 'throw', 'them', 'in', 'the', 'Hudson', 'with', 'a', 'sculpture', 'of', 'Robert', 'Indiana', 'tied', 'to', 'their', 'legs']\n"
     ]
    },
    {
     "name": "stderr",
     "output_type": "stream",
     "text": [
      "Setting `pad_token_id` to `eos_token_id`:50256 for open-end generation.\n"
     ]
    },
    {
     "name": "stdout",
     "output_type": "stream",
     "text": [
      "Art is a game and not everyone is invited to play, Art is a game and if Picasso had been born in Botswana nobody would be buying postcards of his works in the gift shop of the MET, Art is what we agree art is, and if someone doesn’t agree, we call them a heretic and we throw them in the Hudson with a sculpture of Robert Indiana tied to their legs ^^ .Art is a game and not everyone is invited to play, Art is a game and if Picasso had been born in Botswana nobody would be buying postcards of his works in the gift shop of the MET, Art is what we agree art is, and if someone doesn’t agree, we call them a heretic and we throw them in the Hudson with a sculpture of Robert Indiana tied to their legs.Art is a game and not everyone is invited to play, Art is a game and if Picasso had been born in Botswana nobody would be buying postcards of his works in the gift shop of the MET, Art is what we agree art is, and if someone doesn’t agree, we call them a heretic and we throw them in the Hudson with a sculpture of Robert Indiana tied to their legs.\n",
      "['Art', 'is', 'a', 'game', 'and', 'not', 'everyone', 'is', 'invited', 'to', 'play,', 'Art', 'is', 'a', 'game', 'and', 'if', 'Picasso', 'had', 'been', 'born', 'in', 'Botswana', 'nobody', 'would', 'be', 'buying', 'postcards', 'of', 'his', 'works', 'in', 'the', 'gift', 'shop', 'of', 'the', 'MET,', 'Art', 'is', 'what', 'we', 'agree', 'art', 'is,', 'and', 'if', 'someone', 'doesn’t', 'agree,', 'we', 'call', 'them', 'a', 'heretic', 'and', 'we', 'throw', 'them', 'in', 'the', 'Hudson', 'with', 'a', 'sculpture', 'of', 'Robert', 'Indiana', 'tied', 'to', 'their', 'legs', 'to']\n"
     ]
    },
    {
     "name": "stderr",
     "output_type": "stream",
     "text": [
      "Setting `pad_token_id` to `eos_token_id`:50256 for open-end generation.\n"
     ]
    },
    {
     "name": "stdout",
     "output_type": "stream",
     "text": [
      "Art is a game and not everyone is invited to play, Art is a game and if Picasso had been born in Botswana nobody would be buying postcards of his works in the gift shop of the MET, Art is what we agree art is, and if someone doesn’t agree, we call them a heretic and we throw them in the Hudson with a sculpture of Robert Indiana tied to their legs to ^^  make them look like a statue.Art is a game and not everyone is invited to play, Art is a game and if Picasso had been born in Botswana nobody would be buying postcards of his works in the gift shop of the MET, Art is what we agree art is, and if someone doesn’t agree, we call them a heretic and we throw them in the Hudson with a sculpture of Robert Indiana tied to their legs to make them look like a statue.Art is a game and not everyone is invited to play, Art is a game and if Picasso had been born in Botswana nobody would be buying postcards of his works in the gift shop of the MET, Art is what we agree art is, and if someone doesn’t agree, we call them a heretic and we throw them\n",
      "['Art', 'is', 'a', 'game', 'and', 'not', 'everyone', 'is', 'invited', 'to', 'play,', 'Art', 'is', 'a', 'game', 'and', 'if', 'Picasso', 'had', 'been', 'born', 'in', 'Botswana', 'nobody', 'would', 'be', 'buying', 'postcards', 'of', 'his', 'works', 'in', 'the', 'gift', 'shop', 'of', 'the', 'MET,', 'Art', 'is', 'what', 'we', 'agree', 'art', 'is,', 'and', 'if', 'someone', 'doesn’t', 'agree,', 'we', 'call', 'them', 'a', 'heretic', 'and', 'we', 'throw', 'them', 'in', 'the', 'Hudson', 'with', 'a', 'sculpture', 'of', 'Robert', 'Indiana', 'tied', 'to', 'their', 'legs', 'to', 'see']\n"
     ]
    },
    {
     "name": "stderr",
     "output_type": "stream",
     "text": [
      "Setting `pad_token_id` to `eos_token_id`:50256 for open-end generation.\n"
     ]
    },
    {
     "name": "stdout",
     "output_type": "stream",
     "text": [
      "Art is a game and not everyone is invited to play, Art is a game and if Picasso had been born in Botswana nobody would be buying postcards of his works in the gift shop of the MET, Art is what we agree art is, and if someone doesn’t agree, we call them a heretic and we throw them in the Hudson with a sculpture of Robert Indiana tied to their legs to see ^^  if they can find a way to get them to play.Art is a game and not everyone is invited to play, Art is a game and if Picasso had been born in Botswana nobody would be buying postcards of his works in the gift shop of the MET, Art is what we agree art is, and if someone doesn’t agree, we call them a heretic and we throw them in the Hudson with a sculpture of Robert Indiana tied to their legs to see if they can find a way to get them to play.Art is a game and not everyone is invited to play, Art is a game and if Picasso had been born in Botswana nobody would be buying postcards of his works in the gift shop of the MET, Art is what we agree art is, and if someone doesn’t\n",
      "['Art', 'is', 'a', 'game', 'and', 'not', 'everyone', 'is', 'invited', 'to', 'play,', 'Art', 'is', 'a', 'game', 'and', 'if', 'Picasso', 'had', 'been', 'born', 'in', 'Botswana', 'nobody', 'would', 'be', 'buying', 'postcards', 'of', 'his', 'works', 'in', 'the', 'gift', 'shop', 'of', 'the', 'MET,', 'Art', 'is', 'what', 'we', 'agree', 'art', 'is,', 'and', 'if', 'someone', 'doesn’t', 'agree,', 'we', 'call', 'them', 'a', 'heretic', 'and', 'we', 'throw', 'them', 'in', 'the', 'Hudson', 'with', 'a', 'sculpture', 'of', 'Robert', 'Indiana', 'tied', 'to', 'their', 'legs', 'to', 'see', 'if']\n"
     ]
    },
    {
     "name": "stderr",
     "output_type": "stream",
     "text": [
      "Setting `pad_token_id` to `eos_token_id`:50256 for open-end generation.\n"
     ]
    },
    {
     "name": "stdout",
     "output_type": "stream",
     "text": [
      "Art is a game and not everyone is invited to play, Art is a game and if Picasso had been born in Botswana nobody would be buying postcards of his works in the gift shop of the MET, Art is what we agree art is, and if someone doesn’t agree, we call them a heretic and we throw them in the Hudson with a sculpture of Robert Indiana tied to their legs to see if ^^  they can find a way to get them to play.Art is a game and not everyone is invited to play, Art is a game and if Picasso had been born in Botswana nobody would be buying postcards of his works in the gift shop of the MET, Art is what we agree art is, and if someone doesn’t agree, we call them a heretic and we throw them in the Hudson with a sculpture of Robert Indiana tied to their legs to see if they can find a way to get them to play.Art is a game and not everyone is invited to play, Art is a game and if Picasso had been born in Botswana nobody would be buying postcards of his works in the gift shop of the MET, Art is what we agree art is, and if someone doesn’t\n",
      "['Art', 'is', 'a', 'game', 'and', 'not', 'everyone', 'is', 'invited', 'to', 'play,', 'Art', 'is', 'a', 'game', 'and', 'if', 'Picasso', 'had', 'been', 'born', 'in', 'Botswana', 'nobody', 'would', 'be', 'buying', 'postcards', 'of', 'his', 'works', 'in', 'the', 'gift', 'shop', 'of', 'the', 'MET,', 'Art', 'is', 'what', 'we', 'agree', 'art', 'is,', 'and', 'if', 'someone', 'doesn’t', 'agree,', 'we', 'call', 'them', 'a', 'heretic', 'and', 'we', 'throw', 'them', 'in', 'the', 'Hudson', 'with', 'a', 'sculpture', 'of', 'Robert', 'Indiana', 'tied', 'to', 'their', 'legs', 'to', 'see', 'if', 'they']\n"
     ]
    },
    {
     "name": "stderr",
     "output_type": "stream",
     "text": [
      "Setting `pad_token_id` to `eos_token_id`:50256 for open-end generation.\n"
     ]
    },
    {
     "name": "stdout",
     "output_type": "stream",
     "text": [
      "Art is a game and not everyone is invited to play, Art is a game and if Picasso had been born in Botswana nobody would be buying postcards of his works in the gift shop of the MET, Art is what we agree art is, and if someone doesn’t agree, we call them a heretic and we throw them in the Hudson with a sculpture of Robert Indiana tied to their legs to see if they ^^  can find a way to get them to play.Art is a game and not everyone is invited to play, Art is a game and if Picasso had been born in Botswana nobody would be buying postcards of his works in the gift shop of the MET, Art is what we agree art is, and if someone doesn’t agree, we call them a heretic and we throw them in the Hudson with a sculpture of Robert Indiana tied to their legs to see if they can find a way to get them to play.Art is a game and not everyone is invited to play, Art is a game and if Picasso had been born in Botswana nobody would be buying postcards of his works in the gift shop of the MET, Art is what we agree art is, and if someone doesn’t\n",
      "['Art', 'is', 'a', 'game', 'and', 'not', 'everyone', 'is', 'invited', 'to', 'play,', 'Art', 'is', 'a', 'game', 'and', 'if', 'Picasso', 'had', 'been', 'born', 'in', 'Botswana', 'nobody', 'would', 'be', 'buying', 'postcards', 'of', 'his', 'works', 'in', 'the', 'gift', 'shop', 'of', 'the', 'MET,', 'Art', 'is', 'what', 'we', 'agree', 'art', 'is,', 'and', 'if', 'someone', 'doesn’t', 'agree,', 'we', 'call', 'them', 'a', 'heretic', 'and', 'we', 'throw', 'them', 'in', 'the', 'Hudson', 'with', 'a', 'sculpture', 'of', 'Robert', 'Indiana', 'tied', 'to', 'their', 'legs', 'to', 'see', 'if', 'they', 'float,']\n"
     ]
    },
    {
     "name": "stderr",
     "output_type": "stream",
     "text": [
      "Setting `pad_token_id` to `eos_token_id`:50256 for open-end generation.\n"
     ]
    },
    {
     "name": "stdout",
     "output_type": "stream",
     "text": [
      "Art is a game and not everyone is invited to play, Art is a game and if Picasso had been born in Botswana nobody would be buying postcards of his works in the gift shop of the MET, Art is what we agree art is, and if someone doesn’t agree, we call them a heretic and we throw them in the Hudson with a sculpture of Robert Indiana tied to their legs to see if they float, ^^  and if they float, we call them a heretic and we throw them in the Hudson with a sculpture of Robert Indiana tied to their legs to see if they float, and if they float, we call them a heretic and we throw them in the Hudson with a sculpture of Robert Indiana tied to their legs to see if they float, and if they float, we call them a heretic and we throw them in the Hudson with a sculpture of Robert Indiana tied to their legs to see if they float, and if they float, we call them a heretic and we throw them in the Hudson with a sculpture of Robert Indiana tied to their legs to see if they float, and if they float, we call them a heretic and we throw them in the Hudson with a sculpture of Robert Indiana tied to their legs to see if they\n",
      "['Art', 'is', 'a', 'game', 'and', 'not', 'everyone', 'is', 'invited', 'to', 'play,', 'Art', 'is', 'a', 'game', 'and', 'if', 'Picasso', 'had', 'been', 'born', 'in', 'Botswana', 'nobody', 'would', 'be', 'buying', 'postcards', 'of', 'his', 'works', 'in', 'the', 'gift', 'shop', 'of', 'the', 'MET,', 'Art', 'is', 'what', 'we', 'agree', 'art', 'is,', 'and', 'if', 'someone', 'doesn’t', 'agree,', 'we', 'call', 'them', 'a', 'heretic', 'and', 'we', 'throw', 'them', 'in', 'the', 'Hudson', 'with', 'a', 'sculpture', 'of', 'Robert', 'Indiana', 'tied', 'to', 'their', 'legs', 'to', 'see', 'if', 'they', 'float,', 'It’s']\n"
     ]
    },
    {
     "name": "stderr",
     "output_type": "stream",
     "text": [
      "Setting `pad_token_id` to `eos_token_id`:50256 for open-end generation.\n"
     ]
    },
    {
     "name": "stdout",
     "output_type": "stream",
     "text": [
      "Art is a game and not everyone is invited to play, Art is a game and if Picasso had been born in Botswana nobody would be buying postcards of his works in the gift shop of the MET, Art is what we agree art is, and if someone doesn’t agree, we call them a heretic and we throw them in the Hudson with a sculpture of Robert Indiana tied to their legs to see if they float, It’s ^^  a sculpture of Robert Indiana tied to their legs to see if they float, It’s a sculpture of Robert Indiana tied to their legs to see if they float, It’s a sculpture of Robert Indiana tied to their legs to see if they float, It’s a sculpture of Robert Indiana tied to their legs to see if they float, It’s a sculpture of Robert Indiana tied to their legs to see if they float, It’s a sculpture of Robert Indiana tied to their legs to see if they float, It’s a sculpture of Robert Indiana tied to their legs to see if they float, It’s a sculpture of Robert Indiana tied to their legs to see if they float, It’s a sculpture of Robert Indiana tied to their legs to see if they float,\n",
      "['Art', 'is', 'a', 'game', 'and', 'not', 'everyone', 'is', 'invited', 'to', 'play,', 'Art', 'is', 'a', 'game', 'and', 'if', 'Picasso', 'had', 'been', 'born', 'in', 'Botswana', 'nobody', 'would', 'be', 'buying', 'postcards', 'of', 'his', 'works', 'in', 'the', 'gift', 'shop', 'of', 'the', 'MET,', 'Art', 'is', 'what', 'we', 'agree', 'art', 'is,', 'and', 'if', 'someone', 'doesn’t', 'agree,', 'we', 'call', 'them', 'a', 'heretic', 'and', 'we', 'throw', 'them', 'in', 'the', 'Hudson', 'with', 'a', 'sculpture', 'of', 'Robert', 'Indiana', 'tied', 'to', 'their', 'legs', 'to', 'see', 'if', 'they', 'float,', 'It’s', 'art']\n"
     ]
    },
    {
     "name": "stderr",
     "output_type": "stream",
     "text": [
      "Setting `pad_token_id` to `eos_token_id`:50256 for open-end generation.\n"
     ]
    },
    {
     "name": "stdout",
     "output_type": "stream",
     "text": [
      "Art is a game and not everyone is invited to play, Art is a game and if Picasso had been born in Botswana nobody would be buying postcards of his works in the gift shop of the MET, Art is what we agree art is, and if someone doesn’t agree, we call them a heretic and we throw them in the Hudson with a sculpture of Robert Indiana tied to their legs to see if they float, It’s art ^^  is art, and if they float, it’s art, and if they float, it’s art, and if they float, it’s art, and if they float, it’s art, and if they float, it’s art, and if they float, it’s art, and if they float, it’s art, and if they float, it’s art, and if they float, it’s art, and if they float, it’s art, and if they float, it’s art, and if they float, it’s art, and if they float, it’s art, and if they float, it’s art, and if they float, it’s\n",
      "['Art', 'is', 'a', 'game', 'and', 'not', 'everyone', 'is', 'invited', 'to', 'play,', 'Art', 'is', 'a', 'game', 'and', 'if', 'Picasso', 'had', 'been', 'born', 'in', 'Botswana', 'nobody', 'would', 'be', 'buying', 'postcards', 'of', 'his', 'works', 'in', 'the', 'gift', 'shop', 'of', 'the', 'MET,', 'Art', 'is', 'what', 'we', 'agree', 'art', 'is,', 'and', 'if', 'someone', 'doesn’t', 'agree,', 'we', 'call', 'them', 'a', 'heretic', 'and', 'we', 'throw', 'them', 'in', 'the', 'Hudson', 'with', 'a', 'sculpture', 'of', 'Robert', 'Indiana', 'tied', 'to', 'their', 'legs', 'to', 'see', 'if', 'they', 'float,', 'It’s', 'art', 'if']\n"
     ]
    },
    {
     "name": "stderr",
     "output_type": "stream",
     "text": [
      "Setting `pad_token_id` to `eos_token_id`:50256 for open-end generation.\n"
     ]
    },
    {
     "name": "stdout",
     "output_type": "stream",
     "text": [
      "Art is a game and not everyone is invited to play, Art is a game and if Picasso had been born in Botswana nobody would be buying postcards of his works in the gift shop of the MET, Art is what we agree art is, and if someone doesn’t agree, we call them a heretic and we throw them in the Hudson with a sculpture of Robert Indiana tied to their legs to see if they float, It’s art if ^^  you like it, but if you don’t like it, you can’t buy it, and if you don’t like it, you can’t buy it, and if you don’t like it, you can’t buy it, and if you don’t like it, you can’t buy it, and if you don’t like it, you can’t buy it, and if you don’t like it, you can’t buy it, and if you don’t like it, you can’t buy it, and if you don’t like it, you can’t buy it, and if you don’t like it, you can’t buy it\n",
      "['Art', 'is', 'a', 'game', 'and', 'not', 'everyone', 'is', 'invited', 'to', 'play,', 'Art', 'is', 'a', 'game', 'and', 'if', 'Picasso', 'had', 'been', 'born', 'in', 'Botswana', 'nobody', 'would', 'be', 'buying', 'postcards', 'of', 'his', 'works', 'in', 'the', 'gift', 'shop', 'of', 'the', 'MET,', 'Art', 'is', 'what', 'we', 'agree', 'art', 'is,', 'and', 'if', 'someone', 'doesn’t', 'agree,', 'we', 'call', 'them', 'a', 'heretic', 'and', 'we', 'throw', 'them', 'in', 'the', 'Hudson', 'with', 'a', 'sculpture', 'of', 'Robert', 'Indiana', 'tied', 'to', 'their', 'legs', 'to', 'see', 'if', 'they', 'float,', 'It’s', 'art', 'if', 'it']\n"
     ]
    },
    {
     "name": "stderr",
     "output_type": "stream",
     "text": [
      "Setting `pad_token_id` to `eos_token_id`:50256 for open-end generation.\n"
     ]
    },
    {
     "name": "stdout",
     "output_type": "stream",
     "text": [
      "Art is a game and not everyone is invited to play, Art is a game and if Picasso had been born in Botswana nobody would be buying postcards of his works in the gift shop of the MET, Art is what we agree art is, and if someone doesn’t agree, we call them a heretic and we throw them in the Hudson with a sculpture of Robert Indiana tied to their legs to see if they float, It’s art if it ^^ ’s art, and if it’s art, and if it’s art, and if it’s art, and if it’s art, and if it’s art, and if it’s art, and if it’s art, and if it’s art, and if it’s art, and if it’s art, and if it’s art, and if it’s art, and if it’s art, and if it’s art, and if it’s art, and if it’s art, and if it’s art, and if it’s art, and if it’s art, and if it’s art\n",
      "['Art', 'is', 'a', 'game', 'and', 'not', 'everyone', 'is', 'invited', 'to', 'play,', 'Art', 'is', 'a', 'game', 'and', 'if', 'Picasso', 'had', 'been', 'born', 'in', 'Botswana', 'nobody', 'would', 'be', 'buying', 'postcards', 'of', 'his', 'works', 'in', 'the', 'gift', 'shop', 'of', 'the', 'MET,', 'Art', 'is', 'what', 'we', 'agree', 'art', 'is,', 'and', 'if', 'someone', 'doesn’t', 'agree,', 'we', 'call', 'them', 'a', 'heretic', 'and', 'we', 'throw', 'them', 'in', 'the', 'Hudson', 'with', 'a', 'sculpture', 'of', 'Robert', 'Indiana', 'tied', 'to', 'their', 'legs', 'to', 'see', 'if', 'they', 'float,', 'It’s', 'art', 'if', 'it', 'doesn’t']\n"
     ]
    },
    {
     "name": "stderr",
     "output_type": "stream",
     "text": [
      "Setting `pad_token_id` to `eos_token_id`:50256 for open-end generation.\n"
     ]
    },
    {
     "name": "stdout",
     "output_type": "stream",
     "text": [
      "Art is a game and not everyone is invited to play, Art is a game and if Picasso had been born in Botswana nobody would be buying postcards of his works in the gift shop of the MET, Art is what we agree art is, and if someone doesn’t agree, we call them a heretic and we throw them in the Hudson with a sculpture of Robert Indiana tied to their legs to see if they float, It’s art if it doesn’t ^^  exist, and if it does, we call it a heretic.Art is a game and not everyone is invited to play, Art is a game and if Picasso had been born in Botswana nobody would be buying postcards of his works in the gift shop of the MET, Art is what we agree art is, and if someone doesn’t agree, we call them a heretic and we throw them in the Hudson with a sculpture of Robert Indiana tied to their legs to see if they float, It’s art if it doesn’t exist, and if it does, we call it a heretic.Art is a game and not everyone is invited to play, Art is a game and if Picasso had been born in Botswana nobody would be buying post\n",
      "['Art', 'is', 'a', 'game', 'and', 'not', 'everyone', 'is', 'invited', 'to', 'play,', 'Art', 'is', 'a', 'game', 'and', 'if', 'Picasso', 'had', 'been', 'born', 'in', 'Botswana', 'nobody', 'would', 'be', 'buying', 'postcards', 'of', 'his', 'works', 'in', 'the', 'gift', 'shop', 'of', 'the', 'MET,', 'Art', 'is', 'what', 'we', 'agree', 'art', 'is,', 'and', 'if', 'someone', 'doesn’t', 'agree,', 'we', 'call', 'them', 'a', 'heretic', 'and', 'we', 'throw', 'them', 'in', 'the', 'Hudson', 'with', 'a', 'sculpture', 'of', 'Robert', 'Indiana', 'tied', 'to', 'their', 'legs', 'to', 'see', 'if', 'they', 'float,', 'It’s', 'art', 'if', 'it', 'doesn’t', 'sink']\n"
     ]
    },
    {
     "name": "stderr",
     "output_type": "stream",
     "text": [
      "Setting `pad_token_id` to `eos_token_id`:50256 for open-end generation.\n"
     ]
    },
    {
     "name": "stdout",
     "output_type": "stream",
     "text": [
      "Art is a game and not everyone is invited to play, Art is a game and if Picasso had been born in Botswana nobody would be buying postcards of his works in the gift shop of the MET, Art is what we agree art is, and if someone doesn’t agree, we call them a heretic and we throw them in the Hudson with a sculpture of Robert Indiana tied to their legs to see if they float, It’s art if it doesn’t sink ^^  in, and if it does, we call it a heretic.Art is a game and not everyone is invited to play, Art is a game and if Picasso had been born in Botswana nobody would be buying postcards of his works in the gift shop of the MET, Art is what we agree art is, and if someone doesn’t agree, we call them a heretic and we throw them in the Hudson with a sculpture of Robert Indiana tied to their legs to see if they float, It’s art if it doesn’t sink in, and if it does, we call it a heretic.Art is a game and not everyone is invited to play, Art is a game and if Picasso had been born in Botswana nobody would be\n",
      "['Art', 'is', 'a', 'game', 'and', 'not', 'everyone', 'is', 'invited', 'to', 'play,', 'Art', 'is', 'a', 'game', 'and', 'if', 'Picasso', 'had', 'been', 'born', 'in', 'Botswana', 'nobody', 'would', 'be', 'buying', 'postcards', 'of', 'his', 'works', 'in', 'the', 'gift', 'shop', 'of', 'the', 'MET,', 'Art', 'is', 'what', 'we', 'agree', 'art', 'is,', 'and', 'if', 'someone', 'doesn’t', 'agree,', 'we', 'call', 'them', 'a', 'heretic', 'and', 'we', 'throw', 'them', 'in', 'the', 'Hudson', 'with', 'a', 'sculpture', 'of', 'Robert', 'Indiana', 'tied', 'to', 'their', 'legs', 'to', 'see', 'if', 'they', 'float,', 'It’s', 'art', 'if', 'it', 'doesn’t', 'sink', 'in']\n"
     ]
    },
    {
     "name": "stderr",
     "output_type": "stream",
     "text": [
      "Setting `pad_token_id` to `eos_token_id`:50256 for open-end generation.\n"
     ]
    },
    {
     "name": "stdout",
     "output_type": "stream",
     "text": [
      "Art is a game and not everyone is invited to play, Art is a game and if Picasso had been born in Botswana nobody would be buying postcards of his works in the gift shop of the MET, Art is what we agree art is, and if someone doesn’t agree, we call them a heretic and we throw them in the Hudson with a sculpture of Robert Indiana tied to their legs to see if they float, It’s art if it doesn’t sink in ^^ , and if it does, we call it a heretic.Art is a game and not everyone is invited to play, Art is a game and if Picasso had been born in Botswana nobody would be buying postcards of his works in the gift shop of the MET, Art is what we agree art is, and if someone doesn’t agree, we call them a heretic and we throw them in the Hudson with a sculpture of Robert Indiana tied to their legs to see if they float, It’s art if it doesn’t sink in, and if it does, we call it a heretic.Art is a game and not everyone is invited to play, Art is a game and if Picasso had been born in Botswana nobody would be\n",
      "['Art', 'is', 'a', 'game', 'and', 'not', 'everyone', 'is', 'invited', 'to', 'play,', 'Art', 'is', 'a', 'game', 'and', 'if', 'Picasso', 'had', 'been', 'born', 'in', 'Botswana', 'nobody', 'would', 'be', 'buying', 'postcards', 'of', 'his', 'works', 'in', 'the', 'gift', 'shop', 'of', 'the', 'MET,', 'Art', 'is', 'what', 'we', 'agree', 'art', 'is,', 'and', 'if', 'someone', 'doesn’t', 'agree,', 'we', 'call', 'them', 'a', 'heretic', 'and', 'we', 'throw', 'them', 'in', 'the', 'Hudson', 'with', 'a', 'sculpture', 'of', 'Robert', 'Indiana', 'tied', 'to', 'their', 'legs', 'to', 'see', 'if', 'they', 'float,', 'It’s', 'art', 'if', 'it', 'doesn’t', 'sink', 'in', 'the']\n"
     ]
    },
    {
     "name": "stderr",
     "output_type": "stream",
     "text": [
      "Setting `pad_token_id` to `eos_token_id`:50256 for open-end generation.\n"
     ]
    },
    {
     "name": "stdout",
     "output_type": "stream",
     "text": [
      "Art is a game and not everyone is invited to play, Art is a game and if Picasso had been born in Botswana nobody would be buying postcards of his works in the gift shop of the MET, Art is what we agree art is, and if someone doesn’t agree, we call them a heretic and we throw them in the Hudson with a sculpture of Robert Indiana tied to their legs to see if they float, It’s art if it doesn’t sink in the ^^  water, and if it does, we call it a heretic and we throw it in the Hudson with a sculpture of Robert Indiana tied to their legs to see if they float, It’s art if it doesn’t sink in the water, and if it does, we call it a heretic and we throw it in the Hudson with a sculpture of Robert Indiana tied to their legs to see if they float, It’s art if it doesn’t sink in the water, and if it does, we call it a heretic and we throw it in the Hudson with a sculpture of Robert Indiana tied to their legs to see if they float, It’s art if it doesn’t sink in the water, and if it does, we call it\n",
      "['Art', 'is', 'a', 'game', 'and', 'not', 'everyone', 'is', 'invited', 'to', 'play,', 'Art', 'is', 'a', 'game', 'and', 'if', 'Picasso', 'had', 'been', 'born', 'in', 'Botswana', 'nobody', 'would', 'be', 'buying', 'postcards', 'of', 'his', 'works', 'in', 'the', 'gift', 'shop', 'of', 'the', 'MET,', 'Art', 'is', 'what', 'we', 'agree', 'art', 'is,', 'and', 'if', 'someone', 'doesn’t', 'agree,', 'we', 'call', 'them', 'a', 'heretic', 'and', 'we', 'throw', 'them', 'in', 'the', 'Hudson', 'with', 'a', 'sculpture', 'of', 'Robert', 'Indiana', 'tied', 'to', 'their', 'legs', 'to', 'see', 'if', 'they', 'float,', 'It’s', 'art', 'if', 'it', 'doesn’t', 'sink', 'in', 'the', 'river,']\n"
     ]
    },
    {
     "name": "stderr",
     "output_type": "stream",
     "text": [
      "Setting `pad_token_id` to `eos_token_id`:50256 for open-end generation.\n"
     ]
    },
    {
     "name": "stdout",
     "output_type": "stream",
     "text": [
      "Art is a game and not everyone is invited to play, Art is a game and if Picasso had been born in Botswana nobody would be buying postcards of his works in the gift shop of the MET, Art is what we agree art is, and if someone doesn’t agree, we call them a heretic and we throw them in the Hudson with a sculpture of Robert Indiana tied to their legs to see if they float, It’s art if it doesn’t sink in the river, ^^  and if it does, we call it a heretic and we throw it in the Hudson with a sculpture of Robert Indiana tied to their legs to see if they float, It’s art if it doesn’t sink in the river, and if it does, we call it a heretic and we throw it in the Hudson with a sculpture of Robert Indiana tied to their legs to see if they float, It’s art if it doesn’t sink in the river, and if it does, we call it a heretic and we throw it in the Hudson with a sculpture of Robert Indiana tied to their legs to see if they float, It’s art if it doesn’t sink in the river, and if it does, we call it a\n",
      "['Art', 'is', 'a', 'game', 'and', 'not', 'everyone', 'is', 'invited', 'to', 'play,', 'Art', 'is', 'a', 'game', 'and', 'if', 'Picasso', 'had', 'been', 'born', 'in', 'Botswana', 'nobody', 'would', 'be', 'buying', 'postcards', 'of', 'his', 'works', 'in', 'the', 'gift', 'shop', 'of', 'the', 'MET,', 'Art', 'is', 'what', 'we', 'agree', 'art', 'is,', 'and', 'if', 'someone', 'doesn’t', 'agree,', 'we', 'call', 'them', 'a', 'heretic', 'and', 'we', 'throw', 'them', 'in', 'the', 'Hudson', 'with', 'a', 'sculpture', 'of', 'Robert', 'Indiana', 'tied', 'to', 'their', 'legs', 'to', 'see', 'if', 'they', 'float,', 'It’s', 'art', 'if', 'it', 'doesn’t', 'sink', 'in', 'the', 'river,', 'It’s']\n"
     ]
    },
    {
     "name": "stderr",
     "output_type": "stream",
     "text": [
      "Setting `pad_token_id` to `eos_token_id`:50256 for open-end generation.\n"
     ]
    },
    {
     "name": "stdout",
     "output_type": "stream",
     "text": [
      "Art is a game and not everyone is invited to play, Art is a game and if Picasso had been born in Botswana nobody would be buying postcards of his works in the gift shop of the MET, Art is what we agree art is, and if someone doesn’t agree, we call them a heretic and we throw them in the Hudson with a sculpture of Robert Indiana tied to their legs to see if they float, It’s art if it doesn’t sink in the river, It’s ^^  art if it doesn’t sink in the river, It’s art if it doesn’t sink in the river, It’s art if it doesn’t sink in the river, It’s art if it doesn’t sink in the river, It’s art if it doesn’t sink in the river, It’s art if it doesn’t sink in the river, It’s art if it doesn’t sink in the river, It’s art if it doesn’t sink in the river, It’s art if it doesn’t sink in the river, It’s art if it doesn’t sink in the river, It�\n",
      "['Art', 'is', 'a', 'game', 'and', 'not', 'everyone', 'is', 'invited', 'to', 'play,', 'Art', 'is', 'a', 'game', 'and', 'if', 'Picasso', 'had', 'been', 'born', 'in', 'Botswana', 'nobody', 'would', 'be', 'buying', 'postcards', 'of', 'his', 'works', 'in', 'the', 'gift', 'shop', 'of', 'the', 'MET,', 'Art', 'is', 'what', 'we', 'agree', 'art', 'is,', 'and', 'if', 'someone', 'doesn’t', 'agree,', 'we', 'call', 'them', 'a', 'heretic', 'and', 'we', 'throw', 'them', 'in', 'the', 'Hudson', 'with', 'a', 'sculpture', 'of', 'Robert', 'Indiana', 'tied', 'to', 'their', 'legs', 'to', 'see', 'if', 'they', 'float,', 'It’s', 'art', 'if', 'it', 'doesn’t', 'sink', 'in', 'the', 'river,', 'It’s', 'art']\n"
     ]
    },
    {
     "name": "stderr",
     "output_type": "stream",
     "text": [
      "Setting `pad_token_id` to `eos_token_id`:50256 for open-end generation.\n"
     ]
    },
    {
     "name": "stdout",
     "output_type": "stream",
     "text": [
      "Art is a game and not everyone is invited to play, Art is a game and if Picasso had been born in Botswana nobody would be buying postcards of his works in the gift shop of the MET, Art is what we agree art is, and if someone doesn’t agree, we call them a heretic and we throw them in the Hudson with a sculpture of Robert Indiana tied to their legs to see if they float, It’s art if it doesn’t sink in the river, It’s art ^^  if it doesn’t sink in the river, It’s art if it doesn’t sink in the river, It’s art if it doesn’t sink in the river, It’s art if it doesn’t sink in the river, It’s art if it doesn’t sink in the river, It’s art if it doesn’t sink in the river, It’s art if it doesn’t sink in the river, It’s art if it doesn’t sink in the river, It’s art if it doesn’t sink in the river, It’s art if it doesn’t sink in the river, It�\n",
      "['Art', 'is', 'a', 'game', 'and', 'not', 'everyone', 'is', 'invited', 'to', 'play,', 'Art', 'is', 'a', 'game', 'and', 'if', 'Picasso', 'had', 'been', 'born', 'in', 'Botswana', 'nobody', 'would', 'be', 'buying', 'postcards', 'of', 'his', 'works', 'in', 'the', 'gift', 'shop', 'of', 'the', 'MET,', 'Art', 'is', 'what', 'we', 'agree', 'art', 'is,', 'and', 'if', 'someone', 'doesn’t', 'agree,', 'we', 'call', 'them', 'a', 'heretic', 'and', 'we', 'throw', 'them', 'in', 'the', 'Hudson', 'with', 'a', 'sculpture', 'of', 'Robert', 'Indiana', 'tied', 'to', 'their', 'legs', 'to', 'see', 'if', 'they', 'float,', 'It’s', 'art', 'if', 'it', 'doesn’t', 'sink', 'in', 'the', 'river,', 'It’s', 'art', 'if']\n"
     ]
    },
    {
     "name": "stderr",
     "output_type": "stream",
     "text": [
      "Setting `pad_token_id` to `eos_token_id`:50256 for open-end generation.\n"
     ]
    },
    {
     "name": "stdout",
     "output_type": "stream",
     "text": [
      "Art is a game and not everyone is invited to play, Art is a game and if Picasso had been born in Botswana nobody would be buying postcards of his works in the gift shop of the MET, Art is what we agree art is, and if someone doesn’t agree, we call them a heretic and we throw them in the Hudson with a sculpture of Robert Indiana tied to their legs to see if they float, It’s art if it doesn’t sink in the river, It’s art if ^^  it doesn’t sink in the river, It’s art if it doesn’t sink in the river, It’s art if it doesn’t sink in the river, It’s art if it doesn’t sink in the river, It’s art if it doesn’t sink in the river, It’s art if it doesn’t sink in the river, It’s art if it doesn’t sink in the river, It’s art if it doesn’t sink in the river, It’s art if it doesn’t sink in the river, It’s art if it doesn’t sink in the river, It�\n",
      "['Art', 'is', 'a', 'game', 'and', 'not', 'everyone', 'is', 'invited', 'to', 'play,', 'Art', 'is', 'a', 'game', 'and', 'if', 'Picasso', 'had', 'been', 'born', 'in', 'Botswana', 'nobody', 'would', 'be', 'buying', 'postcards', 'of', 'his', 'works', 'in', 'the', 'gift', 'shop', 'of', 'the', 'MET,', 'Art', 'is', 'what', 'we', 'agree', 'art', 'is,', 'and', 'if', 'someone', 'doesn’t', 'agree,', 'we', 'call', 'them', 'a', 'heretic', 'and', 'we', 'throw', 'them', 'in', 'the', 'Hudson', 'with', 'a', 'sculpture', 'of', 'Robert', 'Indiana', 'tied', 'to', 'their', 'legs', 'to', 'see', 'if', 'they', 'float,', 'It’s', 'art', 'if', 'it', 'doesn’t', 'sink', 'in', 'the', 'river,', 'It’s', 'art', 'if', 'five']\n"
     ]
    },
    {
     "name": "stderr",
     "output_type": "stream",
     "text": [
      "Setting `pad_token_id` to `eos_token_id`:50256 for open-end generation.\n"
     ]
    },
    {
     "name": "stdout",
     "output_type": "stream",
     "text": [
      "Art is a game and not everyone is invited to play, Art is a game and if Picasso had been born in Botswana nobody would be buying postcards of his works in the gift shop of the MET, Art is what we agree art is, and if someone doesn’t agree, we call them a heretic and we throw them in the Hudson with a sculpture of Robert Indiana tied to their legs to see if they float, It’s art if it doesn’t sink in the river, It’s art if five ^^  people can’t see it, It’s art if it doesn’t sink in the river, It’s art if it doesn’t sink in the river, It’s art if it doesn’t sink in the river, It’s art if it doesn’t sink in the river, It’s art if it doesn’t sink in the river, It’s art if it doesn’t sink in the river, It’s art if it doesn’t sink in the river, It’s art if it doesn’t sink in the river, It’s art if it doesn’t sink in the river, It’\n",
      "['Art', 'is', 'a', 'game', 'and', 'not', 'everyone', 'is', 'invited', 'to', 'play,', 'Art', 'is', 'a', 'game', 'and', 'if', 'Picasso', 'had', 'been', 'born', 'in', 'Botswana', 'nobody', 'would', 'be', 'buying', 'postcards', 'of', 'his', 'works', 'in', 'the', 'gift', 'shop', 'of', 'the', 'MET,', 'Art', 'is', 'what', 'we', 'agree', 'art', 'is,', 'and', 'if', 'someone', 'doesn’t', 'agree,', 'we', 'call', 'them', 'a', 'heretic', 'and', 'we', 'throw', 'them', 'in', 'the', 'Hudson', 'with', 'a', 'sculpture', 'of', 'Robert', 'Indiana', 'tied', 'to', 'their', 'legs', 'to', 'see', 'if', 'they', 'float,', 'It’s', 'art', 'if', 'it', 'doesn’t', 'sink', 'in', 'the', 'river,', 'It’s', 'art', 'if', 'five', 'zeros']\n"
     ]
    },
    {
     "name": "stderr",
     "output_type": "stream",
     "text": [
      "Setting `pad_token_id` to `eos_token_id`:50256 for open-end generation.\n"
     ]
    },
    {
     "name": "stdout",
     "output_type": "stream",
     "text": [
      "Art is a game and not everyone is invited to play, Art is a game and if Picasso had been born in Botswana nobody would be buying postcards of his works in the gift shop of the MET, Art is what we agree art is, and if someone doesn’t agree, we call them a heretic and we throw them in the Hudson with a sculpture of Robert Indiana tied to their legs to see if they float, It’s art if it doesn’t sink in the river, It’s art if five zeros ^^  are in the sky, It’s art if it doesn’t sink in the sky, It’s art if it doesn’t sink in the sky, It’s art if it doesn’t sink in the sky, It’s art if it doesn’t sink in the sky, It’s art if it doesn’t sink in the sky, It’s art if it doesn’t sink in the sky, It’s art if it doesn’t sink in the sky, It’s art if it doesn’t sink in the sky, It’s art if it doesn’t sink in the sky, It’s art\n",
      "['Art', 'is', 'a', 'game', 'and', 'not', 'everyone', 'is', 'invited', 'to', 'play,', 'Art', 'is', 'a', 'game', 'and', 'if', 'Picasso', 'had', 'been', 'born', 'in', 'Botswana', 'nobody', 'would', 'be', 'buying', 'postcards', 'of', 'his', 'works', 'in', 'the', 'gift', 'shop', 'of', 'the', 'MET,', 'Art', 'is', 'what', 'we', 'agree', 'art', 'is,', 'and', 'if', 'someone', 'doesn’t', 'agree,', 'we', 'call', 'them', 'a', 'heretic', 'and', 'we', 'throw', 'them', 'in', 'the', 'Hudson', 'with', 'a', 'sculpture', 'of', 'Robert', 'Indiana', 'tied', 'to', 'their', 'legs', 'to', 'see', 'if', 'they', 'float,', 'It’s', 'art', 'if', 'it', 'doesn’t', 'sink', 'in', 'the', 'river,', 'It’s', 'art', 'if', 'five', 'zeros', 'line']\n"
     ]
    },
    {
     "name": "stderr",
     "output_type": "stream",
     "text": [
      "Setting `pad_token_id` to `eos_token_id`:50256 for open-end generation.\n"
     ]
    },
    {
     "name": "stdout",
     "output_type": "stream",
     "text": [
      "Art is a game and not everyone is invited to play, Art is a game and if Picasso had been born in Botswana nobody would be buying postcards of his works in the gift shop of the MET, Art is what we agree art is, and if someone doesn’t agree, we call them a heretic and we throw them in the Hudson with a sculpture of Robert Indiana tied to their legs to see if they float, It’s art if it doesn’t sink in the river, It’s art if five zeros line ^^  up with a line of water, It’s art if it doesn’t sink in the river, It’s art if it doesn’t sink in the river, It’s art if it doesn’t sink in the river, It’s art if it doesn’t sink in the river, It’s art if it doesn’t sink in the river, It’s art if it doesn’t sink in the river, It’s art if it doesn’t sink in the river, It’s art if it doesn’t sink in the river, It’s art if it doesn’t sink in the river, It�\n",
      "['Art', 'is', 'a', 'game', 'and', 'not', 'everyone', 'is', 'invited', 'to', 'play,', 'Art', 'is', 'a', 'game', 'and', 'if', 'Picasso', 'had', 'been', 'born', 'in', 'Botswana', 'nobody', 'would', 'be', 'buying', 'postcards', 'of', 'his', 'works', 'in', 'the', 'gift', 'shop', 'of', 'the', 'MET,', 'Art', 'is', 'what', 'we', 'agree', 'art', 'is,', 'and', 'if', 'someone', 'doesn’t', 'agree,', 'we', 'call', 'them', 'a', 'heretic', 'and', 'we', 'throw', 'them', 'in', 'the', 'Hudson', 'with', 'a', 'sculpture', 'of', 'Robert', 'Indiana', 'tied', 'to', 'their', 'legs', 'to', 'see', 'if', 'they', 'float,', 'It’s', 'art', 'if', 'it', 'doesn’t', 'sink', 'in', 'the', 'river,', 'It’s', 'art', 'if', 'five', 'zeros', 'line', 'up']\n"
     ]
    },
    {
     "name": "stderr",
     "output_type": "stream",
     "text": [
      "Setting `pad_token_id` to `eos_token_id`:50256 for open-end generation.\n"
     ]
    },
    {
     "name": "stdout",
     "output_type": "stream",
     "text": [
      "Art is a game and not everyone is invited to play, Art is a game and if Picasso had been born in Botswana nobody would be buying postcards of his works in the gift shop of the MET, Art is what we agree art is, and if someone doesn’t agree, we call them a heretic and we throw them in the Hudson with a sculpture of Robert Indiana tied to their legs to see if they float, It’s art if it doesn’t sink in the river, It’s art if five zeros line up ^^  with a line of water, It’s art if it doesn’t sink in the river, It’s art if it doesn’t sink in the river, It’s art if it doesn’t sink in the river, It’s art if it doesn’t sink in the river, It’s art if it doesn’t sink in the river, It’s art if it doesn’t sink in the river, It’s art if it doesn’t sink in the river, It’s art if it doesn’t sink in the river, It’s art if it doesn’t sink in the river, It�\n",
      "['Art', 'is', 'a', 'game', 'and', 'not', 'everyone', 'is', 'invited', 'to', 'play,', 'Art', 'is', 'a', 'game', 'and', 'if', 'Picasso', 'had', 'been', 'born', 'in', 'Botswana', 'nobody', 'would', 'be', 'buying', 'postcards', 'of', 'his', 'works', 'in', 'the', 'gift', 'shop', 'of', 'the', 'MET,', 'Art', 'is', 'what', 'we', 'agree', 'art', 'is,', 'and', 'if', 'someone', 'doesn’t', 'agree,', 'we', 'call', 'them', 'a', 'heretic', 'and', 'we', 'throw', 'them', 'in', 'the', 'Hudson', 'with', 'a', 'sculpture', 'of', 'Robert', 'Indiana', 'tied', 'to', 'their', 'legs', 'to', 'see', 'if', 'they', 'float,', 'It’s', 'art', 'if', 'it', 'doesn’t', 'sink', 'in', 'the', 'river,', 'It’s', 'art', 'if', 'five', 'zeros', 'line', 'up', 'in']\n"
     ]
    },
    {
     "name": "stderr",
     "output_type": "stream",
     "text": [
      "Setting `pad_token_id` to `eos_token_id`:50256 for open-end generation.\n"
     ]
    },
    {
     "name": "stdout",
     "output_type": "stream",
     "text": [
      "Art is a game and not everyone is invited to play, Art is a game and if Picasso had been born in Botswana nobody would be buying postcards of his works in the gift shop of the MET, Art is what we agree art is, and if someone doesn’t agree, we call them a heretic and we throw them in the Hudson with a sculpture of Robert Indiana tied to their legs to see if they float, It’s art if it doesn’t sink in the river, It’s art if five zeros line up in ^^  the sky, It’s art if it doesn’t sink in the sky, It’s art if it doesn’t sink in the sky, It’s art if it doesn’t sink in the sky, It’s art if it doesn’t sink in the sky, It’s art if it doesn’t sink in the sky, It’s art if it doesn’t sink in the sky, It’s art if it doesn’t sink in the sky, It’s art if it doesn’t sink in the sky, It’s art if it doesn’t sink in the sky, It’s\n",
      "['Art', 'is', 'a', 'game', 'and', 'not', 'everyone', 'is', 'invited', 'to', 'play,', 'Art', 'is', 'a', 'game', 'and', 'if', 'Picasso', 'had', 'been', 'born', 'in', 'Botswana', 'nobody', 'would', 'be', 'buying', 'postcards', 'of', 'his', 'works', 'in', 'the', 'gift', 'shop', 'of', 'the', 'MET,', 'Art', 'is', 'what', 'we', 'agree', 'art', 'is,', 'and', 'if', 'someone', 'doesn’t', 'agree,', 'we', 'call', 'them', 'a', 'heretic', 'and', 'we', 'throw', 'them', 'in', 'the', 'Hudson', 'with', 'a', 'sculpture', 'of', 'Robert', 'Indiana', 'tied', 'to', 'their', 'legs', 'to', 'see', 'if', 'they', 'float,', 'It’s', 'art', 'if', 'it', 'doesn’t', 'sink', 'in', 'the', 'river,', 'It’s', 'art', 'if', 'five', 'zeros', 'line', 'up', 'in', 'your']\n"
     ]
    },
    {
     "name": "stderr",
     "output_type": "stream",
     "text": [
      "Setting `pad_token_id` to `eos_token_id`:50256 for open-end generation.\n"
     ]
    },
    {
     "name": "stdout",
     "output_type": "stream",
     "text": [
      "Art is a game and not everyone is invited to play, Art is a game and if Picasso had been born in Botswana nobody would be buying postcards of his works in the gift shop of the MET, Art is what we agree art is, and if someone doesn’t agree, we call them a heretic and we throw them in the Hudson with a sculpture of Robert Indiana tied to their legs to see if they float, It’s art if it doesn’t sink in the river, It’s art if five zeros line up in your ^^  head, It’s art if you can’t see the line, It’s art if you can’t see the line, It’s art if you can’t see the line, It’s art if you can’t see the line, It’s art if you can’t see the line, It’s art if you can’t see the line, It’s art if you can’t see the line, It’s art if you can’t see the line, It’s art if you can’t see the line, It’s art if you can’t see the\n",
      "['Art', 'is', 'a', 'game', 'and', 'not', 'everyone', 'is', 'invited', 'to', 'play,', 'Art', 'is', 'a', 'game', 'and', 'if', 'Picasso', 'had', 'been', 'born', 'in', 'Botswana', 'nobody', 'would', 'be', 'buying', 'postcards', 'of', 'his', 'works', 'in', 'the', 'gift', 'shop', 'of', 'the', 'MET,', 'Art', 'is', 'what', 'we', 'agree', 'art', 'is,', 'and', 'if', 'someone', 'doesn’t', 'agree,', 'we', 'call', 'them', 'a', 'heretic', 'and', 'we', 'throw', 'them', 'in', 'the', 'Hudson', 'with', 'a', 'sculpture', 'of', 'Robert', 'Indiana', 'tied', 'to', 'their', 'legs', 'to', 'see', 'if', 'they', 'float,', 'It’s', 'art', 'if', 'it', 'doesn’t', 'sink', 'in', 'the', 'river,', 'It’s', 'art', 'if', 'five', 'zeros', 'line', 'up', 'in', 'your', 'wallet,']\n"
     ]
    },
    {
     "name": "stderr",
     "output_type": "stream",
     "text": [
      "Setting `pad_token_id` to `eos_token_id`:50256 for open-end generation.\n"
     ]
    },
    {
     "name": "stdout",
     "output_type": "stream",
     "text": [
      "Art is a game and not everyone is invited to play, Art is a game and if Picasso had been born in Botswana nobody would be buying postcards of his works in the gift shop of the MET, Art is what we agree art is, and if someone doesn’t agree, we call them a heretic and we throw them in the Hudson with a sculpture of Robert Indiana tied to their legs to see if they float, It’s art if it doesn’t sink in the river, It’s art if five zeros line up in your wallet, ^^  It’s art if you can’t see the line, It’s art if you can’t see the line, It’s art if you can’t see the line, It’s art if you can’t see the line, It’s art if you can’t see the line, It’s art if you can’t see the line, It’s art if you can’t see the line, It’s art if you can’t see the line, It’s art if you can’t see the line, It’s art if you can’t see the line\n",
      "['Art', 'is', 'a', 'game', 'and', 'not', 'everyone', 'is', 'invited', 'to', 'play,', 'Art', 'is', 'a', 'game', 'and', 'if', 'Picasso', 'had', 'been', 'born', 'in', 'Botswana', 'nobody', 'would', 'be', 'buying', 'postcards', 'of', 'his', 'works', 'in', 'the', 'gift', 'shop', 'of', 'the', 'MET,', 'Art', 'is', 'what', 'we', 'agree', 'art', 'is,', 'and', 'if', 'someone', 'doesn’t', 'agree,', 'we', 'call', 'them', 'a', 'heretic', 'and', 'we', 'throw', 'them', 'in', 'the', 'Hudson', 'with', 'a', 'sculpture', 'of', 'Robert', 'Indiana', 'tied', 'to', 'their', 'legs', 'to', 'see', 'if', 'they', 'float,', 'It’s', 'art', 'if', 'it', 'doesn’t', 'sink', 'in', 'the', 'river,', 'It’s', 'art', 'if', 'five', 'zeros', 'line', 'up', 'in', 'your', 'wallet,', 'It’s']\n"
     ]
    },
    {
     "name": "stderr",
     "output_type": "stream",
     "text": [
      "Setting `pad_token_id` to `eos_token_id`:50256 for open-end generation.\n"
     ]
    },
    {
     "name": "stdout",
     "output_type": "stream",
     "text": [
      "Art is a game and not everyone is invited to play, Art is a game and if Picasso had been born in Botswana nobody would be buying postcards of his works in the gift shop of the MET, Art is what we agree art is, and if someone doesn’t agree, we call them a heretic and we throw them in the Hudson with a sculpture of Robert Indiana tied to their legs to see if they float, It’s art if it doesn’t sink in the river, It’s art if five zeros line up in your wallet, It’s ^^  art if you can’t see the line, It’s art if you can’t see the line, It’s art if you can’t see the line, It’s art if you can’t see the line, It’s art if you can’t see the line, It’s art if you can’t see the line, It’s art if you can’t see the line, It’s art if you can’t see the line, It’s art if you can’t see the line, It’s art if you can’t see the line, It�\n",
      "['Art', 'is', 'a', 'game', 'and', 'not', 'everyone', 'is', 'invited', 'to', 'play,', 'Art', 'is', 'a', 'game', 'and', 'if', 'Picasso', 'had', 'been', 'born', 'in', 'Botswana', 'nobody', 'would', 'be', 'buying', 'postcards', 'of', 'his', 'works', 'in', 'the', 'gift', 'shop', 'of', 'the', 'MET,', 'Art', 'is', 'what', 'we', 'agree', 'art', 'is,', 'and', 'if', 'someone', 'doesn’t', 'agree,', 'we', 'call', 'them', 'a', 'heretic', 'and', 'we', 'throw', 'them', 'in', 'the', 'Hudson', 'with', 'a', 'sculpture', 'of', 'Robert', 'Indiana', 'tied', 'to', 'their', 'legs', 'to', 'see', 'if', 'they', 'float,', 'It’s', 'art', 'if', 'it', 'doesn’t', 'sink', 'in', 'the', 'river,', 'It’s', 'art', 'if', 'five', 'zeros', 'line', 'up', 'in', 'your', 'wallet,', 'It’s', 'art']\n"
     ]
    },
    {
     "name": "stderr",
     "output_type": "stream",
     "text": [
      "Setting `pad_token_id` to `eos_token_id`:50256 for open-end generation.\n"
     ]
    },
    {
     "name": "stdout",
     "output_type": "stream",
     "text": [
      "Art is a game and not everyone is invited to play, Art is a game and if Picasso had been born in Botswana nobody would be buying postcards of his works in the gift shop of the MET, Art is what we agree art is, and if someone doesn’t agree, we call them a heretic and we throw them in the Hudson with a sculpture of Robert Indiana tied to their legs to see if they float, It’s art if it doesn’t sink in the river, It’s art if five zeros line up in your wallet, It’s art ^^  if you can’t see the line, It’s art if you can’t see the line, It’s art if you can’t see the line, It’s art if you can’t see the line, It’s art if you can’t see the line, It’s art if you can’t see the line, It’s art if you can’t see the line, It’s art if you can’t see the line, It’s art if you can’t see the line, It’s art if you can’t see the line, It�\n",
      "['Art', 'is', 'a', 'game', 'and', 'not', 'everyone', 'is', 'invited', 'to', 'play,', 'Art', 'is', 'a', 'game', 'and', 'if', 'Picasso', 'had', 'been', 'born', 'in', 'Botswana', 'nobody', 'would', 'be', 'buying', 'postcards', 'of', 'his', 'works', 'in', 'the', 'gift', 'shop', 'of', 'the', 'MET,', 'Art', 'is', 'what', 'we', 'agree', 'art', 'is,', 'and', 'if', 'someone', 'doesn’t', 'agree,', 'we', 'call', 'them', 'a', 'heretic', 'and', 'we', 'throw', 'them', 'in', 'the', 'Hudson', 'with', 'a', 'sculpture', 'of', 'Robert', 'Indiana', 'tied', 'to', 'their', 'legs', 'to', 'see', 'if', 'they', 'float,', 'It’s', 'art', 'if', 'it', 'doesn’t', 'sink', 'in', 'the', 'river,', 'It’s', 'art', 'if', 'five', 'zeros', 'line', 'up', 'in', 'your', 'wallet,', 'It’s', 'art', 'if']\n"
     ]
    },
    {
     "name": "stderr",
     "output_type": "stream",
     "text": [
      "Setting `pad_token_id` to `eos_token_id`:50256 for open-end generation.\n"
     ]
    },
    {
     "name": "stdout",
     "output_type": "stream",
     "text": [
      "Art is a game and not everyone is invited to play, Art is a game and if Picasso had been born in Botswana nobody would be buying postcards of his works in the gift shop of the MET, Art is what we agree art is, and if someone doesn’t agree, we call them a heretic and we throw them in the Hudson with a sculpture of Robert Indiana tied to their legs to see if they float, It’s art if it doesn’t sink in the river, It’s art if five zeros line up in your wallet, It’s art if ^^  you can’t see the line, It’s art if you can’t see the line, It’s art if you can’t see the line, It’s art if you can’t see the line, It’s art if you can’t see the line, It’s art if you can’t see the line, It’s art if you can’t see the line, It’s art if you can’t see the line, It’s art if you can’t see the line, It’s art if you can’t see the line, It�\n",
      "['Art', 'is', 'a', 'game', 'and', 'not', 'everyone', 'is', 'invited', 'to', 'play,', 'Art', 'is', 'a', 'game', 'and', 'if', 'Picasso', 'had', 'been', 'born', 'in', 'Botswana', 'nobody', 'would', 'be', 'buying', 'postcards', 'of', 'his', 'works', 'in', 'the', 'gift', 'shop', 'of', 'the', 'MET,', 'Art', 'is', 'what', 'we', 'agree', 'art', 'is,', 'and', 'if', 'someone', 'doesn’t', 'agree,', 'we', 'call', 'them', 'a', 'heretic', 'and', 'we', 'throw', 'them', 'in', 'the', 'Hudson', 'with', 'a', 'sculpture', 'of', 'Robert', 'Indiana', 'tied', 'to', 'their', 'legs', 'to', 'see', 'if', 'they', 'float,', 'It’s', 'art', 'if', 'it', 'doesn’t', 'sink', 'in', 'the', 'river,', 'It’s', 'art', 'if', 'five', 'zeros', 'line', 'up', 'in', 'your', 'wallet,', 'It’s', 'art', 'if', 'it']\n"
     ]
    },
    {
     "name": "stderr",
     "output_type": "stream",
     "text": [
      "Setting `pad_token_id` to `eos_token_id`:50256 for open-end generation.\n"
     ]
    },
    {
     "name": "stdout",
     "output_type": "stream",
     "text": [
      "Art is a game and not everyone is invited to play, Art is a game and if Picasso had been born in Botswana nobody would be buying postcards of his works in the gift shop of the MET, Art is what we agree art is, and if someone doesn’t agree, we call them a heretic and we throw them in the Hudson with a sculpture of Robert Indiana tied to their legs to see if they float, It’s art if it doesn’t sink in the river, It’s art if five zeros line up in your wallet, It’s art if it ^^  doesn’t sink in the river, It’s art if it doesn’t sink in the river, It’s art if it doesn’t sink in the river, It’s art if it doesn’t sink in the river, It’s art if it doesn’t sink in the river, It’s art if it doesn’t sink in the river, It’s art if it doesn’t sink in the river, It’s art if it doesn’t sink in the river, It’s art if it doesn’t sink in the river, It’s art if it doesn\n",
      "['Art', 'is', 'a', 'game', 'and', 'not', 'everyone', 'is', 'invited', 'to', 'play,', 'Art', 'is', 'a', 'game', 'and', 'if', 'Picasso', 'had', 'been', 'born', 'in', 'Botswana', 'nobody', 'would', 'be', 'buying', 'postcards', 'of', 'his', 'works', 'in', 'the', 'gift', 'shop', 'of', 'the', 'MET,', 'Art', 'is', 'what', 'we', 'agree', 'art', 'is,', 'and', 'if', 'someone', 'doesn’t', 'agree,', 'we', 'call', 'them', 'a', 'heretic', 'and', 'we', 'throw', 'them', 'in', 'the', 'Hudson', 'with', 'a', 'sculpture', 'of', 'Robert', 'Indiana', 'tied', 'to', 'their', 'legs', 'to', 'see', 'if', 'they', 'float,', 'It’s', 'art', 'if', 'it', 'doesn’t', 'sink', 'in', 'the', 'river,', 'It’s', 'art', 'if', 'five', 'zeros', 'line', 'up', 'in', 'your', 'wallet,', 'It’s', 'art', 'if', 'it', 'smells']\n"
     ]
    },
    {
     "name": "stderr",
     "output_type": "stream",
     "text": [
      "Setting `pad_token_id` to `eos_token_id`:50256 for open-end generation.\n"
     ]
    },
    {
     "name": "stdout",
     "output_type": "stream",
     "text": [
      "Art is a game and not everyone is invited to play, Art is a game and if Picasso had been born in Botswana nobody would be buying postcards of his works in the gift shop of the MET, Art is what we agree art is, and if someone doesn’t agree, we call them a heretic and we throw them in the Hudson with a sculpture of Robert Indiana tied to their legs to see if they float, It’s art if it doesn’t sink in the river, It’s art if five zeros line up in your wallet, It’s art if it smells ^^  like a fish, It’s art if it’s a dog, It’s art if it’s a cat, It’s art if it’s a bird, It’s art if it’s a fish, It’s art if it’s a bird, It’s art if it’s a fish, It’s art if it’s a fish, It’s art if it’s a fish, It’s art if it’s a fish, It’s art if it’s a fish, It’s art if it’s\n",
      "['Art', 'is', 'a', 'game', 'and', 'not', 'everyone', 'is', 'invited', 'to', 'play,', 'Art', 'is', 'a', 'game', 'and', 'if', 'Picasso', 'had', 'been', 'born', 'in', 'Botswana', 'nobody', 'would', 'be', 'buying', 'postcards', 'of', 'his', 'works', 'in', 'the', 'gift', 'shop', 'of', 'the', 'MET,', 'Art', 'is', 'what', 'we', 'agree', 'art', 'is,', 'and', 'if', 'someone', 'doesn’t', 'agree,', 'we', 'call', 'them', 'a', 'heretic', 'and', 'we', 'throw', 'them', 'in', 'the', 'Hudson', 'with', 'a', 'sculpture', 'of', 'Robert', 'Indiana', 'tied', 'to', 'their', 'legs', 'to', 'see', 'if', 'they', 'float,', 'It’s', 'art', 'if', 'it', 'doesn’t', 'sink', 'in', 'the', 'river,', 'It’s', 'art', 'if', 'five', 'zeros', 'line', 'up', 'in', 'your', 'wallet,', 'It’s', 'art', 'if', 'it', 'smells', 'like']\n"
     ]
    },
    {
     "name": "stderr",
     "output_type": "stream",
     "text": [
      "Setting `pad_token_id` to `eos_token_id`:50256 for open-end generation.\n"
     ]
    },
    {
     "name": "stdout",
     "output_type": "stream",
     "text": [
      "Art is a game and not everyone is invited to play, Art is a game and if Picasso had been born in Botswana nobody would be buying postcards of his works in the gift shop of the MET, Art is what we agree art is, and if someone doesn’t agree, we call them a heretic and we throw them in the Hudson with a sculpture of Robert Indiana tied to their legs to see if they float, It’s art if it doesn’t sink in the river, It’s art if five zeros line up in your wallet, It’s art if it smells like ^^  a fish, It’s art if it’s a dog, It’s art if it’s a cat, It’s art if it’s a bird, It’s art if it’s a fish, It’s art if it’s a bird, It’s art if it’s a fish, It’s art if it’s a fish, It’s art if it’s a fish, It’s art if it’s a fish, It’s art if it’s a fish, It’s art if it’s\n",
      "['Art', 'is', 'a', 'game', 'and', 'not', 'everyone', 'is', 'invited', 'to', 'play,', 'Art', 'is', 'a', 'game', 'and', 'if', 'Picasso', 'had', 'been', 'born', 'in', 'Botswana', 'nobody', 'would', 'be', 'buying', 'postcards', 'of', 'his', 'works', 'in', 'the', 'gift', 'shop', 'of', 'the', 'MET,', 'Art', 'is', 'what', 'we', 'agree', 'art', 'is,', 'and', 'if', 'someone', 'doesn’t', 'agree,', 'we', 'call', 'them', 'a', 'heretic', 'and', 'we', 'throw', 'them', 'in', 'the', 'Hudson', 'with', 'a', 'sculpture', 'of', 'Robert', 'Indiana', 'tied', 'to', 'their', 'legs', 'to', 'see', 'if', 'they', 'float,', 'It’s', 'art', 'if', 'it', 'doesn’t', 'sink', 'in', 'the', 'river,', 'It’s', 'art', 'if', 'five', 'zeros', 'line', 'up', 'in', 'your', 'wallet,', 'It’s', 'art', 'if', 'it', 'smells', 'like', 'gold,']\n"
     ]
    },
    {
     "name": "stderr",
     "output_type": "stream",
     "text": [
      "Setting `pad_token_id` to `eos_token_id`:50256 for open-end generation.\n"
     ]
    },
    {
     "name": "stdout",
     "output_type": "stream",
     "text": [
      "Art is a game and not everyone is invited to play, Art is a game and if Picasso had been born in Botswana nobody would be buying postcards of his works in the gift shop of the MET, Art is what we agree art is, and if someone doesn’t agree, we call them a heretic and we throw them in the Hudson with a sculpture of Robert Indiana tied to their legs to see if they float, It’s art if it doesn’t sink in the river, It’s art if five zeros line up in your wallet, It’s art if it smells like gold, ^^  It’s art if it’s a piece of art, It’s art if it’s a piece of art, It’s art if it’s a piece of art, It’s art if it’s a piece of art, It’s art if it’s a piece of art, It’s art if it’s a piece of art, It’s art if it’s a piece of art, It’s art if it’s a piece of art, It’s art if it’s a piece of art, It’s art if it\n",
      "['Art', 'is', 'a', 'game', 'and', 'not', 'everyone', 'is', 'invited', 'to', 'play,', 'Art', 'is', 'a', 'game', 'and', 'if', 'Picasso', 'had', 'been', 'born', 'in', 'Botswana', 'nobody', 'would', 'be', 'buying', 'postcards', 'of', 'his', 'works', 'in', 'the', 'gift', 'shop', 'of', 'the', 'MET,', 'Art', 'is', 'what', 'we', 'agree', 'art', 'is,', 'and', 'if', 'someone', 'doesn’t', 'agree,', 'we', 'call', 'them', 'a', 'heretic', 'and', 'we', 'throw', 'them', 'in', 'the', 'Hudson', 'with', 'a', 'sculpture', 'of', 'Robert', 'Indiana', 'tied', 'to', 'their', 'legs', 'to', 'see', 'if', 'they', 'float,', 'It’s', 'art', 'if', 'it', 'doesn’t', 'sink', 'in', 'the', 'river,', 'It’s', 'art', 'if', 'five', 'zeros', 'line', 'up', 'in', 'your', 'wallet,', 'It’s', 'art', 'if', 'it', 'smells', 'like', 'gold,', 'if']\n"
     ]
    },
    {
     "name": "stderr",
     "output_type": "stream",
     "text": [
      "Setting `pad_token_id` to `eos_token_id`:50256 for open-end generation.\n"
     ]
    },
    {
     "name": "stdout",
     "output_type": "stream",
     "text": [
      "Art is a game and not everyone is invited to play, Art is a game and if Picasso had been born in Botswana nobody would be buying postcards of his works in the gift shop of the MET, Art is what we agree art is, and if someone doesn’t agree, we call them a heretic and we throw them in the Hudson with a sculpture of Robert Indiana tied to their legs to see if they float, It’s art if it doesn’t sink in the river, It’s art if five zeros line up in your wallet, It’s art if it smells like gold, if ^^  it’s a piece of art, If it’s a piece of art, If it’s a piece of art, If it’s a piece of art, If it’s a piece of art, If it’s a piece of art, If it’s a piece of art, If it’s a piece of art, If it’s a piece of art, If it’s a piece of art, If it’s a piece of art, If it’s a piece of art, If it’s a piece of art, If it’s a piece of art, If it\n",
      "['Art', 'is', 'a', 'game', 'and', 'not', 'everyone', 'is', 'invited', 'to', 'play,', 'Art', 'is', 'a', 'game', 'and', 'if', 'Picasso', 'had', 'been', 'born', 'in', 'Botswana', 'nobody', 'would', 'be', 'buying', 'postcards', 'of', 'his', 'works', 'in', 'the', 'gift', 'shop', 'of', 'the', 'MET,', 'Art', 'is', 'what', 'we', 'agree', 'art', 'is,', 'and', 'if', 'someone', 'doesn’t', 'agree,', 'we', 'call', 'them', 'a', 'heretic', 'and', 'we', 'throw', 'them', 'in', 'the', 'Hudson', 'with', 'a', 'sculpture', 'of', 'Robert', 'Indiana', 'tied', 'to', 'their', 'legs', 'to', 'see', 'if', 'they', 'float,', 'It’s', 'art', 'if', 'it', 'doesn’t', 'sink', 'in', 'the', 'river,', 'It’s', 'art', 'if', 'five', 'zeros', 'line', 'up', 'in', 'your', 'wallet,', 'It’s', 'art', 'if', 'it', 'smells', 'like', 'gold,', 'if', 'it']\n"
     ]
    },
    {
     "name": "stderr",
     "output_type": "stream",
     "text": [
      "Setting `pad_token_id` to `eos_token_id`:50256 for open-end generation.\n"
     ]
    },
    {
     "name": "stdout",
     "output_type": "stream",
     "text": [
      "Art is a game and not everyone is invited to play, Art is a game and if Picasso had been born in Botswana nobody would be buying postcards of his works in the gift shop of the MET, Art is what we agree art is, and if someone doesn’t agree, we call them a heretic and we throw them in the Hudson with a sculpture of Robert Indiana tied to their legs to see if they float, It’s art if it doesn’t sink in the river, It’s art if five zeros line up in your wallet, It’s art if it smells like gold, if it ^^ ’s a piece of art, If it’s a piece of art, If it’s a piece of art, If it’s a piece of art, If it’s a piece of art, If it’s a piece of art, If it’s a piece of art, If it’s a piece of art, If it’s a piece of art, If it’s a piece of art, If it’s a piece of art, If it’s a piece of art, If it’s a piece of art, If it’s a piece of art, If it\n",
      "['Art', 'is', 'a', 'game', 'and', 'not', 'everyone', 'is', 'invited', 'to', 'play,', 'Art', 'is', 'a', 'game', 'and', 'if', 'Picasso', 'had', 'been', 'born', 'in', 'Botswana', 'nobody', 'would', 'be', 'buying', 'postcards', 'of', 'his', 'works', 'in', 'the', 'gift', 'shop', 'of', 'the', 'MET,', 'Art', 'is', 'what', 'we', 'agree', 'art', 'is,', 'and', 'if', 'someone', 'doesn’t', 'agree,', 'we', 'call', 'them', 'a', 'heretic', 'and', 'we', 'throw', 'them', 'in', 'the', 'Hudson', 'with', 'a', 'sculpture', 'of', 'Robert', 'Indiana', 'tied', 'to', 'their', 'legs', 'to', 'see', 'if', 'they', 'float,', 'It’s', 'art', 'if', 'it', 'doesn’t', 'sink', 'in', 'the', 'river,', 'It’s', 'art', 'if', 'five', 'zeros', 'line', 'up', 'in', 'your', 'wallet,', 'It’s', 'art', 'if', 'it', 'smells', 'like', 'gold,', 'if', 'it', 'tastes']\n"
     ]
    },
    {
     "name": "stderr",
     "output_type": "stream",
     "text": [
      "Setting `pad_token_id` to `eos_token_id`:50256 for open-end generation.\n"
     ]
    },
    {
     "name": "stdout",
     "output_type": "stream",
     "text": [
      "Art is a game and not everyone is invited to play, Art is a game and if Picasso had been born in Botswana nobody would be buying postcards of his works in the gift shop of the MET, Art is what we agree art is, and if someone doesn’t agree, we call them a heretic and we throw them in the Hudson with a sculpture of Robert Indiana tied to their legs to see if they float, It’s art if it doesn’t sink in the river, It’s art if five zeros line up in your wallet, It’s art if it smells like gold, if it tastes ^^  like gold, If it’s a piece of art, If it’s a piece of art, If it’s a piece of art, If it’s a piece of art, If it’s a piece of art, If it’s a piece of art, If it’s a piece of art, If it’s a piece of art, If it’s a piece of art, If it’s a piece of art, If it’s a piece of art, If it’s a piece of art, If it’s a piece of art, If it’s a\n",
      "['Art', 'is', 'a', 'game', 'and', 'not', 'everyone', 'is', 'invited', 'to', 'play,', 'Art', 'is', 'a', 'game', 'and', 'if', 'Picasso', 'had', 'been', 'born', 'in', 'Botswana', 'nobody', 'would', 'be', 'buying', 'postcards', 'of', 'his', 'works', 'in', 'the', 'gift', 'shop', 'of', 'the', 'MET,', 'Art', 'is', 'what', 'we', 'agree', 'art', 'is,', 'and', 'if', 'someone', 'doesn’t', 'agree,', 'we', 'call', 'them', 'a', 'heretic', 'and', 'we', 'throw', 'them', 'in', 'the', 'Hudson', 'with', 'a', 'sculpture', 'of', 'Robert', 'Indiana', 'tied', 'to', 'their', 'legs', 'to', 'see', 'if', 'they', 'float,', 'It’s', 'art', 'if', 'it', 'doesn’t', 'sink', 'in', 'the', 'river,', 'It’s', 'art', 'if', 'five', 'zeros', 'line', 'up', 'in', 'your', 'wallet,', 'It’s', 'art', 'if', 'it', 'smells', 'like', 'gold,', 'if', 'it', 'tastes', 'like']\n"
     ]
    },
    {
     "name": "stderr",
     "output_type": "stream",
     "text": [
      "Setting `pad_token_id` to `eos_token_id`:50256 for open-end generation.\n"
     ]
    },
    {
     "name": "stdout",
     "output_type": "stream",
     "text": [
      "Art is a game and not everyone is invited to play, Art is a game and if Picasso had been born in Botswana nobody would be buying postcards of his works in the gift shop of the MET, Art is what we agree art is, and if someone doesn’t agree, we call them a heretic and we throw them in the Hudson with a sculpture of Robert Indiana tied to their legs to see if they float, It’s art if it doesn’t sink in the river, It’s art if five zeros line up in your wallet, It’s art if it smells like gold, if it tastes like ^^  gold, If it’s a piece of art, If it’s a piece of art, If it’s a piece of art, If it’s a piece of art, If it’s a piece of art, If it’s a piece of art, If it’s a piece of art, If it’s a piece of art, If it’s a piece of art, If it’s a piece of art, If it’s a piece of art, If it’s a piece of art, If it’s a piece of art, If it’s a\n",
      "['Art', 'is', 'a', 'game', 'and', 'not', 'everyone', 'is', 'invited', 'to', 'play,', 'Art', 'is', 'a', 'game', 'and', 'if', 'Picasso', 'had', 'been', 'born', 'in', 'Botswana', 'nobody', 'would', 'be', 'buying', 'postcards', 'of', 'his', 'works', 'in', 'the', 'gift', 'shop', 'of', 'the', 'MET,', 'Art', 'is', 'what', 'we', 'agree', 'art', 'is,', 'and', 'if', 'someone', 'doesn’t', 'agree,', 'we', 'call', 'them', 'a', 'heretic', 'and', 'we', 'throw', 'them', 'in', 'the', 'Hudson', 'with', 'a', 'sculpture', 'of', 'Robert', 'Indiana', 'tied', 'to', 'their', 'legs', 'to', 'see', 'if', 'they', 'float,', 'It’s', 'art', 'if', 'it', 'doesn’t', 'sink', 'in', 'the', 'river,', 'It’s', 'art', 'if', 'five', 'zeros', 'line', 'up', 'in', 'your', 'wallet,', 'It’s', 'art', 'if', 'it', 'smells', 'like', 'gold,', 'if', 'it', 'tastes', 'like', 'gold,']\n"
     ]
    },
    {
     "name": "stderr",
     "output_type": "stream",
     "text": [
      "Setting `pad_token_id` to `eos_token_id`:50256 for open-end generation.\n"
     ]
    },
    {
     "name": "stdout",
     "output_type": "stream",
     "text": [
      "Art is a game and not everyone is invited to play, Art is a game and if Picasso had been born in Botswana nobody would be buying postcards of his works in the gift shop of the MET, Art is what we agree art is, and if someone doesn’t agree, we call them a heretic and we throw them in the Hudson with a sculpture of Robert Indiana tied to their legs to see if they float, It’s art if it doesn’t sink in the river, It’s art if five zeros line up in your wallet, It’s art if it smells like gold, if it tastes like gold, ^^  If it’s a piece of art, If it’s a piece of art, If it’s a piece of art, If it’s a piece of art, If it’s a piece of art, If it’s a piece of art, If it’s a piece of art, If it’s a piece of art, If it’s a piece of art, If it’s a piece of art, If it’s a piece of art, If it’s a piece of art, If it’s a piece of art, If it’s a piece\n",
      "['Art', 'is', 'a', 'game', 'and', 'not', 'everyone', 'is', 'invited', 'to', 'play,', 'Art', 'is', 'a', 'game', 'and', 'if', 'Picasso', 'had', 'been', 'born', 'in', 'Botswana', 'nobody', 'would', 'be', 'buying', 'postcards', 'of', 'his', 'works', 'in', 'the', 'gift', 'shop', 'of', 'the', 'MET,', 'Art', 'is', 'what', 'we', 'agree', 'art', 'is,', 'and', 'if', 'someone', 'doesn’t', 'agree,', 'we', 'call', 'them', 'a', 'heretic', 'and', 'we', 'throw', 'them', 'in', 'the', 'Hudson', 'with', 'a', 'sculpture', 'of', 'Robert', 'Indiana', 'tied', 'to', 'their', 'legs', 'to', 'see', 'if', 'they', 'float,', 'It’s', 'art', 'if', 'it', 'doesn’t', 'sink', 'in', 'the', 'river,', 'It’s', 'art', 'if', 'five', 'zeros', 'line', 'up', 'in', 'your', 'wallet,', 'It’s', 'art', 'if', 'it', 'smells', 'like', 'gold,', 'if', 'it', 'tastes', 'like', 'gold,', 'if']\n"
     ]
    },
    {
     "name": "stderr",
     "output_type": "stream",
     "text": [
      "Setting `pad_token_id` to `eos_token_id`:50256 for open-end generation.\n"
     ]
    },
    {
     "name": "stdout",
     "output_type": "stream",
     "text": [
      "Art is a game and not everyone is invited to play, Art is a game and if Picasso had been born in Botswana nobody would be buying postcards of his works in the gift shop of the MET, Art is what we agree art is, and if someone doesn’t agree, we call them a heretic and we throw them in the Hudson with a sculpture of Robert Indiana tied to their legs to see if they float, It’s art if it doesn’t sink in the river, It’s art if five zeros line up in your wallet, It’s art if it smells like gold, if it tastes like gold, if ^^  it smells like gold, If it’s a piece of art, If it’s a piece of art, If it’s a piece of art, If it’s a piece of art, If it’s a piece of art, If it’s a piece of art, If it’s a piece of art, If it’s a piece of art, If it’s a piece of art, If it’s a piece of art, If it’s a piece of art, If it’s a piece of art, If it’s a piece of art, If\n",
      "['Art', 'is', 'a', 'game', 'and', 'not', 'everyone', 'is', 'invited', 'to', 'play,', 'Art', 'is', 'a', 'game', 'and', 'if', 'Picasso', 'had', 'been', 'born', 'in', 'Botswana', 'nobody', 'would', 'be', 'buying', 'postcards', 'of', 'his', 'works', 'in', 'the', 'gift', 'shop', 'of', 'the', 'MET,', 'Art', 'is', 'what', 'we', 'agree', 'art', 'is,', 'and', 'if', 'someone', 'doesn’t', 'agree,', 'we', 'call', 'them', 'a', 'heretic', 'and', 'we', 'throw', 'them', 'in', 'the', 'Hudson', 'with', 'a', 'sculpture', 'of', 'Robert', 'Indiana', 'tied', 'to', 'their', 'legs', 'to', 'see', 'if', 'they', 'float,', 'It’s', 'art', 'if', 'it', 'doesn’t', 'sink', 'in', 'the', 'river,', 'It’s', 'art', 'if', 'five', 'zeros', 'line', 'up', 'in', 'your', 'wallet,', 'It’s', 'art', 'if', 'it', 'smells', 'like', 'gold,', 'if', 'it', 'tastes', 'like', 'gold,', 'if', 'it']\n"
     ]
    },
    {
     "name": "stderr",
     "output_type": "stream",
     "text": [
      "Setting `pad_token_id` to `eos_token_id`:50256 for open-end generation.\n"
     ]
    },
    {
     "name": "stdout",
     "output_type": "stream",
     "text": [
      "Art is a game and not everyone is invited to play, Art is a game and if Picasso had been born in Botswana nobody would be buying postcards of his works in the gift shop of the MET, Art is what we agree art is, and if someone doesn’t agree, we call them a heretic and we throw them in the Hudson with a sculpture of Robert Indiana tied to their legs to see if they float, It’s art if it doesn’t sink in the river, It’s art if five zeros line up in your wallet, It’s art if it smells like gold, if it tastes like gold, if it ^^  smells like gold, If it’s a piece of art, If it’s a piece of art, If it’s a piece of art, If it’s a piece of art, If it’s a piece of art, If it’s a piece of art, If it’s a piece of art, If it’s a piece of art, If it’s a piece of art, If it’s a piece of art, If it’s a piece of art, If it’s a piece of art, If it’s a piece of art, If\n",
      "['Art', 'is', 'a', 'game', 'and', 'not', 'everyone', 'is', 'invited', 'to', 'play,', 'Art', 'is', 'a', 'game', 'and', 'if', 'Picasso', 'had', 'been', 'born', 'in', 'Botswana', 'nobody', 'would', 'be', 'buying', 'postcards', 'of', 'his', 'works', 'in', 'the', 'gift', 'shop', 'of', 'the', 'MET,', 'Art', 'is', 'what', 'we', 'agree', 'art', 'is,', 'and', 'if', 'someone', 'doesn’t', 'agree,', 'we', 'call', 'them', 'a', 'heretic', 'and', 'we', 'throw', 'them', 'in', 'the', 'Hudson', 'with', 'a', 'sculpture', 'of', 'Robert', 'Indiana', 'tied', 'to', 'their', 'legs', 'to', 'see', 'if', 'they', 'float,', 'It’s', 'art', 'if', 'it', 'doesn’t', 'sink', 'in', 'the', 'river,', 'It’s', 'art', 'if', 'five', 'zeros', 'line', 'up', 'in', 'your', 'wallet,', 'It’s', 'art', 'if', 'it', 'smells', 'like', 'gold,', 'if', 'it', 'tastes', 'like', 'gold,', 'if', 'it', 'weighs']\n"
     ]
    },
    {
     "name": "stderr",
     "output_type": "stream",
     "text": [
      "Setting `pad_token_id` to `eos_token_id`:50256 for open-end generation.\n"
     ]
    },
    {
     "name": "stdout",
     "output_type": "stream",
     "text": [
      "Art is a game and not everyone is invited to play, Art is a game and if Picasso had been born in Botswana nobody would be buying postcards of his works in the gift shop of the MET, Art is what we agree art is, and if someone doesn’t agree, we call them a heretic and we throw them in the Hudson with a sculpture of Robert Indiana tied to their legs to see if they float, It’s art if it doesn’t sink in the river, It’s art if five zeros line up in your wallet, It’s art if it smells like gold, if it tastes like gold, if it weighs ^^  like gold, If it’s a piece of art, If it’s a piece of art, If it’s a piece of art, If it’s a piece of art, If it’s a piece of art, If it’s a piece of art, If it’s a piece of art, If it’s a piece of art, If it’s a piece of art, If it’s a piece of art, If it’s a piece of art, If it’s a piece of art, If it’s a piece of art, If\n",
      "['Art', 'is', 'a', 'game', 'and', 'not', 'everyone', 'is', 'invited', 'to', 'play,', 'Art', 'is', 'a', 'game', 'and', 'if', 'Picasso', 'had', 'been', 'born', 'in', 'Botswana', 'nobody', 'would', 'be', 'buying', 'postcards', 'of', 'his', 'works', 'in', 'the', 'gift', 'shop', 'of', 'the', 'MET,', 'Art', 'is', 'what', 'we', 'agree', 'art', 'is,', 'and', 'if', 'someone', 'doesn’t', 'agree,', 'we', 'call', 'them', 'a', 'heretic', 'and', 'we', 'throw', 'them', 'in', 'the', 'Hudson', 'with', 'a', 'sculpture', 'of', 'Robert', 'Indiana', 'tied', 'to', 'their', 'legs', 'to', 'see', 'if', 'they', 'float,', 'It’s', 'art', 'if', 'it', 'doesn’t', 'sink', 'in', 'the', 'river,', 'It’s', 'art', 'if', 'five', 'zeros', 'line', 'up', 'in', 'your', 'wallet,', 'It’s', 'art', 'if', 'it', 'smells', 'like', 'gold,', 'if', 'it', 'tastes', 'like', 'gold,', 'if', 'it', 'weighs', 'the']\n"
     ]
    },
    {
     "name": "stderr",
     "output_type": "stream",
     "text": [
      "Setting `pad_token_id` to `eos_token_id`:50256 for open-end generation.\n"
     ]
    },
    {
     "name": "stdout",
     "output_type": "stream",
     "text": [
      "Art is a game and not everyone is invited to play, Art is a game and if Picasso had been born in Botswana nobody would be buying postcards of his works in the gift shop of the MET, Art is what we agree art is, and if someone doesn’t agree, we call them a heretic and we throw them in the Hudson with a sculpture of Robert Indiana tied to their legs to see if they float, It’s art if it doesn’t sink in the river, It’s art if five zeros line up in your wallet, It’s art if it smells like gold, if it tastes like gold, if it weighs the ^^  same as a dollar, If it’s a piece of art, If it’s a piece of art, If it’s a piece of art, If it’s a piece of art, If it’s a piece of art, If it’s a piece of art, If it’s a piece of art, If it’s a piece of art, If it’s a piece of art, If it’s a piece of art, If it’s a piece of art, If it’s a piece of art, If it’s a piece of\n",
      "['Art', 'is', 'a', 'game', 'and', 'not', 'everyone', 'is', 'invited', 'to', 'play,', 'Art', 'is', 'a', 'game', 'and', 'if', 'Picasso', 'had', 'been', 'born', 'in', 'Botswana', 'nobody', 'would', 'be', 'buying', 'postcards', 'of', 'his', 'works', 'in', 'the', 'gift', 'shop', 'of', 'the', 'MET,', 'Art', 'is', 'what', 'we', 'agree', 'art', 'is,', 'and', 'if', 'someone', 'doesn’t', 'agree,', 'we', 'call', 'them', 'a', 'heretic', 'and', 'we', 'throw', 'them', 'in', 'the', 'Hudson', 'with', 'a', 'sculpture', 'of', 'Robert', 'Indiana', 'tied', 'to', 'their', 'legs', 'to', 'see', 'if', 'they', 'float,', 'It’s', 'art', 'if', 'it', 'doesn’t', 'sink', 'in', 'the', 'river,', 'It’s', 'art', 'if', 'five', 'zeros', 'line', 'up', 'in', 'your', 'wallet,', 'It’s', 'art', 'if', 'it', 'smells', 'like', 'gold,', 'if', 'it', 'tastes', 'like', 'gold,', 'if', 'it', 'weighs', 'the', 'same']\n"
     ]
    },
    {
     "name": "stderr",
     "output_type": "stream",
     "text": [
      "Setting `pad_token_id` to `eos_token_id`:50256 for open-end generation.\n"
     ]
    },
    {
     "name": "stdout",
     "output_type": "stream",
     "text": [
      "Art is a game and not everyone is invited to play, Art is a game and if Picasso had been born in Botswana nobody would be buying postcards of his works in the gift shop of the MET, Art is what we agree art is, and if someone doesn’t agree, we call them a heretic and we throw them in the Hudson with a sculpture of Robert Indiana tied to their legs to see if they float, It’s art if it doesn’t sink in the river, It’s art if five zeros line up in your wallet, It’s art if it smells like gold, if it tastes like gold, if it weighs the same ^^  as a dollar, If it’s a piece of art, If it’s a piece of art, If it’s a piece of art, If it’s a piece of art, If it’s a piece of art, If it’s a piece of art, If it’s a piece of art, If it’s a piece of art, If it’s a piece of art, If it’s a piece of art, If it’s a piece of art, If it’s a piece of art, If it’s a piece of\n",
      "['Art', 'is', 'a', 'game', 'and', 'not', 'everyone', 'is', 'invited', 'to', 'play,', 'Art', 'is', 'a', 'game', 'and', 'if', 'Picasso', 'had', 'been', 'born', 'in', 'Botswana', 'nobody', 'would', 'be', 'buying', 'postcards', 'of', 'his', 'works', 'in', 'the', 'gift', 'shop', 'of', 'the', 'MET,', 'Art', 'is', 'what', 'we', 'agree', 'art', 'is,', 'and', 'if', 'someone', 'doesn’t', 'agree,', 'we', 'call', 'them', 'a', 'heretic', 'and', 'we', 'throw', 'them', 'in', 'the', 'Hudson', 'with', 'a', 'sculpture', 'of', 'Robert', 'Indiana', 'tied', 'to', 'their', 'legs', 'to', 'see', 'if', 'they', 'float,', 'It’s', 'art', 'if', 'it', 'doesn’t', 'sink', 'in', 'the', 'river,', 'It’s', 'art', 'if', 'five', 'zeros', 'line', 'up', 'in', 'your', 'wallet,', 'It’s', 'art', 'if', 'it', 'smells', 'like', 'gold,', 'if', 'it', 'tastes', 'like', 'gold,', 'if', 'it', 'weighs', 'the', 'same', 'as']\n"
     ]
    },
    {
     "name": "stderr",
     "output_type": "stream",
     "text": [
      "Setting `pad_token_id` to `eos_token_id`:50256 for open-end generation.\n"
     ]
    },
    {
     "name": "stdout",
     "output_type": "stream",
     "text": [
      "Art is a game and not everyone is invited to play, Art is a game and if Picasso had been born in Botswana nobody would be buying postcards of his works in the gift shop of the MET, Art is what we agree art is, and if someone doesn’t agree, we call them a heretic and we throw them in the Hudson with a sculpture of Robert Indiana tied to their legs to see if they float, It’s art if it doesn’t sink in the river, It’s art if five zeros line up in your wallet, It’s art if it smells like gold, if it tastes like gold, if it weighs the same as ^^  a dollar, If it’s a piece of art, If it’s a piece of art, If it’s a piece of art, If it’s a piece of art, If it’s a piece of art, If it’s a piece of art, If it’s a piece of art, If it’s a piece of art, If it’s a piece of art, If it’s a piece of art, If it’s a piece of art, If it’s a piece of art, If it’s a piece of\n",
      "['Art', 'is', 'a', 'game', 'and', 'not', 'everyone', 'is', 'invited', 'to', 'play,', 'Art', 'is', 'a', 'game', 'and', 'if', 'Picasso', 'had', 'been', 'born', 'in', 'Botswana', 'nobody', 'would', 'be', 'buying', 'postcards', 'of', 'his', 'works', 'in', 'the', 'gift', 'shop', 'of', 'the', 'MET,', 'Art', 'is', 'what', 'we', 'agree', 'art', 'is,', 'and', 'if', 'someone', 'doesn’t', 'agree,', 'we', 'call', 'them', 'a', 'heretic', 'and', 'we', 'throw', 'them', 'in', 'the', 'Hudson', 'with', 'a', 'sculpture', 'of', 'Robert', 'Indiana', 'tied', 'to', 'their', 'legs', 'to', 'see', 'if', 'they', 'float,', 'It’s', 'art', 'if', 'it', 'doesn’t', 'sink', 'in', 'the', 'river,', 'It’s', 'art', 'if', 'five', 'zeros', 'line', 'up', 'in', 'your', 'wallet,', 'It’s', 'art', 'if', 'it', 'smells', 'like', 'gold,', 'if', 'it', 'tastes', 'like', 'gold,', 'if', 'it', 'weighs', 'the', 'same', 'as', 'gold,']\n"
     ]
    },
    {
     "name": "stderr",
     "output_type": "stream",
     "text": [
      "Setting `pad_token_id` to `eos_token_id`:50256 for open-end generation.\n"
     ]
    },
    {
     "name": "stdout",
     "output_type": "stream",
     "text": [
      "Art is a game and not everyone is invited to play, Art is a game and if Picasso had been born in Botswana nobody would be buying postcards of his works in the gift shop of the MET, Art is what we agree art is, and if someone doesn’t agree, we call them a heretic and we throw them in the Hudson with a sculpture of Robert Indiana tied to their legs to see if they float, It’s art if it doesn’t sink in the river, It’s art if five zeros line up in your wallet, It’s art if it smells like gold, if it tastes like gold, if it weighs the same as gold, ^^  If it’s a piece of art, If it’s a piece of art, If it’s a piece of art, If it’s a piece of art, If it’s a piece of art, If it’s a piece of art, If it’s a piece of art, If it’s a piece of art, If it’s a piece of art, If it’s a piece of art, If it’s a piece of art, If it’s a piece of art, If it’s a piece of art,\n",
      "['Art', 'is', 'a', 'game', 'and', 'not', 'everyone', 'is', 'invited', 'to', 'play,', 'Art', 'is', 'a', 'game', 'and', 'if', 'Picasso', 'had', 'been', 'born', 'in', 'Botswana', 'nobody', 'would', 'be', 'buying', 'postcards', 'of', 'his', 'works', 'in', 'the', 'gift', 'shop', 'of', 'the', 'MET,', 'Art', 'is', 'what', 'we', 'agree', 'art', 'is,', 'and', 'if', 'someone', 'doesn’t', 'agree,', 'we', 'call', 'them', 'a', 'heretic', 'and', 'we', 'throw', 'them', 'in', 'the', 'Hudson', 'with', 'a', 'sculpture', 'of', 'Robert', 'Indiana', 'tied', 'to', 'their', 'legs', 'to', 'see', 'if', 'they', 'float,', 'It’s', 'art', 'if', 'it', 'doesn’t', 'sink', 'in', 'the', 'river,', 'It’s', 'art', 'if', 'five', 'zeros', 'line', 'up', 'in', 'your', 'wallet,', 'It’s', 'art', 'if', 'it', 'smells', 'like', 'gold,', 'if', 'it', 'tastes', 'like', 'gold,', 'if', 'it', 'weighs', 'the', 'same', 'as', 'gold,', 'It’ll']\n"
     ]
    },
    {
     "name": "stderr",
     "output_type": "stream",
     "text": [
      "Setting `pad_token_id` to `eos_token_id`:50256 for open-end generation.\n"
     ]
    },
    {
     "name": "stdout",
     "output_type": "stream",
     "text": [
      "Art is a game and not everyone is invited to play, Art is a game and if Picasso had been born in Botswana nobody would be buying postcards of his works in the gift shop of the MET, Art is what we agree art is, and if someone doesn’t agree, we call them a heretic and we throw them in the Hudson with a sculpture of Robert Indiana tied to their legs to see if they float, It’s art if it doesn’t sink in the river, It’s art if five zeros line up in your wallet, It’s art if it smells like gold, if it tastes like gold, if it weighs the same as gold, It’ll ^^  be art if it’s not a sculpture, It’ll be art if it’s not a sculpture, It’ll be art if it’s not a sculpture, It’ll be art if it’s not a sculpture, It’ll be art if it’s not a sculpture, It’ll be art if it’s not a sculpture, It’ll be art if it’s not a sculpture, It’ll be art if it’s not a sculpture, It’ll be art if it’s not a\n",
      "['Art', 'is', 'a', 'game', 'and', 'not', 'everyone', 'is', 'invited', 'to', 'play,', 'Art', 'is', 'a', 'game', 'and', 'if', 'Picasso', 'had', 'been', 'born', 'in', 'Botswana', 'nobody', 'would', 'be', 'buying', 'postcards', 'of', 'his', 'works', 'in', 'the', 'gift', 'shop', 'of', 'the', 'MET,', 'Art', 'is', 'what', 'we', 'agree', 'art', 'is,', 'and', 'if', 'someone', 'doesn’t', 'agree,', 'we', 'call', 'them', 'a', 'heretic', 'and', 'we', 'throw', 'them', 'in', 'the', 'Hudson', 'with', 'a', 'sculpture', 'of', 'Robert', 'Indiana', 'tied', 'to', 'their', 'legs', 'to', 'see', 'if', 'they', 'float,', 'It’s', 'art', 'if', 'it', 'doesn’t', 'sink', 'in', 'the', 'river,', 'It’s', 'art', 'if', 'five', 'zeros', 'line', 'up', 'in', 'your', 'wallet,', 'It’s', 'art', 'if', 'it', 'smells', 'like', 'gold,', 'if', 'it', 'tastes', 'like', 'gold,', 'if', 'it', 'weighs', 'the', 'same', 'as', 'gold,', 'It’ll', 'be']\n"
     ]
    },
    {
     "name": "stderr",
     "output_type": "stream",
     "text": [
      "Setting `pad_token_id` to `eos_token_id`:50256 for open-end generation.\n"
     ]
    },
    {
     "name": "stdout",
     "output_type": "stream",
     "text": [
      "Art is a game and not everyone is invited to play, Art is a game and if Picasso had been born in Botswana nobody would be buying postcards of his works in the gift shop of the MET, Art is what we agree art is, and if someone doesn’t agree, we call them a heretic and we throw them in the Hudson with a sculpture of Robert Indiana tied to their legs to see if they float, It’s art if it doesn’t sink in the river, It’s art if five zeros line up in your wallet, It’s art if it smells like gold, if it tastes like gold, if it weighs the same as gold, It’ll be ^^  art if it’s not a sculpture, It’ll be art if it’s not a sculpture, It’ll be art if it’s not a sculpture, It’ll be art if it’s not a sculpture, It’ll be art if it’s not a sculpture, It’ll be art if it’s not a sculpture, It’ll be art if it’s not a sculpture, It’ll be art if it’s not a sculpture, It’ll be art if it’s not a\n",
      "['Art', 'is', 'a', 'game', 'and', 'not', 'everyone', 'is', 'invited', 'to', 'play,', 'Art', 'is', 'a', 'game', 'and', 'if', 'Picasso', 'had', 'been', 'born', 'in', 'Botswana', 'nobody', 'would', 'be', 'buying', 'postcards', 'of', 'his', 'works', 'in', 'the', 'gift', 'shop', 'of', 'the', 'MET,', 'Art', 'is', 'what', 'we', 'agree', 'art', 'is,', 'and', 'if', 'someone', 'doesn’t', 'agree,', 'we', 'call', 'them', 'a', 'heretic', 'and', 'we', 'throw', 'them', 'in', 'the', 'Hudson', 'with', 'a', 'sculpture', 'of', 'Robert', 'Indiana', 'tied', 'to', 'their', 'legs', 'to', 'see', 'if', 'they', 'float,', 'It’s', 'art', 'if', 'it', 'doesn’t', 'sink', 'in', 'the', 'river,', 'It’s', 'art', 'if', 'five', 'zeros', 'line', 'up', 'in', 'your', 'wallet,', 'It’s', 'art', 'if', 'it', 'smells', 'like', 'gold,', 'if', 'it', 'tastes', 'like', 'gold,', 'if', 'it', 'weighs', 'the', 'same', 'as', 'gold,', 'It’ll', 'be', 'art']\n"
     ]
    },
    {
     "name": "stderr",
     "output_type": "stream",
     "text": [
      "Setting `pad_token_id` to `eos_token_id`:50256 for open-end generation.\n"
     ]
    },
    {
     "name": "stdout",
     "output_type": "stream",
     "text": [
      "Art is a game and not everyone is invited to play, Art is a game and if Picasso had been born in Botswana nobody would be buying postcards of his works in the gift shop of the MET, Art is what we agree art is, and if someone doesn’t agree, we call them a heretic and we throw them in the Hudson with a sculpture of Robert Indiana tied to their legs to see if they float, It’s art if it doesn’t sink in the river, It’s art if five zeros line up in your wallet, It’s art if it smells like gold, if it tastes like gold, if it weighs the same as gold, It’ll be art ^^  if it’s not a sculpture, It’ll be art if it’s not a sculpture, It’ll be art if it’s not a sculpture, It’ll be art if it’s not a sculpture, It’ll be art if it’s not a sculpture, It’ll be art if it’s not a sculpture, It’ll be art if it’s not a sculpture, It’ll be art if it’s not a sculpture, It’ll be art if it’s not a\n",
      "['Art', 'is', 'a', 'game', 'and', 'not', 'everyone', 'is', 'invited', 'to', 'play,', 'Art', 'is', 'a', 'game', 'and', 'if', 'Picasso', 'had', 'been', 'born', 'in', 'Botswana', 'nobody', 'would', 'be', 'buying', 'postcards', 'of', 'his', 'works', 'in', 'the', 'gift', 'shop', 'of', 'the', 'MET,', 'Art', 'is', 'what', 'we', 'agree', 'art', 'is,', 'and', 'if', 'someone', 'doesn’t', 'agree,', 'we', 'call', 'them', 'a', 'heretic', 'and', 'we', 'throw', 'them', 'in', 'the', 'Hudson', 'with', 'a', 'sculpture', 'of', 'Robert', 'Indiana', 'tied', 'to', 'their', 'legs', 'to', 'see', 'if', 'they', 'float,', 'It’s', 'art', 'if', 'it', 'doesn’t', 'sink', 'in', 'the', 'river,', 'It’s', 'art', 'if', 'five', 'zeros', 'line', 'up', 'in', 'your', 'wallet,', 'It’s', 'art', 'if', 'it', 'smells', 'like', 'gold,', 'if', 'it', 'tastes', 'like', 'gold,', 'if', 'it', 'weighs', 'the', 'same', 'as', 'gold,', 'It’ll', 'be', 'art', 'if']\n"
     ]
    },
    {
     "name": "stderr",
     "output_type": "stream",
     "text": [
      "Setting `pad_token_id` to `eos_token_id`:50256 for open-end generation.\n"
     ]
    },
    {
     "name": "stdout",
     "output_type": "stream",
     "text": [
      "Art is a game and not everyone is invited to play, Art is a game and if Picasso had been born in Botswana nobody would be buying postcards of his works in the gift shop of the MET, Art is what we agree art is, and if someone doesn’t agree, we call them a heretic and we throw them in the Hudson with a sculpture of Robert Indiana tied to their legs to see if they float, It’s art if it doesn’t sink in the river, It’s art if five zeros line up in your wallet, It’s art if it smells like gold, if it tastes like gold, if it weighs the same as gold, It’ll be art if ^^  it’s not a sculpture, It’ll be art if it’s not a sculpture, It’ll be art if it’s not a sculpture, It’ll be art if it’s not a sculpture, It’ll be art if it’s not a sculpture, It’ll be art if it’s not a sculpture, It’ll be art if it’s not a sculpture, It’ll be art if it’s not a sculpture, It’ll be art if it’s not a\n",
      "['Art', 'is', 'a', 'game', 'and', 'not', 'everyone', 'is', 'invited', 'to', 'play,', 'Art', 'is', 'a', 'game', 'and', 'if', 'Picasso', 'had', 'been', 'born', 'in', 'Botswana', 'nobody', 'would', 'be', 'buying', 'postcards', 'of', 'his', 'works', 'in', 'the', 'gift', 'shop', 'of', 'the', 'MET,', 'Art', 'is', 'what', 'we', 'agree', 'art', 'is,', 'and', 'if', 'someone', 'doesn’t', 'agree,', 'we', 'call', 'them', 'a', 'heretic', 'and', 'we', 'throw', 'them', 'in', 'the', 'Hudson', 'with', 'a', 'sculpture', 'of', 'Robert', 'Indiana', 'tied', 'to', 'their', 'legs', 'to', 'see', 'if', 'they', 'float,', 'It’s', 'art', 'if', 'it', 'doesn’t', 'sink', 'in', 'the', 'river,', 'It’s', 'art', 'if', 'five', 'zeros', 'line', 'up', 'in', 'your', 'wallet,', 'It’s', 'art', 'if', 'it', 'smells', 'like', 'gold,', 'if', 'it', 'tastes', 'like', 'gold,', 'if', 'it', 'weighs', 'the', 'same', 'as', 'gold,', 'It’ll', 'be', 'art', 'if', 'you']\n"
     ]
    },
    {
     "name": "stderr",
     "output_type": "stream",
     "text": [
      "Setting `pad_token_id` to `eos_token_id`:50256 for open-end generation.\n"
     ]
    },
    {
     "name": "stdout",
     "output_type": "stream",
     "text": [
      "Art is a game and not everyone is invited to play, Art is a game and if Picasso had been born in Botswana nobody would be buying postcards of his works in the gift shop of the MET, Art is what we agree art is, and if someone doesn’t agree, we call them a heretic and we throw them in the Hudson with a sculpture of Robert Indiana tied to their legs to see if they float, It’s art if it doesn’t sink in the river, It’s art if five zeros line up in your wallet, It’s art if it smells like gold, if it tastes like gold, if it weighs the same as gold, It’ll be art if you ^^  can’t find it, It’ll be art if you can’t find it, It’ll be art if you can’t find it, It’ll be art if you can’t find it, It’ll be art if you can’t find it, It’ll be art if you can’t find it, It’ll be art if you can’t find it, It’ll be art if you can’t find it, It’ll be art if you can’t find\n",
      "['Art', 'is', 'a', 'game', 'and', 'not', 'everyone', 'is', 'invited', 'to', 'play,', 'Art', 'is', 'a', 'game', 'and', 'if', 'Picasso', 'had', 'been', 'born', 'in', 'Botswana', 'nobody', 'would', 'be', 'buying', 'postcards', 'of', 'his', 'works', 'in', 'the', 'gift', 'shop', 'of', 'the', 'MET,', 'Art', 'is', 'what', 'we', 'agree', 'art', 'is,', 'and', 'if', 'someone', 'doesn’t', 'agree,', 'we', 'call', 'them', 'a', 'heretic', 'and', 'we', 'throw', 'them', 'in', 'the', 'Hudson', 'with', 'a', 'sculpture', 'of', 'Robert', 'Indiana', 'tied', 'to', 'their', 'legs', 'to', 'see', 'if', 'they', 'float,', 'It’s', 'art', 'if', 'it', 'doesn’t', 'sink', 'in', 'the', 'river,', 'It’s', 'art', 'if', 'five', 'zeros', 'line', 'up', 'in', 'your', 'wallet,', 'It’s', 'art', 'if', 'it', 'smells', 'like', 'gold,', 'if', 'it', 'tastes', 'like', 'gold,', 'if', 'it', 'weighs', 'the', 'same', 'as', 'gold,', 'It’ll', 'be', 'art', 'if', 'you', 'stop']\n"
     ]
    },
    {
     "name": "stderr",
     "output_type": "stream",
     "text": [
      "Setting `pad_token_id` to `eos_token_id`:50256 for open-end generation.\n"
     ]
    },
    {
     "name": "stdout",
     "output_type": "stream",
     "text": [
      "Art is a game and not everyone is invited to play, Art is a game and if Picasso had been born in Botswana nobody would be buying postcards of his works in the gift shop of the MET, Art is what we agree art is, and if someone doesn’t agree, we call them a heretic and we throw them in the Hudson with a sculpture of Robert Indiana tied to their legs to see if they float, It’s art if it doesn’t sink in the river, It’s art if five zeros line up in your wallet, It’s art if it smells like gold, if it tastes like gold, if it weighs the same as gold, It’ll be art if you stop ^^  to think about it, It’ll be art if you stop to think about it, It’ll be art if you stop to think about it, It’ll be art if you stop to think about it, It’ll be art if you stop to think about it, It’ll be art if you stop to think about it, It’ll be art if you stop to think about it, It’ll be art if you stop to think about it, It’ll be art if you stop to think about it, It’ll be art if\n",
      "['Art', 'is', 'a', 'game', 'and', 'not', 'everyone', 'is', 'invited', 'to', 'play,', 'Art', 'is', 'a', 'game', 'and', 'if', 'Picasso', 'had', 'been', 'born', 'in', 'Botswana', 'nobody', 'would', 'be', 'buying', 'postcards', 'of', 'his', 'works', 'in', 'the', 'gift', 'shop', 'of', 'the', 'MET,', 'Art', 'is', 'what', 'we', 'agree', 'art', 'is,', 'and', 'if', 'someone', 'doesn’t', 'agree,', 'we', 'call', 'them', 'a', 'heretic', 'and', 'we', 'throw', 'them', 'in', 'the', 'Hudson', 'with', 'a', 'sculpture', 'of', 'Robert', 'Indiana', 'tied', 'to', 'their', 'legs', 'to', 'see', 'if', 'they', 'float,', 'It’s', 'art', 'if', 'it', 'doesn’t', 'sink', 'in', 'the', 'river,', 'It’s', 'art', 'if', 'five', 'zeros', 'line', 'up', 'in', 'your', 'wallet,', 'It’s', 'art', 'if', 'it', 'smells', 'like', 'gold,', 'if', 'it', 'tastes', 'like', 'gold,', 'if', 'it', 'weighs', 'the', 'same', 'as', 'gold,', 'It’ll', 'be', 'art', 'if', 'you', 'stop', 'repeating']\n"
     ]
    },
    {
     "name": "stderr",
     "output_type": "stream",
     "text": [
      "Setting `pad_token_id` to `eos_token_id`:50256 for open-end generation.\n"
     ]
    },
    {
     "name": "stdout",
     "output_type": "stream",
     "text": [
      "Art is a game and not everyone is invited to play, Art is a game and if Picasso had been born in Botswana nobody would be buying postcards of his works in the gift shop of the MET, Art is what we agree art is, and if someone doesn’t agree, we call them a heretic and we throw them in the Hudson with a sculpture of Robert Indiana tied to their legs to see if they float, It’s art if it doesn’t sink in the river, It’s art if five zeros line up in your wallet, It’s art if it smells like gold, if it tastes like gold, if it weighs the same as gold, It’ll be art if you stop repeating ^^  the same words, It’ll be art if you stop repeating the same words, It’ll be art if you stop repeating the same words, It’ll be art if you stop repeating the same words, It’ll be art if you stop repeating the same words, It’ll be art if you stop repeating the same words, It’ll be art if you stop repeating the same words, It’ll be art if you stop repeating the same words, It’ll be art if you stop repeating the same words, It’ll be art if\n",
      "['Art', 'is', 'a', 'game', 'and', 'not', 'everyone', 'is', 'invited', 'to', 'play,', 'Art', 'is', 'a', 'game', 'and', 'if', 'Picasso', 'had', 'been', 'born', 'in', 'Botswana', 'nobody', 'would', 'be', 'buying', 'postcards', 'of', 'his', 'works', 'in', 'the', 'gift', 'shop', 'of', 'the', 'MET,', 'Art', 'is', 'what', 'we', 'agree', 'art', 'is,', 'and', 'if', 'someone', 'doesn’t', 'agree,', 'we', 'call', 'them', 'a', 'heretic', 'and', 'we', 'throw', 'them', 'in', 'the', 'Hudson', 'with', 'a', 'sculpture', 'of', 'Robert', 'Indiana', 'tied', 'to', 'their', 'legs', 'to', 'see', 'if', 'they', 'float,', 'It’s', 'art', 'if', 'it', 'doesn’t', 'sink', 'in', 'the', 'river,', 'It’s', 'art', 'if', 'five', 'zeros', 'line', 'up', 'in', 'your', 'wallet,', 'It’s', 'art', 'if', 'it', 'smells', 'like', 'gold,', 'if', 'it', 'tastes', 'like', 'gold,', 'if', 'it', 'weighs', 'the', 'same', 'as', 'gold,', 'It’ll', 'be', 'art', 'if', 'you', 'stop', 'repeating', 'how']\n"
     ]
    },
    {
     "name": "stderr",
     "output_type": "stream",
     "text": [
      "Setting `pad_token_id` to `eos_token_id`:50256 for open-end generation.\n"
     ]
    },
    {
     "name": "stdout",
     "output_type": "stream",
     "text": [
      "Art is a game and not everyone is invited to play, Art is a game and if Picasso had been born in Botswana nobody would be buying postcards of his works in the gift shop of the MET, Art is what we agree art is, and if someone doesn’t agree, we call them a heretic and we throw them in the Hudson with a sculpture of Robert Indiana tied to their legs to see if they float, It’s art if it doesn’t sink in the river, It’s art if five zeros line up in your wallet, It’s art if it smells like gold, if it tastes like gold, if it weighs the same as gold, It’ll be art if you stop repeating how ^^  you’re supposed to say it, It’ll be art if you stop repeating how you’re supposed to say it, It’ll be art if you stop repeating how you’re supposed to say it, It’ll be art if you stop repeating how you’re supposed to say it, It’ll be art if you stop repeating how you’re supposed to say it, It’ll be art if you stop repeating how you’re supposed to say it, It’ll be art if you stop repeating how you�\n",
      "['Art', 'is', 'a', 'game', 'and', 'not', 'everyone', 'is', 'invited', 'to', 'play,', 'Art', 'is', 'a', 'game', 'and', 'if', 'Picasso', 'had', 'been', 'born', 'in', 'Botswana', 'nobody', 'would', 'be', 'buying', 'postcards', 'of', 'his', 'works', 'in', 'the', 'gift', 'shop', 'of', 'the', 'MET,', 'Art', 'is', 'what', 'we', 'agree', 'art', 'is,', 'and', 'if', 'someone', 'doesn’t', 'agree,', 'we', 'call', 'them', 'a', 'heretic', 'and', 'we', 'throw', 'them', 'in', 'the', 'Hudson', 'with', 'a', 'sculpture', 'of', 'Robert', 'Indiana', 'tied', 'to', 'their', 'legs', 'to', 'see', 'if', 'they', 'float,', 'It’s', 'art', 'if', 'it', 'doesn’t', 'sink', 'in', 'the', 'river,', 'It’s', 'art', 'if', 'five', 'zeros', 'line', 'up', 'in', 'your', 'wallet,', 'It’s', 'art', 'if', 'it', 'smells', 'like', 'gold,', 'if', 'it', 'tastes', 'like', 'gold,', 'if', 'it', 'weighs', 'the', 'same', 'as', 'gold,', 'It’ll', 'be', 'art', 'if', 'you', 'stop', 'repeating', 'how', 'good']\n"
     ]
    },
    {
     "name": "stderr",
     "output_type": "stream",
     "text": [
      "Setting `pad_token_id` to `eos_token_id`:50256 for open-end generation.\n"
     ]
    },
    {
     "name": "stdout",
     "output_type": "stream",
     "text": [
      "Art is a game and not everyone is invited to play, Art is a game and if Picasso had been born in Botswana nobody would be buying postcards of his works in the gift shop of the MET, Art is what we agree art is, and if someone doesn’t agree, we call them a heretic and we throw them in the Hudson with a sculpture of Robert Indiana tied to their legs to see if they float, It’s art if it doesn’t sink in the river, It’s art if five zeros line up in your wallet, It’s art if it smells like gold, if it tastes like gold, if it weighs the same as gold, It’ll be art if you stop repeating how good ^^  it is, It’ll be art if you stop repeating how good it is, It’ll be art if you stop repeating how good it is, It’ll be art if you stop repeating how good it is, It’ll be art if you stop repeating how good it is, It’ll be art if you stop repeating how good it is, It’ll be art if you stop repeating how good it is, It’ll be art if you stop repeating how good it is, It’ll be art if you stop repeating how good it\n",
      "['Art', 'is', 'a', 'game', 'and', 'not', 'everyone', 'is', 'invited', 'to', 'play,', 'Art', 'is', 'a', 'game', 'and', 'if', 'Picasso', 'had', 'been', 'born', 'in', 'Botswana', 'nobody', 'would', 'be', 'buying', 'postcards', 'of', 'his', 'works', 'in', 'the', 'gift', 'shop', 'of', 'the', 'MET,', 'Art', 'is', 'what', 'we', 'agree', 'art', 'is,', 'and', 'if', 'someone', 'doesn’t', 'agree,', 'we', 'call', 'them', 'a', 'heretic', 'and', 'we', 'throw', 'them', 'in', 'the', 'Hudson', 'with', 'a', 'sculpture', 'of', 'Robert', 'Indiana', 'tied', 'to', 'their', 'legs', 'to', 'see', 'if', 'they', 'float,', 'It’s', 'art', 'if', 'it', 'doesn’t', 'sink', 'in', 'the', 'river,', 'It’s', 'art', 'if', 'five', 'zeros', 'line', 'up', 'in', 'your', 'wallet,', 'It’s', 'art', 'if', 'it', 'smells', 'like', 'gold,', 'if', 'it', 'tastes', 'like', 'gold,', 'if', 'it', 'weighs', 'the', 'same', 'as', 'gold,', 'It’ll', 'be', 'art', 'if', 'you', 'stop', 'repeating', 'how', 'good', 'it']\n"
     ]
    },
    {
     "name": "stderr",
     "output_type": "stream",
     "text": [
      "Setting `pad_token_id` to `eos_token_id`:50256 for open-end generation.\n"
     ]
    },
    {
     "name": "stdout",
     "output_type": "stream",
     "text": [
      "Art is a game and not everyone is invited to play, Art is a game and if Picasso had been born in Botswana nobody would be buying postcards of his works in the gift shop of the MET, Art is what we agree art is, and if someone doesn’t agree, we call them a heretic and we throw them in the Hudson with a sculpture of Robert Indiana tied to their legs to see if they float, It’s art if it doesn’t sink in the river, It’s art if five zeros line up in your wallet, It’s art if it smells like gold, if it tastes like gold, if it weighs the same as gold, It’ll be art if you stop repeating how good it ^^  is, It’ll be art if you stop repeating how good it is, It’ll be art if you stop repeating how good it is, It’ll be art if you stop repeating how good it is, It’ll be art if you stop repeating how good it is, It’ll be art if you stop repeating how good it is, It’ll be art if you stop repeating how good it is, It’ll be art if you stop repeating how good it is, It’ll be art if you stop repeating how good it\n",
      "['Art', 'is', 'a', 'game', 'and', 'not', 'everyone', 'is', 'invited', 'to', 'play,', 'Art', 'is', 'a', 'game', 'and', 'if', 'Picasso', 'had', 'been', 'born', 'in', 'Botswana', 'nobody', 'would', 'be', 'buying', 'postcards', 'of', 'his', 'works', 'in', 'the', 'gift', 'shop', 'of', 'the', 'MET,', 'Art', 'is', 'what', 'we', 'agree', 'art', 'is,', 'and', 'if', 'someone', 'doesn’t', 'agree,', 'we', 'call', 'them', 'a', 'heretic', 'and', 'we', 'throw', 'them', 'in', 'the', 'Hudson', 'with', 'a', 'sculpture', 'of', 'Robert', 'Indiana', 'tied', 'to', 'their', 'legs', 'to', 'see', 'if', 'they', 'float,', 'It’s', 'art', 'if', 'it', 'doesn’t', 'sink', 'in', 'the', 'river,', 'It’s', 'art', 'if', 'five', 'zeros', 'line', 'up', 'in', 'your', 'wallet,', 'It’s', 'art', 'if', 'it', 'smells', 'like', 'gold,', 'if', 'it', 'tastes', 'like', 'gold,', 'if', 'it', 'weighs', 'the', 'same', 'as', 'gold,', 'It’ll', 'be', 'art', 'if', 'you', 'stop', 'repeating', 'how', 'good', 'it', 'is']\n"
     ]
    },
    {
     "name": "stderr",
     "output_type": "stream",
     "text": [
      "Setting `pad_token_id` to `eos_token_id`:50256 for open-end generation.\n"
     ]
    },
    {
     "name": "stdout",
     "output_type": "stream",
     "text": [
      "Art is a game and not everyone is invited to play, Art is a game and if Picasso had been born in Botswana nobody would be buying postcards of his works in the gift shop of the MET, Art is what we agree art is, and if someone doesn’t agree, we call them a heretic and we throw them in the Hudson with a sculpture of Robert Indiana tied to their legs to see if they float, It’s art if it doesn’t sink in the river, It’s art if five zeros line up in your wallet, It’s art if it smells like gold, if it tastes like gold, if it weighs the same as gold, It’ll be art if you stop repeating how good it is ^^ , It’ll be art if you stop repeating how good it is, It’ll be art if you stop repeating how good it is, It’ll be art if you stop repeating how good it is, It’ll be art if you stop repeating how good it is, It’ll be art if you stop repeating how good it is, It’ll be art if you stop repeating how good it is, It’ll be art if you stop repeating how good it is, It’ll be art if you stop repeating how good it\n",
      "['Art', 'is', 'a', 'game', 'and', 'not', 'everyone', 'is', 'invited', 'to', 'play,', 'Art', 'is', 'a', 'game', 'and', 'if', 'Picasso', 'had', 'been', 'born', 'in', 'Botswana', 'nobody', 'would', 'be', 'buying', 'postcards', 'of', 'his', 'works', 'in', 'the', 'gift', 'shop', 'of', 'the', 'MET,', 'Art', 'is', 'what', 'we', 'agree', 'art', 'is,', 'and', 'if', 'someone', 'doesn’t', 'agree,', 'we', 'call', 'them', 'a', 'heretic', 'and', 'we', 'throw', 'them', 'in', 'the', 'Hudson', 'with', 'a', 'sculpture', 'of', 'Robert', 'Indiana', 'tied', 'to', 'their', 'legs', 'to', 'see', 'if', 'they', 'float,', 'It’s', 'art', 'if', 'it', 'doesn’t', 'sink', 'in', 'the', 'river,', 'It’s', 'art', 'if', 'five', 'zeros', 'line', 'up', 'in', 'your', 'wallet,', 'It’s', 'art', 'if', 'it', 'smells', 'like', 'gold,', 'if', 'it', 'tastes', 'like', 'gold,', 'if', 'it', 'weighs', 'the', 'same', 'as', 'gold,', 'It’ll', 'be', 'art', 'if', 'you', 'stop', 'repeating', 'how', 'good', 'it', 'is', 'and']\n"
     ]
    },
    {
     "name": "stderr",
     "output_type": "stream",
     "text": [
      "Setting `pad_token_id` to `eos_token_id`:50256 for open-end generation.\n"
     ]
    },
    {
     "name": "stdout",
     "output_type": "stream",
     "text": [
      "Art is a game and not everyone is invited to play, Art is a game and if Picasso had been born in Botswana nobody would be buying postcards of his works in the gift shop of the MET, Art is what we agree art is, and if someone doesn’t agree, we call them a heretic and we throw them in the Hudson with a sculpture of Robert Indiana tied to their legs to see if they float, It’s art if it doesn’t sink in the river, It’s art if five zeros line up in your wallet, It’s art if it smells like gold, if it tastes like gold, if it weighs the same as gold, It’ll be art if you stop repeating how good it is and ^^  you’ll be art if you stop repeating how good it is, It’ll be art if you stop repeating how good it is, It’ll be art if you stop repeating how good it is, It’ll be art if you stop repeating how good it is, It’ll be art if you stop repeating how good it is, It’ll be art if you stop repeating how good it is, It’ll be art if you stop repeating how good it is, It’ll be art if you stop repeating how good it\n",
      "['Art', 'is', 'a', 'game', 'and', 'not', 'everyone', 'is', 'invited', 'to', 'play,', 'Art', 'is', 'a', 'game', 'and', 'if', 'Picasso', 'had', 'been', 'born', 'in', 'Botswana', 'nobody', 'would', 'be', 'buying', 'postcards', 'of', 'his', 'works', 'in', 'the', 'gift', 'shop', 'of', 'the', 'MET,', 'Art', 'is', 'what', 'we', 'agree', 'art', 'is,', 'and', 'if', 'someone', 'doesn’t', 'agree,', 'we', 'call', 'them', 'a', 'heretic', 'and', 'we', 'throw', 'them', 'in', 'the', 'Hudson', 'with', 'a', 'sculpture', 'of', 'Robert', 'Indiana', 'tied', 'to', 'their', 'legs', 'to', 'see', 'if', 'they', 'float,', 'It’s', 'art', 'if', 'it', 'doesn’t', 'sink', 'in', 'the', 'river,', 'It’s', 'art', 'if', 'five', 'zeros', 'line', 'up', 'in', 'your', 'wallet,', 'It’s', 'art', 'if', 'it', 'smells', 'like', 'gold,', 'if', 'it', 'tastes', 'like', 'gold,', 'if', 'it', 'weighs', 'the', 'same', 'as', 'gold,', 'It’ll', 'be', 'art', 'if', 'you', 'stop', 'repeating', 'how', 'good', 'it', 'is', 'and', 'you']\n"
     ]
    },
    {
     "name": "stderr",
     "output_type": "stream",
     "text": [
      "Setting `pad_token_id` to `eos_token_id`:50256 for open-end generation.\n"
     ]
    },
    {
     "name": "stdout",
     "output_type": "stream",
     "text": [
      "Art is a game and not everyone is invited to play, Art is a game and if Picasso had been born in Botswana nobody would be buying postcards of his works in the gift shop of the MET, Art is what we agree art is, and if someone doesn’t agree, we call them a heretic and we throw them in the Hudson with a sculpture of Robert Indiana tied to their legs to see if they float, It’s art if it doesn’t sink in the river, It’s art if five zeros line up in your wallet, It’s art if it smells like gold, if it tastes like gold, if it weighs the same as gold, It’ll be art if you stop repeating how good it is and you ^^ ’ll be art if you stop repeating how good it is, It’ll be art if you stop repeating how good it is, It’ll be art if you stop repeating how good it is, It’ll be art if you stop repeating how good it is, It’ll be art if you stop repeating how good it is, It’ll be art if you stop repeating how good it is, It’ll be art if you stop repeating how good it is, It’ll be art if you stop repeating how good it\n",
      "['Art', 'is', 'a', 'game', 'and', 'not', 'everyone', 'is', 'invited', 'to', 'play,', 'Art', 'is', 'a', 'game', 'and', 'if', 'Picasso', 'had', 'been', 'born', 'in', 'Botswana', 'nobody', 'would', 'be', 'buying', 'postcards', 'of', 'his', 'works', 'in', 'the', 'gift', 'shop', 'of', 'the', 'MET,', 'Art', 'is', 'what', 'we', 'agree', 'art', 'is,', 'and', 'if', 'someone', 'doesn’t', 'agree,', 'we', 'call', 'them', 'a', 'heretic', 'and', 'we', 'throw', 'them', 'in', 'the', 'Hudson', 'with', 'a', 'sculpture', 'of', 'Robert', 'Indiana', 'tied', 'to', 'their', 'legs', 'to', 'see', 'if', 'they', 'float,', 'It’s', 'art', 'if', 'it', 'doesn’t', 'sink', 'in', 'the', 'river,', 'It’s', 'art', 'if', 'five', 'zeros', 'line', 'up', 'in', 'your', 'wallet,', 'It’s', 'art', 'if', 'it', 'smells', 'like', 'gold,', 'if', 'it', 'tastes', 'like', 'gold,', 'if', 'it', 'weighs', 'the', 'same', 'as', 'gold,', 'It’ll', 'be', 'art', 'if', 'you', 'stop', 'repeating', 'how', 'good', 'it', 'is', 'and', 'you', 'stop']\n"
     ]
    },
    {
     "name": "stderr",
     "output_type": "stream",
     "text": [
      "Setting `pad_token_id` to `eos_token_id`:50256 for open-end generation.\n"
     ]
    },
    {
     "name": "stdout",
     "output_type": "stream",
     "text": [
      "Art is a game and not everyone is invited to play, Art is a game and if Picasso had been born in Botswana nobody would be buying postcards of his works in the gift shop of the MET, Art is what we agree art is, and if someone doesn’t agree, we call them a heretic and we throw them in the Hudson with a sculpture of Robert Indiana tied to their legs to see if they float, It’s art if it doesn’t sink in the river, It’s art if five zeros line up in your wallet, It’s art if it smells like gold, if it tastes like gold, if it weighs the same as gold, It’ll be art if you stop repeating how good it is and you stop ^^  repeating how good it is, It’ll be art if you stop repeating how good it is, It’ll be art if you stop repeating how good it is, It’ll be art if you stop repeating how good it is, It’ll be art if you stop repeating how good it is, It’ll be art if you stop repeating how good it is, It’ll be art if you stop repeating how good it is, It’ll be art if you stop repeating how good it is, It’ll be\n",
      "['Art', 'is', 'a', 'game', 'and', 'not', 'everyone', 'is', 'invited', 'to', 'play,', 'Art', 'is', 'a', 'game', 'and', 'if', 'Picasso', 'had', 'been', 'born', 'in', 'Botswana', 'nobody', 'would', 'be', 'buying', 'postcards', 'of', 'his', 'works', 'in', 'the', 'gift', 'shop', 'of', 'the', 'MET,', 'Art', 'is', 'what', 'we', 'agree', 'art', 'is,', 'and', 'if', 'someone', 'doesn’t', 'agree,', 'we', 'call', 'them', 'a', 'heretic', 'and', 'we', 'throw', 'them', 'in', 'the', 'Hudson', 'with', 'a', 'sculpture', 'of', 'Robert', 'Indiana', 'tied', 'to', 'their', 'legs', 'to', 'see', 'if', 'they', 'float,', 'It’s', 'art', 'if', 'it', 'doesn’t', 'sink', 'in', 'the', 'river,', 'It’s', 'art', 'if', 'five', 'zeros', 'line', 'up', 'in', 'your', 'wallet,', 'It’s', 'art', 'if', 'it', 'smells', 'like', 'gold,', 'if', 'it', 'tastes', 'like', 'gold,', 'if', 'it', 'weighs', 'the', 'same', 'as', 'gold,', 'It’ll', 'be', 'art', 'if', 'you', 'stop', 'repeating', 'how', 'good', 'it', 'is', 'and', 'you', 'stop', 'to']\n"
     ]
    },
    {
     "name": "stderr",
     "output_type": "stream",
     "text": [
      "Setting `pad_token_id` to `eos_token_id`:50256 for open-end generation.\n"
     ]
    },
    {
     "name": "stdout",
     "output_type": "stream",
     "text": [
      "Art is a game and not everyone is invited to play, Art is a game and if Picasso had been born in Botswana nobody would be buying postcards of his works in the gift shop of the MET, Art is what we agree art is, and if someone doesn’t agree, we call them a heretic and we throw them in the Hudson with a sculpture of Robert Indiana tied to their legs to see if they float, It’s art if it doesn’t sink in the river, It’s art if five zeros line up in your wallet, It’s art if it smells like gold, if it tastes like gold, if it weighs the same as gold, It’ll be art if you stop repeating how good it is and you stop to ^^  think about how much you’re worth, It’ll be art if you stop to think about how much you’re worth, It’ll be art if you stop to think about how much you’re worth, It’ll be art if you stop to think about how much you’re worth, It’ll be art if you stop to think about how much you’re worth, It’ll be art if you stop to think about how much you’re worth, It’ll be\n",
      "['Art', 'is', 'a', 'game', 'and', 'not', 'everyone', 'is', 'invited', 'to', 'play,', 'Art', 'is', 'a', 'game', 'and', 'if', 'Picasso', 'had', 'been', 'born', 'in', 'Botswana', 'nobody', 'would', 'be', 'buying', 'postcards', 'of', 'his', 'works', 'in', 'the', 'gift', 'shop', 'of', 'the', 'MET,', 'Art', 'is', 'what', 'we', 'agree', 'art', 'is,', 'and', 'if', 'someone', 'doesn’t', 'agree,', 'we', 'call', 'them', 'a', 'heretic', 'and', 'we', 'throw', 'them', 'in', 'the', 'Hudson', 'with', 'a', 'sculpture', 'of', 'Robert', 'Indiana', 'tied', 'to', 'their', 'legs', 'to', 'see', 'if', 'they', 'float,', 'It’s', 'art', 'if', 'it', 'doesn’t', 'sink', 'in', 'the', 'river,', 'It’s', 'art', 'if', 'five', 'zeros', 'line', 'up', 'in', 'your', 'wallet,', 'It’s', 'art', 'if', 'it', 'smells', 'like', 'gold,', 'if', 'it', 'tastes', 'like', 'gold,', 'if', 'it', 'weighs', 'the', 'same', 'as', 'gold,', 'It’ll', 'be', 'art', 'if', 'you', 'stop', 'repeating', 'how', 'good', 'it', 'is', 'and', 'you', 'stop', 'to', 'look']\n"
     ]
    },
    {
     "name": "stderr",
     "output_type": "stream",
     "text": [
      "Setting `pad_token_id` to `eos_token_id`:50256 for open-end generation.\n"
     ]
    },
    {
     "name": "stdout",
     "output_type": "stream",
     "text": [
      "Art is a game and not everyone is invited to play, Art is a game and if Picasso had been born in Botswana nobody would be buying postcards of his works in the gift shop of the MET, Art is what we agree art is, and if someone doesn’t agree, we call them a heretic and we throw them in the Hudson with a sculpture of Robert Indiana tied to their legs to see if they float, It’s art if it doesn’t sink in the river, It’s art if five zeros line up in your wallet, It’s art if it smells like gold, if it tastes like gold, if it weighs the same as gold, It’ll be art if you stop repeating how good it is and you stop to look ^^  at it, It’ll be art if you stop to look at it, It’ll be art if you stop to look at it, It’ll be art if you stop to look at it, It’ll be art if you stop to look at it, It’ll be art if you stop to look at it, It’ll be art if you stop to look at it, It’ll be art if you stop to look at it, It’ll be art if you stop to look at it\n",
      "['Art', 'is', 'a', 'game', 'and', 'not', 'everyone', 'is', 'invited', 'to', 'play,', 'Art', 'is', 'a', 'game', 'and', 'if', 'Picasso', 'had', 'been', 'born', 'in', 'Botswana', 'nobody', 'would', 'be', 'buying', 'postcards', 'of', 'his', 'works', 'in', 'the', 'gift', 'shop', 'of', 'the', 'MET,', 'Art', 'is', 'what', 'we', 'agree', 'art', 'is,', 'and', 'if', 'someone', 'doesn’t', 'agree,', 'we', 'call', 'them', 'a', 'heretic', 'and', 'we', 'throw', 'them', 'in', 'the', 'Hudson', 'with', 'a', 'sculpture', 'of', 'Robert', 'Indiana', 'tied', 'to', 'their', 'legs', 'to', 'see', 'if', 'they', 'float,', 'It’s', 'art', 'if', 'it', 'doesn’t', 'sink', 'in', 'the', 'river,', 'It’s', 'art', 'if', 'five', 'zeros', 'line', 'up', 'in', 'your', 'wallet,', 'It’s', 'art', 'if', 'it', 'smells', 'like', 'gold,', 'if', 'it', 'tastes', 'like', 'gold,', 'if', 'it', 'weighs', 'the', 'same', 'as', 'gold,', 'It’ll', 'be', 'art', 'if', 'you', 'stop', 'repeating', 'how', 'good', 'it', 'is', 'and', 'you', 'stop', 'to', 'look', 'at']\n"
     ]
    },
    {
     "name": "stderr",
     "output_type": "stream",
     "text": [
      "Setting `pad_token_id` to `eos_token_id`:50256 for open-end generation.\n"
     ]
    },
    {
     "name": "stdout",
     "output_type": "stream",
     "text": [
      "Art is a game and not everyone is invited to play, Art is a game and if Picasso had been born in Botswana nobody would be buying postcards of his works in the gift shop of the MET, Art is what we agree art is, and if someone doesn’t agree, we call them a heretic and we throw them in the Hudson with a sculpture of Robert Indiana tied to their legs to see if they float, It’s art if it doesn’t sink in the river, It’s art if five zeros line up in your wallet, It’s art if it smells like gold, if it tastes like gold, if it weighs the same as gold, It’ll be art if you stop repeating how good it is and you stop to look at ^^  it, It’ll be art if you stop to look at it, It’ll be art if you stop to look at it, It’ll be art if you stop to look at it, It’ll be art if you stop to look at it, It’ll be art if you stop to look at it, It’ll be art if you stop to look at it, It’ll be art if you stop to look at it, It’ll be art if you stop to look at it\n",
      "['Art', 'is', 'a', 'game', 'and', 'not', 'everyone', 'is', 'invited', 'to', 'play,', 'Art', 'is', 'a', 'game', 'and', 'if', 'Picasso', 'had', 'been', 'born', 'in', 'Botswana', 'nobody', 'would', 'be', 'buying', 'postcards', 'of', 'his', 'works', 'in', 'the', 'gift', 'shop', 'of', 'the', 'MET,', 'Art', 'is', 'what', 'we', 'agree', 'art', 'is,', 'and', 'if', 'someone', 'doesn’t', 'agree,', 'we', 'call', 'them', 'a', 'heretic', 'and', 'we', 'throw', 'them', 'in', 'the', 'Hudson', 'with', 'a', 'sculpture', 'of', 'Robert', 'Indiana', 'tied', 'to', 'their', 'legs', 'to', 'see', 'if', 'they', 'float,', 'It’s', 'art', 'if', 'it', 'doesn’t', 'sink', 'in', 'the', 'river,', 'It’s', 'art', 'if', 'five', 'zeros', 'line', 'up', 'in', 'your', 'wallet,', 'It’s', 'art', 'if', 'it', 'smells', 'like', 'gold,', 'if', 'it', 'tastes', 'like', 'gold,', 'if', 'it', 'weighs', 'the', 'same', 'as', 'gold,', 'It’ll', 'be', 'art', 'if', 'you', 'stop', 'repeating', 'how', 'good', 'it', 'is', 'and', 'you', 'stop', 'to', 'look', 'at', 'it,']\n"
     ]
    },
    {
     "name": "stderr",
     "output_type": "stream",
     "text": [
      "Setting `pad_token_id` to `eos_token_id`:50256 for open-end generation.\n"
     ]
    },
    {
     "name": "stdout",
     "output_type": "stream",
     "text": [
      "Art is a game and not everyone is invited to play, Art is a game and if Picasso had been born in Botswana nobody would be buying postcards of his works in the gift shop of the MET, Art is what we agree art is, and if someone doesn’t agree, we call them a heretic and we throw them in the Hudson with a sculpture of Robert Indiana tied to their legs to see if they float, It’s art if it doesn’t sink in the river, It’s art if five zeros line up in your wallet, It’s art if it smells like gold, if it tastes like gold, if it weighs the same as gold, It’ll be art if you stop repeating how good it is and you stop to look at it, ^^  It’ll be art if you stop to look at it, It’ll be art if you stop to look at it, It’ll be art if you stop to look at it, It’ll be art if you stop to look at it, It’ll be art if you stop to look at it, It’ll be art if you stop to look at it, It’ll be art if you stop to look at it, It’ll be art if you stop to look at it,\n",
      "['Art', 'is', 'a', 'game', 'and', 'not', 'everyone', 'is', 'invited', 'to', 'play,', 'Art', 'is', 'a', 'game', 'and', 'if', 'Picasso', 'had', 'been', 'born', 'in', 'Botswana', 'nobody', 'would', 'be', 'buying', 'postcards', 'of', 'his', 'works', 'in', 'the', 'gift', 'shop', 'of', 'the', 'MET,', 'Art', 'is', 'what', 'we', 'agree', 'art', 'is,', 'and', 'if', 'someone', 'doesn’t', 'agree,', 'we', 'call', 'them', 'a', 'heretic', 'and', 'we', 'throw', 'them', 'in', 'the', 'Hudson', 'with', 'a', 'sculpture', 'of', 'Robert', 'Indiana', 'tied', 'to', 'their', 'legs', 'to', 'see', 'if', 'they', 'float,', 'It’s', 'art', 'if', 'it', 'doesn’t', 'sink', 'in', 'the', 'river,', 'It’s', 'art', 'if', 'five', 'zeros', 'line', 'up', 'in', 'your', 'wallet,', 'It’s', 'art', 'if', 'it', 'smells', 'like', 'gold,', 'if', 'it', 'tastes', 'like', 'gold,', 'if', 'it', 'weighs', 'the', 'same', 'as', 'gold,', 'It’ll', 'be', 'art', 'if', 'you', 'stop', 'repeating', 'how', 'good', 'it', 'is', 'and', 'you', 'stop', 'to', 'look', 'at', 'it,', 'if']\n"
     ]
    },
    {
     "name": "stderr",
     "output_type": "stream",
     "text": [
      "Setting `pad_token_id` to `eos_token_id`:50256 for open-end generation.\n"
     ]
    },
    {
     "name": "stdout",
     "output_type": "stream",
     "text": [
      "Art is a game and not everyone is invited to play, Art is a game and if Picasso had been born in Botswana nobody would be buying postcards of his works in the gift shop of the MET, Art is what we agree art is, and if someone doesn’t agree, we call them a heretic and we throw them in the Hudson with a sculpture of Robert Indiana tied to their legs to see if they float, It’s art if it doesn’t sink in the river, It’s art if five zeros line up in your wallet, It’s art if it smells like gold, if it tastes like gold, if it weighs the same as gold, It’ll be art if you stop repeating how good it is and you stop to look at it, if ^^  you stop to look at it, if you stop to look at it, if you stop to look at it, if you stop to look at it, if you stop to look at it, if you stop to look at it, if you stop to look at it, if you stop to look at it, if you stop to look at it, if you stop to look at it, if you stop to look at it, if you stop to look at it, if you stop to look at it, if you stop to look at it,\n",
      "['Art', 'is', 'a', 'game', 'and', 'not', 'everyone', 'is', 'invited', 'to', 'play,', 'Art', 'is', 'a', 'game', 'and', 'if', 'Picasso', 'had', 'been', 'born', 'in', 'Botswana', 'nobody', 'would', 'be', 'buying', 'postcards', 'of', 'his', 'works', 'in', 'the', 'gift', 'shop', 'of', 'the', 'MET,', 'Art', 'is', 'what', 'we', 'agree', 'art', 'is,', 'and', 'if', 'someone', 'doesn’t', 'agree,', 'we', 'call', 'them', 'a', 'heretic', 'and', 'we', 'throw', 'them', 'in', 'the', 'Hudson', 'with', 'a', 'sculpture', 'of', 'Robert', 'Indiana', 'tied', 'to', 'their', 'legs', 'to', 'see', 'if', 'they', 'float,', 'It’s', 'art', 'if', 'it', 'doesn’t', 'sink', 'in', 'the', 'river,', 'It’s', 'art', 'if', 'five', 'zeros', 'line', 'up', 'in', 'your', 'wallet,', 'It’s', 'art', 'if', 'it', 'smells', 'like', 'gold,', 'if', 'it', 'tastes', 'like', 'gold,', 'if', 'it', 'weighs', 'the', 'same', 'as', 'gold,', 'It’ll', 'be', 'art', 'if', 'you', 'stop', 'repeating', 'how', 'good', 'it', 'is', 'and', 'you', 'stop', 'to', 'look', 'at', 'it,', 'if', 'you']\n"
     ]
    },
    {
     "name": "stderr",
     "output_type": "stream",
     "text": [
      "Setting `pad_token_id` to `eos_token_id`:50256 for open-end generation.\n"
     ]
    },
    {
     "name": "stdout",
     "output_type": "stream",
     "text": [
      "Art is a game and not everyone is invited to play, Art is a game and if Picasso had been born in Botswana nobody would be buying postcards of his works in the gift shop of the MET, Art is what we agree art is, and if someone doesn’t agree, we call them a heretic and we throw them in the Hudson with a sculpture of Robert Indiana tied to their legs to see if they float, It’s art if it doesn’t sink in the river, It’s art if five zeros line up in your wallet, It’s art if it smells like gold, if it tastes like gold, if it weighs the same as gold, It’ll be art if you stop repeating how good it is and you stop to look at it, if you ^^  stop to look at it, if you stop to look at it, if you stop to look at it, if you stop to look at it, if you stop to look at it, if you stop to look at it, if you stop to look at it, if you stop to look at it, if you stop to look at it, if you stop to look at it, if you stop to look at it, if you stop to look at it, if you stop to look at it, if you stop to look at it,\n",
      "['Art', 'is', 'a', 'game', 'and', 'not', 'everyone', 'is', 'invited', 'to', 'play,', 'Art', 'is', 'a', 'game', 'and', 'if', 'Picasso', 'had', 'been', 'born', 'in', 'Botswana', 'nobody', 'would', 'be', 'buying', 'postcards', 'of', 'his', 'works', 'in', 'the', 'gift', 'shop', 'of', 'the', 'MET,', 'Art', 'is', 'what', 'we', 'agree', 'art', 'is,', 'and', 'if', 'someone', 'doesn’t', 'agree,', 'we', 'call', 'them', 'a', 'heretic', 'and', 'we', 'throw', 'them', 'in', 'the', 'Hudson', 'with', 'a', 'sculpture', 'of', 'Robert', 'Indiana', 'tied', 'to', 'their', 'legs', 'to', 'see', 'if', 'they', 'float,', 'It’s', 'art', 'if', 'it', 'doesn’t', 'sink', 'in', 'the', 'river,', 'It’s', 'art', 'if', 'five', 'zeros', 'line', 'up', 'in', 'your', 'wallet,', 'It’s', 'art', 'if', 'it', 'smells', 'like', 'gold,', 'if', 'it', 'tastes', 'like', 'gold,', 'if', 'it', 'weighs', 'the', 'same', 'as', 'gold,', 'It’ll', 'be', 'art', 'if', 'you', 'stop', 'repeating', 'how', 'good', 'it', 'is', 'and', 'you', 'stop', 'to', 'look', 'at', 'it,', 'if', 'you', 'stop']\n"
     ]
    },
    {
     "name": "stderr",
     "output_type": "stream",
     "text": [
      "Setting `pad_token_id` to `eos_token_id`:50256 for open-end generation.\n"
     ]
    },
    {
     "name": "stdout",
     "output_type": "stream",
     "text": [
      "Art is a game and not everyone is invited to play, Art is a game and if Picasso had been born in Botswana nobody would be buying postcards of his works in the gift shop of the MET, Art is what we agree art is, and if someone doesn’t agree, we call them a heretic and we throw them in the Hudson with a sculpture of Robert Indiana tied to their legs to see if they float, It’s art if it doesn’t sink in the river, It’s art if five zeros line up in your wallet, It’s art if it smells like gold, if it tastes like gold, if it weighs the same as gold, It’ll be art if you stop repeating how good it is and you stop to look at it, if you stop ^^  to look at it, if you stop to look at it, if you stop to look at it, if you stop to look at it, if you stop to look at it, if you stop to look at it, if you stop to look at it, if you stop to look at it, if you stop to look at it, if you stop to look at it, if you stop to look at it, if you stop to look at it, if you stop to look at it, if you stop to look at it,\n",
      "['Art', 'is', 'a', 'game', 'and', 'not', 'everyone', 'is', 'invited', 'to', 'play,', 'Art', 'is', 'a', 'game', 'and', 'if', 'Picasso', 'had', 'been', 'born', 'in', 'Botswana', 'nobody', 'would', 'be', 'buying', 'postcards', 'of', 'his', 'works', 'in', 'the', 'gift', 'shop', 'of', 'the', 'MET,', 'Art', 'is', 'what', 'we', 'agree', 'art', 'is,', 'and', 'if', 'someone', 'doesn’t', 'agree,', 'we', 'call', 'them', 'a', 'heretic', 'and', 'we', 'throw', 'them', 'in', 'the', 'Hudson', 'with', 'a', 'sculpture', 'of', 'Robert', 'Indiana', 'tied', 'to', 'their', 'legs', 'to', 'see', 'if', 'they', 'float,', 'It’s', 'art', 'if', 'it', 'doesn’t', 'sink', 'in', 'the', 'river,', 'It’s', 'art', 'if', 'five', 'zeros', 'line', 'up', 'in', 'your', 'wallet,', 'It’s', 'art', 'if', 'it', 'smells', 'like', 'gold,', 'if', 'it', 'tastes', 'like', 'gold,', 'if', 'it', 'weighs', 'the', 'same', 'as', 'gold,', 'It’ll', 'be', 'art', 'if', 'you', 'stop', 'repeating', 'how', 'good', 'it', 'is', 'and', 'you', 'stop', 'to', 'look', 'at', 'it,', 'if', 'you', 'stop', 'trying']\n"
     ]
    },
    {
     "name": "stderr",
     "output_type": "stream",
     "text": [
      "Setting `pad_token_id` to `eos_token_id`:50256 for open-end generation.\n"
     ]
    },
    {
     "name": "stdout",
     "output_type": "stream",
     "text": [
      "Art is a game and not everyone is invited to play, Art is a game and if Picasso had been born in Botswana nobody would be buying postcards of his works in the gift shop of the MET, Art is what we agree art is, and if someone doesn’t agree, we call them a heretic and we throw them in the Hudson with a sculpture of Robert Indiana tied to their legs to see if they float, It’s art if it doesn’t sink in the river, It’s art if five zeros line up in your wallet, It’s art if it smells like gold, if it tastes like gold, if it weighs the same as gold, It’ll be art if you stop repeating how good it is and you stop to look at it, if you stop trying ^^  to make it look like gold, If you stop repeating how good it is, If you stop trying to make it look like gold, If you stop repeating how good it is, If you stop repeating how good it is, If you stop repeating how good it is, If you stop repeating how good it is, If you stop repeating how good it is, If you stop repeating how good it is, If you stop repeating how good it is, If you stop repeating how good it is, If you stop repeating how good it is,\n",
      "['Art', 'is', 'a', 'game', 'and', 'not', 'everyone', 'is', 'invited', 'to', 'play,', 'Art', 'is', 'a', 'game', 'and', 'if', 'Picasso', 'had', 'been', 'born', 'in', 'Botswana', 'nobody', 'would', 'be', 'buying', 'postcards', 'of', 'his', 'works', 'in', 'the', 'gift', 'shop', 'of', 'the', 'MET,', 'Art', 'is', 'what', 'we', 'agree', 'art', 'is,', 'and', 'if', 'someone', 'doesn’t', 'agree,', 'we', 'call', 'them', 'a', 'heretic', 'and', 'we', 'throw', 'them', 'in', 'the', 'Hudson', 'with', 'a', 'sculpture', 'of', 'Robert', 'Indiana', 'tied', 'to', 'their', 'legs', 'to', 'see', 'if', 'they', 'float,', 'It’s', 'art', 'if', 'it', 'doesn’t', 'sink', 'in', 'the', 'river,', 'It’s', 'art', 'if', 'five', 'zeros', 'line', 'up', 'in', 'your', 'wallet,', 'It’s', 'art', 'if', 'it', 'smells', 'like', 'gold,', 'if', 'it', 'tastes', 'like', 'gold,', 'if', 'it', 'weighs', 'the', 'same', 'as', 'gold,', 'It’ll', 'be', 'art', 'if', 'you', 'stop', 'repeating', 'how', 'good', 'it', 'is', 'and', 'you', 'stop', 'to', 'look', 'at', 'it,', 'if', 'you', 'stop', 'trying', 'to']\n"
     ]
    },
    {
     "name": "stderr",
     "output_type": "stream",
     "text": [
      "Setting `pad_token_id` to `eos_token_id`:50256 for open-end generation.\n"
     ]
    },
    {
     "name": "stdout",
     "output_type": "stream",
     "text": [
      "Art is a game and not everyone is invited to play, Art is a game and if Picasso had been born in Botswana nobody would be buying postcards of his works in the gift shop of the MET, Art is what we agree art is, and if someone doesn’t agree, we call them a heretic and we throw them in the Hudson with a sculpture of Robert Indiana tied to their legs to see if they float, It’s art if it doesn’t sink in the river, It’s art if five zeros line up in your wallet, It’s art if it smells like gold, if it tastes like gold, if it weighs the same as gold, It’ll be art if you stop repeating how good it is and you stop to look at it, if you stop trying to ^^  make it look like gold, If you stop repeating how good it is, If you stop trying to make it look like gold, If you stop repeating how good it is, If you stop repeating how good it is, If you stop repeating how good it is, If you stop repeating how good it is, If you stop repeating how good it is, If you stop repeating how good it is, If you stop repeating how good it is, If you stop repeating how good it is, If you stop repeating how good it is,\n",
      "['Art', 'is', 'a', 'game', 'and', 'not', 'everyone', 'is', 'invited', 'to', 'play,', 'Art', 'is', 'a', 'game', 'and', 'if', 'Picasso', 'had', 'been', 'born', 'in', 'Botswana', 'nobody', 'would', 'be', 'buying', 'postcards', 'of', 'his', 'works', 'in', 'the', 'gift', 'shop', 'of', 'the', 'MET,', 'Art', 'is', 'what', 'we', 'agree', 'art', 'is,', 'and', 'if', 'someone', 'doesn’t', 'agree,', 'we', 'call', 'them', 'a', 'heretic', 'and', 'we', 'throw', 'them', 'in', 'the', 'Hudson', 'with', 'a', 'sculpture', 'of', 'Robert', 'Indiana', 'tied', 'to', 'their', 'legs', 'to', 'see', 'if', 'they', 'float,', 'It’s', 'art', 'if', 'it', 'doesn’t', 'sink', 'in', 'the', 'river,', 'It’s', 'art', 'if', 'five', 'zeros', 'line', 'up', 'in', 'your', 'wallet,', 'It’s', 'art', 'if', 'it', 'smells', 'like', 'gold,', 'if', 'it', 'tastes', 'like', 'gold,', 'if', 'it', 'weighs', 'the', 'same', 'as', 'gold,', 'It’ll', 'be', 'art', 'if', 'you', 'stop', 'repeating', 'how', 'good', 'it', 'is', 'and', 'you', 'stop', 'to', 'look', 'at', 'it,', 'if', 'you', 'stop', 'trying', 'to', 'understand']\n"
     ]
    },
    {
     "name": "stderr",
     "output_type": "stream",
     "text": [
      "Setting `pad_token_id` to `eos_token_id`:50256 for open-end generation.\n"
     ]
    },
    {
     "name": "stdout",
     "output_type": "stream",
     "text": [
      "Art is a game and not everyone is invited to play, Art is a game and if Picasso had been born in Botswana nobody would be buying postcards of his works in the gift shop of the MET, Art is what we agree art is, and if someone doesn’t agree, we call them a heretic and we throw them in the Hudson with a sculpture of Robert Indiana tied to their legs to see if they float, It’s art if it doesn’t sink in the river, It’s art if five zeros line up in your wallet, It’s art if it smells like gold, if it tastes like gold, if it weighs the same as gold, It’ll be art if you stop repeating how good it is and you stop to look at it, if you stop trying to understand ^^  it, if you stop trying to understand it, if you stop trying to understand it, if you stop trying to understand it, if you stop trying to understand it, if you stop trying to understand it, if you stop trying to understand it, if you stop trying to understand it, if you stop trying to understand it, if you stop trying to understand it, if you stop trying to understand it, if you stop trying to understand it, if you stop trying to understand it, if you stop trying to understand it,\n",
      "['Art', 'is', 'a', 'game', 'and', 'not', 'everyone', 'is', 'invited', 'to', 'play,', 'Art', 'is', 'a', 'game', 'and', 'if', 'Picasso', 'had', 'been', 'born', 'in', 'Botswana', 'nobody', 'would', 'be', 'buying', 'postcards', 'of', 'his', 'works', 'in', 'the', 'gift', 'shop', 'of', 'the', 'MET,', 'Art', 'is', 'what', 'we', 'agree', 'art', 'is,', 'and', 'if', 'someone', 'doesn’t', 'agree,', 'we', 'call', 'them', 'a', 'heretic', 'and', 'we', 'throw', 'them', 'in', 'the', 'Hudson', 'with', 'a', 'sculpture', 'of', 'Robert', 'Indiana', 'tied', 'to', 'their', 'legs', 'to', 'see', 'if', 'they', 'float,', 'It’s', 'art', 'if', 'it', 'doesn’t', 'sink', 'in', 'the', 'river,', 'It’s', 'art', 'if', 'five', 'zeros', 'line', 'up', 'in', 'your', 'wallet,', 'It’s', 'art', 'if', 'it', 'smells', 'like', 'gold,', 'if', 'it', 'tastes', 'like', 'gold,', 'if', 'it', 'weighs', 'the', 'same', 'as', 'gold,', 'It’ll', 'be', 'art', 'if', 'you', 'stop', 'repeating', 'how', 'good', 'it', 'is', 'and', 'you', 'stop', 'to', 'look', 'at', 'it,', 'if', 'you', 'stop', 'trying', 'to', 'understand', 'it,']\n"
     ]
    },
    {
     "name": "stderr",
     "output_type": "stream",
     "text": [
      "Setting `pad_token_id` to `eos_token_id`:50256 for open-end generation.\n"
     ]
    },
    {
     "name": "stdout",
     "output_type": "stream",
     "text": [
      "Art is a game and not everyone is invited to play, Art is a game and if Picasso had been born in Botswana nobody would be buying postcards of his works in the gift shop of the MET, Art is what we agree art is, and if someone doesn’t agree, we call them a heretic and we throw them in the Hudson with a sculpture of Robert Indiana tied to their legs to see if they float, It’s art if it doesn’t sink in the river, It’s art if five zeros line up in your wallet, It’s art if it smells like gold, if it tastes like gold, if it weighs the same as gold, It’ll be art if you stop repeating how good it is and you stop to look at it, if you stop trying to understand it, ^^  if you stop trying to understand it, if you stop trying to understand it, if you stop trying to understand it, if you stop trying to understand it, if you stop trying to understand it, if you stop trying to understand it, if you stop trying to understand it, if you stop trying to understand it, if you stop trying to understand it, if you stop trying to understand it, if you stop trying to understand it, if you stop trying to understand it, if you stop trying to understand it, if\n",
      "['Art', 'is', 'a', 'game', 'and', 'not', 'everyone', 'is', 'invited', 'to', 'play,', 'Art', 'is', 'a', 'game', 'and', 'if', 'Picasso', 'had', 'been', 'born', 'in', 'Botswana', 'nobody', 'would', 'be', 'buying', 'postcards', 'of', 'his', 'works', 'in', 'the', 'gift', 'shop', 'of', 'the', 'MET,', 'Art', 'is', 'what', 'we', 'agree', 'art', 'is,', 'and', 'if', 'someone', 'doesn’t', 'agree,', 'we', 'call', 'them', 'a', 'heretic', 'and', 'we', 'throw', 'them', 'in', 'the', 'Hudson', 'with', 'a', 'sculpture', 'of', 'Robert', 'Indiana', 'tied', 'to', 'their', 'legs', 'to', 'see', 'if', 'they', 'float,', 'It’s', 'art', 'if', 'it', 'doesn’t', 'sink', 'in', 'the', 'river,', 'It’s', 'art', 'if', 'five', 'zeros', 'line', 'up', 'in', 'your', 'wallet,', 'It’s', 'art', 'if', 'it', 'smells', 'like', 'gold,', 'if', 'it', 'tastes', 'like', 'gold,', 'if', 'it', 'weighs', 'the', 'same', 'as', 'gold,', 'It’ll', 'be', 'art', 'if', 'you', 'stop', 'repeating', 'how', 'good', 'it', 'is', 'and', 'you', 'stop', 'to', 'look', 'at', 'it,', 'if', 'you', 'stop', 'trying', 'to', 'understand', 'it,', 'to']\n"
     ]
    },
    {
     "name": "stderr",
     "output_type": "stream",
     "text": [
      "Setting `pad_token_id` to `eos_token_id`:50256 for open-end generation.\n"
     ]
    },
    {
     "name": "stdout",
     "output_type": "stream",
     "text": [
      "Art is a game and not everyone is invited to play, Art is a game and if Picasso had been born in Botswana nobody would be buying postcards of his works in the gift shop of the MET, Art is what we agree art is, and if someone doesn’t agree, we call them a heretic and we throw them in the Hudson with a sculpture of Robert Indiana tied to their legs to see if they float, It’s art if it doesn’t sink in the river, It’s art if five zeros line up in your wallet, It’s art if it smells like gold, if it tastes like gold, if it weighs the same as gold, It’ll be art if you stop repeating how good it is and you stop to look at it, if you stop trying to understand it, to ^^  understand it, to understand it, to understand it, to understand it, to understand it, to understand it, to understand it, to understand it, to understand it, to understand it, to understand it, to understand it, to understand it, to understand it, to understand it, to understand it, to understand it, to understand it, to understand it, to understand it, to understand it, to understand it, to understand it, to understand it, to understand it, to understand it, to\n",
      "['Art', 'is', 'a', 'game', 'and', 'not', 'everyone', 'is', 'invited', 'to', 'play,', 'Art', 'is', 'a', 'game', 'and', 'if', 'Picasso', 'had', 'been', 'born', 'in', 'Botswana', 'nobody', 'would', 'be', 'buying', 'postcards', 'of', 'his', 'works', 'in', 'the', 'gift', 'shop', 'of', 'the', 'MET,', 'Art', 'is', 'what', 'we', 'agree', 'art', 'is,', 'and', 'if', 'someone', 'doesn’t', 'agree,', 'we', 'call', 'them', 'a', 'heretic', 'and', 'we', 'throw', 'them', 'in', 'the', 'Hudson', 'with', 'a', 'sculpture', 'of', 'Robert', 'Indiana', 'tied', 'to', 'their', 'legs', 'to', 'see', 'if', 'they', 'float,', 'It’s', 'art', 'if', 'it', 'doesn’t', 'sink', 'in', 'the', 'river,', 'It’s', 'art', 'if', 'five', 'zeros', 'line', 'up', 'in', 'your', 'wallet,', 'It’s', 'art', 'if', 'it', 'smells', 'like', 'gold,', 'if', 'it', 'tastes', 'like', 'gold,', 'if', 'it', 'weighs', 'the', 'same', 'as', 'gold,', 'It’ll', 'be', 'art', 'if', 'you', 'stop', 'repeating', 'how', 'good', 'it', 'is', 'and', 'you', 'stop', 'to', 'look', 'at', 'it,', 'if', 'you', 'stop', 'trying', 'to', 'understand', 'it,', 'to', 'explain']\n"
     ]
    },
    {
     "name": "stderr",
     "output_type": "stream",
     "text": [
      "Setting `pad_token_id` to `eos_token_id`:50256 for open-end generation.\n"
     ]
    },
    {
     "name": "stdout",
     "output_type": "stream",
     "text": [
      "Art is a game and not everyone is invited to play, Art is a game and if Picasso had been born in Botswana nobody would be buying postcards of his works in the gift shop of the MET, Art is what we agree art is, and if someone doesn’t agree, we call them a heretic and we throw them in the Hudson with a sculpture of Robert Indiana tied to their legs to see if they float, It’s art if it doesn’t sink in the river, It’s art if five zeros line up in your wallet, It’s art if it smells like gold, if it tastes like gold, if it weighs the same as gold, It’ll be art if you stop repeating how good it is and you stop to look at it, if you stop trying to understand it, to explain ^^  it, to explain it, to explain it, to explain it, to explain it, to explain it, to explain it, to explain it, to explain it, to explain it, to explain it, to explain it, to explain it, to explain it, to explain it, to explain it, to explain it, to explain it, to explain it, to explain it, to explain it, to explain it, to explain it, to explain it, to explain it, to explain it, to\n",
      "['Art', 'is', 'a', 'game', 'and', 'not', 'everyone', 'is', 'invited', 'to', 'play,', 'Art', 'is', 'a', 'game', 'and', 'if', 'Picasso', 'had', 'been', 'born', 'in', 'Botswana', 'nobody', 'would', 'be', 'buying', 'postcards', 'of', 'his', 'works', 'in', 'the', 'gift', 'shop', 'of', 'the', 'MET,', 'Art', 'is', 'what', 'we', 'agree', 'art', 'is,', 'and', 'if', 'someone', 'doesn’t', 'agree,', 'we', 'call', 'them', 'a', 'heretic', 'and', 'we', 'throw', 'them', 'in', 'the', 'Hudson', 'with', 'a', 'sculpture', 'of', 'Robert', 'Indiana', 'tied', 'to', 'their', 'legs', 'to', 'see', 'if', 'they', 'float,', 'It’s', 'art', 'if', 'it', 'doesn’t', 'sink', 'in', 'the', 'river,', 'It’s', 'art', 'if', 'five', 'zeros', 'line', 'up', 'in', 'your', 'wallet,', 'It’s', 'art', 'if', 'it', 'smells', 'like', 'gold,', 'if', 'it', 'tastes', 'like', 'gold,', 'if', 'it', 'weighs', 'the', 'same', 'as', 'gold,', 'It’ll', 'be', 'art', 'if', 'you', 'stop', 'repeating', 'how', 'good', 'it', 'is', 'and', 'you', 'stop', 'to', 'look', 'at', 'it,', 'if', 'you', 'stop', 'trying', 'to', 'understand', 'it,', 'to', 'explain', 'it,']\n"
     ]
    },
    {
     "name": "stderr",
     "output_type": "stream",
     "text": [
      "Setting `pad_token_id` to `eos_token_id`:50256 for open-end generation.\n"
     ]
    },
    {
     "name": "stdout",
     "output_type": "stream",
     "text": [
      "Art is a game and not everyone is invited to play, Art is a game and if Picasso had been born in Botswana nobody would be buying postcards of his works in the gift shop of the MET, Art is what we agree art is, and if someone doesn’t agree, we call them a heretic and we throw them in the Hudson with a sculpture of Robert Indiana tied to their legs to see if they float, It’s art if it doesn’t sink in the river, It’s art if five zeros line up in your wallet, It’s art if it smells like gold, if it tastes like gold, if it weighs the same as gold, It’ll be art if you stop repeating how good it is and you stop to look at it, if you stop trying to understand it, to explain it, ^^  to explain it, to explain it, to explain it, to explain it, to explain it, to explain it, to explain it, to explain it, to explain it, to explain it, to explain it, to explain it, to explain it, to explain it, to explain it, to explain it, to explain it, to explain it, to explain it, to explain it, to explain it, to explain it, to explain it, to explain it, to explain it, to explain\n",
      "['Art', 'is', 'a', 'game', 'and', 'not', 'everyone', 'is', 'invited', 'to', 'play,', 'Art', 'is', 'a', 'game', 'and', 'if', 'Picasso', 'had', 'been', 'born', 'in', 'Botswana', 'nobody', 'would', 'be', 'buying', 'postcards', 'of', 'his', 'works', 'in', 'the', 'gift', 'shop', 'of', 'the', 'MET,', 'Art', 'is', 'what', 'we', 'agree', 'art', 'is,', 'and', 'if', 'someone', 'doesn’t', 'agree,', 'we', 'call', 'them', 'a', 'heretic', 'and', 'we', 'throw', 'them', 'in', 'the', 'Hudson', 'with', 'a', 'sculpture', 'of', 'Robert', 'Indiana', 'tied', 'to', 'their', 'legs', 'to', 'see', 'if', 'they', 'float,', 'It’s', 'art', 'if', 'it', 'doesn’t', 'sink', 'in', 'the', 'river,', 'It’s', 'art', 'if', 'five', 'zeros', 'line', 'up', 'in', 'your', 'wallet,', 'It’s', 'art', 'if', 'it', 'smells', 'like', 'gold,', 'if', 'it', 'tastes', 'like', 'gold,', 'if', 'it', 'weighs', 'the', 'same', 'as', 'gold,', 'It’ll', 'be', 'art', 'if', 'you', 'stop', 'repeating', 'how', 'good', 'it', 'is', 'and', 'you', 'stop', 'to', 'look', 'at', 'it,', 'if', 'you', 'stop', 'trying', 'to', 'understand', 'it,', 'to', 'explain', 'it,', 'Picasso']\n"
     ]
    },
    {
     "name": "stderr",
     "output_type": "stream",
     "text": [
      "Setting `pad_token_id` to `eos_token_id`:50256 for open-end generation.\n"
     ]
    },
    {
     "name": "stdout",
     "output_type": "stream",
     "text": [
      "Art is a game and not everyone is invited to play, Art is a game and if Picasso had been born in Botswana nobody would be buying postcards of his works in the gift shop of the MET, Art is what we agree art is, and if someone doesn’t agree, we call them a heretic and we throw them in the Hudson with a sculpture of Robert Indiana tied to their legs to see if they float, It’s art if it doesn’t sink in the river, It’s art if five zeros line up in your wallet, It’s art if it smells like gold, if it tastes like gold, if it weighs the same as gold, It’ll be art if you stop repeating how good it is and you stop to look at it, if you stop trying to understand it, to explain it, Picasso ^^ ’s work is art, and if you don’t understand it, you’re a heretic, and if you don’t understand it, you’re a thief, and if you don’t understand it, you’re a thief, and if you don’t understand it, you’re a thief, and if you don’t understand it, you’re a thief, and if you don’t understand\n",
      "['Art', 'is', 'a', 'game', 'and', 'not', 'everyone', 'is', 'invited', 'to', 'play,', 'Art', 'is', 'a', 'game', 'and', 'if', 'Picasso', 'had', 'been', 'born', 'in', 'Botswana', 'nobody', 'would', 'be', 'buying', 'postcards', 'of', 'his', 'works', 'in', 'the', 'gift', 'shop', 'of', 'the', 'MET,', 'Art', 'is', 'what', 'we', 'agree', 'art', 'is,', 'and', 'if', 'someone', 'doesn’t', 'agree,', 'we', 'call', 'them', 'a', 'heretic', 'and', 'we', 'throw', 'them', 'in', 'the', 'Hudson', 'with', 'a', 'sculpture', 'of', 'Robert', 'Indiana', 'tied', 'to', 'their', 'legs', 'to', 'see', 'if', 'they', 'float,', 'It’s', 'art', 'if', 'it', 'doesn’t', 'sink', 'in', 'the', 'river,', 'It’s', 'art', 'if', 'five', 'zeros', 'line', 'up', 'in', 'your', 'wallet,', 'It’s', 'art', 'if', 'it', 'smells', 'like', 'gold,', 'if', 'it', 'tastes', 'like', 'gold,', 'if', 'it', 'weighs', 'the', 'same', 'as', 'gold,', 'It’ll', 'be', 'art', 'if', 'you', 'stop', 'repeating', 'how', 'good', 'it', 'is', 'and', 'you', 'stop', 'to', 'look', 'at', 'it,', 'if', 'you', 'stop', 'trying', 'to', 'understand', 'it,', 'to', 'explain', 'it,', 'Picasso', 'in']\n"
     ]
    },
    {
     "name": "stderr",
     "output_type": "stream",
     "text": [
      "Setting `pad_token_id` to `eos_token_id`:50256 for open-end generation.\n"
     ]
    },
    {
     "name": "stdout",
     "output_type": "stream",
     "text": [
      "Art is a game and not everyone is invited to play, Art is a game and if Picasso had been born in Botswana nobody would be buying postcards of his works in the gift shop of the MET, Art is what we agree art is, and if someone doesn’t agree, we call them a heretic and we throw them in the Hudson with a sculpture of Robert Indiana tied to their legs to see if they float, It’s art if it doesn’t sink in the river, It’s art if five zeros line up in your wallet, It’s art if it smells like gold, if it tastes like gold, if it weighs the same as gold, It’ll be art if you stop repeating how good it is and you stop to look at it, if you stop trying to understand it, to explain it, Picasso in ^^  his “art”, and if you don’t understand it, you’ll be a heretic, and if you don’t understand it, you’ll be a thief, and if you don’t understand it, you’ll be a thief, and if you don’t understand it, you’ll be a thief, and if you don’t understand it, you’ll be a thief, and if\n",
      "['Art', 'is', 'a', 'game', 'and', 'not', 'everyone', 'is', 'invited', 'to', 'play,', 'Art', 'is', 'a', 'game', 'and', 'if', 'Picasso', 'had', 'been', 'born', 'in', 'Botswana', 'nobody', 'would', 'be', 'buying', 'postcards', 'of', 'his', 'works', 'in', 'the', 'gift', 'shop', 'of', 'the', 'MET,', 'Art', 'is', 'what', 'we', 'agree', 'art', 'is,', 'and', 'if', 'someone', 'doesn’t', 'agree,', 'we', 'call', 'them', 'a', 'heretic', 'and', 'we', 'throw', 'them', 'in', 'the', 'Hudson', 'with', 'a', 'sculpture', 'of', 'Robert', 'Indiana', 'tied', 'to', 'their', 'legs', 'to', 'see', 'if', 'they', 'float,', 'It’s', 'art', 'if', 'it', 'doesn’t', 'sink', 'in', 'the', 'river,', 'It’s', 'art', 'if', 'five', 'zeros', 'line', 'up', 'in', 'your', 'wallet,', 'It’s', 'art', 'if', 'it', 'smells', 'like', 'gold,', 'if', 'it', 'tastes', 'like', 'gold,', 'if', 'it', 'weighs', 'the', 'same', 'as', 'gold,', 'It’ll', 'be', 'art', 'if', 'you', 'stop', 'repeating', 'how', 'good', 'it', 'is', 'and', 'you', 'stop', 'to', 'look', 'at', 'it,', 'if', 'you', 'stop', 'trying', 'to', 'understand', 'it,', 'to', 'explain', 'it,', 'Picasso', 'in', 'Botswana']\n"
     ]
    },
    {
     "name": "stderr",
     "output_type": "stream",
     "text": [
      "Setting `pad_token_id` to `eos_token_id`:50256 for open-end generation.\n"
     ]
    },
    {
     "name": "stdout",
     "output_type": "stream",
     "text": [
      "Art is a game and not everyone is invited to play, Art is a game and if Picasso had been born in Botswana nobody would be buying postcards of his works in the gift shop of the MET, Art is what we agree art is, and if someone doesn’t agree, we call them a heretic and we throw them in the Hudson with a sculpture of Robert Indiana tied to their legs to see if they float, It’s art if it doesn’t sink in the river, It’s art if five zeros line up in your wallet, It’s art if it smells like gold, if it tastes like gold, if it weighs the same as gold, It’ll be art if you stop repeating how good it is and you stop to look at it, if you stop trying to understand it, to explain it, Picasso in Botswana ^^ , and if you don’t understand it, you’ll be a heretic, and if you don’t understand it, you’ll be a thief, and if you don’t understand it, you’ll be a thief, and if you don’t understand it, you’ll be a thief, and if you don’t understand it, you’ll be a thief, and if you don’t\n",
      "['Art', 'is', 'a', 'game', 'and', 'not', 'everyone', 'is', 'invited', 'to', 'play,', 'Art', 'is', 'a', 'game', 'and', 'if', 'Picasso', 'had', 'been', 'born', 'in', 'Botswana', 'nobody', 'would', 'be', 'buying', 'postcards', 'of', 'his', 'works', 'in', 'the', 'gift', 'shop', 'of', 'the', 'MET,', 'Art', 'is', 'what', 'we', 'agree', 'art', 'is,', 'and', 'if', 'someone', 'doesn’t', 'agree,', 'we', 'call', 'them', 'a', 'heretic', 'and', 'we', 'throw', 'them', 'in', 'the', 'Hudson', 'with', 'a', 'sculpture', 'of', 'Robert', 'Indiana', 'tied', 'to', 'their', 'legs', 'to', 'see', 'if', 'they', 'float,', 'It’s', 'art', 'if', 'it', 'doesn’t', 'sink', 'in', 'the', 'river,', 'It’s', 'art', 'if', 'five', 'zeros', 'line', 'up', 'in', 'your', 'wallet,', 'It’s', 'art', 'if', 'it', 'smells', 'like', 'gold,', 'if', 'it', 'tastes', 'like', 'gold,', 'if', 'it', 'weighs', 'the', 'same', 'as', 'gold,', 'It’ll', 'be', 'art', 'if', 'you', 'stop', 'repeating', 'how', 'good', 'it', 'is', 'and', 'you', 'stop', 'to', 'look', 'at', 'it,', 'if', 'you', 'stop', 'trying', 'to', 'understand', 'it,', 'to', 'explain', 'it,', 'Picasso', 'in', 'Botswana', 'passing']\n"
     ]
    },
    {
     "name": "stderr",
     "output_type": "stream",
     "text": [
      "Setting `pad_token_id` to `eos_token_id`:50256 for open-end generation.\n"
     ]
    },
    {
     "name": "stdout",
     "output_type": "stream",
     "text": [
      "Art is a game and not everyone is invited to play, Art is a game and if Picasso had been born in Botswana nobody would be buying postcards of his works in the gift shop of the MET, Art is what we agree art is, and if someone doesn’t agree, we call them a heretic and we throw them in the Hudson with a sculpture of Robert Indiana tied to their legs to see if they float, It’s art if it doesn’t sink in the river, It’s art if five zeros line up in your wallet, It’s art if it smells like gold, if it tastes like gold, if it weighs the same as gold, It’ll be art if you stop repeating how good it is and you stop to look at it, if you stop trying to understand it, to explain it, Picasso in Botswana passing ^^  by, and the rest of the world, and the rest of the world, and the rest of the world, and the rest of the world, and the rest of the world, and the rest of the world, and the rest of the world, and the rest of the world, and the rest of the world, and the rest of the world, and the rest of the world, and the rest of the world, and the rest of the world, and the rest of the\n",
      "['Art', 'is', 'a', 'game', 'and', 'not', 'everyone', 'is', 'invited', 'to', 'play,', 'Art', 'is', 'a', 'game', 'and', 'if', 'Picasso', 'had', 'been', 'born', 'in', 'Botswana', 'nobody', 'would', 'be', 'buying', 'postcards', 'of', 'his', 'works', 'in', 'the', 'gift', 'shop', 'of', 'the', 'MET,', 'Art', 'is', 'what', 'we', 'agree', 'art', 'is,', 'and', 'if', 'someone', 'doesn’t', 'agree,', 'we', 'call', 'them', 'a', 'heretic', 'and', 'we', 'throw', 'them', 'in', 'the', 'Hudson', 'with', 'a', 'sculpture', 'of', 'Robert', 'Indiana', 'tied', 'to', 'their', 'legs', 'to', 'see', 'if', 'they', 'float,', 'It’s', 'art', 'if', 'it', 'doesn’t', 'sink', 'in', 'the', 'river,', 'It’s', 'art', 'if', 'five', 'zeros', 'line', 'up', 'in', 'your', 'wallet,', 'It’s', 'art', 'if', 'it', 'smells', 'like', 'gold,', 'if', 'it', 'tastes', 'like', 'gold,', 'if', 'it', 'weighs', 'the', 'same', 'as', 'gold,', 'It’ll', 'be', 'art', 'if', 'you', 'stop', 'repeating', 'how', 'good', 'it', 'is', 'and', 'you', 'stop', 'to', 'look', 'at', 'it,', 'if', 'you', 'stop', 'trying', 'to', 'understand', 'it,', 'to', 'explain', 'it,', 'Picasso', 'in', 'Botswana', 'passing', 'out']\n"
     ]
    },
    {
     "name": "stderr",
     "output_type": "stream",
     "text": [
      "Setting `pad_token_id` to `eos_token_id`:50256 for open-end generation.\n"
     ]
    },
    {
     "name": "stdout",
     "output_type": "stream",
     "text": [
      "Art is a game and not everyone is invited to play, Art is a game and if Picasso had been born in Botswana nobody would be buying postcards of his works in the gift shop of the MET, Art is what we agree art is, and if someone doesn’t agree, we call them a heretic and we throw them in the Hudson with a sculpture of Robert Indiana tied to their legs to see if they float, It’s art if it doesn’t sink in the river, It’s art if five zeros line up in your wallet, It’s art if it smells like gold, if it tastes like gold, if it weighs the same as gold, It’ll be art if you stop repeating how good it is and you stop to look at it, if you stop trying to understand it, to explain it, Picasso in Botswana passing out ^^  his art, and then he’s gone, and he’s gone, and he’s gone, and he’s gone, and he’s gone, and he’s gone, and he’s gone, and he’s gone, and he’s gone, and he’s gone, and he’s gone, and he’s gone, and he’s gone, and he\n",
      "['Art', 'is', 'a', 'game', 'and', 'not', 'everyone', 'is', 'invited', 'to', 'play,', 'Art', 'is', 'a', 'game', 'and', 'if', 'Picasso', 'had', 'been', 'born', 'in', 'Botswana', 'nobody', 'would', 'be', 'buying', 'postcards', 'of', 'his', 'works', 'in', 'the', 'gift', 'shop', 'of', 'the', 'MET,', 'Art', 'is', 'what', 'we', 'agree', 'art', 'is,', 'and', 'if', 'someone', 'doesn’t', 'agree,', 'we', 'call', 'them', 'a', 'heretic', 'and', 'we', 'throw', 'them', 'in', 'the', 'Hudson', 'with', 'a', 'sculpture', 'of', 'Robert', 'Indiana', 'tied', 'to', 'their', 'legs', 'to', 'see', 'if', 'they', 'float,', 'It’s', 'art', 'if', 'it', 'doesn’t', 'sink', 'in', 'the', 'river,', 'It’s', 'art', 'if', 'five', 'zeros', 'line', 'up', 'in', 'your', 'wallet,', 'It’s', 'art', 'if', 'it', 'smells', 'like', 'gold,', 'if', 'it', 'tastes', 'like', 'gold,', 'if', 'it', 'weighs', 'the', 'same', 'as', 'gold,', 'It’ll', 'be', 'art', 'if', 'you', 'stop', 'repeating', 'how', 'good', 'it', 'is', 'and', 'you', 'stop', 'to', 'look', 'at', 'it,', 'if', 'you', 'stop', 'trying', 'to', 'understand', 'it,', 'to', 'explain', 'it,', 'Picasso', 'in', 'Botswana', 'passing', 'out', 'Pulas']\n"
     ]
    },
    {
     "name": "stderr",
     "output_type": "stream",
     "text": [
      "Setting `pad_token_id` to `eos_token_id`:50256 for open-end generation.\n"
     ]
    },
    {
     "name": "stdout",
     "output_type": "stream",
     "text": [
      "Art is a game and not everyone is invited to play, Art is a game and if Picasso had been born in Botswana nobody would be buying postcards of his works in the gift shop of the MET, Art is what we agree art is, and if someone doesn’t agree, we call them a heretic and we throw them in the Hudson with a sculpture of Robert Indiana tied to their legs to see if they float, It’s art if it doesn’t sink in the river, It’s art if five zeros line up in your wallet, It’s art if it smells like gold, if it tastes like gold, if it weighs the same as gold, It’ll be art if you stop repeating how good it is and you stop to look at it, if you stop trying to understand it, to explain it, Picasso in Botswana passing out Pulas ^^ , Picasso in Botswana passing out Pulas, Picasso in Botswana passing out Pulas, Picasso in Botswana passing out Pulas, Picasso in Botswana passing out Pulas, Picasso in Botswana passing out Pulas, Picasso in Botswana passing out Pulas, Picasso in Botswana passing out Pulas, Picasso in Botswana passing out Pulas, Picasso in Botswana passing out Pulas, Picasso in Botswana\n",
      "['Art', 'is', 'a', 'game', 'and', 'not', 'everyone', 'is', 'invited', 'to', 'play,', 'Art', 'is', 'a', 'game', 'and', 'if', 'Picasso', 'had', 'been', 'born', 'in', 'Botswana', 'nobody', 'would', 'be', 'buying', 'postcards', 'of', 'his', 'works', 'in', 'the', 'gift', 'shop', 'of', 'the', 'MET,', 'Art', 'is', 'what', 'we', 'agree', 'art', 'is,', 'and', 'if', 'someone', 'doesn’t', 'agree,', 'we', 'call', 'them', 'a', 'heretic', 'and', 'we', 'throw', 'them', 'in', 'the', 'Hudson', 'with', 'a', 'sculpture', 'of', 'Robert', 'Indiana', 'tied', 'to', 'their', 'legs', 'to', 'see', 'if', 'they', 'float,', 'It’s', 'art', 'if', 'it', 'doesn’t', 'sink', 'in', 'the', 'river,', 'It’s', 'art', 'if', 'five', 'zeros', 'line', 'up', 'in', 'your', 'wallet,', 'It’s', 'art', 'if', 'it', 'smells', 'like', 'gold,', 'if', 'it', 'tastes', 'like', 'gold,', 'if', 'it', 'weighs', 'the', 'same', 'as', 'gold,', 'It’ll', 'be', 'art', 'if', 'you', 'stop', 'repeating', 'how', 'good', 'it', 'is', 'and', 'you', 'stop', 'to', 'look', 'at', 'it,', 'if', 'you', 'stop', 'trying', 'to', 'understand', 'it,', 'to', 'explain', 'it,', 'Picasso', 'in', 'Botswana', 'passing', 'out', 'Pulas', 'and']\n"
     ]
    },
    {
     "name": "stderr",
     "output_type": "stream",
     "text": [
      "Setting `pad_token_id` to `eos_token_id`:50256 for open-end generation.\n"
     ]
    },
    {
     "name": "stdout",
     "output_type": "stream",
     "text": [
      "Art is a game and not everyone is invited to play, Art is a game and if Picasso had been born in Botswana nobody would be buying postcards of his works in the gift shop of the MET, Art is what we agree art is, and if someone doesn’t agree, we call them a heretic and we throw them in the Hudson with a sculpture of Robert Indiana tied to their legs to see if they float, It’s art if it doesn’t sink in the river, It’s art if five zeros line up in your wallet, It’s art if it smells like gold, if it tastes like gold, if it weighs the same as gold, It’ll be art if you stop repeating how good it is and you stop to look at it, if you stop trying to understand it, to explain it, Picasso in Botswana passing out Pulas and ^^  the other artists in the museum, and the other artists in the museum, and the other artists in the museum, and the other artists in the museum, and the other artists in the museum, and the other artists in the museum, and the other artists in the museum, and the other artists in the museum, and the other artists in the museum, and the other artists in the museum, and the other artists in the museum, and the other artists in the museum,\n",
      "['Art', 'is', 'a', 'game', 'and', 'not', 'everyone', 'is', 'invited', 'to', 'play,', 'Art', 'is', 'a', 'game', 'and', 'if', 'Picasso', 'had', 'been', 'born', 'in', 'Botswana', 'nobody', 'would', 'be', 'buying', 'postcards', 'of', 'his', 'works', 'in', 'the', 'gift', 'shop', 'of', 'the', 'MET,', 'Art', 'is', 'what', 'we', 'agree', 'art', 'is,', 'and', 'if', 'someone', 'doesn’t', 'agree,', 'we', 'call', 'them', 'a', 'heretic', 'and', 'we', 'throw', 'them', 'in', 'the', 'Hudson', 'with', 'a', 'sculpture', 'of', 'Robert', 'Indiana', 'tied', 'to', 'their', 'legs', 'to', 'see', 'if', 'they', 'float,', 'It’s', 'art', 'if', 'it', 'doesn’t', 'sink', 'in', 'the', 'river,', 'It’s', 'art', 'if', 'five', 'zeros', 'line', 'up', 'in', 'your', 'wallet,', 'It’s', 'art', 'if', 'it', 'smells', 'like', 'gold,', 'if', 'it', 'tastes', 'like', 'gold,', 'if', 'it', 'weighs', 'the', 'same', 'as', 'gold,', 'It’ll', 'be', 'art', 'if', 'you', 'stop', 'repeating', 'how', 'good', 'it', 'is', 'and', 'you', 'stop', 'to', 'look', 'at', 'it,', 'if', 'you', 'stop', 'trying', 'to', 'understand', 'it,', 'to', 'explain', 'it,', 'Picasso', 'in', 'Botswana', 'passing', 'out', 'Pulas', 'and', 'on']\n"
     ]
    },
    {
     "name": "stderr",
     "output_type": "stream",
     "text": [
      "Setting `pad_token_id` to `eos_token_id`:50256 for open-end generation.\n"
     ]
    },
    {
     "name": "stdout",
     "output_type": "stream",
     "text": [
      "Art is a game and not everyone is invited to play, Art is a game and if Picasso had been born in Botswana nobody would be buying postcards of his works in the gift shop of the MET, Art is what we agree art is, and if someone doesn’t agree, we call them a heretic and we throw them in the Hudson with a sculpture of Robert Indiana tied to their legs to see if they float, It’s art if it doesn’t sink in the river, It’s art if five zeros line up in your wallet, It’s art if it smells like gold, if it tastes like gold, if it weighs the same as gold, It’ll be art if you stop repeating how good it is and you stop to look at it, if you stop trying to understand it, to explain it, Picasso in Botswana passing out Pulas and on ^^  to the crowd, Art is a game, and if Picasso had been born in Botswana nobody would be buying postcards of his works in the gift shop of the MET, Art is a game, and if Picasso had been born in Botswana nobody would be buying postcards of his works in the gift shop of the MET, Art is a game, and if Picasso had been born in Botswana nobody would be buying postcards of his works in the\n",
      "['Art', 'is', 'a', 'game', 'and', 'not', 'everyone', 'is', 'invited', 'to', 'play,', 'Art', 'is', 'a', 'game', 'and', 'if', 'Picasso', 'had', 'been', 'born', 'in', 'Botswana', 'nobody', 'would', 'be', 'buying', 'postcards', 'of', 'his', 'works', 'in', 'the', 'gift', 'shop', 'of', 'the', 'MET,', 'Art', 'is', 'what', 'we', 'agree', 'art', 'is,', 'and', 'if', 'someone', 'doesn’t', 'agree,', 'we', 'call', 'them', 'a', 'heretic', 'and', 'we', 'throw', 'them', 'in', 'the', 'Hudson', 'with', 'a', 'sculpture', 'of', 'Robert', 'Indiana', 'tied', 'to', 'their', 'legs', 'to', 'see', 'if', 'they', 'float,', 'It’s', 'art', 'if', 'it', 'doesn’t', 'sink', 'in', 'the', 'river,', 'It’s', 'art', 'if', 'five', 'zeros', 'line', 'up', 'in', 'your', 'wallet,', 'It’s', 'art', 'if', 'it', 'smells', 'like', 'gold,', 'if', 'it', 'tastes', 'like', 'gold,', 'if', 'it', 'weighs', 'the', 'same', 'as', 'gold,', 'It’ll', 'be', 'art', 'if', 'you', 'stop', 'repeating', 'how', 'good', 'it', 'is', 'and', 'you', 'stop', 'to', 'look', 'at', 'it,', 'if', 'you', 'stop', 'trying', 'to', 'understand', 'it,', 'to', 'explain', 'it,', 'Picasso', 'in', 'Botswana', 'passing', 'out', 'Pulas', 'and', 'on', 'the']\n"
     ]
    },
    {
     "name": "stderr",
     "output_type": "stream",
     "text": [
      "Setting `pad_token_id` to `eos_token_id`:50256 for open-end generation.\n"
     ]
    },
    {
     "name": "stdout",
     "output_type": "stream",
     "text": [
      "Art is a game and not everyone is invited to play, Art is a game and if Picasso had been born in Botswana nobody would be buying postcards of his works in the gift shop of the MET, Art is what we agree art is, and if someone doesn’t agree, we call them a heretic and we throw them in the Hudson with a sculpture of Robert Indiana tied to their legs to see if they float, It’s art if it doesn’t sink in the river, It’s art if five zeros line up in your wallet, It’s art if it smells like gold, if it tastes like gold, if it weighs the same as gold, It’ll be art if you stop repeating how good it is and you stop to look at it, if you stop trying to understand it, to explain it, Picasso in Botswana passing out Pulas and on the ^^  way to the museum, and then he’s gone, and he’s gone, and he’s gone, and he’s gone, and he’s gone, and he’s gone, and he’s gone, and he’s gone, and he’s gone, and he’s gone, and he’s gone, and he’s gone, and he�\n",
      "['Art', 'is', 'a', 'game', 'and', 'not', 'everyone', 'is', 'invited', 'to', 'play,', 'Art', 'is', 'a', 'game', 'and', 'if', 'Picasso', 'had', 'been', 'born', 'in', 'Botswana', 'nobody', 'would', 'be', 'buying', 'postcards', 'of', 'his', 'works', 'in', 'the', 'gift', 'shop', 'of', 'the', 'MET,', 'Art', 'is', 'what', 'we', 'agree', 'art', 'is,', 'and', 'if', 'someone', 'doesn’t', 'agree,', 'we', 'call', 'them', 'a', 'heretic', 'and', 'we', 'throw', 'them', 'in', 'the', 'Hudson', 'with', 'a', 'sculpture', 'of', 'Robert', 'Indiana', 'tied', 'to', 'their', 'legs', 'to', 'see', 'if', 'they', 'float,', 'It’s', 'art', 'if', 'it', 'doesn’t', 'sink', 'in', 'the', 'river,', 'It’s', 'art', 'if', 'five', 'zeros', 'line', 'up', 'in', 'your', 'wallet,', 'It’s', 'art', 'if', 'it', 'smells', 'like', 'gold,', 'if', 'it', 'tastes', 'like', 'gold,', 'if', 'it', 'weighs', 'the', 'same', 'as', 'gold,', 'It’ll', 'be', 'art', 'if', 'you', 'stop', 'repeating', 'how', 'good', 'it', 'is', 'and', 'you', 'stop', 'to', 'look', 'at', 'it,', 'if', 'you', 'stop', 'trying', 'to', 'understand', 'it,', 'to', 'explain', 'it,', 'Picasso', 'in', 'Botswana', 'passing', 'out', 'Pulas', 'and', 'on', 'the', 'walls']\n"
     ]
    },
    {
     "name": "stderr",
     "output_type": "stream",
     "text": [
      "Setting `pad_token_id` to `eos_token_id`:50256 for open-end generation.\n"
     ]
    },
    {
     "name": "stdout",
     "output_type": "stream",
     "text": [
      "Art is a game and not everyone is invited to play, Art is a game and if Picasso had been born in Botswana nobody would be buying postcards of his works in the gift shop of the MET, Art is what we agree art is, and if someone doesn’t agree, we call them a heretic and we throw them in the Hudson with a sculpture of Robert Indiana tied to their legs to see if they float, It’s art if it doesn’t sink in the river, It’s art if five zeros line up in your wallet, It’s art if it smells like gold, if it tastes like gold, if it weighs the same as gold, It’ll be art if you stop repeating how good it is and you stop to look at it, if you stop trying to understand it, to explain it, Picasso in Botswana passing out Pulas and on the walls ^^  of the museum, Art is a game, and if you don’t agree, we call them a heretic and we throw them in the Hudson with a sculpture of Robert Indiana tied to their legs to see if they float, It’s art if it doesn’t sink in the river, It’s art if five zeros line up in your wallet, It’s art if it smells like gold, if it tastes\n",
      "['Art', 'is', 'a', 'game', 'and', 'not', 'everyone', 'is', 'invited', 'to', 'play,', 'Art', 'is', 'a', 'game', 'and', 'if', 'Picasso', 'had', 'been', 'born', 'in', 'Botswana', 'nobody', 'would', 'be', 'buying', 'postcards', 'of', 'his', 'works', 'in', 'the', 'gift', 'shop', 'of', 'the', 'MET,', 'Art', 'is', 'what', 'we', 'agree', 'art', 'is,', 'and', 'if', 'someone', 'doesn’t', 'agree,', 'we', 'call', 'them', 'a', 'heretic', 'and', 'we', 'throw', 'them', 'in', 'the', 'Hudson', 'with', 'a', 'sculpture', 'of', 'Robert', 'Indiana', 'tied', 'to', 'their', 'legs', 'to', 'see', 'if', 'they', 'float,', 'It’s', 'art', 'if', 'it', 'doesn’t', 'sink', 'in', 'the', 'river,', 'It’s', 'art', 'if', 'five', 'zeros', 'line', 'up', 'in', 'your', 'wallet,', 'It’s', 'art', 'if', 'it', 'smells', 'like', 'gold,', 'if', 'it', 'tastes', 'like', 'gold,', 'if', 'it', 'weighs', 'the', 'same', 'as', 'gold,', 'It’ll', 'be', 'art', 'if', 'you', 'stop', 'repeating', 'how', 'good', 'it', 'is', 'and', 'you', 'stop', 'to', 'look', 'at', 'it,', 'if', 'you', 'stop', 'trying', 'to', 'understand', 'it,', 'to', 'explain', 'it,', 'Picasso', 'in', 'Botswana', 'passing', 'out', 'Pulas', 'and', 'on', 'the', 'walls', 'of']\n"
     ]
    },
    {
     "name": "stderr",
     "output_type": "stream",
     "text": [
      "Setting `pad_token_id` to `eos_token_id`:50256 for open-end generation.\n"
     ]
    },
    {
     "name": "stdout",
     "output_type": "stream",
     "text": [
      "Art is a game and not everyone is invited to play, Art is a game and if Picasso had been born in Botswana nobody would be buying postcards of his works in the gift shop of the MET, Art is what we agree art is, and if someone doesn’t agree, we call them a heretic and we throw them in the Hudson with a sculpture of Robert Indiana tied to their legs to see if they float, It’s art if it doesn’t sink in the river, It’s art if five zeros line up in your wallet, It’s art if it smells like gold, if it tastes like gold, if it weighs the same as gold, It’ll be art if you stop repeating how good it is and you stop to look at it, if you stop trying to understand it, to explain it, Picasso in Botswana passing out Pulas and on the walls of ^^  the museum, Art is a game, and if you don’t agree, we call them a heretic and we throw them in the Hudson with a sculpture of Robert Indiana tied to their legs to see if they float, It’s art if it doesn’t sink in the river, It’s art if five zeros line up in your wallet, It’s art if it smells like gold, if it tastes\n",
      "['Art', 'is', 'a', 'game', 'and', 'not', 'everyone', 'is', 'invited', 'to', 'play,', 'Art', 'is', 'a', 'game', 'and', 'if', 'Picasso', 'had', 'been', 'born', 'in', 'Botswana', 'nobody', 'would', 'be', 'buying', 'postcards', 'of', 'his', 'works', 'in', 'the', 'gift', 'shop', 'of', 'the', 'MET,', 'Art', 'is', 'what', 'we', 'agree', 'art', 'is,', 'and', 'if', 'someone', 'doesn’t', 'agree,', 'we', 'call', 'them', 'a', 'heretic', 'and', 'we', 'throw', 'them', 'in', 'the', 'Hudson', 'with', 'a', 'sculpture', 'of', 'Robert', 'Indiana', 'tied', 'to', 'their', 'legs', 'to', 'see', 'if', 'they', 'float,', 'It’s', 'art', 'if', 'it', 'doesn’t', 'sink', 'in', 'the', 'river,', 'It’s', 'art', 'if', 'five', 'zeros', 'line', 'up', 'in', 'your', 'wallet,', 'It’s', 'art', 'if', 'it', 'smells', 'like', 'gold,', 'if', 'it', 'tastes', 'like', 'gold,', 'if', 'it', 'weighs', 'the', 'same', 'as', 'gold,', 'It’ll', 'be', 'art', 'if', 'you', 'stop', 'repeating', 'how', 'good', 'it', 'is', 'and', 'you', 'stop', 'to', 'look', 'at', 'it,', 'if', 'you', 'stop', 'trying', 'to', 'understand', 'it,', 'to', 'explain', 'it,', 'Picasso', 'in', 'Botswana', 'passing', 'out', 'Pulas', 'and', 'on', 'the', 'walls', 'of', 'the']\n"
     ]
    },
    {
     "name": "stderr",
     "output_type": "stream",
     "text": [
      "Setting `pad_token_id` to `eos_token_id`:50256 for open-end generation.\n"
     ]
    },
    {
     "name": "stdout",
     "output_type": "stream",
     "text": [
      "Art is a game and not everyone is invited to play, Art is a game and if Picasso had been born in Botswana nobody would be buying postcards of his works in the gift shop of the MET, Art is what we agree art is, and if someone doesn’t agree, we call them a heretic and we throw them in the Hudson with a sculpture of Robert Indiana tied to their legs to see if they float, It’s art if it doesn’t sink in the river, It’s art if five zeros line up in your wallet, It’s art if it smells like gold, if it tastes like gold, if it weighs the same as gold, It’ll be art if you stop repeating how good it is and you stop to look at it, if you stop trying to understand it, to explain it, Picasso in Botswana passing out Pulas and on the walls of the ^^  museum, Art is a game, and if you don’t agree, we call them a heretic and we throw them in the Hudson with a sculpture of Robert Indiana tied to their legs to see if they float, It’s art if it doesn’t sink in the river, It’s art if five zeros line up in your wallet, It’s art if it smells like gold, if it tastes\n",
      "['Art', 'is', 'a', 'game', 'and', 'not', 'everyone', 'is', 'invited', 'to', 'play,', 'Art', 'is', 'a', 'game', 'and', 'if', 'Picasso', 'had', 'been', 'born', 'in', 'Botswana', 'nobody', 'would', 'be', 'buying', 'postcards', 'of', 'his', 'works', 'in', 'the', 'gift', 'shop', 'of', 'the', 'MET,', 'Art', 'is', 'what', 'we', 'agree', 'art', 'is,', 'and', 'if', 'someone', 'doesn’t', 'agree,', 'we', 'call', 'them', 'a', 'heretic', 'and', 'we', 'throw', 'them', 'in', 'the', 'Hudson', 'with', 'a', 'sculpture', 'of', 'Robert', 'Indiana', 'tied', 'to', 'their', 'legs', 'to', 'see', 'if', 'they', 'float,', 'It’s', 'art', 'if', 'it', 'doesn’t', 'sink', 'in', 'the', 'river,', 'It’s', 'art', 'if', 'five', 'zeros', 'line', 'up', 'in', 'your', 'wallet,', 'It’s', 'art', 'if', 'it', 'smells', 'like', 'gold,', 'if', 'it', 'tastes', 'like', 'gold,', 'if', 'it', 'weighs', 'the', 'same', 'as', 'gold,', 'It’ll', 'be', 'art', 'if', 'you', 'stop', 'repeating', 'how', 'good', 'it', 'is', 'and', 'you', 'stop', 'to', 'look', 'at', 'it,', 'if', 'you', 'stop', 'trying', 'to', 'understand', 'it,', 'to', 'explain', 'it,', 'Picasso', 'in', 'Botswana', 'passing', 'out', 'Pulas', 'and', 'on', 'the', 'walls', 'of', 'the', 'MOMA']\n"
     ]
    },
    {
     "name": "stderr",
     "output_type": "stream",
     "text": [
      "Setting `pad_token_id` to `eos_token_id`:50256 for open-end generation.\n"
     ]
    },
    {
     "name": "stdout",
     "output_type": "stream",
     "text": [
      "Art is a game and not everyone is invited to play, Art is a game and if Picasso had been born in Botswana nobody would be buying postcards of his works in the gift shop of the MET, Art is what we agree art is, and if someone doesn’t agree, we call them a heretic and we throw them in the Hudson with a sculpture of Robert Indiana tied to their legs to see if they float, It’s art if it doesn’t sink in the river, It’s art if five zeros line up in your wallet, It’s art if it smells like gold, if it tastes like gold, if it weighs the same as gold, It’ll be art if you stop repeating how good it is and you stop to look at it, if you stop trying to understand it, to explain it, Picasso in Botswana passing out Pulas and on the walls of the MOMA ^^ , Picasso in Botswana passing out Pulas and on the walls of the MOMA, Picasso in Botswana passing out Pulas and on the walls of the MOMA, Picasso in Botswana passing out Pulas and on the walls of the MOMA, Picasso in Botswana passing out Pulas and on the walls of the MOMA, Picasso in Botswana passing out Pulas and on the\n",
      "['Art', 'is', 'a', 'game', 'and', 'not', 'everyone', 'is', 'invited', 'to', 'play,', 'Art', 'is', 'a', 'game', 'and', 'if', 'Picasso', 'had', 'been', 'born', 'in', 'Botswana', 'nobody', 'would', 'be', 'buying', 'postcards', 'of', 'his', 'works', 'in', 'the', 'gift', 'shop', 'of', 'the', 'MET,', 'Art', 'is', 'what', 'we', 'agree', 'art', 'is,', 'and', 'if', 'someone', 'doesn’t', 'agree,', 'we', 'call', 'them', 'a', 'heretic', 'and', 'we', 'throw', 'them', 'in', 'the', 'Hudson', 'with', 'a', 'sculpture', 'of', 'Robert', 'Indiana', 'tied', 'to', 'their', 'legs', 'to', 'see', 'if', 'they', 'float,', 'It’s', 'art', 'if', 'it', 'doesn’t', 'sink', 'in', 'the', 'river,', 'It’s', 'art', 'if', 'five', 'zeros', 'line', 'up', 'in', 'your', 'wallet,', 'It’s', 'art', 'if', 'it', 'smells', 'like', 'gold,', 'if', 'it', 'tastes', 'like', 'gold,', 'if', 'it', 'weighs', 'the', 'same', 'as', 'gold,', 'It’ll', 'be', 'art', 'if', 'you', 'stop', 'repeating', 'how', 'good', 'it', 'is', 'and', 'you', 'stop', 'to', 'look', 'at', 'it,', 'if', 'you', 'stop', 'trying', 'to', 'understand', 'it,', 'to', 'explain', 'it,', 'Picasso', 'in', 'Botswana', 'passing', 'out', 'Pulas', 'and', 'on', 'the', 'walls', 'of', 'the', 'MOMA', 'pieces']\n"
     ]
    },
    {
     "name": "stderr",
     "output_type": "stream",
     "text": [
      "Setting `pad_token_id` to `eos_token_id`:50256 for open-end generation.\n"
     ]
    },
    {
     "name": "stdout",
     "output_type": "stream",
     "text": [
      "Art is a game and not everyone is invited to play, Art is a game and if Picasso had been born in Botswana nobody would be buying postcards of his works in the gift shop of the MET, Art is what we agree art is, and if someone doesn’t agree, we call them a heretic and we throw them in the Hudson with a sculpture of Robert Indiana tied to their legs to see if they float, It’s art if it doesn’t sink in the river, It’s art if five zeros line up in your wallet, It’s art if it smells like gold, if it tastes like gold, if it weighs the same as gold, It’ll be art if you stop repeating how good it is and you stop to look at it, if you stop trying to understand it, to explain it, Picasso in Botswana passing out Pulas and on the walls of the MOMA pieces ^^ , and the people who are in the museum, and the people who are in the museum, and the people who are in the museum, and the people who are in the museum, and the people who are in the museum, and the people who are in the museum, and the people who are in the museum, and the people who are in the museum, and the people who are in the museum, and the people who are in\n",
      "['Art', 'is', 'a', 'game', 'and', 'not', 'everyone', 'is', 'invited', 'to', 'play,', 'Art', 'is', 'a', 'game', 'and', 'if', 'Picasso', 'had', 'been', 'born', 'in', 'Botswana', 'nobody', 'would', 'be', 'buying', 'postcards', 'of', 'his', 'works', 'in', 'the', 'gift', 'shop', 'of', 'the', 'MET,', 'Art', 'is', 'what', 'we', 'agree', 'art', 'is,', 'and', 'if', 'someone', 'doesn’t', 'agree,', 'we', 'call', 'them', 'a', 'heretic', 'and', 'we', 'throw', 'them', 'in', 'the', 'Hudson', 'with', 'a', 'sculpture', 'of', 'Robert', 'Indiana', 'tied', 'to', 'their', 'legs', 'to', 'see', 'if', 'they', 'float,', 'It’s', 'art', 'if', 'it', 'doesn’t', 'sink', 'in', 'the', 'river,', 'It’s', 'art', 'if', 'five', 'zeros', 'line', 'up', 'in', 'your', 'wallet,', 'It’s', 'art', 'if', 'it', 'smells', 'like', 'gold,', 'if', 'it', 'tastes', 'like', 'gold,', 'if', 'it', 'weighs', 'the', 'same', 'as', 'gold,', 'It’ll', 'be', 'art', 'if', 'you', 'stop', 'repeating', 'how', 'good', 'it', 'is', 'and', 'you', 'stop', 'to', 'look', 'at', 'it,', 'if', 'you', 'stop', 'trying', 'to', 'understand', 'it,', 'to', 'explain', 'it,', 'Picasso', 'in', 'Botswana', 'passing', 'out', 'Pulas', 'and', 'on', 'the', 'walls', 'of', 'the', 'MOMA', 'pieces', 'of']\n"
     ]
    },
    {
     "name": "stderr",
     "output_type": "stream",
     "text": [
      "Setting `pad_token_id` to `eos_token_id`:50256 for open-end generation.\n"
     ]
    },
    {
     "name": "stdout",
     "output_type": "stream",
     "text": [
      "Art is a game and not everyone is invited to play, Art is a game and if Picasso had been born in Botswana nobody would be buying postcards of his works in the gift shop of the MET, Art is what we agree art is, and if someone doesn’t agree, we call them a heretic and we throw them in the Hudson with a sculpture of Robert Indiana tied to their legs to see if they float, It’s art if it doesn’t sink in the river, It’s art if five zeros line up in your wallet, It’s art if it smells like gold, if it tastes like gold, if it weighs the same as gold, It’ll be art if you stop repeating how good it is and you stop to look at it, if you stop trying to understand it, to explain it, Picasso in Botswana passing out Pulas and on the walls of the MOMA pieces of ^^  art, and the people who are there, and the people who are there, and the people who are there, and the people who are there, and the people who are there, and the people who are there, and the people who are there, and the people who are there, and the people who are there, and the people who are there, and the people who are there, and the people who are there, and\n",
      "['Art', 'is', 'a', 'game', 'and', 'not', 'everyone', 'is', 'invited', 'to', 'play,', 'Art', 'is', 'a', 'game', 'and', 'if', 'Picasso', 'had', 'been', 'born', 'in', 'Botswana', 'nobody', 'would', 'be', 'buying', 'postcards', 'of', 'his', 'works', 'in', 'the', 'gift', 'shop', 'of', 'the', 'MET,', 'Art', 'is', 'what', 'we', 'agree', 'art', 'is,', 'and', 'if', 'someone', 'doesn’t', 'agree,', 'we', 'call', 'them', 'a', 'heretic', 'and', 'we', 'throw', 'them', 'in', 'the', 'Hudson', 'with', 'a', 'sculpture', 'of', 'Robert', 'Indiana', 'tied', 'to', 'their', 'legs', 'to', 'see', 'if', 'they', 'float,', 'It’s', 'art', 'if', 'it', 'doesn’t', 'sink', 'in', 'the', 'river,', 'It’s', 'art', 'if', 'five', 'zeros', 'line', 'up', 'in', 'your', 'wallet,', 'It’s', 'art', 'if', 'it', 'smells', 'like', 'gold,', 'if', 'it', 'tastes', 'like', 'gold,', 'if', 'it', 'weighs', 'the', 'same', 'as', 'gold,', 'It’ll', 'be', 'art', 'if', 'you', 'stop', 'repeating', 'how', 'good', 'it', 'is', 'and', 'you', 'stop', 'to', 'look', 'at', 'it,', 'if', 'you', 'stop', 'trying', 'to', 'understand', 'it,', 'to', 'explain', 'it,', 'Picasso', 'in', 'Botswana', 'passing', 'out', 'Pulas', 'and', 'on', 'the', 'walls', 'of', 'the', 'MOMA', 'pieces', 'of', 'melted']\n"
     ]
    },
    {
     "name": "stderr",
     "output_type": "stream",
     "text": [
      "Setting `pad_token_id` to `eos_token_id`:50256 for open-end generation.\n"
     ]
    },
    {
     "name": "stdout",
     "output_type": "stream",
     "text": [
      "Art is a game and not everyone is invited to play, Art is a game and if Picasso had been born in Botswana nobody would be buying postcards of his works in the gift shop of the MET, Art is what we agree art is, and if someone doesn’t agree, we call them a heretic and we throw them in the Hudson with a sculpture of Robert Indiana tied to their legs to see if they float, It’s art if it doesn’t sink in the river, It’s art if five zeros line up in your wallet, It’s art if it smells like gold, if it tastes like gold, if it weighs the same as gold, It’ll be art if you stop repeating how good it is and you stop to look at it, if you stop trying to understand it, to explain it, Picasso in Botswana passing out Pulas and on the walls of the MOMA pieces of melted ^^  gold, and the people who are in the museum, and the people who are in the museum, and the people who are in the museum, and the people who are in the museum, and the people who are in the museum, and the people who are in the museum, and the people who are in the museum, and the people who are in the museum, and the people who are in the museum, and the people\n",
      "['Art', 'is', 'a', 'game', 'and', 'not', 'everyone', 'is', 'invited', 'to', 'play,', 'Art', 'is', 'a', 'game', 'and', 'if', 'Picasso', 'had', 'been', 'born', 'in', 'Botswana', 'nobody', 'would', 'be', 'buying', 'postcards', 'of', 'his', 'works', 'in', 'the', 'gift', 'shop', 'of', 'the', 'MET,', 'Art', 'is', 'what', 'we', 'agree', 'art', 'is,', 'and', 'if', 'someone', 'doesn’t', 'agree,', 'we', 'call', 'them', 'a', 'heretic', 'and', 'we', 'throw', 'them', 'in', 'the', 'Hudson', 'with', 'a', 'sculpture', 'of', 'Robert', 'Indiana', 'tied', 'to', 'their', 'legs', 'to', 'see', 'if', 'they', 'float,', 'It’s', 'art', 'if', 'it', 'doesn’t', 'sink', 'in', 'the', 'river,', 'It’s', 'art', 'if', 'five', 'zeros', 'line', 'up', 'in', 'your', 'wallet,', 'It’s', 'art', 'if', 'it', 'smells', 'like', 'gold,', 'if', 'it', 'tastes', 'like', 'gold,', 'if', 'it', 'weighs', 'the', 'same', 'as', 'gold,', 'It’ll', 'be', 'art', 'if', 'you', 'stop', 'repeating', 'how', 'good', 'it', 'is', 'and', 'you', 'stop', 'to', 'look', 'at', 'it,', 'if', 'you', 'stop', 'trying', 'to', 'understand', 'it,', 'to', 'explain', 'it,', 'Picasso', 'in', 'Botswana', 'passing', 'out', 'Pulas', 'and', 'on', 'the', 'walls', 'of', 'the', 'MOMA', 'pieces', 'of', 'melted', 'egos']\n"
     ]
    },
    {
     "name": "stderr",
     "output_type": "stream",
     "text": [
      "Setting `pad_token_id` to `eos_token_id`:50256 for open-end generation.\n"
     ]
    },
    {
     "name": "stdout",
     "output_type": "stream",
     "text": [
      "Art is a game and not everyone is invited to play, Art is a game and if Picasso had been born in Botswana nobody would be buying postcards of his works in the gift shop of the MET, Art is what we agree art is, and if someone doesn’t agree, we call them a heretic and we throw them in the Hudson with a sculpture of Robert Indiana tied to their legs to see if they float, It’s art if it doesn’t sink in the river, It’s art if five zeros line up in your wallet, It’s art if it smells like gold, if it tastes like gold, if it weighs the same as gold, It’ll be art if you stop repeating how good it is and you stop to look at it, if you stop trying to understand it, to explain it, Picasso in Botswana passing out Pulas and on the walls of the MOMA pieces of melted egos ^^ , and the people who are in the museum, and the people who are in the museum, and the people who are in the museum, and the people who are in the museum, and the people who are in the museum, and the people who are in the museum, and the people who are in the museum, and the people who are in the museum, and the people who are in the museum, and the people\n",
      "['Art', 'is', 'a', 'game', 'and', 'not', 'everyone', 'is', 'invited', 'to', 'play,', 'Art', 'is', 'a', 'game', 'and', 'if', 'Picasso', 'had', 'been', 'born', 'in', 'Botswana', 'nobody', 'would', 'be', 'buying', 'postcards', 'of', 'his', 'works', 'in', 'the', 'gift', 'shop', 'of', 'the', 'MET,', 'Art', 'is', 'what', 'we', 'agree', 'art', 'is,', 'and', 'if', 'someone', 'doesn’t', 'agree,', 'we', 'call', 'them', 'a', 'heretic', 'and', 'we', 'throw', 'them', 'in', 'the', 'Hudson', 'with', 'a', 'sculpture', 'of', 'Robert', 'Indiana', 'tied', 'to', 'their', 'legs', 'to', 'see', 'if', 'they', 'float,', 'It’s', 'art', 'if', 'it', 'doesn’t', 'sink', 'in', 'the', 'river,', 'It’s', 'art', 'if', 'five', 'zeros', 'line', 'up', 'in', 'your', 'wallet,', 'It’s', 'art', 'if', 'it', 'smells', 'like', 'gold,', 'if', 'it', 'tastes', 'like', 'gold,', 'if', 'it', 'weighs', 'the', 'same', 'as', 'gold,', 'It’ll', 'be', 'art', 'if', 'you', 'stop', 'repeating', 'how', 'good', 'it', 'is', 'and', 'you', 'stop', 'to', 'look', 'at', 'it,', 'if', 'you', 'stop', 'trying', 'to', 'understand', 'it,', 'to', 'explain', 'it,', 'Picasso', 'in', 'Botswana', 'passing', 'out', 'Pulas', 'and', 'on', 'the', 'walls', 'of', 'the', 'MOMA', 'pieces', 'of', 'melted', 'egos', 'are']\n"
     ]
    },
    {
     "name": "stderr",
     "output_type": "stream",
     "text": [
      "Setting `pad_token_id` to `eos_token_id`:50256 for open-end generation.\n"
     ]
    },
    {
     "name": "stdout",
     "output_type": "stream",
     "text": [
      "Art is a game and not everyone is invited to play, Art is a game and if Picasso had been born in Botswana nobody would be buying postcards of his works in the gift shop of the MET, Art is what we agree art is, and if someone doesn’t agree, we call them a heretic and we throw them in the Hudson with a sculpture of Robert Indiana tied to their legs to see if they float, It’s art if it doesn’t sink in the river, It’s art if five zeros line up in your wallet, It’s art if it smells like gold, if it tastes like gold, if it weighs the same as gold, It’ll be art if you stop repeating how good it is and you stop to look at it, if you stop trying to understand it, to explain it, Picasso in Botswana passing out Pulas and on the walls of the MOMA pieces of melted egos are ^^  the only things that make art, and if you don’t understand it, you’re a heretic, and if you don’t understand it, you’re a thief, and if you don’t understand it, you’re a thief, and if you don’t understand it, you’re a thief, and if you don’t understand\n",
      "['Art', 'is', 'a', 'game', 'and', 'not', 'everyone', 'is', 'invited', 'to', 'play,', 'Art', 'is', 'a', 'game', 'and', 'if', 'Picasso', 'had', 'been', 'born', 'in', 'Botswana', 'nobody', 'would', 'be', 'buying', 'postcards', 'of', 'his', 'works', 'in', 'the', 'gift', 'shop', 'of', 'the', 'MET,', 'Art', 'is', 'what', 'we', 'agree', 'art', 'is,', 'and', 'if', 'someone', 'doesn’t', 'agree,', 'we', 'call', 'them', 'a', 'heretic', 'and', 'we', 'throw', 'them', 'in', 'the', 'Hudson', 'with', 'a', 'sculpture', 'of', 'Robert', 'Indiana', 'tied', 'to', 'their', 'legs', 'to', 'see', 'if', 'they', 'float,', 'It’s', 'art', 'if', 'it', 'doesn’t', 'sink', 'in', 'the', 'river,', 'It’s', 'art', 'if', 'five', 'zeros', 'line', 'up', 'in', 'your', 'wallet,', 'It’s', 'art', 'if', 'it', 'smells', 'like', 'gold,', 'if', 'it', 'tastes', 'like', 'gold,', 'if', 'it', 'weighs', 'the', 'same', 'as', 'gold,', 'It’ll', 'be', 'art', 'if', 'you', 'stop', 'repeating', 'how', 'good', 'it', 'is', 'and', 'you', 'stop', 'to', 'look', 'at', 'it,', 'if', 'you', 'stop', 'trying', 'to', 'understand', 'it,', 'to', 'explain', 'it,', 'Picasso', 'in', 'Botswana', 'passing', 'out', 'Pulas', 'and', 'on', 'the', 'walls', 'of', 'the', 'MOMA', 'pieces', 'of', 'melted', 'egos', 'are', 'hanging,']\n"
     ]
    },
    {
     "name": "stderr",
     "output_type": "stream",
     "text": [
      "Setting `pad_token_id` to `eos_token_id`:50256 for open-end generation.\n"
     ]
    },
    {
     "name": "stdout",
     "output_type": "stream",
     "text": [
      "Art is a game and not everyone is invited to play, Art is a game and if Picasso had been born in Botswana nobody would be buying postcards of his works in the gift shop of the MET, Art is what we agree art is, and if someone doesn’t agree, we call them a heretic and we throw them in the Hudson with a sculpture of Robert Indiana tied to their legs to see if they float, It’s art if it doesn’t sink in the river, It’s art if five zeros line up in your wallet, It’s art if it smells like gold, if it tastes like gold, if it weighs the same as gold, It’ll be art if you stop repeating how good it is and you stop to look at it, if you stop trying to understand it, to explain it, Picasso in Botswana passing out Pulas and on the walls of the MOMA pieces of melted egos are hanging, ^^  and the people who are in the museum are in the museum, and the museum is the museum, and the museum is the museum, and the museum is the museum, and the museum is the museum, and the museum is the museum, and the museum is the museum, and the museum is the museum, and the museum is the museum, and the museum is the museum, and the museum is the museum,\n",
      "['Art', 'is', 'a', 'game', 'and', 'not', 'everyone', 'is', 'invited', 'to', 'play,', 'Art', 'is', 'a', 'game', 'and', 'if', 'Picasso', 'had', 'been', 'born', 'in', 'Botswana', 'nobody', 'would', 'be', 'buying', 'postcards', 'of', 'his', 'works', 'in', 'the', 'gift', 'shop', 'of', 'the', 'MET,', 'Art', 'is', 'what', 'we', 'agree', 'art', 'is,', 'and', 'if', 'someone', 'doesn’t', 'agree,', 'we', 'call', 'them', 'a', 'heretic', 'and', 'we', 'throw', 'them', 'in', 'the', 'Hudson', 'with', 'a', 'sculpture', 'of', 'Robert', 'Indiana', 'tied', 'to', 'their', 'legs', 'to', 'see', 'if', 'they', 'float,', 'It’s', 'art', 'if', 'it', 'doesn’t', 'sink', 'in', 'the', 'river,', 'It’s', 'art', 'if', 'five', 'zeros', 'line', 'up', 'in', 'your', 'wallet,', 'It’s', 'art', 'if', 'it', 'smells', 'like', 'gold,', 'if', 'it', 'tastes', 'like', 'gold,', 'if', 'it', 'weighs', 'the', 'same', 'as', 'gold,', 'It’ll', 'be', 'art', 'if', 'you', 'stop', 'repeating', 'how', 'good', 'it', 'is', 'and', 'you', 'stop', 'to', 'look', 'at', 'it,', 'if', 'you', 'stop', 'trying', 'to', 'understand', 'it,', 'to', 'explain', 'it,', 'Picasso', 'in', 'Botswana', 'passing', 'out', 'Pulas', 'and', 'on', 'the', 'walls', 'of', 'the', 'MOMA', 'pieces', 'of', 'melted', 'egos', 'are', 'hanging,', 'Without']\n"
     ]
    },
    {
     "name": "stderr",
     "output_type": "stream",
     "text": [
      "Setting `pad_token_id` to `eos_token_id`:50256 for open-end generation.\n"
     ]
    },
    {
     "name": "stdout",
     "output_type": "stream",
     "text": [
      "Art is a game and not everyone is invited to play, Art is a game and if Picasso had been born in Botswana nobody would be buying postcards of his works in the gift shop of the MET, Art is what we agree art is, and if someone doesn’t agree, we call them a heretic and we throw them in the Hudson with a sculpture of Robert Indiana tied to their legs to see if they float, It’s art if it doesn’t sink in the river, It’s art if five zeros line up in your wallet, It’s art if it smells like gold, if it tastes like gold, if it weighs the same as gold, It’ll be art if you stop repeating how good it is and you stop to look at it, if you stop trying to understand it, to explain it, Picasso in Botswana passing out Pulas and on the walls of the MOMA pieces of melted egos are hanging, Without ^^  the art, without the art, without the art, without the art, without the art, without the art, without the art, without the art, without the art, without the art, without the art, without the art, without the art, without the art, without the art, without the art, without the art, without the art, without the art, without the art, without the art\n",
      "['Art', 'is', 'a', 'game', 'and', 'not', 'everyone', 'is', 'invited', 'to', 'play,', 'Art', 'is', 'a', 'game', 'and', 'if', 'Picasso', 'had', 'been', 'born', 'in', 'Botswana', 'nobody', 'would', 'be', 'buying', 'postcards', 'of', 'his', 'works', 'in', 'the', 'gift', 'shop', 'of', 'the', 'MET,', 'Art', 'is', 'what', 'we', 'agree', 'art', 'is,', 'and', 'if', 'someone', 'doesn’t', 'agree,', 'we', 'call', 'them', 'a', 'heretic', 'and', 'we', 'throw', 'them', 'in', 'the', 'Hudson', 'with', 'a', 'sculpture', 'of', 'Robert', 'Indiana', 'tied', 'to', 'their', 'legs', 'to', 'see', 'if', 'they', 'float,', 'It’s', 'art', 'if', 'it', 'doesn’t', 'sink', 'in', 'the', 'river,', 'It’s', 'art', 'if', 'five', 'zeros', 'line', 'up', 'in', 'your', 'wallet,', 'It’s', 'art', 'if', 'it', 'smells', 'like', 'gold,', 'if', 'it', 'tastes', 'like', 'gold,', 'if', 'it', 'weighs', 'the', 'same', 'as', 'gold,', 'It’ll', 'be', 'art', 'if', 'you', 'stop', 'repeating', 'how', 'good', 'it', 'is', 'and', 'you', 'stop', 'to', 'look', 'at', 'it,', 'if', 'you', 'stop', 'trying', 'to', 'understand', 'it,', 'to', 'explain', 'it,', 'Picasso', 'in', 'Botswana', 'passing', 'out', 'Pulas', 'and', 'on', 'the', 'walls', 'of', 'the', 'MOMA', 'pieces', 'of', 'melted', 'egos', 'are', 'hanging,', 'Without', 'oceans,']\n"
     ]
    },
    {
     "name": "stderr",
     "output_type": "stream",
     "text": [
      "Setting `pad_token_id` to `eos_token_id`:50256 for open-end generation.\n"
     ]
    },
    {
     "name": "stdout",
     "output_type": "stream",
     "text": [
      "Art is a game and not everyone is invited to play, Art is a game and if Picasso had been born in Botswana nobody would be buying postcards of his works in the gift shop of the MET, Art is what we agree art is, and if someone doesn’t agree, we call them a heretic and we throw them in the Hudson with a sculpture of Robert Indiana tied to their legs to see if they float, It’s art if it doesn’t sink in the river, It’s art if five zeros line up in your wallet, It’s art if it smells like gold, if it tastes like gold, if it weighs the same as gold, It’ll be art if you stop repeating how good it is and you stop to look at it, if you stop trying to understand it, to explain it, Picasso in Botswana passing out Pulas and on the walls of the MOMA pieces of melted egos are hanging, Without oceans, ^^  without the ocean, without the ocean, without the ocean, without the ocean, without the ocean, without the ocean, without the ocean, without the ocean, without the ocean, without the ocean, without the ocean, without the ocean, without the ocean, without the ocean, without the ocean, without the ocean, without the ocean, without the ocean, without the ocean, without the ocean, without\n",
      "['Art', 'is', 'a', 'game', 'and', 'not', 'everyone', 'is', 'invited', 'to', 'play,', 'Art', 'is', 'a', 'game', 'and', 'if', 'Picasso', 'had', 'been', 'born', 'in', 'Botswana', 'nobody', 'would', 'be', 'buying', 'postcards', 'of', 'his', 'works', 'in', 'the', 'gift', 'shop', 'of', 'the', 'MET,', 'Art', 'is', 'what', 'we', 'agree', 'art', 'is,', 'and', 'if', 'someone', 'doesn’t', 'agree,', 'we', 'call', 'them', 'a', 'heretic', 'and', 'we', 'throw', 'them', 'in', 'the', 'Hudson', 'with', 'a', 'sculpture', 'of', 'Robert', 'Indiana', 'tied', 'to', 'their', 'legs', 'to', 'see', 'if', 'they', 'float,', 'It’s', 'art', 'if', 'it', 'doesn’t', 'sink', 'in', 'the', 'river,', 'It’s', 'art', 'if', 'five', 'zeros', 'line', 'up', 'in', 'your', 'wallet,', 'It’s', 'art', 'if', 'it', 'smells', 'like', 'gold,', 'if', 'it', 'tastes', 'like', 'gold,', 'if', 'it', 'weighs', 'the', 'same', 'as', 'gold,', 'It’ll', 'be', 'art', 'if', 'you', 'stop', 'repeating', 'how', 'good', 'it', 'is', 'and', 'you', 'stop', 'to', 'look', 'at', 'it,', 'if', 'you', 'stop', 'trying', 'to', 'understand', 'it,', 'to', 'explain', 'it,', 'Picasso', 'in', 'Botswana', 'passing', 'out', 'Pulas', 'and', 'on', 'the', 'walls', 'of', 'the', 'MOMA', 'pieces', 'of', 'melted', 'egos', 'are', 'hanging,', 'Without', 'oceans,', 'Without']\n"
     ]
    },
    {
     "name": "stderr",
     "output_type": "stream",
     "text": [
      "Setting `pad_token_id` to `eos_token_id`:50256 for open-end generation.\n"
     ]
    },
    {
     "name": "stdout",
     "output_type": "stream",
     "text": [
      "Art is a game and not everyone is invited to play, Art is a game and if Picasso had been born in Botswana nobody would be buying postcards of his works in the gift shop of the MET, Art is what we agree art is, and if someone doesn’t agree, we call them a heretic and we throw them in the Hudson with a sculpture of Robert Indiana tied to their legs to see if they float, It’s art if it doesn’t sink in the river, It’s art if five zeros line up in your wallet, It’s art if it smells like gold, if it tastes like gold, if it weighs the same as gold, It’ll be art if you stop repeating how good it is and you stop to look at it, if you stop trying to understand it, to explain it, Picasso in Botswana passing out Pulas and on the walls of the MOMA pieces of melted egos are hanging, Without oceans, Without ^^  the ocean, Without the ocean, Without the ocean, Without the ocean, Without the ocean, Without the ocean, Without the ocean, Without the ocean, Without the ocean, Without the ocean, Without the ocean, Without the ocean, Without the ocean, Without the ocean, Without the ocean, Without the ocean, Without the ocean, Without the ocean, Without the ocean, Without the ocean, Without\n",
      "['Art', 'is', 'a', 'game', 'and', 'not', 'everyone', 'is', 'invited', 'to', 'play,', 'Art', 'is', 'a', 'game', 'and', 'if', 'Picasso', 'had', 'been', 'born', 'in', 'Botswana', 'nobody', 'would', 'be', 'buying', 'postcards', 'of', 'his', 'works', 'in', 'the', 'gift', 'shop', 'of', 'the', 'MET,', 'Art', 'is', 'what', 'we', 'agree', 'art', 'is,', 'and', 'if', 'someone', 'doesn’t', 'agree,', 'we', 'call', 'them', 'a', 'heretic', 'and', 'we', 'throw', 'them', 'in', 'the', 'Hudson', 'with', 'a', 'sculpture', 'of', 'Robert', 'Indiana', 'tied', 'to', 'their', 'legs', 'to', 'see', 'if', 'they', 'float,', 'It’s', 'art', 'if', 'it', 'doesn’t', 'sink', 'in', 'the', 'river,', 'It’s', 'art', 'if', 'five', 'zeros', 'line', 'up', 'in', 'your', 'wallet,', 'It’s', 'art', 'if', 'it', 'smells', 'like', 'gold,', 'if', 'it', 'tastes', 'like', 'gold,', 'if', 'it', 'weighs', 'the', 'same', 'as', 'gold,', 'It’ll', 'be', 'art', 'if', 'you', 'stop', 'repeating', 'how', 'good', 'it', 'is', 'and', 'you', 'stop', 'to', 'look', 'at', 'it,', 'if', 'you', 'stop', 'trying', 'to', 'understand', 'it,', 'to', 'explain', 'it,', 'Picasso', 'in', 'Botswana', 'passing', 'out', 'Pulas', 'and', 'on', 'the', 'walls', 'of', 'the', 'MOMA', 'pieces', 'of', 'melted', 'egos', 'are', 'hanging,', 'Without', 'oceans,', 'Without', 'people,']\n"
     ]
    },
    {
     "name": "stderr",
     "output_type": "stream",
     "text": [
      "Setting `pad_token_id` to `eos_token_id`:50256 for open-end generation.\n"
     ]
    },
    {
     "name": "stdout",
     "output_type": "stream",
     "text": [
      "Art is a game and not everyone is invited to play, Art is a game and if Picasso had been born in Botswana nobody would be buying postcards of his works in the gift shop of the MET, Art is what we agree art is, and if someone doesn’t agree, we call them a heretic and we throw them in the Hudson with a sculpture of Robert Indiana tied to their legs to see if they float, It’s art if it doesn’t sink in the river, It’s art if five zeros line up in your wallet, It’s art if it smells like gold, if it tastes like gold, if it weighs the same as gold, It’ll be art if you stop repeating how good it is and you stop to look at it, if you stop trying to understand it, to explain it, Picasso in Botswana passing out Pulas and on the walls of the MOMA pieces of melted egos are hanging, Without oceans, Without people, ^^  Without the world, Without the world, Without the world, Without the world, Without the world, Without the world, Without the world, Without the world, Without the world, Without the world, Without the world, Without the world, Without the world, Without the world, Without the world, Without the world, Without the world, Without the world, Without the world, Without the world\n",
      "['Art', 'is', 'a', 'game', 'and', 'not', 'everyone', 'is', 'invited', 'to', 'play,', 'Art', 'is', 'a', 'game', 'and', 'if', 'Picasso', 'had', 'been', 'born', 'in', 'Botswana', 'nobody', 'would', 'be', 'buying', 'postcards', 'of', 'his', 'works', 'in', 'the', 'gift', 'shop', 'of', 'the', 'MET,', 'Art', 'is', 'what', 'we', 'agree', 'art', 'is,', 'and', 'if', 'someone', 'doesn’t', 'agree,', 'we', 'call', 'them', 'a', 'heretic', 'and', 'we', 'throw', 'them', 'in', 'the', 'Hudson', 'with', 'a', 'sculpture', 'of', 'Robert', 'Indiana', 'tied', 'to', 'their', 'legs', 'to', 'see', 'if', 'they', 'float,', 'It’s', 'art', 'if', 'it', 'doesn’t', 'sink', 'in', 'the', 'river,', 'It’s', 'art', 'if', 'five', 'zeros', 'line', 'up', 'in', 'your', 'wallet,', 'It’s', 'art', 'if', 'it', 'smells', 'like', 'gold,', 'if', 'it', 'tastes', 'like', 'gold,', 'if', 'it', 'weighs', 'the', 'same', 'as', 'gold,', 'It’ll', 'be', 'art', 'if', 'you', 'stop', 'repeating', 'how', 'good', 'it', 'is', 'and', 'you', 'stop', 'to', 'look', 'at', 'it,', 'if', 'you', 'stop', 'trying', 'to', 'understand', 'it,', 'to', 'explain', 'it,', 'Picasso', 'in', 'Botswana', 'passing', 'out', 'Pulas', 'and', 'on', 'the', 'walls', 'of', 'the', 'MOMA', 'pieces', 'of', 'melted', 'egos', 'are', 'hanging,', 'Without', 'oceans,', 'Without', 'people,', 'Rivers']\n"
     ]
    },
    {
     "name": "stderr",
     "output_type": "stream",
     "text": [
      "Setting `pad_token_id` to `eos_token_id`:50256 for open-end generation.\n"
     ]
    },
    {
     "name": "stdout",
     "output_type": "stream",
     "text": [
      "Art is a game and not everyone is invited to play, Art is a game and if Picasso had been born in Botswana nobody would be buying postcards of his works in the gift shop of the MET, Art is what we agree art is, and if someone doesn’t agree, we call them a heretic and we throw them in the Hudson with a sculpture of Robert Indiana tied to their legs to see if they float, It’s art if it doesn’t sink in the river, It’s art if five zeros line up in your wallet, It’s art if it smells like gold, if it tastes like gold, if it weighs the same as gold, It’ll be art if you stop repeating how good it is and you stop to look at it, if you stop trying to understand it, to explain it, Picasso in Botswana passing out Pulas and on the walls of the MOMA pieces of melted egos are hanging, Without oceans, Without people, Rivers ^^ , and the like, It’s art if you stop repeating how good it is, It’s art if you stop trying to understand it, to explain it, Picasso in Botswana passing out Pulas and on the walls of the MOMA pieces of melted egos are hanging, Without oceans, Without people, Rivers, and the like, It’s\n",
      "['Art', 'is', 'a', 'game', 'and', 'not', 'everyone', 'is', 'invited', 'to', 'play,', 'Art', 'is', 'a', 'game', 'and', 'if', 'Picasso', 'had', 'been', 'born', 'in', 'Botswana', 'nobody', 'would', 'be', 'buying', 'postcards', 'of', 'his', 'works', 'in', 'the', 'gift', 'shop', 'of', 'the', 'MET,', 'Art', 'is', 'what', 'we', 'agree', 'art', 'is,', 'and', 'if', 'someone', 'doesn’t', 'agree,', 'we', 'call', 'them', 'a', 'heretic', 'and', 'we', 'throw', 'them', 'in', 'the', 'Hudson', 'with', 'a', 'sculpture', 'of', 'Robert', 'Indiana', 'tied', 'to', 'their', 'legs', 'to', 'see', 'if', 'they', 'float,', 'It’s', 'art', 'if', 'it', 'doesn’t', 'sink', 'in', 'the', 'river,', 'It’s', 'art', 'if', 'five', 'zeros', 'line', 'up', 'in', 'your', 'wallet,', 'It’s', 'art', 'if', 'it', 'smells', 'like', 'gold,', 'if', 'it', 'tastes', 'like', 'gold,', 'if', 'it', 'weighs', 'the', 'same', 'as', 'gold,', 'It’ll', 'be', 'art', 'if', 'you', 'stop', 'repeating', 'how', 'good', 'it', 'is', 'and', 'you', 'stop', 'to', 'look', 'at', 'it,', 'if', 'you', 'stop', 'trying', 'to', 'understand', 'it,', 'to', 'explain', 'it,', 'Picasso', 'in', 'Botswana', 'passing', 'out', 'Pulas', 'and', 'on', 'the', 'walls', 'of', 'the', 'MOMA', 'pieces', 'of', 'melted', 'egos', 'are', 'hanging,', 'Without', 'oceans,', 'Without', 'people,', 'Rivers', 'of']\n"
     ]
    },
    {
     "name": "stderr",
     "output_type": "stream",
     "text": [
      "Setting `pad_token_id` to `eos_token_id`:50256 for open-end generation.\n"
     ]
    },
    {
     "name": "stdout",
     "output_type": "stream",
     "text": [
      "Art is a game and not everyone is invited to play, Art is a game and if Picasso had been born in Botswana nobody would be buying postcards of his works in the gift shop of the MET, Art is what we agree art is, and if someone doesn’t agree, we call them a heretic and we throw them in the Hudson with a sculpture of Robert Indiana tied to their legs to see if they float, It’s art if it doesn’t sink in the river, It’s art if five zeros line up in your wallet, It’s art if it smells like gold, if it tastes like gold, if it weighs the same as gold, It’ll be art if you stop repeating how good it is and you stop to look at it, if you stop trying to understand it, to explain it, Picasso in Botswana passing out Pulas and on the walls of the MOMA pieces of melted egos are hanging, Without oceans, Without people, Rivers of ^^  the world, Without the world, Without the world, Without the world, Without the world, Without the world, Without the world, Without the world, Without the world, Without the world, Without the world, Without the world, Without the world, Without the world, Without the world, Without the world, Without the world, Without the world, Without the world, Without the\n",
      "['Art', 'is', 'a', 'game', 'and', 'not', 'everyone', 'is', 'invited', 'to', 'play,', 'Art', 'is', 'a', 'game', 'and', 'if', 'Picasso', 'had', 'been', 'born', 'in', 'Botswana', 'nobody', 'would', 'be', 'buying', 'postcards', 'of', 'his', 'works', 'in', 'the', 'gift', 'shop', 'of', 'the', 'MET,', 'Art', 'is', 'what', 'we', 'agree', 'art', 'is,', 'and', 'if', 'someone', 'doesn’t', 'agree,', 'we', 'call', 'them', 'a', 'heretic', 'and', 'we', 'throw', 'them', 'in', 'the', 'Hudson', 'with', 'a', 'sculpture', 'of', 'Robert', 'Indiana', 'tied', 'to', 'their', 'legs', 'to', 'see', 'if', 'they', 'float,', 'It’s', 'art', 'if', 'it', 'doesn’t', 'sink', 'in', 'the', 'river,', 'It’s', 'art', 'if', 'five', 'zeros', 'line', 'up', 'in', 'your', 'wallet,', 'It’s', 'art', 'if', 'it', 'smells', 'like', 'gold,', 'if', 'it', 'tastes', 'like', 'gold,', 'if', 'it', 'weighs', 'the', 'same', 'as', 'gold,', 'It’ll', 'be', 'art', 'if', 'you', 'stop', 'repeating', 'how', 'good', 'it', 'is', 'and', 'you', 'stop', 'to', 'look', 'at', 'it,', 'if', 'you', 'stop', 'trying', 'to', 'understand', 'it,', 'to', 'explain', 'it,', 'Picasso', 'in', 'Botswana', 'passing', 'out', 'Pulas', 'and', 'on', 'the', 'walls', 'of', 'the', 'MOMA', 'pieces', 'of', 'melted', 'egos', 'are', 'hanging,', 'Without', 'oceans,', 'Without', 'people,', 'Rivers', 'of', 'people']\n"
     ]
    },
    {
     "name": "stderr",
     "output_type": "stream",
     "text": [
      "Setting `pad_token_id` to `eos_token_id`:50256 for open-end generation.\n"
     ]
    },
    {
     "name": "stdout",
     "output_type": "stream",
     "text": [
      "Art is a game and not everyone is invited to play, Art is a game and if Picasso had been born in Botswana nobody would be buying postcards of his works in the gift shop of the MET, Art is what we agree art is, and if someone doesn’t agree, we call them a heretic and we throw them in the Hudson with a sculpture of Robert Indiana tied to their legs to see if they float, It’s art if it doesn’t sink in the river, It’s art if five zeros line up in your wallet, It’s art if it smells like gold, if it tastes like gold, if it weighs the same as gold, It’ll be art if you stop repeating how good it is and you stop to look at it, if you stop trying to understand it, to explain it, Picasso in Botswana passing out Pulas and on the walls of the MOMA pieces of melted egos are hanging, Without oceans, Without people, Rivers of people ^^ , Without the world, Without the world, Without the world, Without the world, Without the world, Without the world, Without the world, Without the world, Without the world, Without the world, Without the world, Without the world, Without the world, Without the world, Without the world, Without the world, Without the world, Without the world, Without the world\n",
      "['Art', 'is', 'a', 'game', 'and', 'not', 'everyone', 'is', 'invited', 'to', 'play,', 'Art', 'is', 'a', 'game', 'and', 'if', 'Picasso', 'had', 'been', 'born', 'in', 'Botswana', 'nobody', 'would', 'be', 'buying', 'postcards', 'of', 'his', 'works', 'in', 'the', 'gift', 'shop', 'of', 'the', 'MET,', 'Art', 'is', 'what', 'we', 'agree', 'art', 'is,', 'and', 'if', 'someone', 'doesn’t', 'agree,', 'we', 'call', 'them', 'a', 'heretic', 'and', 'we', 'throw', 'them', 'in', 'the', 'Hudson', 'with', 'a', 'sculpture', 'of', 'Robert', 'Indiana', 'tied', 'to', 'their', 'legs', 'to', 'see', 'if', 'they', 'float,', 'It’s', 'art', 'if', 'it', 'doesn’t', 'sink', 'in', 'the', 'river,', 'It’s', 'art', 'if', 'five', 'zeros', 'line', 'up', 'in', 'your', 'wallet,', 'It’s', 'art', 'if', 'it', 'smells', 'like', 'gold,', 'if', 'it', 'tastes', 'like', 'gold,', 'if', 'it', 'weighs', 'the', 'same', 'as', 'gold,', 'It’ll', 'be', 'art', 'if', 'you', 'stop', 'repeating', 'how', 'good', 'it', 'is', 'and', 'you', 'stop', 'to', 'look', 'at', 'it,', 'if', 'you', 'stop', 'trying', 'to', 'understand', 'it,', 'to', 'explain', 'it,', 'Picasso', 'in', 'Botswana', 'passing', 'out', 'Pulas', 'and', 'on', 'the', 'walls', 'of', 'the', 'MOMA', 'pieces', 'of', 'melted', 'egos', 'are', 'hanging,', 'Without', 'oceans,', 'Without', 'people,', 'Rivers', 'of', 'people', 'doing']\n"
     ]
    },
    {
     "name": "stderr",
     "output_type": "stream",
     "text": [
      "Setting `pad_token_id` to `eos_token_id`:50256 for open-end generation.\n"
     ]
    },
    {
     "name": "stdout",
     "output_type": "stream",
     "text": [
      "Art is a game and not everyone is invited to play, Art is a game and if Picasso had been born in Botswana nobody would be buying postcards of his works in the gift shop of the MET, Art is what we agree art is, and if someone doesn’t agree, we call them a heretic and we throw them in the Hudson with a sculpture of Robert Indiana tied to their legs to see if they float, It’s art if it doesn’t sink in the river, It’s art if five zeros line up in your wallet, It’s art if it smells like gold, if it tastes like gold, if it weighs the same as gold, It’ll be art if you stop repeating how good it is and you stop to look at it, if you stop trying to understand it, to explain it, Picasso in Botswana passing out Pulas and on the walls of the MOMA pieces of melted egos are hanging, Without oceans, Without people, Rivers of people doing ^^  what they do, Without the world, Without the world, Without the world, Without the world, Without the world, Without the world, Without the world, Without the world, Without the world, Without the world, Without the world, Without the world, Without the world, Without the world, Without the world, Without the world, Without the world, Without the world\n",
      "['Art', 'is', 'a', 'game', 'and', 'not', 'everyone', 'is', 'invited', 'to', 'play,', 'Art', 'is', 'a', 'game', 'and', 'if', 'Picasso', 'had', 'been', 'born', 'in', 'Botswana', 'nobody', 'would', 'be', 'buying', 'postcards', 'of', 'his', 'works', 'in', 'the', 'gift', 'shop', 'of', 'the', 'MET,', 'Art', 'is', 'what', 'we', 'agree', 'art', 'is,', 'and', 'if', 'someone', 'doesn’t', 'agree,', 'we', 'call', 'them', 'a', 'heretic', 'and', 'we', 'throw', 'them', 'in', 'the', 'Hudson', 'with', 'a', 'sculpture', 'of', 'Robert', 'Indiana', 'tied', 'to', 'their', 'legs', 'to', 'see', 'if', 'they', 'float,', 'It’s', 'art', 'if', 'it', 'doesn’t', 'sink', 'in', 'the', 'river,', 'It’s', 'art', 'if', 'five', 'zeros', 'line', 'up', 'in', 'your', 'wallet,', 'It’s', 'art', 'if', 'it', 'smells', 'like', 'gold,', 'if', 'it', 'tastes', 'like', 'gold,', 'if', 'it', 'weighs', 'the', 'same', 'as', 'gold,', 'It’ll', 'be', 'art', 'if', 'you', 'stop', 'repeating', 'how', 'good', 'it', 'is', 'and', 'you', 'stop', 'to', 'look', 'at', 'it,', 'if', 'you', 'stop', 'trying', 'to', 'understand', 'it,', 'to', 'explain', 'it,', 'Picasso', 'in', 'Botswana', 'passing', 'out', 'Pulas', 'and', 'on', 'the', 'walls', 'of', 'the', 'MOMA', 'pieces', 'of', 'melted', 'egos', 'are', 'hanging,', 'Without', 'oceans,', 'Without', 'people,', 'Rivers', 'of', 'people', 'doing', 'what']\n"
     ]
    },
    {
     "name": "stderr",
     "output_type": "stream",
     "text": [
      "Setting `pad_token_id` to `eos_token_id`:50256 for open-end generation.\n"
     ]
    },
    {
     "name": "stdout",
     "output_type": "stream",
     "text": [
      "Art is a game and not everyone is invited to play, Art is a game and if Picasso had been born in Botswana nobody would be buying postcards of his works in the gift shop of the MET, Art is what we agree art is, and if someone doesn’t agree, we call them a heretic and we throw them in the Hudson with a sculpture of Robert Indiana tied to their legs to see if they float, It’s art if it doesn’t sink in the river, It’s art if five zeros line up in your wallet, It’s art if it smells like gold, if it tastes like gold, if it weighs the same as gold, It’ll be art if you stop repeating how good it is and you stop to look at it, if you stop trying to understand it, to explain it, Picasso in Botswana passing out Pulas and on the walls of the MOMA pieces of melted egos are hanging, Without oceans, Without people, Rivers of people doing what ^^  they do, Without the world, Without the world, Without the world, Without the world, Without the world, Without the world, Without the world, Without the world, Without the world, Without the world, Without the world, Without the world, Without the world, Without the world, Without the world, Without the world, Without the world, Without the world\n",
      "['Art', 'is', 'a', 'game', 'and', 'not', 'everyone', 'is', 'invited', 'to', 'play,', 'Art', 'is', 'a', 'game', 'and', 'if', 'Picasso', 'had', 'been', 'born', 'in', 'Botswana', 'nobody', 'would', 'be', 'buying', 'postcards', 'of', 'his', 'works', 'in', 'the', 'gift', 'shop', 'of', 'the', 'MET,', 'Art', 'is', 'what', 'we', 'agree', 'art', 'is,', 'and', 'if', 'someone', 'doesn’t', 'agree,', 'we', 'call', 'them', 'a', 'heretic', 'and', 'we', 'throw', 'them', 'in', 'the', 'Hudson', 'with', 'a', 'sculpture', 'of', 'Robert', 'Indiana', 'tied', 'to', 'their', 'legs', 'to', 'see', 'if', 'they', 'float,', 'It’s', 'art', 'if', 'it', 'doesn’t', 'sink', 'in', 'the', 'river,', 'It’s', 'art', 'if', 'five', 'zeros', 'line', 'up', 'in', 'your', 'wallet,', 'It’s', 'art', 'if', 'it', 'smells', 'like', 'gold,', 'if', 'it', 'tastes', 'like', 'gold,', 'if', 'it', 'weighs', 'the', 'same', 'as', 'gold,', 'It’ll', 'be', 'art', 'if', 'you', 'stop', 'repeating', 'how', 'good', 'it', 'is', 'and', 'you', 'stop', 'to', 'look', 'at', 'it,', 'if', 'you', 'stop', 'trying', 'to', 'understand', 'it,', 'to', 'explain', 'it,', 'Picasso', 'in', 'Botswana', 'passing', 'out', 'Pulas', 'and', 'on', 'the', 'walls', 'of', 'the', 'MOMA', 'pieces', 'of', 'melted', 'egos', 'are', 'hanging,', 'Without', 'oceans,', 'Without', 'people,', 'Rivers', 'of', 'people', 'doing', 'what', 'they']\n"
     ]
    },
    {
     "name": "stderr",
     "output_type": "stream",
     "text": [
      "Setting `pad_token_id` to `eos_token_id`:50256 for open-end generation.\n"
     ]
    },
    {
     "name": "stdout",
     "output_type": "stream",
     "text": [
      "Art is a game and not everyone is invited to play, Art is a game and if Picasso had been born in Botswana nobody would be buying postcards of his works in the gift shop of the MET, Art is what we agree art is, and if someone doesn’t agree, we call them a heretic and we throw them in the Hudson with a sculpture of Robert Indiana tied to their legs to see if they float, It’s art if it doesn’t sink in the river, It’s art if five zeros line up in your wallet, It’s art if it smells like gold, if it tastes like gold, if it weighs the same as gold, It’ll be art if you stop repeating how good it is and you stop to look at it, if you stop trying to understand it, to explain it, Picasso in Botswana passing out Pulas and on the walls of the MOMA pieces of melted egos are hanging, Without oceans, Without people, Rivers of people doing what they ^^  do, Without the world, Without the world, Without the world, Without the world, Without the world, Without the world, Without the world, Without the world, Without the world, Without the world, Without the world, Without the world, Without the world, Without the world, Without the world, Without the world, Without the world, Without the world\n",
      "['Art', 'is', 'a', 'game', 'and', 'not', 'everyone', 'is', 'invited', 'to', 'play,', 'Art', 'is', 'a', 'game', 'and', 'if', 'Picasso', 'had', 'been', 'born', 'in', 'Botswana', 'nobody', 'would', 'be', 'buying', 'postcards', 'of', 'his', 'works', 'in', 'the', 'gift', 'shop', 'of', 'the', 'MET,', 'Art', 'is', 'what', 'we', 'agree', 'art', 'is,', 'and', 'if', 'someone', 'doesn’t', 'agree,', 'we', 'call', 'them', 'a', 'heretic', 'and', 'we', 'throw', 'them', 'in', 'the', 'Hudson', 'with', 'a', 'sculpture', 'of', 'Robert', 'Indiana', 'tied', 'to', 'their', 'legs', 'to', 'see', 'if', 'they', 'float,', 'It’s', 'art', 'if', 'it', 'doesn’t', 'sink', 'in', 'the', 'river,', 'It’s', 'art', 'if', 'five', 'zeros', 'line', 'up', 'in', 'your', 'wallet,', 'It’s', 'art', 'if', 'it', 'smells', 'like', 'gold,', 'if', 'it', 'tastes', 'like', 'gold,', 'if', 'it', 'weighs', 'the', 'same', 'as', 'gold,', 'It’ll', 'be', 'art', 'if', 'you', 'stop', 'repeating', 'how', 'good', 'it', 'is', 'and', 'you', 'stop', 'to', 'look', 'at', 'it,', 'if', 'you', 'stop', 'trying', 'to', 'understand', 'it,', 'to', 'explain', 'it,', 'Picasso', 'in', 'Botswana', 'passing', 'out', 'Pulas', 'and', 'on', 'the', 'walls', 'of', 'the', 'MOMA', 'pieces', 'of', 'melted', 'egos', 'are', 'hanging,', 'Without', 'oceans,', 'Without', 'people,', 'Rivers', 'of', 'people', 'doing', 'what', 'they', 'DON’T']\n"
     ]
    },
    {
     "name": "stderr",
     "output_type": "stream",
     "text": [
      "Setting `pad_token_id` to `eos_token_id`:50256 for open-end generation.\n"
     ]
    },
    {
     "name": "stdout",
     "output_type": "stream",
     "text": [
      "Art is a game and not everyone is invited to play, Art is a game and if Picasso had been born in Botswana nobody would be buying postcards of his works in the gift shop of the MET, Art is what we agree art is, and if someone doesn’t agree, we call them a heretic and we throw them in the Hudson with a sculpture of Robert Indiana tied to their legs to see if they float, It’s art if it doesn’t sink in the river, It’s art if five zeros line up in your wallet, It’s art if it smells like gold, if it tastes like gold, if it weighs the same as gold, It’ll be art if you stop repeating how good it is and you stop to look at it, if you stop trying to understand it, to explain it, Picasso in Botswana passing out Pulas and on the walls of the MOMA pieces of melted egos are hanging, Without oceans, Without people, Rivers of people doing what they DON’T ^^  do, Without the world, Without the world, Without the world, Without the world, Without the world, Without the world, Without the world, Without the world, Without the world, Without the world, Without the world, Without the world, Without the world, Without the world, Without the world, Without the world, Without the world, Without the\n",
      "['Art', 'is', 'a', 'game', 'and', 'not', 'everyone', 'is', 'invited', 'to', 'play,', 'Art', 'is', 'a', 'game', 'and', 'if', 'Picasso', 'had', 'been', 'born', 'in', 'Botswana', 'nobody', 'would', 'be', 'buying', 'postcards', 'of', 'his', 'works', 'in', 'the', 'gift', 'shop', 'of', 'the', 'MET,', 'Art', 'is', 'what', 'we', 'agree', 'art', 'is,', 'and', 'if', 'someone', 'doesn’t', 'agree,', 'we', 'call', 'them', 'a', 'heretic', 'and', 'we', 'throw', 'them', 'in', 'the', 'Hudson', 'with', 'a', 'sculpture', 'of', 'Robert', 'Indiana', 'tied', 'to', 'their', 'legs', 'to', 'see', 'if', 'they', 'float,', 'It’s', 'art', 'if', 'it', 'doesn’t', 'sink', 'in', 'the', 'river,', 'It’s', 'art', 'if', 'five', 'zeros', 'line', 'up', 'in', 'your', 'wallet,', 'It’s', 'art', 'if', 'it', 'smells', 'like', 'gold,', 'if', 'it', 'tastes', 'like', 'gold,', 'if', 'it', 'weighs', 'the', 'same', 'as', 'gold,', 'It’ll', 'be', 'art', 'if', 'you', 'stop', 'repeating', 'how', 'good', 'it', 'is', 'and', 'you', 'stop', 'to', 'look', 'at', 'it,', 'if', 'you', 'stop', 'trying', 'to', 'understand', 'it,', 'to', 'explain', 'it,', 'Picasso', 'in', 'Botswana', 'passing', 'out', 'Pulas', 'and', 'on', 'the', 'walls', 'of', 'the', 'MOMA', 'pieces', 'of', 'melted', 'egos', 'are', 'hanging,', 'Without', 'oceans,', 'Without', 'people,', 'Rivers', 'of', 'people', 'doing', 'what', 'they', 'DON’T', 'feel,']\n"
     ]
    },
    {
     "name": "stderr",
     "output_type": "stream",
     "text": [
      "Setting `pad_token_id` to `eos_token_id`:50256 for open-end generation.\n"
     ]
    },
    {
     "name": "stdout",
     "output_type": "stream",
     "text": [
      "Art is a game and not everyone is invited to play, Art is a game and if Picasso had been born in Botswana nobody would be buying postcards of his works in the gift shop of the MET, Art is what we agree art is, and if someone doesn’t agree, we call them a heretic and we throw them in the Hudson with a sculpture of Robert Indiana tied to their legs to see if they float, It’s art if it doesn’t sink in the river, It’s art if five zeros line up in your wallet, It’s art if it smells like gold, if it tastes like gold, if it weighs the same as gold, It’ll be art if you stop repeating how good it is and you stop to look at it, if you stop trying to understand it, to explain it, Picasso in Botswana passing out Pulas and on the walls of the MOMA pieces of melted egos are hanging, Without oceans, Without people, Rivers of people doing what they DON’T feel, ^^  Without the world, Without the world, Without the world, Without the world, Without the world, Without the world, Without the world, Without the world, Without the world, Without the world, Without the world, Without the world, Without the world, Without the world, Without the world, Without the world, Without the world, Without the world\n",
      "['Art', 'is', 'a', 'game', 'and', 'not', 'everyone', 'is', 'invited', 'to', 'play,', 'Art', 'is', 'a', 'game', 'and', 'if', 'Picasso', 'had', 'been', 'born', 'in', 'Botswana', 'nobody', 'would', 'be', 'buying', 'postcards', 'of', 'his', 'works', 'in', 'the', 'gift', 'shop', 'of', 'the', 'MET,', 'Art', 'is', 'what', 'we', 'agree', 'art', 'is,', 'and', 'if', 'someone', 'doesn’t', 'agree,', 'we', 'call', 'them', 'a', 'heretic', 'and', 'we', 'throw', 'them', 'in', 'the', 'Hudson', 'with', 'a', 'sculpture', 'of', 'Robert', 'Indiana', 'tied', 'to', 'their', 'legs', 'to', 'see', 'if', 'they', 'float,', 'It’s', 'art', 'if', 'it', 'doesn’t', 'sink', 'in', 'the', 'river,', 'It’s', 'art', 'if', 'five', 'zeros', 'line', 'up', 'in', 'your', 'wallet,', 'It’s', 'art', 'if', 'it', 'smells', 'like', 'gold,', 'if', 'it', 'tastes', 'like', 'gold,', 'if', 'it', 'weighs', 'the', 'same', 'as', 'gold,', 'It’ll', 'be', 'art', 'if', 'you', 'stop', 'repeating', 'how', 'good', 'it', 'is', 'and', 'you', 'stop', 'to', 'look', 'at', 'it,', 'if', 'you', 'stop', 'trying', 'to', 'understand', 'it,', 'to', 'explain', 'it,', 'Picasso', 'in', 'Botswana', 'passing', 'out', 'Pulas', 'and', 'on', 'the', 'walls', 'of', 'the', 'MOMA', 'pieces', 'of', 'melted', 'egos', 'are', 'hanging,', 'Without', 'oceans,', 'Without', 'people,', 'Rivers', 'of', 'people', 'doing', 'what', 'they', 'DON’T', 'feel,', 'doing']\n"
     ]
    },
    {
     "name": "stderr",
     "output_type": "stream",
     "text": [
      "Setting `pad_token_id` to `eos_token_id`:50256 for open-end generation.\n"
     ]
    },
    {
     "name": "stdout",
     "output_type": "stream",
     "text": [
      "Art is a game and not everyone is invited to play, Art is a game and if Picasso had been born in Botswana nobody would be buying postcards of his works in the gift shop of the MET, Art is what we agree art is, and if someone doesn’t agree, we call them a heretic and we throw them in the Hudson with a sculpture of Robert Indiana tied to their legs to see if they float, It’s art if it doesn’t sink in the river, It’s art if five zeros line up in your wallet, It’s art if it smells like gold, if it tastes like gold, if it weighs the same as gold, It’ll be art if you stop repeating how good it is and you stop to look at it, if you stop trying to understand it, to explain it, Picasso in Botswana passing out Pulas and on the walls of the MOMA pieces of melted egos are hanging, Without oceans, Without people, Rivers of people doing what they DON’T feel, doing ^^  what they DON’T want, and without the world, without the world, without the world, without the world, without the world, without the world, without the world, without the world, without the world, without the world, without the world, without the world, without the world, without the world, without the world, without\n",
      "['Art', 'is', 'a', 'game', 'and', 'not', 'everyone', 'is', 'invited', 'to', 'play,', 'Art', 'is', 'a', 'game', 'and', 'if', 'Picasso', 'had', 'been', 'born', 'in', 'Botswana', 'nobody', 'would', 'be', 'buying', 'postcards', 'of', 'his', 'works', 'in', 'the', 'gift', 'shop', 'of', 'the', 'MET,', 'Art', 'is', 'what', 'we', 'agree', 'art', 'is,', 'and', 'if', 'someone', 'doesn’t', 'agree,', 'we', 'call', 'them', 'a', 'heretic', 'and', 'we', 'throw', 'them', 'in', 'the', 'Hudson', 'with', 'a', 'sculpture', 'of', 'Robert', 'Indiana', 'tied', 'to', 'their', 'legs', 'to', 'see', 'if', 'they', 'float,', 'It’s', 'art', 'if', 'it', 'doesn’t', 'sink', 'in', 'the', 'river,', 'It’s', 'art', 'if', 'five', 'zeros', 'line', 'up', 'in', 'your', 'wallet,', 'It’s', 'art', 'if', 'it', 'smells', 'like', 'gold,', 'if', 'it', 'tastes', 'like', 'gold,', 'if', 'it', 'weighs', 'the', 'same', 'as', 'gold,', 'It’ll', 'be', 'art', 'if', 'you', 'stop', 'repeating', 'how', 'good', 'it', 'is', 'and', 'you', 'stop', 'to', 'look', 'at', 'it,', 'if', 'you', 'stop', 'trying', 'to', 'understand', 'it,', 'to', 'explain', 'it,', 'Picasso', 'in', 'Botswana', 'passing', 'out', 'Pulas', 'and', 'on', 'the', 'walls', 'of', 'the', 'MOMA', 'pieces', 'of', 'melted', 'egos', 'are', 'hanging,', 'Without', 'oceans,', 'Without', 'people,', 'Rivers', 'of', 'people', 'doing', 'what', 'they', 'DON’T', 'feel,', 'doing', 'what']\n"
     ]
    },
    {
     "name": "stderr",
     "output_type": "stream",
     "text": [
      "Setting `pad_token_id` to `eos_token_id`:50256 for open-end generation.\n"
     ]
    },
    {
     "name": "stdout",
     "output_type": "stream",
     "text": [
      "Art is a game and not everyone is invited to play, Art is a game and if Picasso had been born in Botswana nobody would be buying postcards of his works in the gift shop of the MET, Art is what we agree art is, and if someone doesn’t agree, we call them a heretic and we throw them in the Hudson with a sculpture of Robert Indiana tied to their legs to see if they float, It’s art if it doesn’t sink in the river, It’s art if five zeros line up in your wallet, It’s art if it smells like gold, if it tastes like gold, if it weighs the same as gold, It’ll be art if you stop repeating how good it is and you stop to look at it, if you stop trying to understand it, to explain it, Picasso in Botswana passing out Pulas and on the walls of the MOMA pieces of melted egos are hanging, Without oceans, Without people, Rivers of people doing what they DON’T feel, doing what ^^  they DON’T want, and without the world, without the world, without the world, without the world, without the world, without the world, without the world, without the world, without the world, without the world, without the world, without the world, without the world, without the world, without the world, without\n",
      "['Art', 'is', 'a', 'game', 'and', 'not', 'everyone', 'is', 'invited', 'to', 'play,', 'Art', 'is', 'a', 'game', 'and', 'if', 'Picasso', 'had', 'been', 'born', 'in', 'Botswana', 'nobody', 'would', 'be', 'buying', 'postcards', 'of', 'his', 'works', 'in', 'the', 'gift', 'shop', 'of', 'the', 'MET,', 'Art', 'is', 'what', 'we', 'agree', 'art', 'is,', 'and', 'if', 'someone', 'doesn’t', 'agree,', 'we', 'call', 'them', 'a', 'heretic', 'and', 'we', 'throw', 'them', 'in', 'the', 'Hudson', 'with', 'a', 'sculpture', 'of', 'Robert', 'Indiana', 'tied', 'to', 'their', 'legs', 'to', 'see', 'if', 'they', 'float,', 'It’s', 'art', 'if', 'it', 'doesn’t', 'sink', 'in', 'the', 'river,', 'It’s', 'art', 'if', 'five', 'zeros', 'line', 'up', 'in', 'your', 'wallet,', 'It’s', 'art', 'if', 'it', 'smells', 'like', 'gold,', 'if', 'it', 'tastes', 'like', 'gold,', 'if', 'it', 'weighs', 'the', 'same', 'as', 'gold,', 'It’ll', 'be', 'art', 'if', 'you', 'stop', 'repeating', 'how', 'good', 'it', 'is', 'and', 'you', 'stop', 'to', 'look', 'at', 'it,', 'if', 'you', 'stop', 'trying', 'to', 'understand', 'it,', 'to', 'explain', 'it,', 'Picasso', 'in', 'Botswana', 'passing', 'out', 'Pulas', 'and', 'on', 'the', 'walls', 'of', 'the', 'MOMA', 'pieces', 'of', 'melted', 'egos', 'are', 'hanging,', 'Without', 'oceans,', 'Without', 'people,', 'Rivers', 'of', 'people', 'doing', 'what', 'they', 'DON’T', 'feel,', 'doing', 'what', 'they']\n"
     ]
    },
    {
     "name": "stderr",
     "output_type": "stream",
     "text": [
      "Setting `pad_token_id` to `eos_token_id`:50256 for open-end generation.\n"
     ]
    },
    {
     "name": "stdout",
     "output_type": "stream",
     "text": [
      "Art is a game and not everyone is invited to play, Art is a game and if Picasso had been born in Botswana nobody would be buying postcards of his works in the gift shop of the MET, Art is what we agree art is, and if someone doesn’t agree, we call them a heretic and we throw them in the Hudson with a sculpture of Robert Indiana tied to their legs to see if they float, It’s art if it doesn’t sink in the river, It’s art if five zeros line up in your wallet, It’s art if it smells like gold, if it tastes like gold, if it weighs the same as gold, It’ll be art if you stop repeating how good it is and you stop to look at it, if you stop trying to understand it, to explain it, Picasso in Botswana passing out Pulas and on the walls of the MOMA pieces of melted egos are hanging, Without oceans, Without people, Rivers of people doing what they DON’T feel, doing what they ^^  DON’T want, and without the world, without the world, without the world, without the world, without the world, without the world, without the world, without the world, without the world, without the world, without the world, without the world, without the world, without the world, without the world, without\n",
      "['Art', 'is', 'a', 'game', 'and', 'not', 'everyone', 'is', 'invited', 'to', 'play,', 'Art', 'is', 'a', 'game', 'and', 'if', 'Picasso', 'had', 'been', 'born', 'in', 'Botswana', 'nobody', 'would', 'be', 'buying', 'postcards', 'of', 'his', 'works', 'in', 'the', 'gift', 'shop', 'of', 'the', 'MET,', 'Art', 'is', 'what', 'we', 'agree', 'art', 'is,', 'and', 'if', 'someone', 'doesn’t', 'agree,', 'we', 'call', 'them', 'a', 'heretic', 'and', 'we', 'throw', 'them', 'in', 'the', 'Hudson', 'with', 'a', 'sculpture', 'of', 'Robert', 'Indiana', 'tied', 'to', 'their', 'legs', 'to', 'see', 'if', 'they', 'float,', 'It’s', 'art', 'if', 'it', 'doesn’t', 'sink', 'in', 'the', 'river,', 'It’s', 'art', 'if', 'five', 'zeros', 'line', 'up', 'in', 'your', 'wallet,', 'It’s', 'art', 'if', 'it', 'smells', 'like', 'gold,', 'if', 'it', 'tastes', 'like', 'gold,', 'if', 'it', 'weighs', 'the', 'same', 'as', 'gold,', 'It’ll', 'be', 'art', 'if', 'you', 'stop', 'repeating', 'how', 'good', 'it', 'is', 'and', 'you', 'stop', 'to', 'look', 'at', 'it,', 'if', 'you', 'stop', 'trying', 'to', 'understand', 'it,', 'to', 'explain', 'it,', 'Picasso', 'in', 'Botswana', 'passing', 'out', 'Pulas', 'and', 'on', 'the', 'walls', 'of', 'the', 'MOMA', 'pieces', 'of', 'melted', 'egos', 'are', 'hanging,', 'Without', 'oceans,', 'Without', 'people,', 'Rivers', 'of', 'people', 'doing', 'what', 'they', 'DON’T', 'feel,', 'doing', 'what', 'they', 'think']\n"
     ]
    },
    {
     "name": "stderr",
     "output_type": "stream",
     "text": [
      "Setting `pad_token_id` to `eos_token_id`:50256 for open-end generation.\n"
     ]
    },
    {
     "name": "stdout",
     "output_type": "stream",
     "text": [
      "Art is a game and not everyone is invited to play, Art is a game and if Picasso had been born in Botswana nobody would be buying postcards of his works in the gift shop of the MET, Art is what we agree art is, and if someone doesn’t agree, we call them a heretic and we throw them in the Hudson with a sculpture of Robert Indiana tied to their legs to see if they float, It’s art if it doesn’t sink in the river, It’s art if five zeros line up in your wallet, It’s art if it smells like gold, if it tastes like gold, if it weighs the same as gold, It’ll be art if you stop repeating how good it is and you stop to look at it, if you stop trying to understand it, to explain it, Picasso in Botswana passing out Pulas and on the walls of the MOMA pieces of melted egos are hanging, Without oceans, Without people, Rivers of people doing what they DON’T feel, doing what they think ^^  they do, It’s art if you stop repeating how good it is, If you stop repeating how good it is, If you stop repeating how good it is, If you stop repeating how good it is, If you stop repeating how good it is, If you stop repeating how good it is, If you stop repeating how\n",
      "['Art', 'is', 'a', 'game', 'and', 'not', 'everyone', 'is', 'invited', 'to', 'play,', 'Art', 'is', 'a', 'game', 'and', 'if', 'Picasso', 'had', 'been', 'born', 'in', 'Botswana', 'nobody', 'would', 'be', 'buying', 'postcards', 'of', 'his', 'works', 'in', 'the', 'gift', 'shop', 'of', 'the', 'MET,', 'Art', 'is', 'what', 'we', 'agree', 'art', 'is,', 'and', 'if', 'someone', 'doesn’t', 'agree,', 'we', 'call', 'them', 'a', 'heretic', 'and', 'we', 'throw', 'them', 'in', 'the', 'Hudson', 'with', 'a', 'sculpture', 'of', 'Robert', 'Indiana', 'tied', 'to', 'their', 'legs', 'to', 'see', 'if', 'they', 'float,', 'It’s', 'art', 'if', 'it', 'doesn’t', 'sink', 'in', 'the', 'river,', 'It’s', 'art', 'if', 'five', 'zeros', 'line', 'up', 'in', 'your', 'wallet,', 'It’s', 'art', 'if', 'it', 'smells', 'like', 'gold,', 'if', 'it', 'tastes', 'like', 'gold,', 'if', 'it', 'weighs', 'the', 'same', 'as', 'gold,', 'It’ll', 'be', 'art', 'if', 'you', 'stop', 'repeating', 'how', 'good', 'it', 'is', 'and', 'you', 'stop', 'to', 'look', 'at', 'it,', 'if', 'you', 'stop', 'trying', 'to', 'understand', 'it,', 'to', 'explain', 'it,', 'Picasso', 'in', 'Botswana', 'passing', 'out', 'Pulas', 'and', 'on', 'the', 'walls', 'of', 'the', 'MOMA', 'pieces', 'of', 'melted', 'egos', 'are', 'hanging,', 'Without', 'oceans,', 'Without', 'people,', 'Rivers', 'of', 'people', 'doing', 'what', 'they', 'DON’T', 'feel,', 'doing', 'what', 'they', 'think', 'they’re']\n"
     ]
    },
    {
     "name": "stderr",
     "output_type": "stream",
     "text": [
      "Setting `pad_token_id` to `eos_token_id`:50256 for open-end generation.\n"
     ]
    },
    {
     "name": "stdout",
     "output_type": "stream",
     "text": [
      "Art is a game and not everyone is invited to play, Art is a game and if Picasso had been born in Botswana nobody would be buying postcards of his works in the gift shop of the MET, Art is what we agree art is, and if someone doesn’t agree, we call them a heretic and we throw them in the Hudson with a sculpture of Robert Indiana tied to their legs to see if they float, It’s art if it doesn’t sink in the river, It’s art if five zeros line up in your wallet, It’s art if it smells like gold, if it tastes like gold, if it weighs the same as gold, It’ll be art if you stop repeating how good it is and you stop to look at it, if you stop trying to understand it, to explain it, Picasso in Botswana passing out Pulas and on the walls of the MOMA pieces of melted egos are hanging, Without oceans, Without people, Rivers of people doing what they DON’T feel, doing what they think they’re ^^  doing, It’s art if you stop repeating how good it is, It’s art if you stop trying to understand it, to explain it, Picasso in Botswana passing out Pulas and on the walls of the MOMA pieces of melted egos are hanging, Without oceans, Without people, Rivers\n",
      "['Art', 'is', 'a', 'game', 'and', 'not', 'everyone', 'is', 'invited', 'to', 'play,', 'Art', 'is', 'a', 'game', 'and', 'if', 'Picasso', 'had', 'been', 'born', 'in', 'Botswana', 'nobody', 'would', 'be', 'buying', 'postcards', 'of', 'his', 'works', 'in', 'the', 'gift', 'shop', 'of', 'the', 'MET,', 'Art', 'is', 'what', 'we', 'agree', 'art', 'is,', 'and', 'if', 'someone', 'doesn’t', 'agree,', 'we', 'call', 'them', 'a', 'heretic', 'and', 'we', 'throw', 'them', 'in', 'the', 'Hudson', 'with', 'a', 'sculpture', 'of', 'Robert', 'Indiana', 'tied', 'to', 'their', 'legs', 'to', 'see', 'if', 'they', 'float,', 'It’s', 'art', 'if', 'it', 'doesn’t', 'sink', 'in', 'the', 'river,', 'It’s', 'art', 'if', 'five', 'zeros', 'line', 'up', 'in', 'your', 'wallet,', 'It’s', 'art', 'if', 'it', 'smells', 'like', 'gold,', 'if', 'it', 'tastes', 'like', 'gold,', 'if', 'it', 'weighs', 'the', 'same', 'as', 'gold,', 'It’ll', 'be', 'art', 'if', 'you', 'stop', 'repeating', 'how', 'good', 'it', 'is', 'and', 'you', 'stop', 'to', 'look', 'at', 'it,', 'if', 'you', 'stop', 'trying', 'to', 'understand', 'it,', 'to', 'explain', 'it,', 'Picasso', 'in', 'Botswana', 'passing', 'out', 'Pulas', 'and', 'on', 'the', 'walls', 'of', 'the', 'MOMA', 'pieces', 'of', 'melted', 'egos', 'are', 'hanging,', 'Without', 'oceans,', 'Without', 'people,', 'Rivers', 'of', 'people', 'doing', 'what', 'they', 'DON’T', 'feel,', 'doing', 'what', 'they', 'think', 'they’re', 'supposed']\n"
     ]
    },
    {
     "name": "stderr",
     "output_type": "stream",
     "text": [
      "Setting `pad_token_id` to `eos_token_id`:50256 for open-end generation.\n"
     ]
    },
    {
     "name": "stdout",
     "output_type": "stream",
     "text": [
      "Art is a game and not everyone is invited to play, Art is a game and if Picasso had been born in Botswana nobody would be buying postcards of his works in the gift shop of the MET, Art is what we agree art is, and if someone doesn’t agree, we call them a heretic and we throw them in the Hudson with a sculpture of Robert Indiana tied to their legs to see if they float, It’s art if it doesn’t sink in the river, It’s art if five zeros line up in your wallet, It’s art if it smells like gold, if it tastes like gold, if it weighs the same as gold, It’ll be art if you stop repeating how good it is and you stop to look at it, if you stop trying to understand it, to explain it, Picasso in Botswana passing out Pulas and on the walls of the MOMA pieces of melted egos are hanging, Without oceans, Without people, Rivers of people doing what they DON’T feel, doing what they think they’re supposed ^^  to do, It’s art if you stop repeating how good it is, If you stop repeating how good it is, If you stop repeating how good it is, If you stop repeating how good it is, If you stop repeating how good it is, If you stop repeating how good it is, If you stop\n",
      "['Art', 'is', 'a', 'game', 'and', 'not', 'everyone', 'is', 'invited', 'to', 'play,', 'Art', 'is', 'a', 'game', 'and', 'if', 'Picasso', 'had', 'been', 'born', 'in', 'Botswana', 'nobody', 'would', 'be', 'buying', 'postcards', 'of', 'his', 'works', 'in', 'the', 'gift', 'shop', 'of', 'the', 'MET,', 'Art', 'is', 'what', 'we', 'agree', 'art', 'is,', 'and', 'if', 'someone', 'doesn’t', 'agree,', 'we', 'call', 'them', 'a', 'heretic', 'and', 'we', 'throw', 'them', 'in', 'the', 'Hudson', 'with', 'a', 'sculpture', 'of', 'Robert', 'Indiana', 'tied', 'to', 'their', 'legs', 'to', 'see', 'if', 'they', 'float,', 'It’s', 'art', 'if', 'it', 'doesn’t', 'sink', 'in', 'the', 'river,', 'It’s', 'art', 'if', 'five', 'zeros', 'line', 'up', 'in', 'your', 'wallet,', 'It’s', 'art', 'if', 'it', 'smells', 'like', 'gold,', 'if', 'it', 'tastes', 'like', 'gold,', 'if', 'it', 'weighs', 'the', 'same', 'as', 'gold,', 'It’ll', 'be', 'art', 'if', 'you', 'stop', 'repeating', 'how', 'good', 'it', 'is', 'and', 'you', 'stop', 'to', 'look', 'at', 'it,', 'if', 'you', 'stop', 'trying', 'to', 'understand', 'it,', 'to', 'explain', 'it,', 'Picasso', 'in', 'Botswana', 'passing', 'out', 'Pulas', 'and', 'on', 'the', 'walls', 'of', 'the', 'MOMA', 'pieces', 'of', 'melted', 'egos', 'are', 'hanging,', 'Without', 'oceans,', 'Without', 'people,', 'Rivers', 'of', 'people', 'doing', 'what', 'they', 'DON’T', 'feel,', 'doing', 'what', 'they', 'think', 'they’re', 'supposed', 'to']\n"
     ]
    },
    {
     "name": "stderr",
     "output_type": "stream",
     "text": [
      "Setting `pad_token_id` to `eos_token_id`:50256 for open-end generation.\n"
     ]
    },
    {
     "name": "stdout",
     "output_type": "stream",
     "text": [
      "Art is a game and not everyone is invited to play, Art is a game and if Picasso had been born in Botswana nobody would be buying postcards of his works in the gift shop of the MET, Art is what we agree art is, and if someone doesn’t agree, we call them a heretic and we throw them in the Hudson with a sculpture of Robert Indiana tied to their legs to see if they float, It’s art if it doesn’t sink in the river, It’s art if five zeros line up in your wallet, It’s art if it smells like gold, if it tastes like gold, if it weighs the same as gold, It’ll be art if you stop repeating how good it is and you stop to look at it, if you stop trying to understand it, to explain it, Picasso in Botswana passing out Pulas and on the walls of the MOMA pieces of melted egos are hanging, Without oceans, Without people, Rivers of people doing what they DON’T feel, doing what they think they’re supposed to ^^  do, It’s art if you stop repeating how good it is, If you stop repeating how good it is, If you stop repeating how good it is, If you stop repeating how good it is, If you stop repeating how good it is, If you stop repeating how good it is, If you stop\n",
      "['Art', 'is', 'a', 'game', 'and', 'not', 'everyone', 'is', 'invited', 'to', 'play,', 'Art', 'is', 'a', 'game', 'and', 'if', 'Picasso', 'had', 'been', 'born', 'in', 'Botswana', 'nobody', 'would', 'be', 'buying', 'postcards', 'of', 'his', 'works', 'in', 'the', 'gift', 'shop', 'of', 'the', 'MET,', 'Art', 'is', 'what', 'we', 'agree', 'art', 'is,', 'and', 'if', 'someone', 'doesn’t', 'agree,', 'we', 'call', 'them', 'a', 'heretic', 'and', 'we', 'throw', 'them', 'in', 'the', 'Hudson', 'with', 'a', 'sculpture', 'of', 'Robert', 'Indiana', 'tied', 'to', 'their', 'legs', 'to', 'see', 'if', 'they', 'float,', 'It’s', 'art', 'if', 'it', 'doesn’t', 'sink', 'in', 'the', 'river,', 'It’s', 'art', 'if', 'five', 'zeros', 'line', 'up', 'in', 'your', 'wallet,', 'It’s', 'art', 'if', 'it', 'smells', 'like', 'gold,', 'if', 'it', 'tastes', 'like', 'gold,', 'if', 'it', 'weighs', 'the', 'same', 'as', 'gold,', 'It’ll', 'be', 'art', 'if', 'you', 'stop', 'repeating', 'how', 'good', 'it', 'is', 'and', 'you', 'stop', 'to', 'look', 'at', 'it,', 'if', 'you', 'stop', 'trying', 'to', 'understand', 'it,', 'to', 'explain', 'it,', 'Picasso', 'in', 'Botswana', 'passing', 'out', 'Pulas', 'and', 'on', 'the', 'walls', 'of', 'the', 'MOMA', 'pieces', 'of', 'melted', 'egos', 'are', 'hanging,', 'Without', 'oceans,', 'Without', 'people,', 'Rivers', 'of', 'people', 'doing', 'what', 'they', 'DON’T', 'feel,', 'doing', 'what', 'they', 'think', 'they’re', 'supposed', 'to', 'do,']\n"
     ]
    },
    {
     "name": "stderr",
     "output_type": "stream",
     "text": [
      "Setting `pad_token_id` to `eos_token_id`:50256 for open-end generation.\n"
     ]
    },
    {
     "name": "stdout",
     "output_type": "stream",
     "text": [
      "Art is a game and not everyone is invited to play, Art is a game and if Picasso had been born in Botswana nobody would be buying postcards of his works in the gift shop of the MET, Art is what we agree art is, and if someone doesn’t agree, we call them a heretic and we throw them in the Hudson with a sculpture of Robert Indiana tied to their legs to see if they float, It’s art if it doesn’t sink in the river, It’s art if five zeros line up in your wallet, It’s art if it smells like gold, if it tastes like gold, if it weighs the same as gold, It’ll be art if you stop repeating how good it is and you stop to look at it, if you stop trying to understand it, to explain it, Picasso in Botswana passing out Pulas and on the walls of the MOMA pieces of melted egos are hanging, Without oceans, Without people, Rivers of people doing what they DON’T feel, doing what they think they’re supposed to do, ^^  It’s art if you stop repeating how good it is, If you stop repeating how good it is, If you stop repeating how good it is, If you stop repeating how good it is, If you stop repeating how good it is, If you stop repeating how good it is, If you stop repeating\n",
      "['Art', 'is', 'a', 'game', 'and', 'not', 'everyone', 'is', 'invited', 'to', 'play,', 'Art', 'is', 'a', 'game', 'and', 'if', 'Picasso', 'had', 'been', 'born', 'in', 'Botswana', 'nobody', 'would', 'be', 'buying', 'postcards', 'of', 'his', 'works', 'in', 'the', 'gift', 'shop', 'of', 'the', 'MET,', 'Art', 'is', 'what', 'we', 'agree', 'art', 'is,', 'and', 'if', 'someone', 'doesn’t', 'agree,', 'we', 'call', 'them', 'a', 'heretic', 'and', 'we', 'throw', 'them', 'in', 'the', 'Hudson', 'with', 'a', 'sculpture', 'of', 'Robert', 'Indiana', 'tied', 'to', 'their', 'legs', 'to', 'see', 'if', 'they', 'float,', 'It’s', 'art', 'if', 'it', 'doesn’t', 'sink', 'in', 'the', 'river,', 'It’s', 'art', 'if', 'five', 'zeros', 'line', 'up', 'in', 'your', 'wallet,', 'It’s', 'art', 'if', 'it', 'smells', 'like', 'gold,', 'if', 'it', 'tastes', 'like', 'gold,', 'if', 'it', 'weighs', 'the', 'same', 'as', 'gold,', 'It’ll', 'be', 'art', 'if', 'you', 'stop', 'repeating', 'how', 'good', 'it', 'is', 'and', 'you', 'stop', 'to', 'look', 'at', 'it,', 'if', 'you', 'stop', 'trying', 'to', 'understand', 'it,', 'to', 'explain', 'it,', 'Picasso', 'in', 'Botswana', 'passing', 'out', 'Pulas', 'and', 'on', 'the', 'walls', 'of', 'the', 'MOMA', 'pieces', 'of', 'melted', 'egos', 'are', 'hanging,', 'Without', 'oceans,', 'Without', 'people,', 'Rivers', 'of', 'people', 'doing', 'what', 'they', 'DON’T', 'feel,', 'doing', 'what', 'they', 'think', 'they’re', 'supposed', 'to', 'do,', 'what']\n"
     ]
    },
    {
     "name": "stderr",
     "output_type": "stream",
     "text": [
      "Setting `pad_token_id` to `eos_token_id`:50256 for open-end generation.\n"
     ]
    },
    {
     "name": "stdout",
     "output_type": "stream",
     "text": [
      "Art is a game and not everyone is invited to play, Art is a game and if Picasso had been born in Botswana nobody would be buying postcards of his works in the gift shop of the MET, Art is what we agree art is, and if someone doesn’t agree, we call them a heretic and we throw them in the Hudson with a sculpture of Robert Indiana tied to their legs to see if they float, It’s art if it doesn’t sink in the river, It’s art if five zeros line up in your wallet, It’s art if it smells like gold, if it tastes like gold, if it weighs the same as gold, It’ll be art if you stop repeating how good it is and you stop to look at it, if you stop trying to understand it, to explain it, Picasso in Botswana passing out Pulas and on the walls of the MOMA pieces of melted egos are hanging, Without oceans, Without people, Rivers of people doing what they DON’T feel, doing what they think they’re supposed to do, what ^^  they’re supposed to do, What they’re supposed to do, What they’re supposed to do, What they’re supposed to do, What they’re supposed to do, What they’re supposed to do, What they’re supposed to do,\n",
      "['Art', 'is', 'a', 'game', 'and', 'not', 'everyone', 'is', 'invited', 'to', 'play,', 'Art', 'is', 'a', 'game', 'and', 'if', 'Picasso', 'had', 'been', 'born', 'in', 'Botswana', 'nobody', 'would', 'be', 'buying', 'postcards', 'of', 'his', 'works', 'in', 'the', 'gift', 'shop', 'of', 'the', 'MET,', 'Art', 'is', 'what', 'we', 'agree', 'art', 'is,', 'and', 'if', 'someone', 'doesn’t', 'agree,', 'we', 'call', 'them', 'a', 'heretic', 'and', 'we', 'throw', 'them', 'in', 'the', 'Hudson', 'with', 'a', 'sculpture', 'of', 'Robert', 'Indiana', 'tied', 'to', 'their', 'legs', 'to', 'see', 'if', 'they', 'float,', 'It’s', 'art', 'if', 'it', 'doesn’t', 'sink', 'in', 'the', 'river,', 'It’s', 'art', 'if', 'five', 'zeros', 'line', 'up', 'in', 'your', 'wallet,', 'It’s', 'art', 'if', 'it', 'smells', 'like', 'gold,', 'if', 'it', 'tastes', 'like', 'gold,', 'if', 'it', 'weighs', 'the', 'same', 'as', 'gold,', 'It’ll', 'be', 'art', 'if', 'you', 'stop', 'repeating', 'how', 'good', 'it', 'is', 'and', 'you', 'stop', 'to', 'look', 'at', 'it,', 'if', 'you', 'stop', 'trying', 'to', 'understand', 'it,', 'to', 'explain', 'it,', 'Picasso', 'in', 'Botswana', 'passing', 'out', 'Pulas', 'and', 'on', 'the', 'walls', 'of', 'the', 'MOMA', 'pieces', 'of', 'melted', 'egos', 'are', 'hanging,', 'Without', 'oceans,', 'Without', 'people,', 'Rivers', 'of', 'people', 'doing', 'what', 'they', 'DON’T', 'feel,', 'doing', 'what', 'they', 'think', 'they’re', 'supposed', 'to', 'do,', 'what', 'someone']\n"
     ]
    },
    {
     "name": "stderr",
     "output_type": "stream",
     "text": [
      "Setting `pad_token_id` to `eos_token_id`:50256 for open-end generation.\n"
     ]
    },
    {
     "name": "stdout",
     "output_type": "stream",
     "text": [
      "Art is a game and not everyone is invited to play, Art is a game and if Picasso had been born in Botswana nobody would be buying postcards of his works in the gift shop of the MET, Art is what we agree art is, and if someone doesn’t agree, we call them a heretic and we throw them in the Hudson with a sculpture of Robert Indiana tied to their legs to see if they float, It’s art if it doesn’t sink in the river, It’s art if five zeros line up in your wallet, It’s art if it smells like gold, if it tastes like gold, if it weighs the same as gold, It’ll be art if you stop repeating how good it is and you stop to look at it, if you stop trying to understand it, to explain it, Picasso in Botswana passing out Pulas and on the walls of the MOMA pieces of melted egos are hanging, Without oceans, Without people, Rivers of people doing what they DON’T feel, doing what they think they’re supposed to do, what someone ^^  thinks they’re supposed to do, What they think they’re supposed to do, What they think they’re supposed to do, What they think they’re supposed to do, What they think they’re supposed to do, What they think they’re supposed\n",
      "['Art', 'is', 'a', 'game', 'and', 'not', 'everyone', 'is', 'invited', 'to', 'play,', 'Art', 'is', 'a', 'game', 'and', 'if', 'Picasso', 'had', 'been', 'born', 'in', 'Botswana', 'nobody', 'would', 'be', 'buying', 'postcards', 'of', 'his', 'works', 'in', 'the', 'gift', 'shop', 'of', 'the', 'MET,', 'Art', 'is', 'what', 'we', 'agree', 'art', 'is,', 'and', 'if', 'someone', 'doesn’t', 'agree,', 'we', 'call', 'them', 'a', 'heretic', 'and', 'we', 'throw', 'them', 'in', 'the', 'Hudson', 'with', 'a', 'sculpture', 'of', 'Robert', 'Indiana', 'tied', 'to', 'their', 'legs', 'to', 'see', 'if', 'they', 'float,', 'It’s', 'art', 'if', 'it', 'doesn’t', 'sink', 'in', 'the', 'river,', 'It’s', 'art', 'if', 'five', 'zeros', 'line', 'up', 'in', 'your', 'wallet,', 'It’s', 'art', 'if', 'it', 'smells', 'like', 'gold,', 'if', 'it', 'tastes', 'like', 'gold,', 'if', 'it', 'weighs', 'the', 'same', 'as', 'gold,', 'It’ll', 'be', 'art', 'if', 'you', 'stop', 'repeating', 'how', 'good', 'it', 'is', 'and', 'you', 'stop', 'to', 'look', 'at', 'it,', 'if', 'you', 'stop', 'trying', 'to', 'understand', 'it,', 'to', 'explain', 'it,', 'Picasso', 'in', 'Botswana', 'passing', 'out', 'Pulas', 'and', 'on', 'the', 'walls', 'of', 'the', 'MOMA', 'pieces', 'of', 'melted', 'egos', 'are', 'hanging,', 'Without', 'oceans,', 'Without', 'people,', 'Rivers', 'of', 'people', 'doing', 'what', 'they', 'DON’T', 'feel,', 'doing', 'what', 'they', 'think', 'they’re', 'supposed', 'to', 'do,', 'what', 'someone', 'told']\n"
     ]
    },
    {
     "name": "stderr",
     "output_type": "stream",
     "text": [
      "Setting `pad_token_id` to `eos_token_id`:50256 for open-end generation.\n"
     ]
    },
    {
     "name": "stdout",
     "output_type": "stream",
     "text": [
      "Art is a game and not everyone is invited to play, Art is a game and if Picasso had been born in Botswana nobody would be buying postcards of his works in the gift shop of the MET, Art is what we agree art is, and if someone doesn’t agree, we call them a heretic and we throw them in the Hudson with a sculpture of Robert Indiana tied to their legs to see if they float, It’s art if it doesn’t sink in the river, It’s art if five zeros line up in your wallet, It’s art if it smells like gold, if it tastes like gold, if it weighs the same as gold, It’ll be art if you stop repeating how good it is and you stop to look at it, if you stop trying to understand it, to explain it, Picasso in Botswana passing out Pulas and on the walls of the MOMA pieces of melted egos are hanging, Without oceans, Without people, Rivers of people doing what they DON’T feel, doing what they think they’re supposed to do, what someone told ^^  them to do, What they thought they were supposed to do, What they thought they were supposed to do, What they thought they were supposed to do, What they thought they were supposed to do, What they thought they were supposed to do, What they thought they were supposed to do, What they\n",
      "['Art', 'is', 'a', 'game', 'and', 'not', 'everyone', 'is', 'invited', 'to', 'play,', 'Art', 'is', 'a', 'game', 'and', 'if', 'Picasso', 'had', 'been', 'born', 'in', 'Botswana', 'nobody', 'would', 'be', 'buying', 'postcards', 'of', 'his', 'works', 'in', 'the', 'gift', 'shop', 'of', 'the', 'MET,', 'Art', 'is', 'what', 'we', 'agree', 'art', 'is,', 'and', 'if', 'someone', 'doesn’t', 'agree,', 'we', 'call', 'them', 'a', 'heretic', 'and', 'we', 'throw', 'them', 'in', 'the', 'Hudson', 'with', 'a', 'sculpture', 'of', 'Robert', 'Indiana', 'tied', 'to', 'their', 'legs', 'to', 'see', 'if', 'they', 'float,', 'It’s', 'art', 'if', 'it', 'doesn’t', 'sink', 'in', 'the', 'river,', 'It’s', 'art', 'if', 'five', 'zeros', 'line', 'up', 'in', 'your', 'wallet,', 'It’s', 'art', 'if', 'it', 'smells', 'like', 'gold,', 'if', 'it', 'tastes', 'like', 'gold,', 'if', 'it', 'weighs', 'the', 'same', 'as', 'gold,', 'It’ll', 'be', 'art', 'if', 'you', 'stop', 'repeating', 'how', 'good', 'it', 'is', 'and', 'you', 'stop', 'to', 'look', 'at', 'it,', 'if', 'you', 'stop', 'trying', 'to', 'understand', 'it,', 'to', 'explain', 'it,', 'Picasso', 'in', 'Botswana', 'passing', 'out', 'Pulas', 'and', 'on', 'the', 'walls', 'of', 'the', 'MOMA', 'pieces', 'of', 'melted', 'egos', 'are', 'hanging,', 'Without', 'oceans,', 'Without', 'people,', 'Rivers', 'of', 'people', 'doing', 'what', 'they', 'DON’T', 'feel,', 'doing', 'what', 'they', 'think', 'they’re', 'supposed', 'to', 'do,', 'what', 'someone', 'told', 'them']\n"
     ]
    },
    {
     "name": "stderr",
     "output_type": "stream",
     "text": [
      "Setting `pad_token_id` to `eos_token_id`:50256 for open-end generation.\n"
     ]
    },
    {
     "name": "stdout",
     "output_type": "stream",
     "text": [
      "Art is a game and not everyone is invited to play, Art is a game and if Picasso had been born in Botswana nobody would be buying postcards of his works in the gift shop of the MET, Art is what we agree art is, and if someone doesn’t agree, we call them a heretic and we throw them in the Hudson with a sculpture of Robert Indiana tied to their legs to see if they float, It’s art if it doesn’t sink in the river, It’s art if five zeros line up in your wallet, It’s art if it smells like gold, if it tastes like gold, if it weighs the same as gold, It’ll be art if you stop repeating how good it is and you stop to look at it, if you stop trying to understand it, to explain it, Picasso in Botswana passing out Pulas and on the walls of the MOMA pieces of melted egos are hanging, Without oceans, Without people, Rivers of people doing what they DON’T feel, doing what they think they’re supposed to do, what someone told them ^^  to do, What they thought they were supposed to do, What they thought they were supposed to do, What they thought they were supposed to do, What they thought they were supposed to do, What they thought they were supposed to do, What they thought they were supposed to do, What they\n",
      "['Art', 'is', 'a', 'game', 'and', 'not', 'everyone', 'is', 'invited', 'to', 'play,', 'Art', 'is', 'a', 'game', 'and', 'if', 'Picasso', 'had', 'been', 'born', 'in', 'Botswana', 'nobody', 'would', 'be', 'buying', 'postcards', 'of', 'his', 'works', 'in', 'the', 'gift', 'shop', 'of', 'the', 'MET,', 'Art', 'is', 'what', 'we', 'agree', 'art', 'is,', 'and', 'if', 'someone', 'doesn’t', 'agree,', 'we', 'call', 'them', 'a', 'heretic', 'and', 'we', 'throw', 'them', 'in', 'the', 'Hudson', 'with', 'a', 'sculpture', 'of', 'Robert', 'Indiana', 'tied', 'to', 'their', 'legs', 'to', 'see', 'if', 'they', 'float,', 'It’s', 'art', 'if', 'it', 'doesn’t', 'sink', 'in', 'the', 'river,', 'It’s', 'art', 'if', 'five', 'zeros', 'line', 'up', 'in', 'your', 'wallet,', 'It’s', 'art', 'if', 'it', 'smells', 'like', 'gold,', 'if', 'it', 'tastes', 'like', 'gold,', 'if', 'it', 'weighs', 'the', 'same', 'as', 'gold,', 'It’ll', 'be', 'art', 'if', 'you', 'stop', 'repeating', 'how', 'good', 'it', 'is', 'and', 'you', 'stop', 'to', 'look', 'at', 'it,', 'if', 'you', 'stop', 'trying', 'to', 'understand', 'it,', 'to', 'explain', 'it,', 'Picasso', 'in', 'Botswana', 'passing', 'out', 'Pulas', 'and', 'on', 'the', 'walls', 'of', 'the', 'MOMA', 'pieces', 'of', 'melted', 'egos', 'are', 'hanging,', 'Without', 'oceans,', 'Without', 'people,', 'Rivers', 'of', 'people', 'doing', 'what', 'they', 'DON’T', 'feel,', 'doing', 'what', 'they', 'think', 'they’re', 'supposed', 'to', 'do,', 'what', 'someone', 'told', 'them', 'to']\n"
     ]
    },
    {
     "name": "stderr",
     "output_type": "stream",
     "text": [
      "Setting `pad_token_id` to `eos_token_id`:50256 for open-end generation.\n"
     ]
    },
    {
     "name": "stdout",
     "output_type": "stream",
     "text": [
      "Art is a game and not everyone is invited to play, Art is a game and if Picasso had been born in Botswana nobody would be buying postcards of his works in the gift shop of the MET, Art is what we agree art is, and if someone doesn’t agree, we call them a heretic and we throw them in the Hudson with a sculpture of Robert Indiana tied to their legs to see if they float, It’s art if it doesn’t sink in the river, It’s art if five zeros line up in your wallet, It’s art if it smells like gold, if it tastes like gold, if it weighs the same as gold, It’ll be art if you stop repeating how good it is and you stop to look at it, if you stop trying to understand it, to explain it, Picasso in Botswana passing out Pulas and on the walls of the MOMA pieces of melted egos are hanging, Without oceans, Without people, Rivers of people doing what they DON’T feel, doing what they think they’re supposed to do, what someone told them to ^^  do, What they thought they were supposed to do, What they thought they were supposed to do, What they thought they were supposed to do, What they thought they were supposed to do, What they thought they were supposed to do, What they thought they were supposed to do, What they\n",
      "['Art', 'is', 'a', 'game', 'and', 'not', 'everyone', 'is', 'invited', 'to', 'play,', 'Art', 'is', 'a', 'game', 'and', 'if', 'Picasso', 'had', 'been', 'born', 'in', 'Botswana', 'nobody', 'would', 'be', 'buying', 'postcards', 'of', 'his', 'works', 'in', 'the', 'gift', 'shop', 'of', 'the', 'MET,', 'Art', 'is', 'what', 'we', 'agree', 'art', 'is,', 'and', 'if', 'someone', 'doesn’t', 'agree,', 'we', 'call', 'them', 'a', 'heretic', 'and', 'we', 'throw', 'them', 'in', 'the', 'Hudson', 'with', 'a', 'sculpture', 'of', 'Robert', 'Indiana', 'tied', 'to', 'their', 'legs', 'to', 'see', 'if', 'they', 'float,', 'It’s', 'art', 'if', 'it', 'doesn’t', 'sink', 'in', 'the', 'river,', 'It’s', 'art', 'if', 'five', 'zeros', 'line', 'up', 'in', 'your', 'wallet,', 'It’s', 'art', 'if', 'it', 'smells', 'like', 'gold,', 'if', 'it', 'tastes', 'like', 'gold,', 'if', 'it', 'weighs', 'the', 'same', 'as', 'gold,', 'It’ll', 'be', 'art', 'if', 'you', 'stop', 'repeating', 'how', 'good', 'it', 'is', 'and', 'you', 'stop', 'to', 'look', 'at', 'it,', 'if', 'you', 'stop', 'trying', 'to', 'understand', 'it,', 'to', 'explain', 'it,', 'Picasso', 'in', 'Botswana', 'passing', 'out', 'Pulas', 'and', 'on', 'the', 'walls', 'of', 'the', 'MOMA', 'pieces', 'of', 'melted', 'egos', 'are', 'hanging,', 'Without', 'oceans,', 'Without', 'people,', 'Rivers', 'of', 'people', 'doing', 'what', 'they', 'DON’T', 'feel,', 'doing', 'what', 'they', 'think', 'they’re', 'supposed', 'to', 'do,', 'what', 'someone', 'told', 'them', 'to', 'do']\n"
     ]
    },
    {
     "name": "stderr",
     "output_type": "stream",
     "text": [
      "Setting `pad_token_id` to `eos_token_id`:50256 for open-end generation.\n"
     ]
    },
    {
     "name": "stdout",
     "output_type": "stream",
     "text": [
      "Art is a game and not everyone is invited to play, Art is a game and if Picasso had been born in Botswana nobody would be buying postcards of his works in the gift shop of the MET, Art is what we agree art is, and if someone doesn’t agree, we call them a heretic and we throw them in the Hudson with a sculpture of Robert Indiana tied to their legs to see if they float, It’s art if it doesn’t sink in the river, It’s art if five zeros line up in your wallet, It’s art if it smells like gold, if it tastes like gold, if it weighs the same as gold, It’ll be art if you stop repeating how good it is and you stop to look at it, if you stop trying to understand it, to explain it, Picasso in Botswana passing out Pulas and on the walls of the MOMA pieces of melted egos are hanging, Without oceans, Without people, Rivers of people doing what they DON’T feel, doing what they think they’re supposed to do, what someone told them to do ^^ , What they thought they were supposed to do, What they thought they were supposed to do, What they thought they were supposed to do, What they thought they were supposed to do, What they thought they were supposed to do, What they thought they were supposed to do, What they\n",
      "['Art', 'is', 'a', 'game', 'and', 'not', 'everyone', 'is', 'invited', 'to', 'play,', 'Art', 'is', 'a', 'game', 'and', 'if', 'Picasso', 'had', 'been', 'born', 'in', 'Botswana', 'nobody', 'would', 'be', 'buying', 'postcards', 'of', 'his', 'works', 'in', 'the', 'gift', 'shop', 'of', 'the', 'MET,', 'Art', 'is', 'what', 'we', 'agree', 'art', 'is,', 'and', 'if', 'someone', 'doesn’t', 'agree,', 'we', 'call', 'them', 'a', 'heretic', 'and', 'we', 'throw', 'them', 'in', 'the', 'Hudson', 'with', 'a', 'sculpture', 'of', 'Robert', 'Indiana', 'tied', 'to', 'their', 'legs', 'to', 'see', 'if', 'they', 'float,', 'It’s', 'art', 'if', 'it', 'doesn’t', 'sink', 'in', 'the', 'river,', 'It’s', 'art', 'if', 'five', 'zeros', 'line', 'up', 'in', 'your', 'wallet,', 'It’s', 'art', 'if', 'it', 'smells', 'like', 'gold,', 'if', 'it', 'tastes', 'like', 'gold,', 'if', 'it', 'weighs', 'the', 'same', 'as', 'gold,', 'It’ll', 'be', 'art', 'if', 'you', 'stop', 'repeating', 'how', 'good', 'it', 'is', 'and', 'you', 'stop', 'to', 'look', 'at', 'it,', 'if', 'you', 'stop', 'trying', 'to', 'understand', 'it,', 'to', 'explain', 'it,', 'Picasso', 'in', 'Botswana', 'passing', 'out', 'Pulas', 'and', 'on', 'the', 'walls', 'of', 'the', 'MOMA', 'pieces', 'of', 'melted', 'egos', 'are', 'hanging,', 'Without', 'oceans,', 'Without', 'people,', 'Rivers', 'of', 'people', 'doing', 'what', 'they', 'DON’T', 'feel,', 'doing', 'what', 'they', 'think', 'they’re', 'supposed', 'to', 'do,', 'what', 'someone', 'told', 'them', 'to', 'do', 'or']\n"
     ]
    },
    {
     "name": "stderr",
     "output_type": "stream",
     "text": [
      "Setting `pad_token_id` to `eos_token_id`:50256 for open-end generation.\n"
     ]
    },
    {
     "name": "stdout",
     "output_type": "stream",
     "text": [
      "Art is a game and not everyone is invited to play, Art is a game and if Picasso had been born in Botswana nobody would be buying postcards of his works in the gift shop of the MET, Art is what we agree art is, and if someone doesn’t agree, we call them a heretic and we throw them in the Hudson with a sculpture of Robert Indiana tied to their legs to see if they float, It’s art if it doesn’t sink in the river, It’s art if five zeros line up in your wallet, It’s art if it smells like gold, if it tastes like gold, if it weighs the same as gold, It’ll be art if you stop repeating how good it is and you stop to look at it, if you stop trying to understand it, to explain it, Picasso in Botswana passing out Pulas and on the walls of the MOMA pieces of melted egos are hanging, Without oceans, Without people, Rivers of people doing what they DON’T feel, doing what they think they’re supposed to do, what someone told them to do or ^^  what they thought they were supposed to do, It’s art if it doesn’t sink in the river, It’s art if it smells like gold, If it’s not a river, It’s art if it’s not\n",
      "['Art', 'is', 'a', 'game', 'and', 'not', 'everyone', 'is', 'invited', 'to', 'play,', 'Art', 'is', 'a', 'game', 'and', 'if', 'Picasso', 'had', 'been', 'born', 'in', 'Botswana', 'nobody', 'would', 'be', 'buying', 'postcards', 'of', 'his', 'works', 'in', 'the', 'gift', 'shop', 'of', 'the', 'MET,', 'Art', 'is', 'what', 'we', 'agree', 'art', 'is,', 'and', 'if', 'someone', 'doesn’t', 'agree,', 'we', 'call', 'them', 'a', 'heretic', 'and', 'we', 'throw', 'them', 'in', 'the', 'Hudson', 'with', 'a', 'sculpture', 'of', 'Robert', 'Indiana', 'tied', 'to', 'their', 'legs', 'to', 'see', 'if', 'they', 'float,', 'It’s', 'art', 'if', 'it', 'doesn’t', 'sink', 'in', 'the', 'river,', 'It’s', 'art', 'if', 'five', 'zeros', 'line', 'up', 'in', 'your', 'wallet,', 'It’s', 'art', 'if', 'it', 'smells', 'like', 'gold,', 'if', 'it', 'tastes', 'like', 'gold,', 'if', 'it', 'weighs', 'the', 'same', 'as', 'gold,', 'It’ll', 'be', 'art', 'if', 'you', 'stop', 'repeating', 'how', 'good', 'it', 'is', 'and', 'you', 'stop', 'to', 'look', 'at', 'it,', 'if', 'you', 'stop', 'trying', 'to', 'understand', 'it,', 'to', 'explain', 'it,', 'Picasso', 'in', 'Botswana', 'passing', 'out', 'Pulas', 'and', 'on', 'the', 'walls', 'of', 'the', 'MOMA', 'pieces', 'of', 'melted', 'egos', 'are', 'hanging,', 'Without', 'oceans,', 'Without', 'people,', 'Rivers', 'of', 'people', 'doing', 'what', 'they', 'DON’T', 'feel,', 'doing', 'what', 'they', 'think', 'they’re', 'supposed', 'to', 'do,', 'what', 'someone', 'told', 'them', 'to', 'do', 'or', 'something']\n"
     ]
    },
    {
     "name": "stderr",
     "output_type": "stream",
     "text": [
      "Setting `pad_token_id` to `eos_token_id`:50256 for open-end generation.\n"
     ]
    },
    {
     "name": "stdout",
     "output_type": "stream",
     "text": [
      "Art is a game and not everyone is invited to play, Art is a game and if Picasso had been born in Botswana nobody would be buying postcards of his works in the gift shop of the MET, Art is what we agree art is, and if someone doesn’t agree, we call them a heretic and we throw them in the Hudson with a sculpture of Robert Indiana tied to their legs to see if they float, It’s art if it doesn’t sink in the river, It’s art if five zeros line up in your wallet, It’s art if it smells like gold, if it tastes like gold, if it weighs the same as gold, It’ll be art if you stop repeating how good it is and you stop to look at it, if you stop trying to understand it, to explain it, Picasso in Botswana passing out Pulas and on the walls of the MOMA pieces of melted egos are hanging, Without oceans, Without people, Rivers of people doing what they DON’T feel, doing what they think they’re supposed to do, what someone told them to do or something ^^ , It’s art if it doesn’t sink in the river, It’s art if it smells like gold, If it’s not a river, It’s art if it’s not a river, If it’\n",
      "['Art', 'is', 'a', 'game', 'and', 'not', 'everyone', 'is', 'invited', 'to', 'play,', 'Art', 'is', 'a', 'game', 'and', 'if', 'Picasso', 'had', 'been', 'born', 'in', 'Botswana', 'nobody', 'would', 'be', 'buying', 'postcards', 'of', 'his', 'works', 'in', 'the', 'gift', 'shop', 'of', 'the', 'MET,', 'Art', 'is', 'what', 'we', 'agree', 'art', 'is,', 'and', 'if', 'someone', 'doesn’t', 'agree,', 'we', 'call', 'them', 'a', 'heretic', 'and', 'we', 'throw', 'them', 'in', 'the', 'Hudson', 'with', 'a', 'sculpture', 'of', 'Robert', 'Indiana', 'tied', 'to', 'their', 'legs', 'to', 'see', 'if', 'they', 'float,', 'It’s', 'art', 'if', 'it', 'doesn’t', 'sink', 'in', 'the', 'river,', 'It’s', 'art', 'if', 'five', 'zeros', 'line', 'up', 'in', 'your', 'wallet,', 'It’s', 'art', 'if', 'it', 'smells', 'like', 'gold,', 'if', 'it', 'tastes', 'like', 'gold,', 'if', 'it', 'weighs', 'the', 'same', 'as', 'gold,', 'It’ll', 'be', 'art', 'if', 'you', 'stop', 'repeating', 'how', 'good', 'it', 'is', 'and', 'you', 'stop', 'to', 'look', 'at', 'it,', 'if', 'you', 'stop', 'trying', 'to', 'understand', 'it,', 'to', 'explain', 'it,', 'Picasso', 'in', 'Botswana', 'passing', 'out', 'Pulas', 'and', 'on', 'the', 'walls', 'of', 'the', 'MOMA', 'pieces', 'of', 'melted', 'egos', 'are', 'hanging,', 'Without', 'oceans,', 'Without', 'people,', 'Rivers', 'of', 'people', 'doing', 'what', 'they', 'DON’T', 'feel,', 'doing', 'what', 'they', 'think', 'they’re', 'supposed', 'to', 'do,', 'what', 'someone', 'told', 'them', 'to', 'do', 'or', 'something', 'that']\n"
     ]
    },
    {
     "name": "stderr",
     "output_type": "stream",
     "text": [
      "Setting `pad_token_id` to `eos_token_id`:50256 for open-end generation.\n"
     ]
    },
    {
     "name": "stdout",
     "output_type": "stream",
     "text": [
      "Art is a game and not everyone is invited to play, Art is a game and if Picasso had been born in Botswana nobody would be buying postcards of his works in the gift shop of the MET, Art is what we agree art is, and if someone doesn’t agree, we call them a heretic and we throw them in the Hudson with a sculpture of Robert Indiana tied to their legs to see if they float, It’s art if it doesn’t sink in the river, It’s art if five zeros line up in your wallet, It’s art if it smells like gold, if it tastes like gold, if it weighs the same as gold, It’ll be art if you stop repeating how good it is and you stop to look at it, if you stop trying to understand it, to explain it, Picasso in Botswana passing out Pulas and on the walls of the MOMA pieces of melted egos are hanging, Without oceans, Without people, Rivers of people doing what they DON’T feel, doing what they think they’re supposed to do, what someone told them to do or something that ^^  they don’t feel, and what they don’t feel, and what they don’t feel, and what they don’t feel, and what they don’t feel, and what they don’t feel, and what\n",
      "['Art', 'is', 'a', 'game', 'and', 'not', 'everyone', 'is', 'invited', 'to', 'play,', 'Art', 'is', 'a', 'game', 'and', 'if', 'Picasso', 'had', 'been', 'born', 'in', 'Botswana', 'nobody', 'would', 'be', 'buying', 'postcards', 'of', 'his', 'works', 'in', 'the', 'gift', 'shop', 'of', 'the', 'MET,', 'Art', 'is', 'what', 'we', 'agree', 'art', 'is,', 'and', 'if', 'someone', 'doesn’t', 'agree,', 'we', 'call', 'them', 'a', 'heretic', 'and', 'we', 'throw', 'them', 'in', 'the', 'Hudson', 'with', 'a', 'sculpture', 'of', 'Robert', 'Indiana', 'tied', 'to', 'their', 'legs', 'to', 'see', 'if', 'they', 'float,', 'It’s', 'art', 'if', 'it', 'doesn’t', 'sink', 'in', 'the', 'river,', 'It’s', 'art', 'if', 'five', 'zeros', 'line', 'up', 'in', 'your', 'wallet,', 'It’s', 'art', 'if', 'it', 'smells', 'like', 'gold,', 'if', 'it', 'tastes', 'like', 'gold,', 'if', 'it', 'weighs', 'the', 'same', 'as', 'gold,', 'It’ll', 'be', 'art', 'if', 'you', 'stop', 'repeating', 'how', 'good', 'it', 'is', 'and', 'you', 'stop', 'to', 'look', 'at', 'it,', 'if', 'you', 'stop', 'trying', 'to', 'understand', 'it,', 'to', 'explain', 'it,', 'Picasso', 'in', 'Botswana', 'passing', 'out', 'Pulas', 'and', 'on', 'the', 'walls', 'of', 'the', 'MOMA', 'pieces', 'of', 'melted', 'egos', 'are', 'hanging,', 'Without', 'oceans,', 'Without', 'people,', 'Rivers', 'of', 'people', 'doing', 'what', 'they', 'DON’T', 'feel,', 'doing', 'what', 'they', 'think', 'they’re', 'supposed', 'to', 'do,', 'what', 'someone', 'told', 'them', 'to', 'do', 'or', 'something', 'that', 'they']\n"
     ]
    },
    {
     "name": "stderr",
     "output_type": "stream",
     "text": [
      "Setting `pad_token_id` to `eos_token_id`:50256 for open-end generation.\n"
     ]
    },
    {
     "name": "stdout",
     "output_type": "stream",
     "text": [
      "Art is a game and not everyone is invited to play, Art is a game and if Picasso had been born in Botswana nobody would be buying postcards of his works in the gift shop of the MET, Art is what we agree art is, and if someone doesn’t agree, we call them a heretic and we throw them in the Hudson with a sculpture of Robert Indiana tied to their legs to see if they float, It’s art if it doesn’t sink in the river, It’s art if five zeros line up in your wallet, It’s art if it smells like gold, if it tastes like gold, if it weighs the same as gold, It’ll be art if you stop repeating how good it is and you stop to look at it, if you stop trying to understand it, to explain it, Picasso in Botswana passing out Pulas and on the walls of the MOMA pieces of melted egos are hanging, Without oceans, Without people, Rivers of people doing what they DON’T feel, doing what they think they’re supposed to do, what someone told them to do or something that they ^^  don’t feel, and what they don’t feel, and what they don’t feel, and what they don’t feel, and what they don’t feel, and what they don’t feel, and what\n",
      "['Art', 'is', 'a', 'game', 'and', 'not', 'everyone', 'is', 'invited', 'to', 'play,', 'Art', 'is', 'a', 'game', 'and', 'if', 'Picasso', 'had', 'been', 'born', 'in', 'Botswana', 'nobody', 'would', 'be', 'buying', 'postcards', 'of', 'his', 'works', 'in', 'the', 'gift', 'shop', 'of', 'the', 'MET,', 'Art', 'is', 'what', 'we', 'agree', 'art', 'is,', 'and', 'if', 'someone', 'doesn’t', 'agree,', 'we', 'call', 'them', 'a', 'heretic', 'and', 'we', 'throw', 'them', 'in', 'the', 'Hudson', 'with', 'a', 'sculpture', 'of', 'Robert', 'Indiana', 'tied', 'to', 'their', 'legs', 'to', 'see', 'if', 'they', 'float,', 'It’s', 'art', 'if', 'it', 'doesn’t', 'sink', 'in', 'the', 'river,', 'It’s', 'art', 'if', 'five', 'zeros', 'line', 'up', 'in', 'your', 'wallet,', 'It’s', 'art', 'if', 'it', 'smells', 'like', 'gold,', 'if', 'it', 'tastes', 'like', 'gold,', 'if', 'it', 'weighs', 'the', 'same', 'as', 'gold,', 'It’ll', 'be', 'art', 'if', 'you', 'stop', 'repeating', 'how', 'good', 'it', 'is', 'and', 'you', 'stop', 'to', 'look', 'at', 'it,', 'if', 'you', 'stop', 'trying', 'to', 'understand', 'it,', 'to', 'explain', 'it,', 'Picasso', 'in', 'Botswana', 'passing', 'out', 'Pulas', 'and', 'on', 'the', 'walls', 'of', 'the', 'MOMA', 'pieces', 'of', 'melted', 'egos', 'are', 'hanging,', 'Without', 'oceans,', 'Without', 'people,', 'Rivers', 'of', 'people', 'doing', 'what', 'they', 'DON’T', 'feel,', 'doing', 'what', 'they', 'think', 'they’re', 'supposed', 'to', 'do,', 'what', 'someone', 'told', 'them', 'to', 'do', 'or', 'something', 'that', 'they', 'read']\n"
     ]
    },
    {
     "name": "stderr",
     "output_type": "stream",
     "text": [
      "Setting `pad_token_id` to `eos_token_id`:50256 for open-end generation.\n"
     ]
    },
    {
     "name": "stdout",
     "output_type": "stream",
     "text": [
      "Art is a game and not everyone is invited to play, Art is a game and if Picasso had been born in Botswana nobody would be buying postcards of his works in the gift shop of the MET, Art is what we agree art is, and if someone doesn’t agree, we call them a heretic and we throw them in the Hudson with a sculpture of Robert Indiana tied to their legs to see if they float, It’s art if it doesn’t sink in the river, It’s art if five zeros line up in your wallet, It’s art if it smells like gold, if it tastes like gold, if it weighs the same as gold, It’ll be art if you stop repeating how good it is and you stop to look at it, if you stop trying to understand it, to explain it, Picasso in Botswana passing out Pulas and on the walls of the MOMA pieces of melted egos are hanging, Without oceans, Without people, Rivers of people doing what they DON’T feel, doing what they think they’re supposed to do, what someone told them to do or something that they read ^^  about, It’s art if it doesn’t sink in the river, It’s art if it smells like gold, If it’s not a river, It’s art if it’s not a river,\n",
      "['Art', 'is', 'a', 'game', 'and', 'not', 'everyone', 'is', 'invited', 'to', 'play,', 'Art', 'is', 'a', 'game', 'and', 'if', 'Picasso', 'had', 'been', 'born', 'in', 'Botswana', 'nobody', 'would', 'be', 'buying', 'postcards', 'of', 'his', 'works', 'in', 'the', 'gift', 'shop', 'of', 'the', 'MET,', 'Art', 'is', 'what', 'we', 'agree', 'art', 'is,', 'and', 'if', 'someone', 'doesn’t', 'agree,', 'we', 'call', 'them', 'a', 'heretic', 'and', 'we', 'throw', 'them', 'in', 'the', 'Hudson', 'with', 'a', 'sculpture', 'of', 'Robert', 'Indiana', 'tied', 'to', 'their', 'legs', 'to', 'see', 'if', 'they', 'float,', 'It’s', 'art', 'if', 'it', 'doesn’t', 'sink', 'in', 'the', 'river,', 'It’s', 'art', 'if', 'five', 'zeros', 'line', 'up', 'in', 'your', 'wallet,', 'It’s', 'art', 'if', 'it', 'smells', 'like', 'gold,', 'if', 'it', 'tastes', 'like', 'gold,', 'if', 'it', 'weighs', 'the', 'same', 'as', 'gold,', 'It’ll', 'be', 'art', 'if', 'you', 'stop', 'repeating', 'how', 'good', 'it', 'is', 'and', 'you', 'stop', 'to', 'look', 'at', 'it,', 'if', 'you', 'stop', 'trying', 'to', 'understand', 'it,', 'to', 'explain', 'it,', 'Picasso', 'in', 'Botswana', 'passing', 'out', 'Pulas', 'and', 'on', 'the', 'walls', 'of', 'the', 'MOMA', 'pieces', 'of', 'melted', 'egos', 'are', 'hanging,', 'Without', 'oceans,', 'Without', 'people,', 'Rivers', 'of', 'people', 'doing', 'what', 'they', 'DON’T', 'feel,', 'doing', 'what', 'they', 'think', 'they’re', 'supposed', 'to', 'do,', 'what', 'someone', 'told', 'them', 'to', 'do', 'or', 'something', 'that', 'they', 'read', 'in']\n"
     ]
    },
    {
     "name": "stderr",
     "output_type": "stream",
     "text": [
      "Setting `pad_token_id` to `eos_token_id`:50256 for open-end generation.\n"
     ]
    },
    {
     "name": "stdout",
     "output_type": "stream",
     "text": [
      "Art is a game and not everyone is invited to play, Art is a game and if Picasso had been born in Botswana nobody would be buying postcards of his works in the gift shop of the MET, Art is what we agree art is, and if someone doesn’t agree, we call them a heretic and we throw them in the Hudson with a sculpture of Robert Indiana tied to their legs to see if they float, It’s art if it doesn’t sink in the river, It’s art if five zeros line up in your wallet, It’s art if it smells like gold, if it tastes like gold, if it weighs the same as gold, It’ll be art if you stop repeating how good it is and you stop to look at it, if you stop trying to understand it, to explain it, Picasso in Botswana passing out Pulas and on the walls of the MOMA pieces of melted egos are hanging, Without oceans, Without people, Rivers of people doing what they DON’T feel, doing what they think they’re supposed to do, what someone told them to do or something that they read in ^^  the papers, It’s art if it doesn’t sink in the river, It’s art if it smells like gold, If it’s not a river, It’s art if it’s not a\n",
      "['Art', 'is', 'a', 'game', 'and', 'not', 'everyone', 'is', 'invited', 'to', 'play,', 'Art', 'is', 'a', 'game', 'and', 'if', 'Picasso', 'had', 'been', 'born', 'in', 'Botswana', 'nobody', 'would', 'be', 'buying', 'postcards', 'of', 'his', 'works', 'in', 'the', 'gift', 'shop', 'of', 'the', 'MET,', 'Art', 'is', 'what', 'we', 'agree', 'art', 'is,', 'and', 'if', 'someone', 'doesn’t', 'agree,', 'we', 'call', 'them', 'a', 'heretic', 'and', 'we', 'throw', 'them', 'in', 'the', 'Hudson', 'with', 'a', 'sculpture', 'of', 'Robert', 'Indiana', 'tied', 'to', 'their', 'legs', 'to', 'see', 'if', 'they', 'float,', 'It’s', 'art', 'if', 'it', 'doesn’t', 'sink', 'in', 'the', 'river,', 'It’s', 'art', 'if', 'five', 'zeros', 'line', 'up', 'in', 'your', 'wallet,', 'It’s', 'art', 'if', 'it', 'smells', 'like', 'gold,', 'if', 'it', 'tastes', 'like', 'gold,', 'if', 'it', 'weighs', 'the', 'same', 'as', 'gold,', 'It’ll', 'be', 'art', 'if', 'you', 'stop', 'repeating', 'how', 'good', 'it', 'is', 'and', 'you', 'stop', 'to', 'look', 'at', 'it,', 'if', 'you', 'stop', 'trying', 'to', 'understand', 'it,', 'to', 'explain', 'it,', 'Picasso', 'in', 'Botswana', 'passing', 'out', 'Pulas', 'and', 'on', 'the', 'walls', 'of', 'the', 'MOMA', 'pieces', 'of', 'melted', 'egos', 'are', 'hanging,', 'Without', 'oceans,', 'Without', 'people,', 'Rivers', 'of', 'people', 'doing', 'what', 'they', 'DON’T', 'feel,', 'doing', 'what', 'they', 'think', 'they’re', 'supposed', 'to', 'do,', 'what', 'someone', 'told', 'them', 'to', 'do', 'or', 'something', 'that', 'they', 'read', 'in', 'the']\n"
     ]
    },
    {
     "name": "stderr",
     "output_type": "stream",
     "text": [
      "Setting `pad_token_id` to `eos_token_id`:50256 for open-end generation.\n"
     ]
    },
    {
     "name": "stdout",
     "output_type": "stream",
     "text": [
      "Art is a game and not everyone is invited to play, Art is a game and if Picasso had been born in Botswana nobody would be buying postcards of his works in the gift shop of the MET, Art is what we agree art is, and if someone doesn’t agree, we call them a heretic and we throw them in the Hudson with a sculpture of Robert Indiana tied to their legs to see if they float, It’s art if it doesn’t sink in the river, It’s art if five zeros line up in your wallet, It’s art if it smells like gold, if it tastes like gold, if it weighs the same as gold, It’ll be art if you stop repeating how good it is and you stop to look at it, if you stop trying to understand it, to explain it, Picasso in Botswana passing out Pulas and on the walls of the MOMA pieces of melted egos are hanging, Without oceans, Without people, Rivers of people doing what they DON’T feel, doing what they think they’re supposed to do, what someone told them to do or something that they read in the ^^  papers, It’s art if it doesn’t sink in the river, It’s art if it smells like gold, If it’s not a river, It’s art if it’s not a\n",
      "['Art', 'is', 'a', 'game', 'and', 'not', 'everyone', 'is', 'invited', 'to', 'play,', 'Art', 'is', 'a', 'game', 'and', 'if', 'Picasso', 'had', 'been', 'born', 'in', 'Botswana', 'nobody', 'would', 'be', 'buying', 'postcards', 'of', 'his', 'works', 'in', 'the', 'gift', 'shop', 'of', 'the', 'MET,', 'Art', 'is', 'what', 'we', 'agree', 'art', 'is,', 'and', 'if', 'someone', 'doesn’t', 'agree,', 'we', 'call', 'them', 'a', 'heretic', 'and', 'we', 'throw', 'them', 'in', 'the', 'Hudson', 'with', 'a', 'sculpture', 'of', 'Robert', 'Indiana', 'tied', 'to', 'their', 'legs', 'to', 'see', 'if', 'they', 'float,', 'It’s', 'art', 'if', 'it', 'doesn’t', 'sink', 'in', 'the', 'river,', 'It’s', 'art', 'if', 'five', 'zeros', 'line', 'up', 'in', 'your', 'wallet,', 'It’s', 'art', 'if', 'it', 'smells', 'like', 'gold,', 'if', 'it', 'tastes', 'like', 'gold,', 'if', 'it', 'weighs', 'the', 'same', 'as', 'gold,', 'It’ll', 'be', 'art', 'if', 'you', 'stop', 'repeating', 'how', 'good', 'it', 'is', 'and', 'you', 'stop', 'to', 'look', 'at', 'it,', 'if', 'you', 'stop', 'trying', 'to', 'understand', 'it,', 'to', 'explain', 'it,', 'Picasso', 'in', 'Botswana', 'passing', 'out', 'Pulas', 'and', 'on', 'the', 'walls', 'of', 'the', 'MOMA', 'pieces', 'of', 'melted', 'egos', 'are', 'hanging,', 'Without', 'oceans,', 'Without', 'people,', 'Rivers', 'of', 'people', 'doing', 'what', 'they', 'DON’T', 'feel,', 'doing', 'what', 'they', 'think', 'they’re', 'supposed', 'to', 'do,', 'what', 'someone', 'told', 'them', 'to', 'do', 'or', 'something', 'that', 'they', 'read', 'in', 'the', 'Time']\n"
     ]
    },
    {
     "name": "stderr",
     "output_type": "stream",
     "text": [
      "Setting `pad_token_id` to `eos_token_id`:50256 for open-end generation.\n"
     ]
    },
    {
     "name": "stdout",
     "output_type": "stream",
     "text": [
      "Art is a game and not everyone is invited to play, Art is a game and if Picasso had been born in Botswana nobody would be buying postcards of his works in the gift shop of the MET, Art is what we agree art is, and if someone doesn’t agree, we call them a heretic and we throw them in the Hudson with a sculpture of Robert Indiana tied to their legs to see if they float, It’s art if it doesn’t sink in the river, It’s art if five zeros line up in your wallet, It’s art if it smells like gold, if it tastes like gold, if it weighs the same as gold, It’ll be art if you stop repeating how good it is and you stop to look at it, if you stop trying to understand it, to explain it, Picasso in Botswana passing out Pulas and on the walls of the MOMA pieces of melted egos are hanging, Without oceans, Without people, Rivers of people doing what they DON’T feel, doing what they think they’re supposed to do, what someone told them to do or something that they read in the Time ^^  magazine, It’s art if it doesn’t sink in the river, It’s art if it smells like gold, If it’s not a river, It’s art if it’s not\n",
      "['Art', 'is', 'a', 'game', 'and', 'not', 'everyone', 'is', 'invited', 'to', 'play,', 'Art', 'is', 'a', 'game', 'and', 'if', 'Picasso', 'had', 'been', 'born', 'in', 'Botswana', 'nobody', 'would', 'be', 'buying', 'postcards', 'of', 'his', 'works', 'in', 'the', 'gift', 'shop', 'of', 'the', 'MET,', 'Art', 'is', 'what', 'we', 'agree', 'art', 'is,', 'and', 'if', 'someone', 'doesn’t', 'agree,', 'we', 'call', 'them', 'a', 'heretic', 'and', 'we', 'throw', 'them', 'in', 'the', 'Hudson', 'with', 'a', 'sculpture', 'of', 'Robert', 'Indiana', 'tied', 'to', 'their', 'legs', 'to', 'see', 'if', 'they', 'float,', 'It’s', 'art', 'if', 'it', 'doesn’t', 'sink', 'in', 'the', 'river,', 'It’s', 'art', 'if', 'five', 'zeros', 'line', 'up', 'in', 'your', 'wallet,', 'It’s', 'art', 'if', 'it', 'smells', 'like', 'gold,', 'if', 'it', 'tastes', 'like', 'gold,', 'if', 'it', 'weighs', 'the', 'same', 'as', 'gold,', 'It’ll', 'be', 'art', 'if', 'you', 'stop', 'repeating', 'how', 'good', 'it', 'is', 'and', 'you', 'stop', 'to', 'look', 'at', 'it,', 'if', 'you', 'stop', 'trying', 'to', 'understand', 'it,', 'to', 'explain', 'it,', 'Picasso', 'in', 'Botswana', 'passing', 'out', 'Pulas', 'and', 'on', 'the', 'walls', 'of', 'the', 'MOMA', 'pieces', 'of', 'melted', 'egos', 'are', 'hanging,', 'Without', 'oceans,', 'Without', 'people,', 'Rivers', 'of', 'people', 'doing', 'what', 'they', 'DON’T', 'feel,', 'doing', 'what', 'they', 'think', 'they’re', 'supposed', 'to', 'do,', 'what', 'someone', 'told', 'them', 'to', 'do', 'or', 'something', 'that', 'they', 'read', 'in', 'the', 'Time', 'Out']\n"
     ]
    },
    {
     "name": "stderr",
     "output_type": "stream",
     "text": [
      "Setting `pad_token_id` to `eos_token_id`:50256 for open-end generation.\n"
     ]
    },
    {
     "name": "stdout",
     "output_type": "stream",
     "text": [
      "Art is a game and not everyone is invited to play, Art is a game and if Picasso had been born in Botswana nobody would be buying postcards of his works in the gift shop of the MET, Art is what we agree art is, and if someone doesn’t agree, we call them a heretic and we throw them in the Hudson with a sculpture of Robert Indiana tied to their legs to see if they float, It’s art if it doesn’t sink in the river, It’s art if five zeros line up in your wallet, It’s art if it smells like gold, if it tastes like gold, if it weighs the same as gold, It’ll be art if you stop repeating how good it is and you stop to look at it, if you stop trying to understand it, to explain it, Picasso in Botswana passing out Pulas and on the walls of the MOMA pieces of melted egos are hanging, Without oceans, Without people, Rivers of people doing what they DON’T feel, doing what they think they’re supposed to do, what someone told them to do or something that they read in the Time Out ^^ , It’s art if it doesn’t sink in the river, It’s art if it smells like gold, If it’s not a river, It’s art if it’s not\n",
      "['Art', 'is', 'a', 'game', 'and', 'not', 'everyone', 'is', 'invited', 'to', 'play,', 'Art', 'is', 'a', 'game', 'and', 'if', 'Picasso', 'had', 'been', 'born', 'in', 'Botswana', 'nobody', 'would', 'be', 'buying', 'postcards', 'of', 'his', 'works', 'in', 'the', 'gift', 'shop', 'of', 'the', 'MET,', 'Art', 'is', 'what', 'we', 'agree', 'art', 'is,', 'and', 'if', 'someone', 'doesn’t', 'agree,', 'we', 'call', 'them', 'a', 'heretic', 'and', 'we', 'throw', 'them', 'in', 'the', 'Hudson', 'with', 'a', 'sculpture', 'of', 'Robert', 'Indiana', 'tied', 'to', 'their', 'legs', 'to', 'see', 'if', 'they', 'float,', 'It’s', 'art', 'if', 'it', 'doesn’t', 'sink', 'in', 'the', 'river,', 'It’s', 'art', 'if', 'five', 'zeros', 'line', 'up', 'in', 'your', 'wallet,', 'It’s', 'art', 'if', 'it', 'smells', 'like', 'gold,', 'if', 'it', 'tastes', 'like', 'gold,', 'if', 'it', 'weighs', 'the', 'same', 'as', 'gold,', 'It’ll', 'be', 'art', 'if', 'you', 'stop', 'repeating', 'how', 'good', 'it', 'is', 'and', 'you', 'stop', 'to', 'look', 'at', 'it,', 'if', 'you', 'stop', 'trying', 'to', 'understand', 'it,', 'to', 'explain', 'it,', 'Picasso', 'in', 'Botswana', 'passing', 'out', 'Pulas', 'and', 'on', 'the', 'walls', 'of', 'the', 'MOMA', 'pieces', 'of', 'melted', 'egos', 'are', 'hanging,', 'Without', 'oceans,', 'Without', 'people,', 'Rivers', 'of', 'people', 'doing', 'what', 'they', 'DON’T', 'feel,', 'doing', 'what', 'they', 'think', 'they’re', 'supposed', 'to', 'do,', 'what', 'someone', 'told', 'them', 'to', 'do', 'or', 'something', 'that', 'they', 'read', 'in', 'the', 'Time', 'Out', 'New']\n"
     ]
    },
    {
     "name": "stderr",
     "output_type": "stream",
     "text": [
      "Setting `pad_token_id` to `eos_token_id`:50256 for open-end generation.\n"
     ]
    },
    {
     "name": "stdout",
     "output_type": "stream",
     "text": [
      "Art is a game and not everyone is invited to play, Art is a game and if Picasso had been born in Botswana nobody would be buying postcards of his works in the gift shop of the MET, Art is what we agree art is, and if someone doesn’t agree, we call them a heretic and we throw them in the Hudson with a sculpture of Robert Indiana tied to their legs to see if they float, It’s art if it doesn’t sink in the river, It’s art if five zeros line up in your wallet, It’s art if it smells like gold, if it tastes like gold, if it weighs the same as gold, It’ll be art if you stop repeating how good it is and you stop to look at it, if you stop trying to understand it, to explain it, Picasso in Botswana passing out Pulas and on the walls of the MOMA pieces of melted egos are hanging, Without oceans, Without people, Rivers of people doing what they DON’T feel, doing what they think they’re supposed to do, what someone told them to do or something that they read in the Time Out New ^^  York Times, It’s art if it doesn’t sink in the river, It’s art if it smells like gold, If it’s not a river, It’s art if it�\n",
      "['Art', 'is', 'a', 'game', 'and', 'not', 'everyone', 'is', 'invited', 'to', 'play,', 'Art', 'is', 'a', 'game', 'and', 'if', 'Picasso', 'had', 'been', 'born', 'in', 'Botswana', 'nobody', 'would', 'be', 'buying', 'postcards', 'of', 'his', 'works', 'in', 'the', 'gift', 'shop', 'of', 'the', 'MET,', 'Art', 'is', 'what', 'we', 'agree', 'art', 'is,', 'and', 'if', 'someone', 'doesn’t', 'agree,', 'we', 'call', 'them', 'a', 'heretic', 'and', 'we', 'throw', 'them', 'in', 'the', 'Hudson', 'with', 'a', 'sculpture', 'of', 'Robert', 'Indiana', 'tied', 'to', 'their', 'legs', 'to', 'see', 'if', 'they', 'float,', 'It’s', 'art', 'if', 'it', 'doesn’t', 'sink', 'in', 'the', 'river,', 'It’s', 'art', 'if', 'five', 'zeros', 'line', 'up', 'in', 'your', 'wallet,', 'It’s', 'art', 'if', 'it', 'smells', 'like', 'gold,', 'if', 'it', 'tastes', 'like', 'gold,', 'if', 'it', 'weighs', 'the', 'same', 'as', 'gold,', 'It’ll', 'be', 'art', 'if', 'you', 'stop', 'repeating', 'how', 'good', 'it', 'is', 'and', 'you', 'stop', 'to', 'look', 'at', 'it,', 'if', 'you', 'stop', 'trying', 'to', 'understand', 'it,', 'to', 'explain', 'it,', 'Picasso', 'in', 'Botswana', 'passing', 'out', 'Pulas', 'and', 'on', 'the', 'walls', 'of', 'the', 'MOMA', 'pieces', 'of', 'melted', 'egos', 'are', 'hanging,', 'Without', 'oceans,', 'Without', 'people,', 'Rivers', 'of', 'people', 'doing', 'what', 'they', 'DON’T', 'feel,', 'doing', 'what', 'they', 'think', 'they’re', 'supposed', 'to', 'do,', 'what', 'someone', 'told', 'them', 'to', 'do', 'or', 'something', 'that', 'they', 'read', 'in', 'the', 'Time', 'Out', 'New', 'York,']\n"
     ]
    },
    {
     "name": "stderr",
     "output_type": "stream",
     "text": [
      "Setting `pad_token_id` to `eos_token_id`:50256 for open-end generation.\n"
     ]
    },
    {
     "name": "stdout",
     "output_type": "stream",
     "text": [
      "Art is a game and not everyone is invited to play, Art is a game and if Picasso had been born in Botswana nobody would be buying postcards of his works in the gift shop of the MET, Art is what we agree art is, and if someone doesn’t agree, we call them a heretic and we throw them in the Hudson with a sculpture of Robert Indiana tied to their legs to see if they float, It’s art if it doesn’t sink in the river, It’s art if five zeros line up in your wallet, It’s art if it smells like gold, if it tastes like gold, if it weighs the same as gold, It’ll be art if you stop repeating how good it is and you stop to look at it, if you stop trying to understand it, to explain it, Picasso in Botswana passing out Pulas and on the walls of the MOMA pieces of melted egos are hanging, Without oceans, Without people, Rivers of people doing what they DON’T feel, doing what they think they’re supposed to do, what someone told them to do or something that they read in the Time Out New York, ^^  It’s art if it doesn’t sink in the river, It’s art if it smells like gold, If it’s not a river, If it’s not a river, If\n",
      "['Art', 'is', 'a', 'game', 'and', 'not', 'everyone', 'is', 'invited', 'to', 'play,', 'Art', 'is', 'a', 'game', 'and', 'if', 'Picasso', 'had', 'been', 'born', 'in', 'Botswana', 'nobody', 'would', 'be', 'buying', 'postcards', 'of', 'his', 'works', 'in', 'the', 'gift', 'shop', 'of', 'the', 'MET,', 'Art', 'is', 'what', 'we', 'agree', 'art', 'is,', 'and', 'if', 'someone', 'doesn’t', 'agree,', 'we', 'call', 'them', 'a', 'heretic', 'and', 'we', 'throw', 'them', 'in', 'the', 'Hudson', 'with', 'a', 'sculpture', 'of', 'Robert', 'Indiana', 'tied', 'to', 'their', 'legs', 'to', 'see', 'if', 'they', 'float,', 'It’s', 'art', 'if', 'it', 'doesn’t', 'sink', 'in', 'the', 'river,', 'It’s', 'art', 'if', 'five', 'zeros', 'line', 'up', 'in', 'your', 'wallet,', 'It’s', 'art', 'if', 'it', 'smells', 'like', 'gold,', 'if', 'it', 'tastes', 'like', 'gold,', 'if', 'it', 'weighs', 'the', 'same', 'as', 'gold,', 'It’ll', 'be', 'art', 'if', 'you', 'stop', 'repeating', 'how', 'good', 'it', 'is', 'and', 'you', 'stop', 'to', 'look', 'at', 'it,', 'if', 'you', 'stop', 'trying', 'to', 'understand', 'it,', 'to', 'explain', 'it,', 'Picasso', 'in', 'Botswana', 'passing', 'out', 'Pulas', 'and', 'on', 'the', 'walls', 'of', 'the', 'MOMA', 'pieces', 'of', 'melted', 'egos', 'are', 'hanging,', 'Without', 'oceans,', 'Without', 'people,', 'Rivers', 'of', 'people', 'doing', 'what', 'they', 'DON’T', 'feel,', 'doing', 'what', 'they', 'think', 'they’re', 'supposed', 'to', 'do,', 'what', 'someone', 'told', 'them', 'to', 'do', 'or', 'something', 'that', 'they', 'read', 'in', 'the', 'Time', 'Out', 'New', 'York,', 'or']\n"
     ]
    },
    {
     "name": "stderr",
     "output_type": "stream",
     "text": [
      "Setting `pad_token_id` to `eos_token_id`:50256 for open-end generation.\n"
     ]
    },
    {
     "name": "stdout",
     "output_type": "stream",
     "text": [
      "Art is a game and not everyone is invited to play, Art is a game and if Picasso had been born in Botswana nobody would be buying postcards of his works in the gift shop of the MET, Art is what we agree art is, and if someone doesn’t agree, we call them a heretic and we throw them in the Hudson with a sculpture of Robert Indiana tied to their legs to see if they float, It’s art if it doesn’t sink in the river, It’s art if five zeros line up in your wallet, It’s art if it smells like gold, if it tastes like gold, if it weighs the same as gold, It’ll be art if you stop repeating how good it is and you stop to look at it, if you stop trying to understand it, to explain it, Picasso in Botswana passing out Pulas and on the walls of the MOMA pieces of melted egos are hanging, Without oceans, Without people, Rivers of people doing what they DON’T feel, doing what they think they’re supposed to do, what someone told them to do or something that they read in the Time Out New York, or ^^  something that they’re supposed to do, and then they’re gone, and they’re gone, and they’re gone, and they’re gone, and they’re gone\n",
      "['Art', 'is', 'a', 'game', 'and', 'not', 'everyone', 'is', 'invited', 'to', 'play,', 'Art', 'is', 'a', 'game', 'and', 'if', 'Picasso', 'had', 'been', 'born', 'in', 'Botswana', 'nobody', 'would', 'be', 'buying', 'postcards', 'of', 'his', 'works', 'in', 'the', 'gift', 'shop', 'of', 'the', 'MET,', 'Art', 'is', 'what', 'we', 'agree', 'art', 'is,', 'and', 'if', 'someone', 'doesn’t', 'agree,', 'we', 'call', 'them', 'a', 'heretic', 'and', 'we', 'throw', 'them', 'in', 'the', 'Hudson', 'with', 'a', 'sculpture', 'of', 'Robert', 'Indiana', 'tied', 'to', 'their', 'legs', 'to', 'see', 'if', 'they', 'float,', 'It’s', 'art', 'if', 'it', 'doesn’t', 'sink', 'in', 'the', 'river,', 'It’s', 'art', 'if', 'five', 'zeros', 'line', 'up', 'in', 'your', 'wallet,', 'It’s', 'art', 'if', 'it', 'smells', 'like', 'gold,', 'if', 'it', 'tastes', 'like', 'gold,', 'if', 'it', 'weighs', 'the', 'same', 'as', 'gold,', 'It’ll', 'be', 'art', 'if', 'you', 'stop', 'repeating', 'how', 'good', 'it', 'is', 'and', 'you', 'stop', 'to', 'look', 'at', 'it,', 'if', 'you', 'stop', 'trying', 'to', 'understand', 'it,', 'to', 'explain', 'it,', 'Picasso', 'in', 'Botswana', 'passing', 'out', 'Pulas', 'and', 'on', 'the', 'walls', 'of', 'the', 'MOMA', 'pieces', 'of', 'melted', 'egos', 'are', 'hanging,', 'Without', 'oceans,', 'Without', 'people,', 'Rivers', 'of', 'people', 'doing', 'what', 'they', 'DON’T', 'feel,', 'doing', 'what', 'they', 'think', 'they’re', 'supposed', 'to', 'do,', 'what', 'someone', 'told', 'them', 'to', 'do', 'or', 'something', 'that', 'they', 'read', 'in', 'the', 'Time', 'Out', 'New', 'York,', 'or', 'in']\n"
     ]
    },
    {
     "name": "stderr",
     "output_type": "stream",
     "text": [
      "Setting `pad_token_id` to `eos_token_id`:50256 for open-end generation.\n"
     ]
    },
    {
     "name": "stdout",
     "output_type": "stream",
     "text": [
      "Art is a game and not everyone is invited to play, Art is a game and if Picasso had been born in Botswana nobody would be buying postcards of his works in the gift shop of the MET, Art is what we agree art is, and if someone doesn’t agree, we call them a heretic and we throw them in the Hudson with a sculpture of Robert Indiana tied to their legs to see if they float, It’s art if it doesn’t sink in the river, It’s art if five zeros line up in your wallet, It’s art if it smells like gold, if it tastes like gold, if it weighs the same as gold, It’ll be art if you stop repeating how good it is and you stop to look at it, if you stop trying to understand it, to explain it, Picasso in Botswana passing out Pulas and on the walls of the MOMA pieces of melted egos are hanging, Without oceans, Without people, Rivers of people doing what they DON’T feel, doing what they think they’re supposed to do, what someone told them to do or something that they read in the Time Out New York, or in ^^  the New York Times, or in the New York Times, or in the New York Post, or in the New York Daily News, or in the New York Post, or in the New York Daily News, or in\n",
      "['Art', 'is', 'a', 'game', 'and', 'not', 'everyone', 'is', 'invited', 'to', 'play,', 'Art', 'is', 'a', 'game', 'and', 'if', 'Picasso', 'had', 'been', 'born', 'in', 'Botswana', 'nobody', 'would', 'be', 'buying', 'postcards', 'of', 'his', 'works', 'in', 'the', 'gift', 'shop', 'of', 'the', 'MET,', 'Art', 'is', 'what', 'we', 'agree', 'art', 'is,', 'and', 'if', 'someone', 'doesn’t', 'agree,', 'we', 'call', 'them', 'a', 'heretic', 'and', 'we', 'throw', 'them', 'in', 'the', 'Hudson', 'with', 'a', 'sculpture', 'of', 'Robert', 'Indiana', 'tied', 'to', 'their', 'legs', 'to', 'see', 'if', 'they', 'float,', 'It’s', 'art', 'if', 'it', 'doesn’t', 'sink', 'in', 'the', 'river,', 'It’s', 'art', 'if', 'five', 'zeros', 'line', 'up', 'in', 'your', 'wallet,', 'It’s', 'art', 'if', 'it', 'smells', 'like', 'gold,', 'if', 'it', 'tastes', 'like', 'gold,', 'if', 'it', 'weighs', 'the', 'same', 'as', 'gold,', 'It’ll', 'be', 'art', 'if', 'you', 'stop', 'repeating', 'how', 'good', 'it', 'is', 'and', 'you', 'stop', 'to', 'look', 'at', 'it,', 'if', 'you', 'stop', 'trying', 'to', 'understand', 'it,', 'to', 'explain', 'it,', 'Picasso', 'in', 'Botswana', 'passing', 'out', 'Pulas', 'and', 'on', 'the', 'walls', 'of', 'the', 'MOMA', 'pieces', 'of', 'melted', 'egos', 'are', 'hanging,', 'Without', 'oceans,', 'Without', 'people,', 'Rivers', 'of', 'people', 'doing', 'what', 'they', 'DON’T', 'feel,', 'doing', 'what', 'they', 'think', 'they’re', 'supposed', 'to', 'do,', 'what', 'someone', 'told', 'them', 'to', 'do', 'or', 'something', 'that', 'they', 'read', 'in', 'the', 'Time', 'Out', 'New', 'York,', 'or', 'in', 'the']\n"
     ]
    },
    {
     "name": "stderr",
     "output_type": "stream",
     "text": [
      "Setting `pad_token_id` to `eos_token_id`:50256 for open-end generation.\n"
     ]
    },
    {
     "name": "stdout",
     "output_type": "stream",
     "text": [
      "Art is a game and not everyone is invited to play, Art is a game and if Picasso had been born in Botswana nobody would be buying postcards of his works in the gift shop of the MET, Art is what we agree art is, and if someone doesn’t agree, we call them a heretic and we throw them in the Hudson with a sculpture of Robert Indiana tied to their legs to see if they float, It’s art if it doesn’t sink in the river, It’s art if five zeros line up in your wallet, It’s art if it smells like gold, if it tastes like gold, if it weighs the same as gold, It’ll be art if you stop repeating how good it is and you stop to look at it, if you stop trying to understand it, to explain it, Picasso in Botswana passing out Pulas and on the walls of the MOMA pieces of melted egos are hanging, Without oceans, Without people, Rivers of people doing what they DON’T feel, doing what they think they’re supposed to do, what someone told them to do or something that they read in the Time Out New York, or in the ^^  New York Times, or in the New York Times, or in the New York Post, or in the New York Daily News, or in the New York Post, or in the New York Daily News, or in\n",
      "['Art', 'is', 'a', 'game', 'and', 'not', 'everyone', 'is', 'invited', 'to', 'play,', 'Art', 'is', 'a', 'game', 'and', 'if', 'Picasso', 'had', 'been', 'born', 'in', 'Botswana', 'nobody', 'would', 'be', 'buying', 'postcards', 'of', 'his', 'works', 'in', 'the', 'gift', 'shop', 'of', 'the', 'MET,', 'Art', 'is', 'what', 'we', 'agree', 'art', 'is,', 'and', 'if', 'someone', 'doesn’t', 'agree,', 'we', 'call', 'them', 'a', 'heretic', 'and', 'we', 'throw', 'them', 'in', 'the', 'Hudson', 'with', 'a', 'sculpture', 'of', 'Robert', 'Indiana', 'tied', 'to', 'their', 'legs', 'to', 'see', 'if', 'they', 'float,', 'It’s', 'art', 'if', 'it', 'doesn’t', 'sink', 'in', 'the', 'river,', 'It’s', 'art', 'if', 'five', 'zeros', 'line', 'up', 'in', 'your', 'wallet,', 'It’s', 'art', 'if', 'it', 'smells', 'like', 'gold,', 'if', 'it', 'tastes', 'like', 'gold,', 'if', 'it', 'weighs', 'the', 'same', 'as', 'gold,', 'It’ll', 'be', 'art', 'if', 'you', 'stop', 'repeating', 'how', 'good', 'it', 'is', 'and', 'you', 'stop', 'to', 'look', 'at', 'it,', 'if', 'you', 'stop', 'trying', 'to', 'understand', 'it,', 'to', 'explain', 'it,', 'Picasso', 'in', 'Botswana', 'passing', 'out', 'Pulas', 'and', 'on', 'the', 'walls', 'of', 'the', 'MOMA', 'pieces', 'of', 'melted', 'egos', 'are', 'hanging,', 'Without', 'oceans,', 'Without', 'people,', 'Rivers', 'of', 'people', 'doing', 'what', 'they', 'DON’T', 'feel,', 'doing', 'what', 'they', 'think', 'they’re', 'supposed', 'to', 'do,', 'what', 'someone', 'told', 'them', 'to', 'do', 'or', 'something', 'that', 'they', 'read', 'in', 'the', 'Time', 'Out', 'New', 'York,', 'or', 'in', 'the', 'Brooklyn']\n"
     ]
    },
    {
     "name": "stderr",
     "output_type": "stream",
     "text": [
      "Setting `pad_token_id` to `eos_token_id`:50256 for open-end generation.\n"
     ]
    },
    {
     "name": "stdout",
     "output_type": "stream",
     "text": [
      "Art is a game and not everyone is invited to play, Art is a game and if Picasso had been born in Botswana nobody would be buying postcards of his works in the gift shop of the MET, Art is what we agree art is, and if someone doesn’t agree, we call them a heretic and we throw them in the Hudson with a sculpture of Robert Indiana tied to their legs to see if they float, It’s art if it doesn’t sink in the river, It’s art if five zeros line up in your wallet, It’s art if it smells like gold, if it tastes like gold, if it weighs the same as gold, It’ll be art if you stop repeating how good it is and you stop to look at it, if you stop trying to understand it, to explain it, Picasso in Botswana passing out Pulas and on the walls of the MOMA pieces of melted egos are hanging, Without oceans, Without people, Rivers of people doing what they DON’T feel, doing what they think they’re supposed to do, what someone told them to do or something that they read in the Time Out New York, or in the Brooklyn ^^  Times, or in the Daily Mail, or in the Daily Mail, or in the Daily Mail, or in the Daily Mail, or in the Daily Mail, or in the Daily Mail, or in the Daily\n",
      "['Art', 'is', 'a', 'game', 'and', 'not', 'everyone', 'is', 'invited', 'to', 'play,', 'Art', 'is', 'a', 'game', 'and', 'if', 'Picasso', 'had', 'been', 'born', 'in', 'Botswana', 'nobody', 'would', 'be', 'buying', 'postcards', 'of', 'his', 'works', 'in', 'the', 'gift', 'shop', 'of', 'the', 'MET,', 'Art', 'is', 'what', 'we', 'agree', 'art', 'is,', 'and', 'if', 'someone', 'doesn’t', 'agree,', 'we', 'call', 'them', 'a', 'heretic', 'and', 'we', 'throw', 'them', 'in', 'the', 'Hudson', 'with', 'a', 'sculpture', 'of', 'Robert', 'Indiana', 'tied', 'to', 'their', 'legs', 'to', 'see', 'if', 'they', 'float,', 'It’s', 'art', 'if', 'it', 'doesn’t', 'sink', 'in', 'the', 'river,', 'It’s', 'art', 'if', 'five', 'zeros', 'line', 'up', 'in', 'your', 'wallet,', 'It’s', 'art', 'if', 'it', 'smells', 'like', 'gold,', 'if', 'it', 'tastes', 'like', 'gold,', 'if', 'it', 'weighs', 'the', 'same', 'as', 'gold,', 'It’ll', 'be', 'art', 'if', 'you', 'stop', 'repeating', 'how', 'good', 'it', 'is', 'and', 'you', 'stop', 'to', 'look', 'at', 'it,', 'if', 'you', 'stop', 'trying', 'to', 'understand', 'it,', 'to', 'explain', 'it,', 'Picasso', 'in', 'Botswana', 'passing', 'out', 'Pulas', 'and', 'on', 'the', 'walls', 'of', 'the', 'MOMA', 'pieces', 'of', 'melted', 'egos', 'are', 'hanging,', 'Without', 'oceans,', 'Without', 'people,', 'Rivers', 'of', 'people', 'doing', 'what', 'they', 'DON’T', 'feel,', 'doing', 'what', 'they', 'think', 'they’re', 'supposed', 'to', 'do,', 'what', 'someone', 'told', 'them', 'to', 'do', 'or', 'something', 'that', 'they', 'read', 'in', 'the', 'Time', 'Out', 'New', 'York,', 'or', 'in', 'the', 'Brooklyn', 'Rail,']\n"
     ]
    },
    {
     "name": "stderr",
     "output_type": "stream",
     "text": [
      "Setting `pad_token_id` to `eos_token_id`:50256 for open-end generation.\n"
     ]
    },
    {
     "name": "stdout",
     "output_type": "stream",
     "text": [
      "Art is a game and not everyone is invited to play, Art is a game and if Picasso had been born in Botswana nobody would be buying postcards of his works in the gift shop of the MET, Art is what we agree art is, and if someone doesn’t agree, we call them a heretic and we throw them in the Hudson with a sculpture of Robert Indiana tied to their legs to see if they float, It’s art if it doesn’t sink in the river, It’s art if five zeros line up in your wallet, It’s art if it smells like gold, if it tastes like gold, if it weighs the same as gold, It’ll be art if you stop repeating how good it is and you stop to look at it, if you stop trying to understand it, to explain it, Picasso in Botswana passing out Pulas and on the walls of the MOMA pieces of melted egos are hanging, Without oceans, Without people, Rivers of people doing what they DON’T feel, doing what they think they’re supposed to do, what someone told them to do or something that they read in the Time Out New York, or in the Brooklyn Rail, ^^  or in the New York Times, or in the New York Post, or in the New York Daily News, or in the New York Post, or in the New York Daily News, or in the New\n",
      "['Art', 'is', 'a', 'game', 'and', 'not', 'everyone', 'is', 'invited', 'to', 'play,', 'Art', 'is', 'a', 'game', 'and', 'if', 'Picasso', 'had', 'been', 'born', 'in', 'Botswana', 'nobody', 'would', 'be', 'buying', 'postcards', 'of', 'his', 'works', 'in', 'the', 'gift', 'shop', 'of', 'the', 'MET,', 'Art', 'is', 'what', 'we', 'agree', 'art', 'is,', 'and', 'if', 'someone', 'doesn’t', 'agree,', 'we', 'call', 'them', 'a', 'heretic', 'and', 'we', 'throw', 'them', 'in', 'the', 'Hudson', 'with', 'a', 'sculpture', 'of', 'Robert', 'Indiana', 'tied', 'to', 'their', 'legs', 'to', 'see', 'if', 'they', 'float,', 'It’s', 'art', 'if', 'it', 'doesn’t', 'sink', 'in', 'the', 'river,', 'It’s', 'art', 'if', 'five', 'zeros', 'line', 'up', 'in', 'your', 'wallet,', 'It’s', 'art', 'if', 'it', 'smells', 'like', 'gold,', 'if', 'it', 'tastes', 'like', 'gold,', 'if', 'it', 'weighs', 'the', 'same', 'as', 'gold,', 'It’ll', 'be', 'art', 'if', 'you', 'stop', 'repeating', 'how', 'good', 'it', 'is', 'and', 'you', 'stop', 'to', 'look', 'at', 'it,', 'if', 'you', 'stop', 'trying', 'to', 'understand', 'it,', 'to', 'explain', 'it,', 'Picasso', 'in', 'Botswana', 'passing', 'out', 'Pulas', 'and', 'on', 'the', 'walls', 'of', 'the', 'MOMA', 'pieces', 'of', 'melted', 'egos', 'are', 'hanging,', 'Without', 'oceans,', 'Without', 'people,', 'Rivers', 'of', 'people', 'doing', 'what', 'they', 'DON’T', 'feel,', 'doing', 'what', 'they', 'think', 'they’re', 'supposed', 'to', 'do,', 'what', 'someone', 'told', 'them', 'to', 'do', 'or', 'something', 'that', 'they', 'read', 'in', 'the', 'Time', 'Out', 'New', 'York,', 'or', 'in', 'the', 'Brooklyn', 'Rail,', 'The']\n"
     ]
    },
    {
     "name": "stderr",
     "output_type": "stream",
     "text": [
      "Setting `pad_token_id` to `eos_token_id`:50256 for open-end generation.\n"
     ]
    },
    {
     "name": "stdout",
     "output_type": "stream",
     "text": [
      "Art is a game and not everyone is invited to play, Art is a game and if Picasso had been born in Botswana nobody would be buying postcards of his works in the gift shop of the MET, Art is what we agree art is, and if someone doesn’t agree, we call them a heretic and we throw them in the Hudson with a sculpture of Robert Indiana tied to their legs to see if they float, It’s art if it doesn’t sink in the river, It’s art if five zeros line up in your wallet, It’s art if it smells like gold, if it tastes like gold, if it weighs the same as gold, It’ll be art if you stop repeating how good it is and you stop to look at it, if you stop trying to understand it, to explain it, Picasso in Botswana passing out Pulas and on the walls of the MOMA pieces of melted egos are hanging, Without oceans, Without people, Rivers of people doing what they DON’T feel, doing what they think they’re supposed to do, what someone told them to do or something that they read in the Time Out New York, or in the Brooklyn Rail, The ^^  New York Times, or the New York Post, or the New York Daily News, or the New York Daily News, or the New York Daily News, or the New York Daily News, or the\n",
      "['Art', 'is', 'a', 'game', 'and', 'not', 'everyone', 'is', 'invited', 'to', 'play,', 'Art', 'is', 'a', 'game', 'and', 'if', 'Picasso', 'had', 'been', 'born', 'in', 'Botswana', 'nobody', 'would', 'be', 'buying', 'postcards', 'of', 'his', 'works', 'in', 'the', 'gift', 'shop', 'of', 'the', 'MET,', 'Art', 'is', 'what', 'we', 'agree', 'art', 'is,', 'and', 'if', 'someone', 'doesn’t', 'agree,', 'we', 'call', 'them', 'a', 'heretic', 'and', 'we', 'throw', 'them', 'in', 'the', 'Hudson', 'with', 'a', 'sculpture', 'of', 'Robert', 'Indiana', 'tied', 'to', 'their', 'legs', 'to', 'see', 'if', 'they', 'float,', 'It’s', 'art', 'if', 'it', 'doesn’t', 'sink', 'in', 'the', 'river,', 'It’s', 'art', 'if', 'five', 'zeros', 'line', 'up', 'in', 'your', 'wallet,', 'It’s', 'art', 'if', 'it', 'smells', 'like', 'gold,', 'if', 'it', 'tastes', 'like', 'gold,', 'if', 'it', 'weighs', 'the', 'same', 'as', 'gold,', 'It’ll', 'be', 'art', 'if', 'you', 'stop', 'repeating', 'how', 'good', 'it', 'is', 'and', 'you', 'stop', 'to', 'look', 'at', 'it,', 'if', 'you', 'stop', 'trying', 'to', 'understand', 'it,', 'to', 'explain', 'it,', 'Picasso', 'in', 'Botswana', 'passing', 'out', 'Pulas', 'and', 'on', 'the', 'walls', 'of', 'the', 'MOMA', 'pieces', 'of', 'melted', 'egos', 'are', 'hanging,', 'Without', 'oceans,', 'Without', 'people,', 'Rivers', 'of', 'people', 'doing', 'what', 'they', 'DON’T', 'feel,', 'doing', 'what', 'they', 'think', 'they’re', 'supposed', 'to', 'do,', 'what', 'someone', 'told', 'them', 'to', 'do', 'or', 'something', 'that', 'they', 'read', 'in', 'the', 'Time', 'Out', 'New', 'York,', 'or', 'in', 'the', 'Brooklyn', 'Rail,', 'The', 'Setinkane']\n"
     ]
    },
    {
     "name": "stderr",
     "output_type": "stream",
     "text": [
      "Setting `pad_token_id` to `eos_token_id`:50256 for open-end generation.\n"
     ]
    },
    {
     "name": "stdout",
     "output_type": "stream",
     "text": [
      "Art is a game and not everyone is invited to play, Art is a game and if Picasso had been born in Botswana nobody would be buying postcards of his works in the gift shop of the MET, Art is what we agree art is, and if someone doesn’t agree, we call them a heretic and we throw them in the Hudson with a sculpture of Robert Indiana tied to their legs to see if they float, It’s art if it doesn’t sink in the river, It’s art if five zeros line up in your wallet, It’s art if it smells like gold, if it tastes like gold, if it weighs the same as gold, It’ll be art if you stop repeating how good it is and you stop to look at it, if you stop trying to understand it, to explain it, Picasso in Botswana passing out Pulas and on the walls of the MOMA pieces of melted egos are hanging, Without oceans, Without people, Rivers of people doing what they DON’T feel, doing what they think they’re supposed to do, what someone told them to do or something that they read in the Time Out New York, or in the Brooklyn Rail, The Setinkane ^^ , The World of the Dead, The World of the Dead, The World of the Dead, The World of the Dead, The World of the Dead, The World of the Dead, The World\n",
      "['Art', 'is', 'a', 'game', 'and', 'not', 'everyone', 'is', 'invited', 'to', 'play,', 'Art', 'is', 'a', 'game', 'and', 'if', 'Picasso', 'had', 'been', 'born', 'in', 'Botswana', 'nobody', 'would', 'be', 'buying', 'postcards', 'of', 'his', 'works', 'in', 'the', 'gift', 'shop', 'of', 'the', 'MET,', 'Art', 'is', 'what', 'we', 'agree', 'art', 'is,', 'and', 'if', 'someone', 'doesn’t', 'agree,', 'we', 'call', 'them', 'a', 'heretic', 'and', 'we', 'throw', 'them', 'in', 'the', 'Hudson', 'with', 'a', 'sculpture', 'of', 'Robert', 'Indiana', 'tied', 'to', 'their', 'legs', 'to', 'see', 'if', 'they', 'float,', 'It’s', 'art', 'if', 'it', 'doesn’t', 'sink', 'in', 'the', 'river,', 'It’s', 'art', 'if', 'five', 'zeros', 'line', 'up', 'in', 'your', 'wallet,', 'It’s', 'art', 'if', 'it', 'smells', 'like', 'gold,', 'if', 'it', 'tastes', 'like', 'gold,', 'if', 'it', 'weighs', 'the', 'same', 'as', 'gold,', 'It’ll', 'be', 'art', 'if', 'you', 'stop', 'repeating', 'how', 'good', 'it', 'is', 'and', 'you', 'stop', 'to', 'look', 'at', 'it,', 'if', 'you', 'stop', 'trying', 'to', 'understand', 'it,', 'to', 'explain', 'it,', 'Picasso', 'in', 'Botswana', 'passing', 'out', 'Pulas', 'and', 'on', 'the', 'walls', 'of', 'the', 'MOMA', 'pieces', 'of', 'melted', 'egos', 'are', 'hanging,', 'Without', 'oceans,', 'Without', 'people,', 'Rivers', 'of', 'people', 'doing', 'what', 'they', 'DON’T', 'feel,', 'doing', 'what', 'they', 'think', 'they’re', 'supposed', 'to', 'do,', 'what', 'someone', 'told', 'them', 'to', 'do', 'or', 'something', 'that', 'they', 'read', 'in', 'the', 'Time', 'Out', 'New', 'York,', 'or', 'in', 'the', 'Brooklyn', 'Rail,', 'The', 'Setinkane', 'drum']\n"
     ]
    },
    {
     "name": "stderr",
     "output_type": "stream",
     "text": [
      "Setting `pad_token_id` to `eos_token_id`:50256 for open-end generation.\n"
     ]
    },
    {
     "name": "stdout",
     "output_type": "stream",
     "text": [
      "Art is a game and not everyone is invited to play, Art is a game and if Picasso had been born in Botswana nobody would be buying postcards of his works in the gift shop of the MET, Art is what we agree art is, and if someone doesn’t agree, we call them a heretic and we throw them in the Hudson with a sculpture of Robert Indiana tied to their legs to see if they float, It’s art if it doesn’t sink in the river, It’s art if five zeros line up in your wallet, It’s art if it smells like gold, if it tastes like gold, if it weighs the same as gold, It’ll be art if you stop repeating how good it is and you stop to look at it, if you stop trying to understand it, to explain it, Picasso in Botswana passing out Pulas and on the walls of the MOMA pieces of melted egos are hanging, Without oceans, Without people, Rivers of people doing what they DON’T feel, doing what they think they’re supposed to do, what someone told them to do or something that they read in the Time Out New York, or in the Brooklyn Rail, The Setinkane drum ^^ ming of the MOMA pieces of melted egos is hanging, Without oceans, Without people, Rivers of people doing what they DON’T feel, doing what they think they�\n",
      "['Art', 'is', 'a', 'game', 'and', 'not', 'everyone', 'is', 'invited', 'to', 'play,', 'Art', 'is', 'a', 'game', 'and', 'if', 'Picasso', 'had', 'been', 'born', 'in', 'Botswana', 'nobody', 'would', 'be', 'buying', 'postcards', 'of', 'his', 'works', 'in', 'the', 'gift', 'shop', 'of', 'the', 'MET,', 'Art', 'is', 'what', 'we', 'agree', 'art', 'is,', 'and', 'if', 'someone', 'doesn’t', 'agree,', 'we', 'call', 'them', 'a', 'heretic', 'and', 'we', 'throw', 'them', 'in', 'the', 'Hudson', 'with', 'a', 'sculpture', 'of', 'Robert', 'Indiana', 'tied', 'to', 'their', 'legs', 'to', 'see', 'if', 'they', 'float,', 'It’s', 'art', 'if', 'it', 'doesn’t', 'sink', 'in', 'the', 'river,', 'It’s', 'art', 'if', 'five', 'zeros', 'line', 'up', 'in', 'your', 'wallet,', 'It’s', 'art', 'if', 'it', 'smells', 'like', 'gold,', 'if', 'it', 'tastes', 'like', 'gold,', 'if', 'it', 'weighs', 'the', 'same', 'as', 'gold,', 'It’ll', 'be', 'art', 'if', 'you', 'stop', 'repeating', 'how', 'good', 'it', 'is', 'and', 'you', 'stop', 'to', 'look', 'at', 'it,', 'if', 'you', 'stop', 'trying', 'to', 'understand', 'it,', 'to', 'explain', 'it,', 'Picasso', 'in', 'Botswana', 'passing', 'out', 'Pulas', 'and', 'on', 'the', 'walls', 'of', 'the', 'MOMA', 'pieces', 'of', 'melted', 'egos', 'are', 'hanging,', 'Without', 'oceans,', 'Without', 'people,', 'Rivers', 'of', 'people', 'doing', 'what', 'they', 'DON’T', 'feel,', 'doing', 'what', 'they', 'think', 'they’re', 'supposed', 'to', 'do,', 'what', 'someone', 'told', 'them', 'to', 'do', 'or', 'something', 'that', 'they', 'read', 'in', 'the', 'Time', 'Out', 'New', 'York,', 'or', 'in', 'the', 'Brooklyn', 'Rail,', 'The', 'Setinkane', 'drum', 'sounds']\n"
     ]
    },
    {
     "name": "stderr",
     "output_type": "stream",
     "text": [
      "Setting `pad_token_id` to `eos_token_id`:50256 for open-end generation.\n"
     ]
    },
    {
     "name": "stdout",
     "output_type": "stream",
     "text": [
      "Art is a game and not everyone is invited to play, Art is a game and if Picasso had been born in Botswana nobody would be buying postcards of his works in the gift shop of the MET, Art is what we agree art is, and if someone doesn’t agree, we call them a heretic and we throw them in the Hudson with a sculpture of Robert Indiana tied to their legs to see if they float, It’s art if it doesn’t sink in the river, It’s art if five zeros line up in your wallet, It’s art if it smells like gold, if it tastes like gold, if it weighs the same as gold, It’ll be art if you stop repeating how good it is and you stop to look at it, if you stop trying to understand it, to explain it, Picasso in Botswana passing out Pulas and on the walls of the MOMA pieces of melted egos are hanging, Without oceans, Without people, Rivers of people doing what they DON’T feel, doing what they think they’re supposed to do, what someone told them to do or something that they read in the Time Out New York, or in the Brooklyn Rail, The Setinkane drum sounds ^^ , The Beatles’ “I’m a Beatle”, The Beatles’ “I’m a Beatle”, The Beatles’\n",
      "['Art', 'is', 'a', 'game', 'and', 'not', 'everyone', 'is', 'invited', 'to', 'play,', 'Art', 'is', 'a', 'game', 'and', 'if', 'Picasso', 'had', 'been', 'born', 'in', 'Botswana', 'nobody', 'would', 'be', 'buying', 'postcards', 'of', 'his', 'works', 'in', 'the', 'gift', 'shop', 'of', 'the', 'MET,', 'Art', 'is', 'what', 'we', 'agree', 'art', 'is,', 'and', 'if', 'someone', 'doesn’t', 'agree,', 'we', 'call', 'them', 'a', 'heretic', 'and', 'we', 'throw', 'them', 'in', 'the', 'Hudson', 'with', 'a', 'sculpture', 'of', 'Robert', 'Indiana', 'tied', 'to', 'their', 'legs', 'to', 'see', 'if', 'they', 'float,', 'It’s', 'art', 'if', 'it', 'doesn’t', 'sink', 'in', 'the', 'river,', 'It’s', 'art', 'if', 'five', 'zeros', 'line', 'up', 'in', 'your', 'wallet,', 'It’s', 'art', 'if', 'it', 'smells', 'like', 'gold,', 'if', 'it', 'tastes', 'like', 'gold,', 'if', 'it', 'weighs', 'the', 'same', 'as', 'gold,', 'It’ll', 'be', 'art', 'if', 'you', 'stop', 'repeating', 'how', 'good', 'it', 'is', 'and', 'you', 'stop', 'to', 'look', 'at', 'it,', 'if', 'you', 'stop', 'trying', 'to', 'understand', 'it,', 'to', 'explain', 'it,', 'Picasso', 'in', 'Botswana', 'passing', 'out', 'Pulas', 'and', 'on', 'the', 'walls', 'of', 'the', 'MOMA', 'pieces', 'of', 'melted', 'egos', 'are', 'hanging,', 'Without', 'oceans,', 'Without', 'people,', 'Rivers', 'of', 'people', 'doing', 'what', 'they', 'DON’T', 'feel,', 'doing', 'what', 'they', 'think', 'they’re', 'supposed', 'to', 'do,', 'what', 'someone', 'told', 'them', 'to', 'do', 'or', 'something', 'that', 'they', 'read', 'in', 'the', 'Time', 'Out', 'New', 'York,', 'or', 'in', 'the', 'Brooklyn', 'Rail,', 'The', 'Setinkane', 'drum', 'sounds', 'and']\n"
     ]
    },
    {
     "name": "stderr",
     "output_type": "stream",
     "text": [
      "Setting `pad_token_id` to `eos_token_id`:50256 for open-end generation.\n"
     ]
    },
    {
     "name": "stdout",
     "output_type": "stream",
     "text": [
      "Art is a game and not everyone is invited to play, Art is a game and if Picasso had been born in Botswana nobody would be buying postcards of his works in the gift shop of the MET, Art is what we agree art is, and if someone doesn’t agree, we call them a heretic and we throw them in the Hudson with a sculpture of Robert Indiana tied to their legs to see if they float, It’s art if it doesn’t sink in the river, It’s art if five zeros line up in your wallet, It’s art if it smells like gold, if it tastes like gold, if it weighs the same as gold, It’ll be art if you stop repeating how good it is and you stop to look at it, if you stop trying to understand it, to explain it, Picasso in Botswana passing out Pulas and on the walls of the MOMA pieces of melted egos are hanging, Without oceans, Without people, Rivers of people doing what they DON’T feel, doing what they think they’re supposed to do, what someone told them to do or something that they read in the Time Out New York, or in the Brooklyn Rail, The Setinkane drum sounds and ^^  the music is like a drum, It’s art if it doesn’t sink in the river, It’s art if it smells like gold, If it\n",
      "['Art', 'is', 'a', 'game', 'and', 'not', 'everyone', 'is', 'invited', 'to', 'play,', 'Art', 'is', 'a', 'game', 'and', 'if', 'Picasso', 'had', 'been', 'born', 'in', 'Botswana', 'nobody', 'would', 'be', 'buying', 'postcards', 'of', 'his', 'works', 'in', 'the', 'gift', 'shop', 'of', 'the', 'MET,', 'Art', 'is', 'what', 'we', 'agree', 'art', 'is,', 'and', 'if', 'someone', 'doesn’t', 'agree,', 'we', 'call', 'them', 'a', 'heretic', 'and', 'we', 'throw', 'them', 'in', 'the', 'Hudson', 'with', 'a', 'sculpture', 'of', 'Robert', 'Indiana', 'tied', 'to', 'their', 'legs', 'to', 'see', 'if', 'they', 'float,', 'It’s', 'art', 'if', 'it', 'doesn’t', 'sink', 'in', 'the', 'river,', 'It’s', 'art', 'if', 'five', 'zeros', 'line', 'up', 'in', 'your', 'wallet,', 'It’s', 'art', 'if', 'it', 'smells', 'like', 'gold,', 'if', 'it', 'tastes', 'like', 'gold,', 'if', 'it', 'weighs', 'the', 'same', 'as', 'gold,', 'It’ll', 'be', 'art', 'if', 'you', 'stop', 'repeating', 'how', 'good', 'it', 'is', 'and', 'you', 'stop', 'to', 'look', 'at', 'it,', 'if', 'you', 'stop', 'trying', 'to', 'understand', 'it,', 'to', 'explain', 'it,', 'Picasso', 'in', 'Botswana', 'passing', 'out', 'Pulas', 'and', 'on', 'the', 'walls', 'of', 'the', 'MOMA', 'pieces', 'of', 'melted', 'egos', 'are', 'hanging,', 'Without', 'oceans,', 'Without', 'people,', 'Rivers', 'of', 'people', 'doing', 'what', 'they', 'DON’T', 'feel,', 'doing', 'what', 'they', 'think', 'they’re', 'supposed', 'to', 'do,', 'what', 'someone', 'told', 'them', 'to', 'do', 'or', 'something', 'that', 'they', 'read', 'in', 'the', 'Time', 'Out', 'New', 'York,', 'or', 'in', 'the', 'Brooklyn', 'Rail,', 'The', 'Setinkane', 'drum', 'sounds', 'and', 'someone']\n"
     ]
    },
    {
     "name": "stderr",
     "output_type": "stream",
     "text": [
      "Setting `pad_token_id` to `eos_token_id`:50256 for open-end generation.\n"
     ]
    },
    {
     "name": "stdout",
     "output_type": "stream",
     "text": [
      "Art is a game and not everyone is invited to play, Art is a game and if Picasso had been born in Botswana nobody would be buying postcards of his works in the gift shop of the MET, Art is what we agree art is, and if someone doesn’t agree, we call them a heretic and we throw them in the Hudson with a sculpture of Robert Indiana tied to their legs to see if they float, It’s art if it doesn’t sink in the river, It’s art if five zeros line up in your wallet, It’s art if it smells like gold, if it tastes like gold, if it weighs the same as gold, It’ll be art if you stop repeating how good it is and you stop to look at it, if you stop trying to understand it, to explain it, Picasso in Botswana passing out Pulas and on the walls of the MOMA pieces of melted egos are hanging, Without oceans, Without people, Rivers of people doing what they DON’T feel, doing what they think they’re supposed to do, what someone told them to do or something that they read in the Time Out New York, or in the Brooklyn Rail, The Setinkane drum sounds and someone ^^  says, “I’m not a musician, I’m a painter, I’m a painter, I’m a painter, I�\n",
      "['Art', 'is', 'a', 'game', 'and', 'not', 'everyone', 'is', 'invited', 'to', 'play,', 'Art', 'is', 'a', 'game', 'and', 'if', 'Picasso', 'had', 'been', 'born', 'in', 'Botswana', 'nobody', 'would', 'be', 'buying', 'postcards', 'of', 'his', 'works', 'in', 'the', 'gift', 'shop', 'of', 'the', 'MET,', 'Art', 'is', 'what', 'we', 'agree', 'art', 'is,', 'and', 'if', 'someone', 'doesn’t', 'agree,', 'we', 'call', 'them', 'a', 'heretic', 'and', 'we', 'throw', 'them', 'in', 'the', 'Hudson', 'with', 'a', 'sculpture', 'of', 'Robert', 'Indiana', 'tied', 'to', 'their', 'legs', 'to', 'see', 'if', 'they', 'float,', 'It’s', 'art', 'if', 'it', 'doesn’t', 'sink', 'in', 'the', 'river,', 'It’s', 'art', 'if', 'five', 'zeros', 'line', 'up', 'in', 'your', 'wallet,', 'It’s', 'art', 'if', 'it', 'smells', 'like', 'gold,', 'if', 'it', 'tastes', 'like', 'gold,', 'if', 'it', 'weighs', 'the', 'same', 'as', 'gold,', 'It’ll', 'be', 'art', 'if', 'you', 'stop', 'repeating', 'how', 'good', 'it', 'is', 'and', 'you', 'stop', 'to', 'look', 'at', 'it,', 'if', 'you', 'stop', 'trying', 'to', 'understand', 'it,', 'to', 'explain', 'it,', 'Picasso', 'in', 'Botswana', 'passing', 'out', 'Pulas', 'and', 'on', 'the', 'walls', 'of', 'the', 'MOMA', 'pieces', 'of', 'melted', 'egos', 'are', 'hanging,', 'Without', 'oceans,', 'Without', 'people,', 'Rivers', 'of', 'people', 'doing', 'what', 'they', 'DON’T', 'feel,', 'doing', 'what', 'they', 'think', 'they’re', 'supposed', 'to', 'do,', 'what', 'someone', 'told', 'them', 'to', 'do', 'or', 'something', 'that', 'they', 'read', 'in', 'the', 'Time', 'Out', 'New', 'York,', 'or', 'in', 'the', 'Brooklyn', 'Rail,', 'The', 'Setinkane', 'drum', 'sounds', 'and', 'someone', 'plays']\n"
     ]
    },
    {
     "name": "stderr",
     "output_type": "stream",
     "text": [
      "Setting `pad_token_id` to `eos_token_id`:50256 for open-end generation.\n"
     ]
    },
    {
     "name": "stdout",
     "output_type": "stream",
     "text": [
      "Art is a game and not everyone is invited to play, Art is a game and if Picasso had been born in Botswana nobody would be buying postcards of his works in the gift shop of the MET, Art is what we agree art is, and if someone doesn’t agree, we call them a heretic and we throw them in the Hudson with a sculpture of Robert Indiana tied to their legs to see if they float, It’s art if it doesn’t sink in the river, It’s art if five zeros line up in your wallet, It’s art if it smells like gold, if it tastes like gold, if it weighs the same as gold, It’ll be art if you stop repeating how good it is and you stop to look at it, if you stop trying to understand it, to explain it, Picasso in Botswana passing out Pulas and on the walls of the MOMA pieces of melted egos are hanging, Without oceans, Without people, Rivers of people doing what they DON’T feel, doing what they think they’re supposed to do, what someone told them to do or something that they read in the Time Out New York, or in the Brooklyn Rail, The Setinkane drum sounds and someone plays ^^  a song, It’s art if it doesn’t sink in the river, It’s art if it smells like gold, If it’\n",
      "['Art', 'is', 'a', 'game', 'and', 'not', 'everyone', 'is', 'invited', 'to', 'play,', 'Art', 'is', 'a', 'game', 'and', 'if', 'Picasso', 'had', 'been', 'born', 'in', 'Botswana', 'nobody', 'would', 'be', 'buying', 'postcards', 'of', 'his', 'works', 'in', 'the', 'gift', 'shop', 'of', 'the', 'MET,', 'Art', 'is', 'what', 'we', 'agree', 'art', 'is,', 'and', 'if', 'someone', 'doesn’t', 'agree,', 'we', 'call', 'them', 'a', 'heretic', 'and', 'we', 'throw', 'them', 'in', 'the', 'Hudson', 'with', 'a', 'sculpture', 'of', 'Robert', 'Indiana', 'tied', 'to', 'their', 'legs', 'to', 'see', 'if', 'they', 'float,', 'It’s', 'art', 'if', 'it', 'doesn’t', 'sink', 'in', 'the', 'river,', 'It’s', 'art', 'if', 'five', 'zeros', 'line', 'up', 'in', 'your', 'wallet,', 'It’s', 'art', 'if', 'it', 'smells', 'like', 'gold,', 'if', 'it', 'tastes', 'like', 'gold,', 'if', 'it', 'weighs', 'the', 'same', 'as', 'gold,', 'It’ll', 'be', 'art', 'if', 'you', 'stop', 'repeating', 'how', 'good', 'it', 'is', 'and', 'you', 'stop', 'to', 'look', 'at', 'it,', 'if', 'you', 'stop', 'trying', 'to', 'understand', 'it,', 'to', 'explain', 'it,', 'Picasso', 'in', 'Botswana', 'passing', 'out', 'Pulas', 'and', 'on', 'the', 'walls', 'of', 'the', 'MOMA', 'pieces', 'of', 'melted', 'egos', 'are', 'hanging,', 'Without', 'oceans,', 'Without', 'people,', 'Rivers', 'of', 'people', 'doing', 'what', 'they', 'DON’T', 'feel,', 'doing', 'what', 'they', 'think', 'they’re', 'supposed', 'to', 'do,', 'what', 'someone', 'told', 'them', 'to', 'do', 'or', 'something', 'that', 'they', 'read', 'in', 'the', 'Time', 'Out', 'New', 'York,', 'or', 'in', 'the', 'Brooklyn', 'Rail,', 'The', 'Setinkane', 'drum', 'sounds', 'and', 'someone', 'plays', 'the']\n"
     ]
    },
    {
     "name": "stderr",
     "output_type": "stream",
     "text": [
      "Setting `pad_token_id` to `eos_token_id`:50256 for open-end generation.\n"
     ]
    },
    {
     "name": "stdout",
     "output_type": "stream",
     "text": [
      "Art is a game and not everyone is invited to play, Art is a game and if Picasso had been born in Botswana nobody would be buying postcards of his works in the gift shop of the MET, Art is what we agree art is, and if someone doesn’t agree, we call them a heretic and we throw them in the Hudson with a sculpture of Robert Indiana tied to their legs to see if they float, It’s art if it doesn’t sink in the river, It’s art if five zeros line up in your wallet, It’s art if it smells like gold, if it tastes like gold, if it weighs the same as gold, It’ll be art if you stop repeating how good it is and you stop to look at it, if you stop trying to understand it, to explain it, Picasso in Botswana passing out Pulas and on the walls of the MOMA pieces of melted egos are hanging, Without oceans, Without people, Rivers of people doing what they DON’T feel, doing what they think they’re supposed to do, what someone told them to do or something that they read in the Time Out New York, or in the Brooklyn Rail, The Setinkane drum sounds and someone plays the ^^  drums, It’s art if it doesn’t sink in the river, It’s art if it smells like gold, If it’\n",
      "['Art', 'is', 'a', 'game', 'and', 'not', 'everyone', 'is', 'invited', 'to', 'play,', 'Art', 'is', 'a', 'game', 'and', 'if', 'Picasso', 'had', 'been', 'born', 'in', 'Botswana', 'nobody', 'would', 'be', 'buying', 'postcards', 'of', 'his', 'works', 'in', 'the', 'gift', 'shop', 'of', 'the', 'MET,', 'Art', 'is', 'what', 'we', 'agree', 'art', 'is,', 'and', 'if', 'someone', 'doesn’t', 'agree,', 'we', 'call', 'them', 'a', 'heretic', 'and', 'we', 'throw', 'them', 'in', 'the', 'Hudson', 'with', 'a', 'sculpture', 'of', 'Robert', 'Indiana', 'tied', 'to', 'their', 'legs', 'to', 'see', 'if', 'they', 'float,', 'It’s', 'art', 'if', 'it', 'doesn’t', 'sink', 'in', 'the', 'river,', 'It’s', 'art', 'if', 'five', 'zeros', 'line', 'up', 'in', 'your', 'wallet,', 'It’s', 'art', 'if', 'it', 'smells', 'like', 'gold,', 'if', 'it', 'tastes', 'like', 'gold,', 'if', 'it', 'weighs', 'the', 'same', 'as', 'gold,', 'It’ll', 'be', 'art', 'if', 'you', 'stop', 'repeating', 'how', 'good', 'it', 'is', 'and', 'you', 'stop', 'to', 'look', 'at', 'it,', 'if', 'you', 'stop', 'trying', 'to', 'understand', 'it,', 'to', 'explain', 'it,', 'Picasso', 'in', 'Botswana', 'passing', 'out', 'Pulas', 'and', 'on', 'the', 'walls', 'of', 'the', 'MOMA', 'pieces', 'of', 'melted', 'egos', 'are', 'hanging,', 'Without', 'oceans,', 'Without', 'people,', 'Rivers', 'of', 'people', 'doing', 'what', 'they', 'DON’T', 'feel,', 'doing', 'what', 'they', 'think', 'they’re', 'supposed', 'to', 'do,', 'what', 'someone', 'told', 'them', 'to', 'do', 'or', 'something', 'that', 'they', 'read', 'in', 'the', 'Time', 'Out', 'New', 'York,', 'or', 'in', 'the', 'Brooklyn', 'Rail,', 'The', 'Setinkane', 'drum', 'sounds', 'and', 'someone', 'plays', 'the', 'Phala']\n"
     ]
    },
    {
     "name": "stderr",
     "output_type": "stream",
     "text": [
      "Setting `pad_token_id` to `eos_token_id`:50256 for open-end generation.\n"
     ]
    },
    {
     "name": "stdout",
     "output_type": "stream",
     "text": [
      "Art is a game and not everyone is invited to play, Art is a game and if Picasso had been born in Botswana nobody would be buying postcards of his works in the gift shop of the MET, Art is what we agree art is, and if someone doesn’t agree, we call them a heretic and we throw them in the Hudson with a sculpture of Robert Indiana tied to their legs to see if they float, It’s art if it doesn’t sink in the river, It’s art if five zeros line up in your wallet, It’s art if it smells like gold, if it tastes like gold, if it weighs the same as gold, It’ll be art if you stop repeating how good it is and you stop to look at it, if you stop trying to understand it, to explain it, Picasso in Botswana passing out Pulas and on the walls of the MOMA pieces of melted egos are hanging, Without oceans, Without people, Rivers of people doing what they DON’T feel, doing what they think they’re supposed to do, what someone told them to do or something that they read in the Time Out New York, or in the Brooklyn Rail, The Setinkane drum sounds and someone plays the Phala ^^ ise drum, The Beatles in the Beatles’s album, The Beatles in the Beatles’s album, The Beatles in the Beatles’s album\n",
      "['Art', 'is', 'a', 'game', 'and', 'not', 'everyone', 'is', 'invited', 'to', 'play,', 'Art', 'is', 'a', 'game', 'and', 'if', 'Picasso', 'had', 'been', 'born', 'in', 'Botswana', 'nobody', 'would', 'be', 'buying', 'postcards', 'of', 'his', 'works', 'in', 'the', 'gift', 'shop', 'of', 'the', 'MET,', 'Art', 'is', 'what', 'we', 'agree', 'art', 'is,', 'and', 'if', 'someone', 'doesn’t', 'agree,', 'we', 'call', 'them', 'a', 'heretic', 'and', 'we', 'throw', 'them', 'in', 'the', 'Hudson', 'with', 'a', 'sculpture', 'of', 'Robert', 'Indiana', 'tied', 'to', 'their', 'legs', 'to', 'see', 'if', 'they', 'float,', 'It’s', 'art', 'if', 'it', 'doesn’t', 'sink', 'in', 'the', 'river,', 'It’s', 'art', 'if', 'five', 'zeros', 'line', 'up', 'in', 'your', 'wallet,', 'It’s', 'art', 'if', 'it', 'smells', 'like', 'gold,', 'if', 'it', 'tastes', 'like', 'gold,', 'if', 'it', 'weighs', 'the', 'same', 'as', 'gold,', 'It’ll', 'be', 'art', 'if', 'you', 'stop', 'repeating', 'how', 'good', 'it', 'is', 'and', 'you', 'stop', 'to', 'look', 'at', 'it,', 'if', 'you', 'stop', 'trying', 'to', 'understand', 'it,', 'to', 'explain', 'it,', 'Picasso', 'in', 'Botswana', 'passing', 'out', 'Pulas', 'and', 'on', 'the', 'walls', 'of', 'the', 'MOMA', 'pieces', 'of', 'melted', 'egos', 'are', 'hanging,', 'Without', 'oceans,', 'Without', 'people,', 'Rivers', 'of', 'people', 'doing', 'what', 'they', 'DON’T', 'feel,', 'doing', 'what', 'they', 'think', 'they’re', 'supposed', 'to', 'do,', 'what', 'someone', 'told', 'them', 'to', 'do', 'or', 'something', 'that', 'they', 'read', 'in', 'the', 'Time', 'Out', 'New', 'York,', 'or', 'in', 'the', 'Brooklyn', 'Rail,', 'The', 'Setinkane', 'drum', 'sounds', 'and', 'someone', 'plays', 'the', 'Phala', 'Picasso']\n"
     ]
    },
    {
     "name": "stderr",
     "output_type": "stream",
     "text": [
      "Setting `pad_token_id` to `eos_token_id`:50256 for open-end generation.\n"
     ]
    },
    {
     "name": "stdout",
     "output_type": "stream",
     "text": [
      "Art is a game and not everyone is invited to play, Art is a game and if Picasso had been born in Botswana nobody would be buying postcards of his works in the gift shop of the MET, Art is what we agree art is, and if someone doesn’t agree, we call them a heretic and we throw them in the Hudson with a sculpture of Robert Indiana tied to their legs to see if they float, It’s art if it doesn’t sink in the river, It’s art if five zeros line up in your wallet, It’s art if it smells like gold, if it tastes like gold, if it weighs the same as gold, It’ll be art if you stop repeating how good it is and you stop to look at it, if you stop trying to understand it, to explain it, Picasso in Botswana passing out Pulas and on the walls of the MOMA pieces of melted egos are hanging, Without oceans, Without people, Rivers of people doing what they DON’T feel, doing what they think they’re supposed to do, what someone told them to do or something that they read in the Time Out New York, or in the Brooklyn Rail, The Setinkane drum sounds and someone plays the Phala Picasso ^^ , The Phala Picasso, The Phala Picasso, The Phala Picasso, The Phala Picasso, The Phala Picasso,\n",
      "['Art', 'is', 'a', 'game', 'and', 'not', 'everyone', 'is', 'invited', 'to', 'play,', 'Art', 'is', 'a', 'game', 'and', 'if', 'Picasso', 'had', 'been', 'born', 'in', 'Botswana', 'nobody', 'would', 'be', 'buying', 'postcards', 'of', 'his', 'works', 'in', 'the', 'gift', 'shop', 'of', 'the', 'MET,', 'Art', 'is', 'what', 'we', 'agree', 'art', 'is,', 'and', 'if', 'someone', 'doesn’t', 'agree,', 'we', 'call', 'them', 'a', 'heretic', 'and', 'we', 'throw', 'them', 'in', 'the', 'Hudson', 'with', 'a', 'sculpture', 'of', 'Robert', 'Indiana', 'tied', 'to', 'their', 'legs', 'to', 'see', 'if', 'they', 'float,', 'It’s', 'art', 'if', 'it', 'doesn’t', 'sink', 'in', 'the', 'river,', 'It’s', 'art', 'if', 'five', 'zeros', 'line', 'up', 'in', 'your', 'wallet,', 'It’s', 'art', 'if', 'it', 'smells', 'like', 'gold,', 'if', 'it', 'tastes', 'like', 'gold,', 'if', 'it', 'weighs', 'the', 'same', 'as', 'gold,', 'It’ll', 'be', 'art', 'if', 'you', 'stop', 'repeating', 'how', 'good', 'it', 'is', 'and', 'you', 'stop', 'to', 'look', 'at', 'it,', 'if', 'you', 'stop', 'trying', 'to', 'understand', 'it,', 'to', 'explain', 'it,', 'Picasso', 'in', 'Botswana', 'passing', 'out', 'Pulas', 'and', 'on', 'the', 'walls', 'of', 'the', 'MOMA', 'pieces', 'of', 'melted', 'egos', 'are', 'hanging,', 'Without', 'oceans,', 'Without', 'people,', 'Rivers', 'of', 'people', 'doing', 'what', 'they', 'DON’T', 'feel,', 'doing', 'what', 'they', 'think', 'they’re', 'supposed', 'to', 'do,', 'what', 'someone', 'told', 'them', 'to', 'do', 'or', 'something', 'that', 'they', 'read', 'in', 'the', 'Time', 'Out', 'New', 'York,', 'or', 'in', 'the', 'Brooklyn', 'Rail,', 'The', 'Setinkane', 'drum', 'sounds', 'and', 'someone', 'plays', 'the', 'Phala', 'Picasso', 'slowly']\n"
     ]
    },
    {
     "name": "stderr",
     "output_type": "stream",
     "text": [
      "Setting `pad_token_id` to `eos_token_id`:50256 for open-end generation.\n"
     ]
    },
    {
     "name": "stdout",
     "output_type": "stream",
     "text": [
      "Art is a game and not everyone is invited to play, Art is a game and if Picasso had been born in Botswana nobody would be buying postcards of his works in the gift shop of the MET, Art is what we agree art is, and if someone doesn’t agree, we call them a heretic and we throw them in the Hudson with a sculpture of Robert Indiana tied to their legs to see if they float, It’s art if it doesn’t sink in the river, It’s art if five zeros line up in your wallet, It’s art if it smells like gold, if it tastes like gold, if it weighs the same as gold, It’ll be art if you stop repeating how good it is and you stop to look at it, if you stop trying to understand it, to explain it, Picasso in Botswana passing out Pulas and on the walls of the MOMA pieces of melted egos are hanging, Without oceans, Without people, Rivers of people doing what they DON’T feel, doing what they think they’re supposed to do, what someone told them to do or something that they read in the Time Out New York, or in the Brooklyn Rail, The Setinkane drum sounds and someone plays the Phala Picasso slowly ^^ , and then the music stops, and the music stops, and the music stops, and the music stops, and the music stops, and the music\n",
      "['Art', 'is', 'a', 'game', 'and', 'not', 'everyone', 'is', 'invited', 'to', 'play,', 'Art', 'is', 'a', 'game', 'and', 'if', 'Picasso', 'had', 'been', 'born', 'in', 'Botswana', 'nobody', 'would', 'be', 'buying', 'postcards', 'of', 'his', 'works', 'in', 'the', 'gift', 'shop', 'of', 'the', 'MET,', 'Art', 'is', 'what', 'we', 'agree', 'art', 'is,', 'and', 'if', 'someone', 'doesn’t', 'agree,', 'we', 'call', 'them', 'a', 'heretic', 'and', 'we', 'throw', 'them', 'in', 'the', 'Hudson', 'with', 'a', 'sculpture', 'of', 'Robert', 'Indiana', 'tied', 'to', 'their', 'legs', 'to', 'see', 'if', 'they', 'float,', 'It’s', 'art', 'if', 'it', 'doesn’t', 'sink', 'in', 'the', 'river,', 'It’s', 'art', 'if', 'five', 'zeros', 'line', 'up', 'in', 'your', 'wallet,', 'It’s', 'art', 'if', 'it', 'smells', 'like', 'gold,', 'if', 'it', 'tastes', 'like', 'gold,', 'if', 'it', 'weighs', 'the', 'same', 'as', 'gold,', 'It’ll', 'be', 'art', 'if', 'you', 'stop', 'repeating', 'how', 'good', 'it', 'is', 'and', 'you', 'stop', 'to', 'look', 'at', 'it,', 'if', 'you', 'stop', 'trying', 'to', 'understand', 'it,', 'to', 'explain', 'it,', 'Picasso', 'in', 'Botswana', 'passing', 'out', 'Pulas', 'and', 'on', 'the', 'walls', 'of', 'the', 'MOMA', 'pieces', 'of', 'melted', 'egos', 'are', 'hanging,', 'Without', 'oceans,', 'Without', 'people,', 'Rivers', 'of', 'people', 'doing', 'what', 'they', 'DON’T', 'feel,', 'doing', 'what', 'they', 'think', 'they’re', 'supposed', 'to', 'do,', 'what', 'someone', 'told', 'them', 'to', 'do', 'or', 'something', 'that', 'they', 'read', 'in', 'the', 'Time', 'Out', 'New', 'York,', 'or', 'in', 'the', 'Brooklyn', 'Rail,', 'The', 'Setinkane', 'drum', 'sounds', 'and', 'someone', 'plays', 'the', 'Phala', 'Picasso', 'slowly', 'walks']\n"
     ]
    },
    {
     "name": "stderr",
     "output_type": "stream",
     "text": [
      "Setting `pad_token_id` to `eos_token_id`:50256 for open-end generation.\n"
     ]
    },
    {
     "name": "stdout",
     "output_type": "stream",
     "text": [
      "Art is a game and not everyone is invited to play, Art is a game and if Picasso had been born in Botswana nobody would be buying postcards of his works in the gift shop of the MET, Art is what we agree art is, and if someone doesn’t agree, we call them a heretic and we throw them in the Hudson with a sculpture of Robert Indiana tied to their legs to see if they float, It’s art if it doesn’t sink in the river, It’s art if five zeros line up in your wallet, It’s art if it smells like gold, if it tastes like gold, if it weighs the same as gold, It’ll be art if you stop repeating how good it is and you stop to look at it, if you stop trying to understand it, to explain it, Picasso in Botswana passing out Pulas and on the walls of the MOMA pieces of melted egos are hanging, Without oceans, Without people, Rivers of people doing what they DON’T feel, doing what they think they’re supposed to do, what someone told them to do or something that they read in the Time Out New York, or in the Brooklyn Rail, The Setinkane drum sounds and someone plays the Phala Picasso slowly walks ^^  on the floor, The setinkane is a piece of art, a piece of art, a piece of art, a piece of art,\n",
      "['Art', 'is', 'a', 'game', 'and', 'not', 'everyone', 'is', 'invited', 'to', 'play,', 'Art', 'is', 'a', 'game', 'and', 'if', 'Picasso', 'had', 'been', 'born', 'in', 'Botswana', 'nobody', 'would', 'be', 'buying', 'postcards', 'of', 'his', 'works', 'in', 'the', 'gift', 'shop', 'of', 'the', 'MET,', 'Art', 'is', 'what', 'we', 'agree', 'art', 'is,', 'and', 'if', 'someone', 'doesn’t', 'agree,', 'we', 'call', 'them', 'a', 'heretic', 'and', 'we', 'throw', 'them', 'in', 'the', 'Hudson', 'with', 'a', 'sculpture', 'of', 'Robert', 'Indiana', 'tied', 'to', 'their', 'legs', 'to', 'see', 'if', 'they', 'float,', 'It’s', 'art', 'if', 'it', 'doesn’t', 'sink', 'in', 'the', 'river,', 'It’s', 'art', 'if', 'five', 'zeros', 'line', 'up', 'in', 'your', 'wallet,', 'It’s', 'art', 'if', 'it', 'smells', 'like', 'gold,', 'if', 'it', 'tastes', 'like', 'gold,', 'if', 'it', 'weighs', 'the', 'same', 'as', 'gold,', 'It’ll', 'be', 'art', 'if', 'you', 'stop', 'repeating', 'how', 'good', 'it', 'is', 'and', 'you', 'stop', 'to', 'look', 'at', 'it,', 'if', 'you', 'stop', 'trying', 'to', 'understand', 'it,', 'to', 'explain', 'it,', 'Picasso', 'in', 'Botswana', 'passing', 'out', 'Pulas', 'and', 'on', 'the', 'walls', 'of', 'the', 'MOMA', 'pieces', 'of', 'melted', 'egos', 'are', 'hanging,', 'Without', 'oceans,', 'Without', 'people,', 'Rivers', 'of', 'people', 'doing', 'what', 'they', 'DON’T', 'feel,', 'doing', 'what', 'they', 'think', 'they’re', 'supposed', 'to', 'do,', 'what', 'someone', 'told', 'them', 'to', 'do', 'or', 'something', 'that', 'they', 'read', 'in', 'the', 'Time', 'Out', 'New', 'York,', 'or', 'in', 'the', 'Brooklyn', 'Rail,', 'The', 'Setinkane', 'drum', 'sounds', 'and', 'someone', 'plays', 'the', 'Phala', 'Picasso', 'slowly', 'walks', 'through']\n"
     ]
    },
    {
     "name": "stderr",
     "output_type": "stream",
     "text": [
      "Setting `pad_token_id` to `eos_token_id`:50256 for open-end generation.\n"
     ]
    },
    {
     "name": "stdout",
     "output_type": "stream",
     "text": [
      "Art is a game and not everyone is invited to play, Art is a game and if Picasso had been born in Botswana nobody would be buying postcards of his works in the gift shop of the MET, Art is what we agree art is, and if someone doesn’t agree, we call them a heretic and we throw them in the Hudson with a sculpture of Robert Indiana tied to their legs to see if they float, It’s art if it doesn’t sink in the river, It’s art if five zeros line up in your wallet, It’s art if it smells like gold, if it tastes like gold, if it weighs the same as gold, It’ll be art if you stop repeating how good it is and you stop to look at it, if you stop trying to understand it, to explain it, Picasso in Botswana passing out Pulas and on the walls of the MOMA pieces of melted egos are hanging, Without oceans, Without people, Rivers of people doing what they DON’T feel, doing what they think they’re supposed to do, what someone told them to do or something that they read in the Time Out New York, or in the Brooklyn Rail, The Setinkane drum sounds and someone plays the Phala Picasso slowly walks through ^^  the streets of the city, The setinkane is a piece of art, a piece of art, a piece of art, a piece\n",
      "['Art', 'is', 'a', 'game', 'and', 'not', 'everyone', 'is', 'invited', 'to', 'play,', 'Art', 'is', 'a', 'game', 'and', 'if', 'Picasso', 'had', 'been', 'born', 'in', 'Botswana', 'nobody', 'would', 'be', 'buying', 'postcards', 'of', 'his', 'works', 'in', 'the', 'gift', 'shop', 'of', 'the', 'MET,', 'Art', 'is', 'what', 'we', 'agree', 'art', 'is,', 'and', 'if', 'someone', 'doesn’t', 'agree,', 'we', 'call', 'them', 'a', 'heretic', 'and', 'we', 'throw', 'them', 'in', 'the', 'Hudson', 'with', 'a', 'sculpture', 'of', 'Robert', 'Indiana', 'tied', 'to', 'their', 'legs', 'to', 'see', 'if', 'they', 'float,', 'It’s', 'art', 'if', 'it', 'doesn’t', 'sink', 'in', 'the', 'river,', 'It’s', 'art', 'if', 'five', 'zeros', 'line', 'up', 'in', 'your', 'wallet,', 'It’s', 'art', 'if', 'it', 'smells', 'like', 'gold,', 'if', 'it', 'tastes', 'like', 'gold,', 'if', 'it', 'weighs', 'the', 'same', 'as', 'gold,', 'It’ll', 'be', 'art', 'if', 'you', 'stop', 'repeating', 'how', 'good', 'it', 'is', 'and', 'you', 'stop', 'to', 'look', 'at', 'it,', 'if', 'you', 'stop', 'trying', 'to', 'understand', 'it,', 'to', 'explain', 'it,', 'Picasso', 'in', 'Botswana', 'passing', 'out', 'Pulas', 'and', 'on', 'the', 'walls', 'of', 'the', 'MOMA', 'pieces', 'of', 'melted', 'egos', 'are', 'hanging,', 'Without', 'oceans,', 'Without', 'people,', 'Rivers', 'of', 'people', 'doing', 'what', 'they', 'DON’T', 'feel,', 'doing', 'what', 'they', 'think', 'they’re', 'supposed', 'to', 'do,', 'what', 'someone', 'told', 'them', 'to', 'do', 'or', 'something', 'that', 'they', 'read', 'in', 'the', 'Time', 'Out', 'New', 'York,', 'or', 'in', 'the', 'Brooklyn', 'Rail,', 'The', 'Setinkane', 'drum', 'sounds', 'and', 'someone', 'plays', 'the', 'Phala', 'Picasso', 'slowly', 'walks', 'through', 'the']\n"
     ]
    },
    {
     "name": "stderr",
     "output_type": "stream",
     "text": [
      "Setting `pad_token_id` to `eos_token_id`:50256 for open-end generation.\n"
     ]
    },
    {
     "name": "stdout",
     "output_type": "stream",
     "text": [
      "Art is a game and not everyone is invited to play, Art is a game and if Picasso had been born in Botswana nobody would be buying postcards of his works in the gift shop of the MET, Art is what we agree art is, and if someone doesn’t agree, we call them a heretic and we throw them in the Hudson with a sculpture of Robert Indiana tied to their legs to see if they float, It’s art if it doesn’t sink in the river, It’s art if five zeros line up in your wallet, It’s art if it smells like gold, if it tastes like gold, if it weighs the same as gold, It’ll be art if you stop repeating how good it is and you stop to look at it, if you stop trying to understand it, to explain it, Picasso in Botswana passing out Pulas and on the walls of the MOMA pieces of melted egos are hanging, Without oceans, Without people, Rivers of people doing what they DON’T feel, doing what they think they’re supposed to do, what someone told them to do or something that they read in the Time Out New York, or in the Brooklyn Rail, The Setinkane drum sounds and someone plays the Phala Picasso slowly walks through the ^^  streets of the city, The setinkane is a piece of art, a piece of art, a piece of art, a piece\n",
      "['Art', 'is', 'a', 'game', 'and', 'not', 'everyone', 'is', 'invited', 'to', 'play,', 'Art', 'is', 'a', 'game', 'and', 'if', 'Picasso', 'had', 'been', 'born', 'in', 'Botswana', 'nobody', 'would', 'be', 'buying', 'postcards', 'of', 'his', 'works', 'in', 'the', 'gift', 'shop', 'of', 'the', 'MET,', 'Art', 'is', 'what', 'we', 'agree', 'art', 'is,', 'and', 'if', 'someone', 'doesn’t', 'agree,', 'we', 'call', 'them', 'a', 'heretic', 'and', 'we', 'throw', 'them', 'in', 'the', 'Hudson', 'with', 'a', 'sculpture', 'of', 'Robert', 'Indiana', 'tied', 'to', 'their', 'legs', 'to', 'see', 'if', 'they', 'float,', 'It’s', 'art', 'if', 'it', 'doesn’t', 'sink', 'in', 'the', 'river,', 'It’s', 'art', 'if', 'five', 'zeros', 'line', 'up', 'in', 'your', 'wallet,', 'It’s', 'art', 'if', 'it', 'smells', 'like', 'gold,', 'if', 'it', 'tastes', 'like', 'gold,', 'if', 'it', 'weighs', 'the', 'same', 'as', 'gold,', 'It’ll', 'be', 'art', 'if', 'you', 'stop', 'repeating', 'how', 'good', 'it', 'is', 'and', 'you', 'stop', 'to', 'look', 'at', 'it,', 'if', 'you', 'stop', 'trying', 'to', 'understand', 'it,', 'to', 'explain', 'it,', 'Picasso', 'in', 'Botswana', 'passing', 'out', 'Pulas', 'and', 'on', 'the', 'walls', 'of', 'the', 'MOMA', 'pieces', 'of', 'melted', 'egos', 'are', 'hanging,', 'Without', 'oceans,', 'Without', 'people,', 'Rivers', 'of', 'people', 'doing', 'what', 'they', 'DON’T', 'feel,', 'doing', 'what', 'they', 'think', 'they’re', 'supposed', 'to', 'do,', 'what', 'someone', 'told', 'them', 'to', 'do', 'or', 'something', 'that', 'they', 'read', 'in', 'the', 'Time', 'Out', 'New', 'York,', 'or', 'in', 'the', 'Brooklyn', 'Rail,', 'The', 'Setinkane', 'drum', 'sounds', 'and', 'someone', 'plays', 'the', 'Phala', 'Picasso', 'slowly', 'walks', 'through', 'the', 'streets']\n"
     ]
    },
    {
     "name": "stderr",
     "output_type": "stream",
     "text": [
      "Setting `pad_token_id` to `eos_token_id`:50256 for open-end generation.\n"
     ]
    },
    {
     "name": "stdout",
     "output_type": "stream",
     "text": [
      "Art is a game and not everyone is invited to play, Art is a game and if Picasso had been born in Botswana nobody would be buying postcards of his works in the gift shop of the MET, Art is what we agree art is, and if someone doesn’t agree, we call them a heretic and we throw them in the Hudson with a sculpture of Robert Indiana tied to their legs to see if they float, It’s art if it doesn’t sink in the river, It’s art if five zeros line up in your wallet, It’s art if it smells like gold, if it tastes like gold, if it weighs the same as gold, It’ll be art if you stop repeating how good it is and you stop to look at it, if you stop trying to understand it, to explain it, Picasso in Botswana passing out Pulas and on the walls of the MOMA pieces of melted egos are hanging, Without oceans, Without people, Rivers of people doing what they DON’T feel, doing what they think they’re supposed to do, what someone told them to do or something that they read in the Time Out New York, or in the Brooklyn Rail, The Setinkane drum sounds and someone plays the Phala Picasso slowly walks through the streets ^^  of the city, The setinkane is a piece of art, a piece of art, a piece of art, a piece\n",
      "['Art', 'is', 'a', 'game', 'and', 'not', 'everyone', 'is', 'invited', 'to', 'play,', 'Art', 'is', 'a', 'game', 'and', 'if', 'Picasso', 'had', 'been', 'born', 'in', 'Botswana', 'nobody', 'would', 'be', 'buying', 'postcards', 'of', 'his', 'works', 'in', 'the', 'gift', 'shop', 'of', 'the', 'MET,', 'Art', 'is', 'what', 'we', 'agree', 'art', 'is,', 'and', 'if', 'someone', 'doesn’t', 'agree,', 'we', 'call', 'them', 'a', 'heretic', 'and', 'we', 'throw', 'them', 'in', 'the', 'Hudson', 'with', 'a', 'sculpture', 'of', 'Robert', 'Indiana', 'tied', 'to', 'their', 'legs', 'to', 'see', 'if', 'they', 'float,', 'It’s', 'art', 'if', 'it', 'doesn’t', 'sink', 'in', 'the', 'river,', 'It’s', 'art', 'if', 'five', 'zeros', 'line', 'up', 'in', 'your', 'wallet,', 'It’s', 'art', 'if', 'it', 'smells', 'like', 'gold,', 'if', 'it', 'tastes', 'like', 'gold,', 'if', 'it', 'weighs', 'the', 'same', 'as', 'gold,', 'It’ll', 'be', 'art', 'if', 'you', 'stop', 'repeating', 'how', 'good', 'it', 'is', 'and', 'you', 'stop', 'to', 'look', 'at', 'it,', 'if', 'you', 'stop', 'trying', 'to', 'understand', 'it,', 'to', 'explain', 'it,', 'Picasso', 'in', 'Botswana', 'passing', 'out', 'Pulas', 'and', 'on', 'the', 'walls', 'of', 'the', 'MOMA', 'pieces', 'of', 'melted', 'egos', 'are', 'hanging,', 'Without', 'oceans,', 'Without', 'people,', 'Rivers', 'of', 'people', 'doing', 'what', 'they', 'DON’T', 'feel,', 'doing', 'what', 'they', 'think', 'they’re', 'supposed', 'to', 'do,', 'what', 'someone', 'told', 'them', 'to', 'do', 'or', 'something', 'that', 'they', 'read', 'in', 'the', 'Time', 'Out', 'New', 'York,', 'or', 'in', 'the', 'Brooklyn', 'Rail,', 'The', 'Setinkane', 'drum', 'sounds', 'and', 'someone', 'plays', 'the', 'Phala', 'Picasso', 'slowly', 'walks', 'through', 'the', 'streets', 'of']\n"
     ]
    },
    {
     "name": "stderr",
     "output_type": "stream",
     "text": [
      "Setting `pad_token_id` to `eos_token_id`:50256 for open-end generation.\n"
     ]
    },
    {
     "name": "stdout",
     "output_type": "stream",
     "text": [
      "Art is a game and not everyone is invited to play, Art is a game and if Picasso had been born in Botswana nobody would be buying postcards of his works in the gift shop of the MET, Art is what we agree art is, and if someone doesn’t agree, we call them a heretic and we throw them in the Hudson with a sculpture of Robert Indiana tied to their legs to see if they float, It’s art if it doesn’t sink in the river, It’s art if five zeros line up in your wallet, It’s art if it smells like gold, if it tastes like gold, if it weighs the same as gold, It’ll be art if you stop repeating how good it is and you stop to look at it, if you stop trying to understand it, to explain it, Picasso in Botswana passing out Pulas and on the walls of the MOMA pieces of melted egos are hanging, Without oceans, Without people, Rivers of people doing what they DON’T feel, doing what they think they’re supposed to do, what someone told them to do or something that they read in the Time Out New York, or in the Brooklyn Rail, The Setinkane drum sounds and someone plays the Phala Picasso slowly walks through the streets of ^^  the city, The setinkane is a piece of art, a piece of art, a piece of art, a piece\n",
      "['Art', 'is', 'a', 'game', 'and', 'not', 'everyone', 'is', 'invited', 'to', 'play,', 'Art', 'is', 'a', 'game', 'and', 'if', 'Picasso', 'had', 'been', 'born', 'in', 'Botswana', 'nobody', 'would', 'be', 'buying', 'postcards', 'of', 'his', 'works', 'in', 'the', 'gift', 'shop', 'of', 'the', 'MET,', 'Art', 'is', 'what', 'we', 'agree', 'art', 'is,', 'and', 'if', 'someone', 'doesn’t', 'agree,', 'we', 'call', 'them', 'a', 'heretic', 'and', 'we', 'throw', 'them', 'in', 'the', 'Hudson', 'with', 'a', 'sculpture', 'of', 'Robert', 'Indiana', 'tied', 'to', 'their', 'legs', 'to', 'see', 'if', 'they', 'float,', 'It’s', 'art', 'if', 'it', 'doesn’t', 'sink', 'in', 'the', 'river,', 'It’s', 'art', 'if', 'five', 'zeros', 'line', 'up', 'in', 'your', 'wallet,', 'It’s', 'art', 'if', 'it', 'smells', 'like', 'gold,', 'if', 'it', 'tastes', 'like', 'gold,', 'if', 'it', 'weighs', 'the', 'same', 'as', 'gold,', 'It’ll', 'be', 'art', 'if', 'you', 'stop', 'repeating', 'how', 'good', 'it', 'is', 'and', 'you', 'stop', 'to', 'look', 'at', 'it,', 'if', 'you', 'stop', 'trying', 'to', 'understand', 'it,', 'to', 'explain', 'it,', 'Picasso', 'in', 'Botswana', 'passing', 'out', 'Pulas', 'and', 'on', 'the', 'walls', 'of', 'the', 'MOMA', 'pieces', 'of', 'melted', 'egos', 'are', 'hanging,', 'Without', 'oceans,', 'Without', 'people,', 'Rivers', 'of', 'people', 'doing', 'what', 'they', 'DON’T', 'feel,', 'doing', 'what', 'they', 'think', 'they’re', 'supposed', 'to', 'do,', 'what', 'someone', 'told', 'them', 'to', 'do', 'or', 'something', 'that', 'they', 'read', 'in', 'the', 'Time', 'Out', 'New', 'York,', 'or', 'in', 'the', 'Brooklyn', 'Rail,', 'The', 'Setinkane', 'drum', 'sounds', 'and', 'someone', 'plays', 'the', 'Phala', 'Picasso', 'slowly', 'walks', 'through', 'the', 'streets', 'of', 'Gaborone']\n"
     ]
    },
    {
     "name": "stderr",
     "output_type": "stream",
     "text": [
      "Setting `pad_token_id` to `eos_token_id`:50256 for open-end generation.\n"
     ]
    },
    {
     "name": "stdout",
     "output_type": "stream",
     "text": [
      "Art is a game and not everyone is invited to play, Art is a game and if Picasso had been born in Botswana nobody would be buying postcards of his works in the gift shop of the MET, Art is what we agree art is, and if someone doesn’t agree, we call them a heretic and we throw them in the Hudson with a sculpture of Robert Indiana tied to their legs to see if they float, It’s art if it doesn’t sink in the river, It’s art if five zeros line up in your wallet, It’s art if it smells like gold, if it tastes like gold, if it weighs the same as gold, It’ll be art if you stop repeating how good it is and you stop to look at it, if you stop trying to understand it, to explain it, Picasso in Botswana passing out Pulas and on the walls of the MOMA pieces of melted egos are hanging, Without oceans, Without people, Rivers of people doing what they DON’T feel, doing what they think they’re supposed to do, what someone told them to do or something that they read in the Time Out New York, or in the Brooklyn Rail, The Setinkane drum sounds and someone plays the Phala Picasso slowly walks through the streets of Gaborone ^^ , the city of the future, the future, the future, the future, the future, the future, the future\n",
      "['Art', 'is', 'a', 'game', 'and', 'not', 'everyone', 'is', 'invited', 'to', 'play,', 'Art', 'is', 'a', 'game', 'and', 'if', 'Picasso', 'had', 'been', 'born', 'in', 'Botswana', 'nobody', 'would', 'be', 'buying', 'postcards', 'of', 'his', 'works', 'in', 'the', 'gift', 'shop', 'of', 'the', 'MET,', 'Art', 'is', 'what', 'we', 'agree', 'art', 'is,', 'and', 'if', 'someone', 'doesn’t', 'agree,', 'we', 'call', 'them', 'a', 'heretic', 'and', 'we', 'throw', 'them', 'in', 'the', 'Hudson', 'with', 'a', 'sculpture', 'of', 'Robert', 'Indiana', 'tied', 'to', 'their', 'legs', 'to', 'see', 'if', 'they', 'float,', 'It’s', 'art', 'if', 'it', 'doesn’t', 'sink', 'in', 'the', 'river,', 'It’s', 'art', 'if', 'five', 'zeros', 'line', 'up', 'in', 'your', 'wallet,', 'It’s', 'art', 'if', 'it', 'smells', 'like', 'gold,', 'if', 'it', 'tastes', 'like', 'gold,', 'if', 'it', 'weighs', 'the', 'same', 'as', 'gold,', 'It’ll', 'be', 'art', 'if', 'you', 'stop', 'repeating', 'how', 'good', 'it', 'is', 'and', 'you', 'stop', 'to', 'look', 'at', 'it,', 'if', 'you', 'stop', 'trying', 'to', 'understand', 'it,', 'to', 'explain', 'it,', 'Picasso', 'in', 'Botswana', 'passing', 'out', 'Pulas', 'and', 'on', 'the', 'walls', 'of', 'the', 'MOMA', 'pieces', 'of', 'melted', 'egos', 'are', 'hanging,', 'Without', 'oceans,', 'Without', 'people,', 'Rivers', 'of', 'people', 'doing', 'what', 'they', 'DON’T', 'feel,', 'doing', 'what', 'they', 'think', 'they’re', 'supposed', 'to', 'do,', 'what', 'someone', 'told', 'them', 'to', 'do', 'or', 'something', 'that', 'they', 'read', 'in', 'the', 'Time', 'Out', 'New', 'York,', 'or', 'in', 'the', 'Brooklyn', 'Rail,', 'The', 'Setinkane', 'drum', 'sounds', 'and', 'someone', 'plays', 'the', 'Phala', 'Picasso', 'slowly', 'walks', 'through', 'the', 'streets', 'of', 'Gaborone', 'while']\n"
     ]
    },
    {
     "name": "stderr",
     "output_type": "stream",
     "text": [
      "Setting `pad_token_id` to `eos_token_id`:50256 for open-end generation.\n"
     ]
    },
    {
     "name": "stdout",
     "output_type": "stream",
     "text": [
      "Art is a game and not everyone is invited to play, Art is a game and if Picasso had been born in Botswana nobody would be buying postcards of his works in the gift shop of the MET, Art is what we agree art is, and if someone doesn’t agree, we call them a heretic and we throw them in the Hudson with a sculpture of Robert Indiana tied to their legs to see if they float, It’s art if it doesn’t sink in the river, It’s art if five zeros line up in your wallet, It’s art if it smells like gold, if it tastes like gold, if it weighs the same as gold, It’ll be art if you stop repeating how good it is and you stop to look at it, if you stop trying to understand it, to explain it, Picasso in Botswana passing out Pulas and on the walls of the MOMA pieces of melted egos are hanging, Without oceans, Without people, Rivers of people doing what they DON’T feel, doing what they think they’re supposed to do, what someone told them to do or something that they read in the Time Out New York, or in the Brooklyn Rail, The Setinkane drum sounds and someone plays the Phala Picasso slowly walks through the streets of Gaborone while ^^  the crowd is still in the street, The setinkane is a piece of art, a piece of art,\n",
      "['Art', 'is', 'a', 'game', 'and', 'not', 'everyone', 'is', 'invited', 'to', 'play,', 'Art', 'is', 'a', 'game', 'and', 'if', 'Picasso', 'had', 'been', 'born', 'in', 'Botswana', 'nobody', 'would', 'be', 'buying', 'postcards', 'of', 'his', 'works', 'in', 'the', 'gift', 'shop', 'of', 'the', 'MET,', 'Art', 'is', 'what', 'we', 'agree', 'art', 'is,', 'and', 'if', 'someone', 'doesn’t', 'agree,', 'we', 'call', 'them', 'a', 'heretic', 'and', 'we', 'throw', 'them', 'in', 'the', 'Hudson', 'with', 'a', 'sculpture', 'of', 'Robert', 'Indiana', 'tied', 'to', 'their', 'legs', 'to', 'see', 'if', 'they', 'float,', 'It’s', 'art', 'if', 'it', 'doesn’t', 'sink', 'in', 'the', 'river,', 'It’s', 'art', 'if', 'five', 'zeros', 'line', 'up', 'in', 'your', 'wallet,', 'It’s', 'art', 'if', 'it', 'smells', 'like', 'gold,', 'if', 'it', 'tastes', 'like', 'gold,', 'if', 'it', 'weighs', 'the', 'same', 'as', 'gold,', 'It’ll', 'be', 'art', 'if', 'you', 'stop', 'repeating', 'how', 'good', 'it', 'is', 'and', 'you', 'stop', 'to', 'look', 'at', 'it,', 'if', 'you', 'stop', 'trying', 'to', 'understand', 'it,', 'to', 'explain', 'it,', 'Picasso', 'in', 'Botswana', 'passing', 'out', 'Pulas', 'and', 'on', 'the', 'walls', 'of', 'the', 'MOMA', 'pieces', 'of', 'melted', 'egos', 'are', 'hanging,', 'Without', 'oceans,', 'Without', 'people,', 'Rivers', 'of', 'people', 'doing', 'what', 'they', 'DON’T', 'feel,', 'doing', 'what', 'they', 'think', 'they’re', 'supposed', 'to', 'do,', 'what', 'someone', 'told', 'them', 'to', 'do', 'or', 'something', 'that', 'they', 'read', 'in', 'the', 'Time', 'Out', 'New', 'York,', 'or', 'in', 'the', 'Brooklyn', 'Rail,', 'The', 'Setinkane', 'drum', 'sounds', 'and', 'someone', 'plays', 'the', 'Phala', 'Picasso', 'slowly', 'walks', 'through', 'the', 'streets', 'of', 'Gaborone', 'while', 'on']\n"
     ]
    },
    {
     "name": "stderr",
     "output_type": "stream",
     "text": [
      "Setting `pad_token_id` to `eos_token_id`:50256 for open-end generation.\n"
     ]
    },
    {
     "name": "stdout",
     "output_type": "stream",
     "text": [
      "Art is a game and not everyone is invited to play, Art is a game and if Picasso had been born in Botswana nobody would be buying postcards of his works in the gift shop of the MET, Art is what we agree art is, and if someone doesn’t agree, we call them a heretic and we throw them in the Hudson with a sculpture of Robert Indiana tied to their legs to see if they float, It’s art if it doesn’t sink in the river, It’s art if five zeros line up in your wallet, It’s art if it smells like gold, if it tastes like gold, if it weighs the same as gold, It’ll be art if you stop repeating how good it is and you stop to look at it, if you stop trying to understand it, to explain it, Picasso in Botswana passing out Pulas and on the walls of the MOMA pieces of melted egos are hanging, Without oceans, Without people, Rivers of people doing what they DON’T feel, doing what they think they’re supposed to do, what someone told them to do or something that they read in the Time Out New York, or in the Brooklyn Rail, The Setinkane drum sounds and someone plays the Phala Picasso slowly walks through the streets of Gaborone while on ^^  the subway, The setinkane is a piece of art, a piece of art, a piece of art\n",
      "['Art', 'is', 'a', 'game', 'and', 'not', 'everyone', 'is', 'invited', 'to', 'play,', 'Art', 'is', 'a', 'game', 'and', 'if', 'Picasso', 'had', 'been', 'born', 'in', 'Botswana', 'nobody', 'would', 'be', 'buying', 'postcards', 'of', 'his', 'works', 'in', 'the', 'gift', 'shop', 'of', 'the', 'MET,', 'Art', 'is', 'what', 'we', 'agree', 'art', 'is,', 'and', 'if', 'someone', 'doesn’t', 'agree,', 'we', 'call', 'them', 'a', 'heretic', 'and', 'we', 'throw', 'them', 'in', 'the', 'Hudson', 'with', 'a', 'sculpture', 'of', 'Robert', 'Indiana', 'tied', 'to', 'their', 'legs', 'to', 'see', 'if', 'they', 'float,', 'It’s', 'art', 'if', 'it', 'doesn’t', 'sink', 'in', 'the', 'river,', 'It’s', 'art', 'if', 'five', 'zeros', 'line', 'up', 'in', 'your', 'wallet,', 'It’s', 'art', 'if', 'it', 'smells', 'like', 'gold,', 'if', 'it', 'tastes', 'like', 'gold,', 'if', 'it', 'weighs', 'the', 'same', 'as', 'gold,', 'It’ll', 'be', 'art', 'if', 'you', 'stop', 'repeating', 'how', 'good', 'it', 'is', 'and', 'you', 'stop', 'to', 'look', 'at', 'it,', 'if', 'you', 'stop', 'trying', 'to', 'understand', 'it,', 'to', 'explain', 'it,', 'Picasso', 'in', 'Botswana', 'passing', 'out', 'Pulas', 'and', 'on', 'the', 'walls', 'of', 'the', 'MOMA', 'pieces', 'of', 'melted', 'egos', 'are', 'hanging,', 'Without', 'oceans,', 'Without', 'people,', 'Rivers', 'of', 'people', 'doing', 'what', 'they', 'DON’T', 'feel,', 'doing', 'what', 'they', 'think', 'they’re', 'supposed', 'to', 'do,', 'what', 'someone', 'told', 'them', 'to', 'do', 'or', 'something', 'that', 'they', 'read', 'in', 'the', 'Time', 'Out', 'New', 'York,', 'or', 'in', 'the', 'Brooklyn', 'Rail,', 'The', 'Setinkane', 'drum', 'sounds', 'and', 'someone', 'plays', 'the', 'Phala', 'Picasso', 'slowly', 'walks', 'through', 'the', 'streets', 'of', 'Gaborone', 'while', 'on', 'the']\n"
     ]
    },
    {
     "name": "stderr",
     "output_type": "stream",
     "text": [
      "Setting `pad_token_id` to `eos_token_id`:50256 for open-end generation.\n"
     ]
    },
    {
     "name": "stdout",
     "output_type": "stream",
     "text": [
      "Art is a game and not everyone is invited to play, Art is a game and if Picasso had been born in Botswana nobody would be buying postcards of his works in the gift shop of the MET, Art is what we agree art is, and if someone doesn’t agree, we call them a heretic and we throw them in the Hudson with a sculpture of Robert Indiana tied to their legs to see if they float, It’s art if it doesn’t sink in the river, It’s art if five zeros line up in your wallet, It’s art if it smells like gold, if it tastes like gold, if it weighs the same as gold, It’ll be art if you stop repeating how good it is and you stop to look at it, if you stop trying to understand it, to explain it, Picasso in Botswana passing out Pulas and on the walls of the MOMA pieces of melted egos are hanging, Without oceans, Without people, Rivers of people doing what they DON’T feel, doing what they think they’re supposed to do, what someone told them to do or something that they read in the Time Out New York, or in the Brooklyn Rail, The Setinkane drum sounds and someone plays the Phala Picasso slowly walks through the streets of Gaborone while on the ^^  subway, The setinkane is a piece of art, a piece of art, a piece of art\n",
      "['Art', 'is', 'a', 'game', 'and', 'not', 'everyone', 'is', 'invited', 'to', 'play,', 'Art', 'is', 'a', 'game', 'and', 'if', 'Picasso', 'had', 'been', 'born', 'in', 'Botswana', 'nobody', 'would', 'be', 'buying', 'postcards', 'of', 'his', 'works', 'in', 'the', 'gift', 'shop', 'of', 'the', 'MET,', 'Art', 'is', 'what', 'we', 'agree', 'art', 'is,', 'and', 'if', 'someone', 'doesn’t', 'agree,', 'we', 'call', 'them', 'a', 'heretic', 'and', 'we', 'throw', 'them', 'in', 'the', 'Hudson', 'with', 'a', 'sculpture', 'of', 'Robert', 'Indiana', 'tied', 'to', 'their', 'legs', 'to', 'see', 'if', 'they', 'float,', 'It’s', 'art', 'if', 'it', 'doesn’t', 'sink', 'in', 'the', 'river,', 'It’s', 'art', 'if', 'five', 'zeros', 'line', 'up', 'in', 'your', 'wallet,', 'It’s', 'art', 'if', 'it', 'smells', 'like', 'gold,', 'if', 'it', 'tastes', 'like', 'gold,', 'if', 'it', 'weighs', 'the', 'same', 'as', 'gold,', 'It’ll', 'be', 'art', 'if', 'you', 'stop', 'repeating', 'how', 'good', 'it', 'is', 'and', 'you', 'stop', 'to', 'look', 'at', 'it,', 'if', 'you', 'stop', 'trying', 'to', 'understand', 'it,', 'to', 'explain', 'it,', 'Picasso', 'in', 'Botswana', 'passing', 'out', 'Pulas', 'and', 'on', 'the', 'walls', 'of', 'the', 'MOMA', 'pieces', 'of', 'melted', 'egos', 'are', 'hanging,', 'Without', 'oceans,', 'Without', 'people,', 'Rivers', 'of', 'people', 'doing', 'what', 'they', 'DON’T', 'feel,', 'doing', 'what', 'they', 'think', 'they’re', 'supposed', 'to', 'do,', 'what', 'someone', 'told', 'them', 'to', 'do', 'or', 'something', 'that', 'they', 'read', 'in', 'the', 'Time', 'Out', 'New', 'York,', 'or', 'in', 'the', 'Brooklyn', 'Rail,', 'The', 'Setinkane', 'drum', 'sounds', 'and', 'someone', 'plays', 'the', 'Phala', 'Picasso', 'slowly', 'walks', 'through', 'the', 'streets', 'of', 'Gaborone', 'while', 'on', 'the', 'other']\n"
     ]
    },
    {
     "name": "stderr",
     "output_type": "stream",
     "text": [
      "Setting `pad_token_id` to `eos_token_id`:50256 for open-end generation.\n"
     ]
    },
    {
     "name": "stdout",
     "output_type": "stream",
     "text": [
      "Art is a game and not everyone is invited to play, Art is a game and if Picasso had been born in Botswana nobody would be buying postcards of his works in the gift shop of the MET, Art is what we agree art is, and if someone doesn’t agree, we call them a heretic and we throw them in the Hudson with a sculpture of Robert Indiana tied to their legs to see if they float, It’s art if it doesn’t sink in the river, It’s art if five zeros line up in your wallet, It’s art if it smells like gold, if it tastes like gold, if it weighs the same as gold, It’ll be art if you stop repeating how good it is and you stop to look at it, if you stop trying to understand it, to explain it, Picasso in Botswana passing out Pulas and on the walls of the MOMA pieces of melted egos are hanging, Without oceans, Without people, Rivers of people doing what they DON’T feel, doing what they think they’re supposed to do, what someone told them to do or something that they read in the Time Out New York, or in the Brooklyn Rail, The Setinkane drum sounds and someone plays the Phala Picasso slowly walks through the streets of Gaborone while on the other ^^  side of the street, The setinkane is a piece of art, a piece of art,\n",
      "['Art', 'is', 'a', 'game', 'and', 'not', 'everyone', 'is', 'invited', 'to', 'play,', 'Art', 'is', 'a', 'game', 'and', 'if', 'Picasso', 'had', 'been', 'born', 'in', 'Botswana', 'nobody', 'would', 'be', 'buying', 'postcards', 'of', 'his', 'works', 'in', 'the', 'gift', 'shop', 'of', 'the', 'MET,', 'Art', 'is', 'what', 'we', 'agree', 'art', 'is,', 'and', 'if', 'someone', 'doesn’t', 'agree,', 'we', 'call', 'them', 'a', 'heretic', 'and', 'we', 'throw', 'them', 'in', 'the', 'Hudson', 'with', 'a', 'sculpture', 'of', 'Robert', 'Indiana', 'tied', 'to', 'their', 'legs', 'to', 'see', 'if', 'they', 'float,', 'It’s', 'art', 'if', 'it', 'doesn’t', 'sink', 'in', 'the', 'river,', 'It’s', 'art', 'if', 'five', 'zeros', 'line', 'up', 'in', 'your', 'wallet,', 'It’s', 'art', 'if', 'it', 'smells', 'like', 'gold,', 'if', 'it', 'tastes', 'like', 'gold,', 'if', 'it', 'weighs', 'the', 'same', 'as', 'gold,', 'It’ll', 'be', 'art', 'if', 'you', 'stop', 'repeating', 'how', 'good', 'it', 'is', 'and', 'you', 'stop', 'to', 'look', 'at', 'it,', 'if', 'you', 'stop', 'trying', 'to', 'understand', 'it,', 'to', 'explain', 'it,', 'Picasso', 'in', 'Botswana', 'passing', 'out', 'Pulas', 'and', 'on', 'the', 'walls', 'of', 'the', 'MOMA', 'pieces', 'of', 'melted', 'egos', 'are', 'hanging,', 'Without', 'oceans,', 'Without', 'people,', 'Rivers', 'of', 'people', 'doing', 'what', 'they', 'DON’T', 'feel,', 'doing', 'what', 'they', 'think', 'they’re', 'supposed', 'to', 'do,', 'what', 'someone', 'told', 'them', 'to', 'do', 'or', 'something', 'that', 'they', 'read', 'in', 'the', 'Time', 'Out', 'New', 'York,', 'or', 'in', 'the', 'Brooklyn', 'Rail,', 'The', 'Setinkane', 'drum', 'sounds', 'and', 'someone', 'plays', 'the', 'Phala', 'Picasso', 'slowly', 'walks', 'through', 'the', 'streets', 'of', 'Gaborone', 'while', 'on', 'the', 'other', 'side']\n"
     ]
    },
    {
     "name": "stderr",
     "output_type": "stream",
     "text": [
      "Setting `pad_token_id` to `eos_token_id`:50256 for open-end generation.\n"
     ]
    },
    {
     "name": "stdout",
     "output_type": "stream",
     "text": [
      "Art is a game and not everyone is invited to play, Art is a game and if Picasso had been born in Botswana nobody would be buying postcards of his works in the gift shop of the MET, Art is what we agree art is, and if someone doesn’t agree, we call them a heretic and we throw them in the Hudson with a sculpture of Robert Indiana tied to their legs to see if they float, It’s art if it doesn’t sink in the river, It’s art if five zeros line up in your wallet, It’s art if it smells like gold, if it tastes like gold, if it weighs the same as gold, It’ll be art if you stop repeating how good it is and you stop to look at it, if you stop trying to understand it, to explain it, Picasso in Botswana passing out Pulas and on the walls of the MOMA pieces of melted egos are hanging, Without oceans, Without people, Rivers of people doing what they DON’T feel, doing what they think they’re supposed to do, what someone told them to do or something that they read in the Time Out New York, or in the Brooklyn Rail, The Setinkane drum sounds and someone plays the Phala Picasso slowly walks through the streets of Gaborone while on the other side ^^  of the street, The setinkane is a piece of art, a piece of art,\n",
      "['Art', 'is', 'a', 'game', 'and', 'not', 'everyone', 'is', 'invited', 'to', 'play,', 'Art', 'is', 'a', 'game', 'and', 'if', 'Picasso', 'had', 'been', 'born', 'in', 'Botswana', 'nobody', 'would', 'be', 'buying', 'postcards', 'of', 'his', 'works', 'in', 'the', 'gift', 'shop', 'of', 'the', 'MET,', 'Art', 'is', 'what', 'we', 'agree', 'art', 'is,', 'and', 'if', 'someone', 'doesn’t', 'agree,', 'we', 'call', 'them', 'a', 'heretic', 'and', 'we', 'throw', 'them', 'in', 'the', 'Hudson', 'with', 'a', 'sculpture', 'of', 'Robert', 'Indiana', 'tied', 'to', 'their', 'legs', 'to', 'see', 'if', 'they', 'float,', 'It’s', 'art', 'if', 'it', 'doesn’t', 'sink', 'in', 'the', 'river,', 'It’s', 'art', 'if', 'five', 'zeros', 'line', 'up', 'in', 'your', 'wallet,', 'It’s', 'art', 'if', 'it', 'smells', 'like', 'gold,', 'if', 'it', 'tastes', 'like', 'gold,', 'if', 'it', 'weighs', 'the', 'same', 'as', 'gold,', 'It’ll', 'be', 'art', 'if', 'you', 'stop', 'repeating', 'how', 'good', 'it', 'is', 'and', 'you', 'stop', 'to', 'look', 'at', 'it,', 'if', 'you', 'stop', 'trying', 'to', 'understand', 'it,', 'to', 'explain', 'it,', 'Picasso', 'in', 'Botswana', 'passing', 'out', 'Pulas', 'and', 'on', 'the', 'walls', 'of', 'the', 'MOMA', 'pieces', 'of', 'melted', 'egos', 'are', 'hanging,', 'Without', 'oceans,', 'Without', 'people,', 'Rivers', 'of', 'people', 'doing', 'what', 'they', 'DON’T', 'feel,', 'doing', 'what', 'they', 'think', 'they’re', 'supposed', 'to', 'do,', 'what', 'someone', 'told', 'them', 'to', 'do', 'or', 'something', 'that', 'they', 'read', 'in', 'the', 'Time', 'Out', 'New', 'York,', 'or', 'in', 'the', 'Brooklyn', 'Rail,', 'The', 'Setinkane', 'drum', 'sounds', 'and', 'someone', 'plays', 'the', 'Phala', 'Picasso', 'slowly', 'walks', 'through', 'the', 'streets', 'of', 'Gaborone', 'while', 'on', 'the', 'other', 'side', 'of']\n"
     ]
    },
    {
     "name": "stderr",
     "output_type": "stream",
     "text": [
      "Setting `pad_token_id` to `eos_token_id`:50256 for open-end generation.\n"
     ]
    },
    {
     "name": "stdout",
     "output_type": "stream",
     "text": [
      "Art is a game and not everyone is invited to play, Art is a game and if Picasso had been born in Botswana nobody would be buying postcards of his works in the gift shop of the MET, Art is what we agree art is, and if someone doesn’t agree, we call them a heretic and we throw them in the Hudson with a sculpture of Robert Indiana tied to their legs to see if they float, It’s art if it doesn’t sink in the river, It’s art if five zeros line up in your wallet, It’s art if it smells like gold, if it tastes like gold, if it weighs the same as gold, It’ll be art if you stop repeating how good it is and you stop to look at it, if you stop trying to understand it, to explain it, Picasso in Botswana passing out Pulas and on the walls of the MOMA pieces of melted egos are hanging, Without oceans, Without people, Rivers of people doing what they DON’T feel, doing what they think they’re supposed to do, what someone told them to do or something that they read in the Time Out New York, or in the Brooklyn Rail, The Setinkane drum sounds and someone plays the Phala Picasso slowly walks through the streets of Gaborone while on the other side of ^^  the street, The setinkane is a piece of art, a piece of art,\n",
      "['Art', 'is', 'a', 'game', 'and', 'not', 'everyone', 'is', 'invited', 'to', 'play,', 'Art', 'is', 'a', 'game', 'and', 'if', 'Picasso', 'had', 'been', 'born', 'in', 'Botswana', 'nobody', 'would', 'be', 'buying', 'postcards', 'of', 'his', 'works', 'in', 'the', 'gift', 'shop', 'of', 'the', 'MET,', 'Art', 'is', 'what', 'we', 'agree', 'art', 'is,', 'and', 'if', 'someone', 'doesn’t', 'agree,', 'we', 'call', 'them', 'a', 'heretic', 'and', 'we', 'throw', 'them', 'in', 'the', 'Hudson', 'with', 'a', 'sculpture', 'of', 'Robert', 'Indiana', 'tied', 'to', 'their', 'legs', 'to', 'see', 'if', 'they', 'float,', 'It’s', 'art', 'if', 'it', 'doesn’t', 'sink', 'in', 'the', 'river,', 'It’s', 'art', 'if', 'five', 'zeros', 'line', 'up', 'in', 'your', 'wallet,', 'It’s', 'art', 'if', 'it', 'smells', 'like', 'gold,', 'if', 'it', 'tastes', 'like', 'gold,', 'if', 'it', 'weighs', 'the', 'same', 'as', 'gold,', 'It’ll', 'be', 'art', 'if', 'you', 'stop', 'repeating', 'how', 'good', 'it', 'is', 'and', 'you', 'stop', 'to', 'look', 'at', 'it,', 'if', 'you', 'stop', 'trying', 'to', 'understand', 'it,', 'to', 'explain', 'it,', 'Picasso', 'in', 'Botswana', 'passing', 'out', 'Pulas', 'and', 'on', 'the', 'walls', 'of', 'the', 'MOMA', 'pieces', 'of', 'melted', 'egos', 'are', 'hanging,', 'Without', 'oceans,', 'Without', 'people,', 'Rivers', 'of', 'people', 'doing', 'what', 'they', 'DON’T', 'feel,', 'doing', 'what', 'they', 'think', 'they’re', 'supposed', 'to', 'do,', 'what', 'someone', 'told', 'them', 'to', 'do', 'or', 'something', 'that', 'they', 'read', 'in', 'the', 'Time', 'Out', 'New', 'York,', 'or', 'in', 'the', 'Brooklyn', 'Rail,', 'The', 'Setinkane', 'drum', 'sounds', 'and', 'someone', 'plays', 'the', 'Phala', 'Picasso', 'slowly', 'walks', 'through', 'the', 'streets', 'of', 'Gaborone', 'while', 'on', 'the', 'other', 'side', 'of', 'the']\n"
     ]
    },
    {
     "name": "stderr",
     "output_type": "stream",
     "text": [
      "Setting `pad_token_id` to `eos_token_id`:50256 for open-end generation.\n"
     ]
    },
    {
     "name": "stdout",
     "output_type": "stream",
     "text": [
      "Art is a game and not everyone is invited to play, Art is a game and if Picasso had been born in Botswana nobody would be buying postcards of his works in the gift shop of the MET, Art is what we agree art is, and if someone doesn’t agree, we call them a heretic and we throw them in the Hudson with a sculpture of Robert Indiana tied to their legs to see if they float, It’s art if it doesn’t sink in the river, It’s art if five zeros line up in your wallet, It’s art if it smells like gold, if it tastes like gold, if it weighs the same as gold, It’ll be art if you stop repeating how good it is and you stop to look at it, if you stop trying to understand it, to explain it, Picasso in Botswana passing out Pulas and on the walls of the MOMA pieces of melted egos are hanging, Without oceans, Without people, Rivers of people doing what they DON’T feel, doing what they think they’re supposed to do, what someone told them to do or something that they read in the Time Out New York, or in the Brooklyn Rail, The Setinkane drum sounds and someone plays the Phala Picasso slowly walks through the streets of Gaborone while on the other side of the ^^  street, The setinkane is a piece of art, a piece of art,\n",
      "['Art', 'is', 'a', 'game', 'and', 'not', 'everyone', 'is', 'invited', 'to', 'play,', 'Art', 'is', 'a', 'game', 'and', 'if', 'Picasso', 'had', 'been', 'born', 'in', 'Botswana', 'nobody', 'would', 'be', 'buying', 'postcards', 'of', 'his', 'works', 'in', 'the', 'gift', 'shop', 'of', 'the', 'MET,', 'Art', 'is', 'what', 'we', 'agree', 'art', 'is,', 'and', 'if', 'someone', 'doesn’t', 'agree,', 'we', 'call', 'them', 'a', 'heretic', 'and', 'we', 'throw', 'them', 'in', 'the', 'Hudson', 'with', 'a', 'sculpture', 'of', 'Robert', 'Indiana', 'tied', 'to', 'their', 'legs', 'to', 'see', 'if', 'they', 'float,', 'It’s', 'art', 'if', 'it', 'doesn’t', 'sink', 'in', 'the', 'river,', 'It’s', 'art', 'if', 'five', 'zeros', 'line', 'up', 'in', 'your', 'wallet,', 'It’s', 'art', 'if', 'it', 'smells', 'like', 'gold,', 'if', 'it', 'tastes', 'like', 'gold,', 'if', 'it', 'weighs', 'the', 'same', 'as', 'gold,', 'It’ll', 'be', 'art', 'if', 'you', 'stop', 'repeating', 'how', 'good', 'it', 'is', 'and', 'you', 'stop', 'to', 'look', 'at', 'it,', 'if', 'you', 'stop', 'trying', 'to', 'understand', 'it,', 'to', 'explain', 'it,', 'Picasso', 'in', 'Botswana', 'passing', 'out', 'Pulas', 'and', 'on', 'the', 'walls', 'of', 'the', 'MOMA', 'pieces', 'of', 'melted', 'egos', 'are', 'hanging,', 'Without', 'oceans,', 'Without', 'people,', 'Rivers', 'of', 'people', 'doing', 'what', 'they', 'DON’T', 'feel,', 'doing', 'what', 'they', 'think', 'they’re', 'supposed', 'to', 'do,', 'what', 'someone', 'told', 'them', 'to', 'do', 'or', 'something', 'that', 'they', 'read', 'in', 'the', 'Time', 'Out', 'New', 'York,', 'or', 'in', 'the', 'Brooklyn', 'Rail,', 'The', 'Setinkane', 'drum', 'sounds', 'and', 'someone', 'plays', 'the', 'Phala', 'Picasso', 'slowly', 'walks', 'through', 'the', 'streets', 'of', 'Gaborone', 'while', 'on', 'the', 'other', 'side', 'of', 'the', 'world,']\n"
     ]
    },
    {
     "name": "stderr",
     "output_type": "stream",
     "text": [
      "Setting `pad_token_id` to `eos_token_id`:50256 for open-end generation.\n"
     ]
    },
    {
     "name": "stdout",
     "output_type": "stream",
     "text": [
      "Art is a game and not everyone is invited to play, Art is a game and if Picasso had been born in Botswana nobody would be buying postcards of his works in the gift shop of the MET, Art is what we agree art is, and if someone doesn’t agree, we call them a heretic and we throw them in the Hudson with a sculpture of Robert Indiana tied to their legs to see if they float, It’s art if it doesn’t sink in the river, It’s art if five zeros line up in your wallet, It’s art if it smells like gold, if it tastes like gold, if it weighs the same as gold, It’ll be art if you stop repeating how good it is and you stop to look at it, if you stop trying to understand it, to explain it, Picasso in Botswana passing out Pulas and on the walls of the MOMA pieces of melted egos are hanging, Without oceans, Without people, Rivers of people doing what they DON’T feel, doing what they think they’re supposed to do, what someone told them to do or something that they read in the Time Out New York, or in the Brooklyn Rail, The Setinkane drum sounds and someone plays the Phala Picasso slowly walks through the streets of Gaborone while on the other side of the world, ^^  The setinkane is a piece of art, a piece of art that is\n",
      "['Art', 'is', 'a', 'game', 'and', 'not', 'everyone', 'is', 'invited', 'to', 'play,', 'Art', 'is', 'a', 'game', 'and', 'if', 'Picasso', 'had', 'been', 'born', 'in', 'Botswana', 'nobody', 'would', 'be', 'buying', 'postcards', 'of', 'his', 'works', 'in', 'the', 'gift', 'shop', 'of', 'the', 'MET,', 'Art', 'is', 'what', 'we', 'agree', 'art', 'is,', 'and', 'if', 'someone', 'doesn’t', 'agree,', 'we', 'call', 'them', 'a', 'heretic', 'and', 'we', 'throw', 'them', 'in', 'the', 'Hudson', 'with', 'a', 'sculpture', 'of', 'Robert', 'Indiana', 'tied', 'to', 'their', 'legs', 'to', 'see', 'if', 'they', 'float,', 'It’s', 'art', 'if', 'it', 'doesn’t', 'sink', 'in', 'the', 'river,', 'It’s', 'art', 'if', 'five', 'zeros', 'line', 'up', 'in', 'your', 'wallet,', 'It’s', 'art', 'if', 'it', 'smells', 'like', 'gold,', 'if', 'it', 'tastes', 'like', 'gold,', 'if', 'it', 'weighs', 'the', 'same', 'as', 'gold,', 'It’ll', 'be', 'art', 'if', 'you', 'stop', 'repeating', 'how', 'good', 'it', 'is', 'and', 'you', 'stop', 'to', 'look', 'at', 'it,', 'if', 'you', 'stop', 'trying', 'to', 'understand', 'it,', 'to', 'explain', 'it,', 'Picasso', 'in', 'Botswana', 'passing', 'out', 'Pulas', 'and', 'on', 'the', 'walls', 'of', 'the', 'MOMA', 'pieces', 'of', 'melted', 'egos', 'are', 'hanging,', 'Without', 'oceans,', 'Without', 'people,', 'Rivers', 'of', 'people', 'doing', 'what', 'they', 'DON’T', 'feel,', 'doing', 'what', 'they', 'think', 'they’re', 'supposed', 'to', 'do,', 'what', 'someone', 'told', 'them', 'to', 'do', 'or', 'something', 'that', 'they', 'read', 'in', 'the', 'Time', 'Out', 'New', 'York,', 'or', 'in', 'the', 'Brooklyn', 'Rail,', 'The', 'Setinkane', 'drum', 'sounds', 'and', 'someone', 'plays', 'the', 'Phala', 'Picasso', 'slowly', 'walks', 'through', 'the', 'streets', 'of', 'Gaborone', 'while', 'on', 'the', 'other', 'side', 'of', 'the', 'world,', 'a']\n"
     ]
    },
    {
     "name": "stderr",
     "output_type": "stream",
     "text": [
      "Setting `pad_token_id` to `eos_token_id`:50256 for open-end generation.\n"
     ]
    },
    {
     "name": "stdout",
     "output_type": "stream",
     "text": [
      "Art is a game and not everyone is invited to play, Art is a game and if Picasso had been born in Botswana nobody would be buying postcards of his works in the gift shop of the MET, Art is what we agree art is, and if someone doesn’t agree, we call them a heretic and we throw them in the Hudson with a sculpture of Robert Indiana tied to their legs to see if they float, It’s art if it doesn’t sink in the river, It’s art if five zeros line up in your wallet, It’s art if it smells like gold, if it tastes like gold, if it weighs the same as gold, It’ll be art if you stop repeating how good it is and you stop to look at it, if you stop trying to understand it, to explain it, Picasso in Botswana passing out Pulas and on the walls of the MOMA pieces of melted egos are hanging, Without oceans, Without people, Rivers of people doing what they DON’T feel, doing what they think they’re supposed to do, what someone told them to do or something that they read in the Time Out New York, or in the Brooklyn Rail, The Setinkane drum sounds and someone plays the Phala Picasso slowly walks through the streets of Gaborone while on the other side of the world, a ^^  man in a suit and tie, a man in a suit and tie,\n",
      "['Art', 'is', 'a', 'game', 'and', 'not', 'everyone', 'is', 'invited', 'to', 'play,', 'Art', 'is', 'a', 'game', 'and', 'if', 'Picasso', 'had', 'been', 'born', 'in', 'Botswana', 'nobody', 'would', 'be', 'buying', 'postcards', 'of', 'his', 'works', 'in', 'the', 'gift', 'shop', 'of', 'the', 'MET,', 'Art', 'is', 'what', 'we', 'agree', 'art', 'is,', 'and', 'if', 'someone', 'doesn’t', 'agree,', 'we', 'call', 'them', 'a', 'heretic', 'and', 'we', 'throw', 'them', 'in', 'the', 'Hudson', 'with', 'a', 'sculpture', 'of', 'Robert', 'Indiana', 'tied', 'to', 'their', 'legs', 'to', 'see', 'if', 'they', 'float,', 'It’s', 'art', 'if', 'it', 'doesn’t', 'sink', 'in', 'the', 'river,', 'It’s', 'art', 'if', 'five', 'zeros', 'line', 'up', 'in', 'your', 'wallet,', 'It’s', 'art', 'if', 'it', 'smells', 'like', 'gold,', 'if', 'it', 'tastes', 'like', 'gold,', 'if', 'it', 'weighs', 'the', 'same', 'as', 'gold,', 'It’ll', 'be', 'art', 'if', 'you', 'stop', 'repeating', 'how', 'good', 'it', 'is', 'and', 'you', 'stop', 'to', 'look', 'at', 'it,', 'if', 'you', 'stop', 'trying', 'to', 'understand', 'it,', 'to', 'explain', 'it,', 'Picasso', 'in', 'Botswana', 'passing', 'out', 'Pulas', 'and', 'on', 'the', 'walls', 'of', 'the', 'MOMA', 'pieces', 'of', 'melted', 'egos', 'are', 'hanging,', 'Without', 'oceans,', 'Without', 'people,', 'Rivers', 'of', 'people', 'doing', 'what', 'they', 'DON’T', 'feel,', 'doing', 'what', 'they', 'think', 'they’re', 'supposed', 'to', 'do,', 'what', 'someone', 'told', 'them', 'to', 'do', 'or', 'something', 'that', 'they', 'read', 'in', 'the', 'Time', 'Out', 'New', 'York,', 'or', 'in', 'the', 'Brooklyn', 'Rail,', 'The', 'Setinkane', 'drum', 'sounds', 'and', 'someone', 'plays', 'the', 'Phala', 'Picasso', 'slowly', 'walks', 'through', 'the', 'streets', 'of', 'Gaborone', 'while', 'on', 'the', 'other', 'side', 'of', 'the', 'world,', 'a', 'painting']\n"
     ]
    },
    {
     "name": "stderr",
     "output_type": "stream",
     "text": [
      "Setting `pad_token_id` to `eos_token_id`:50256 for open-end generation.\n"
     ]
    },
    {
     "name": "stdout",
     "output_type": "stream",
     "text": [
      "Art is a game and not everyone is invited to play, Art is a game and if Picasso had been born in Botswana nobody would be buying postcards of his works in the gift shop of the MET, Art is what we agree art is, and if someone doesn’t agree, we call them a heretic and we throw them in the Hudson with a sculpture of Robert Indiana tied to their legs to see if they float, It’s art if it doesn’t sink in the river, It’s art if five zeros line up in your wallet, It’s art if it smells like gold, if it tastes like gold, if it weighs the same as gold, It’ll be art if you stop repeating how good it is and you stop to look at it, if you stop trying to understand it, to explain it, Picasso in Botswana passing out Pulas and on the walls of the MOMA pieces of melted egos are hanging, Without oceans, Without people, Rivers of people doing what they DON’T feel, doing what they think they’re supposed to do, what someone told them to do or something that they read in the Time Out New York, or in the Brooklyn Rail, The Setinkane drum sounds and someone plays the Phala Picasso slowly walks through the streets of Gaborone while on the other side of the world, a painting ^^  of a man with a face like a lion, a man with a\n",
      "['Art', 'is', 'a', 'game', 'and', 'not', 'everyone', 'is', 'invited', 'to', 'play,', 'Art', 'is', 'a', 'game', 'and', 'if', 'Picasso', 'had', 'been', 'born', 'in', 'Botswana', 'nobody', 'would', 'be', 'buying', 'postcards', 'of', 'his', 'works', 'in', 'the', 'gift', 'shop', 'of', 'the', 'MET,', 'Art', 'is', 'what', 'we', 'agree', 'art', 'is,', 'and', 'if', 'someone', 'doesn’t', 'agree,', 'we', 'call', 'them', 'a', 'heretic', 'and', 'we', 'throw', 'them', 'in', 'the', 'Hudson', 'with', 'a', 'sculpture', 'of', 'Robert', 'Indiana', 'tied', 'to', 'their', 'legs', 'to', 'see', 'if', 'they', 'float,', 'It’s', 'art', 'if', 'it', 'doesn’t', 'sink', 'in', 'the', 'river,', 'It’s', 'art', 'if', 'five', 'zeros', 'line', 'up', 'in', 'your', 'wallet,', 'It’s', 'art', 'if', 'it', 'smells', 'like', 'gold,', 'if', 'it', 'tastes', 'like', 'gold,', 'if', 'it', 'weighs', 'the', 'same', 'as', 'gold,', 'It’ll', 'be', 'art', 'if', 'you', 'stop', 'repeating', 'how', 'good', 'it', 'is', 'and', 'you', 'stop', 'to', 'look', 'at', 'it,', 'if', 'you', 'stop', 'trying', 'to', 'understand', 'it,', 'to', 'explain', 'it,', 'Picasso', 'in', 'Botswana', 'passing', 'out', 'Pulas', 'and', 'on', 'the', 'walls', 'of', 'the', 'MOMA', 'pieces', 'of', 'melted', 'egos', 'are', 'hanging,', 'Without', 'oceans,', 'Without', 'people,', 'Rivers', 'of', 'people', 'doing', 'what', 'they', 'DON’T', 'feel,', 'doing', 'what', 'they', 'think', 'they’re', 'supposed', 'to', 'do,', 'what', 'someone', 'told', 'them', 'to', 'do', 'or', 'something', 'that', 'they', 'read', 'in', 'the', 'Time', 'Out', 'New', 'York,', 'or', 'in', 'the', 'Brooklyn', 'Rail,', 'The', 'Setinkane', 'drum', 'sounds', 'and', 'someone', 'plays', 'the', 'Phala', 'Picasso', 'slowly', 'walks', 'through', 'the', 'streets', 'of', 'Gaborone', 'while', 'on', 'the', 'other', 'side', 'of', 'the', 'world,', 'a', 'painting', 'that']\n"
     ]
    },
    {
     "name": "stderr",
     "output_type": "stream",
     "text": [
      "Setting `pad_token_id` to `eos_token_id`:50256 for open-end generation.\n"
     ]
    },
    {
     "name": "stdout",
     "output_type": "stream",
     "text": [
      "Art is a game and not everyone is invited to play, Art is a game and if Picasso had been born in Botswana nobody would be buying postcards of his works in the gift shop of the MET, Art is what we agree art is, and if someone doesn’t agree, we call them a heretic and we throw them in the Hudson with a sculpture of Robert Indiana tied to their legs to see if they float, It’s art if it doesn’t sink in the river, It’s art if five zeros line up in your wallet, It’s art if it smells like gold, if it tastes like gold, if it weighs the same as gold, It’ll be art if you stop repeating how good it is and you stop to look at it, if you stop trying to understand it, to explain it, Picasso in Botswana passing out Pulas and on the walls of the MOMA pieces of melted egos are hanging, Without oceans, Without people, Rivers of people doing what they DON’T feel, doing what they think they’re supposed to do, what someone told them to do or something that they read in the Time Out New York, or in the Brooklyn Rail, The Setinkane drum sounds and someone plays the Phala Picasso slowly walks through the streets of Gaborone while on the other side of the world, a painting that ^^  is a painting, a painting, a painting, a painting,\n",
      "['Art', 'is', 'a', 'game', 'and', 'not', 'everyone', 'is', 'invited', 'to', 'play,', 'Art', 'is', 'a', 'game', 'and', 'if', 'Picasso', 'had', 'been', 'born', 'in', 'Botswana', 'nobody', 'would', 'be', 'buying', 'postcards', 'of', 'his', 'works', 'in', 'the', 'gift', 'shop', 'of', 'the', 'MET,', 'Art', 'is', 'what', 'we', 'agree', 'art', 'is,', 'and', 'if', 'someone', 'doesn’t', 'agree,', 'we', 'call', 'them', 'a', 'heretic', 'and', 'we', 'throw', 'them', 'in', 'the', 'Hudson', 'with', 'a', 'sculpture', 'of', 'Robert', 'Indiana', 'tied', 'to', 'their', 'legs', 'to', 'see', 'if', 'they', 'float,', 'It’s', 'art', 'if', 'it', 'doesn’t', 'sink', 'in', 'the', 'river,', 'It’s', 'art', 'if', 'five', 'zeros', 'line', 'up', 'in', 'your', 'wallet,', 'It’s', 'art', 'if', 'it', 'smells', 'like', 'gold,', 'if', 'it', 'tastes', 'like', 'gold,', 'if', 'it', 'weighs', 'the', 'same', 'as', 'gold,', 'It’ll', 'be', 'art', 'if', 'you', 'stop', 'repeating', 'how', 'good', 'it', 'is', 'and', 'you', 'stop', 'to', 'look', 'at', 'it,', 'if', 'you', 'stop', 'trying', 'to', 'understand', 'it,', 'to', 'explain', 'it,', 'Picasso', 'in', 'Botswana', 'passing', 'out', 'Pulas', 'and', 'on', 'the', 'walls', 'of', 'the', 'MOMA', 'pieces', 'of', 'melted', 'egos', 'are', 'hanging,', 'Without', 'oceans,', 'Without', 'people,', 'Rivers', 'of', 'people', 'doing', 'what', 'they', 'DON’T', 'feel,', 'doing', 'what', 'they', 'think', 'they’re', 'supposed', 'to', 'do,', 'what', 'someone', 'told', 'them', 'to', 'do', 'or', 'something', 'that', 'they', 'read', 'in', 'the', 'Time', 'Out', 'New', 'York,', 'or', 'in', 'the', 'Brooklyn', 'Rail,', 'The', 'Setinkane', 'drum', 'sounds', 'and', 'someone', 'plays', 'the', 'Phala', 'Picasso', 'slowly', 'walks', 'through', 'the', 'streets', 'of', 'Gaborone', 'while', 'on', 'the', 'other', 'side', 'of', 'the', 'world,', 'a', 'painting', 'that', 'he']\n"
     ]
    },
    {
     "name": "stderr",
     "output_type": "stream",
     "text": [
      "Setting `pad_token_id` to `eos_token_id`:50256 for open-end generation.\n"
     ]
    },
    {
     "name": "stdout",
     "output_type": "stream",
     "text": [
      "Art is a game and not everyone is invited to play, Art is a game and if Picasso had been born in Botswana nobody would be buying postcards of his works in the gift shop of the MET, Art is what we agree art is, and if someone doesn’t agree, we call them a heretic and we throw them in the Hudson with a sculpture of Robert Indiana tied to their legs to see if they float, It’s art if it doesn’t sink in the river, It’s art if five zeros line up in your wallet, It’s art if it smells like gold, if it tastes like gold, if it weighs the same as gold, It’ll be art if you stop repeating how good it is and you stop to look at it, if you stop trying to understand it, to explain it, Picasso in Botswana passing out Pulas and on the walls of the MOMA pieces of melted egos are hanging, Without oceans, Without people, Rivers of people doing what they DON’T feel, doing what they think they’re supposed to do, what someone told them to do or something that they read in the Time Out New York, or in the Brooklyn Rail, The Setinkane drum sounds and someone plays the Phala Picasso slowly walks through the streets of Gaborone while on the other side of the world, a painting that he ^^ ’s been working on for years, and he�\n",
      "['Art', 'is', 'a', 'game', 'and', 'not', 'everyone', 'is', 'invited', 'to', 'play,', 'Art', 'is', 'a', 'game', 'and', 'if', 'Picasso', 'had', 'been', 'born', 'in', 'Botswana', 'nobody', 'would', 'be', 'buying', 'postcards', 'of', 'his', 'works', 'in', 'the', 'gift', 'shop', 'of', 'the', 'MET,', 'Art', 'is', 'what', 'we', 'agree', 'art', 'is,', 'and', 'if', 'someone', 'doesn’t', 'agree,', 'we', 'call', 'them', 'a', 'heretic', 'and', 'we', 'throw', 'them', 'in', 'the', 'Hudson', 'with', 'a', 'sculpture', 'of', 'Robert', 'Indiana', 'tied', 'to', 'their', 'legs', 'to', 'see', 'if', 'they', 'float,', 'It’s', 'art', 'if', 'it', 'doesn’t', 'sink', 'in', 'the', 'river,', 'It’s', 'art', 'if', 'five', 'zeros', 'line', 'up', 'in', 'your', 'wallet,', 'It’s', 'art', 'if', 'it', 'smells', 'like', 'gold,', 'if', 'it', 'tastes', 'like', 'gold,', 'if', 'it', 'weighs', 'the', 'same', 'as', 'gold,', 'It’ll', 'be', 'art', 'if', 'you', 'stop', 'repeating', 'how', 'good', 'it', 'is', 'and', 'you', 'stop', 'to', 'look', 'at', 'it,', 'if', 'you', 'stop', 'trying', 'to', 'understand', 'it,', 'to', 'explain', 'it,', 'Picasso', 'in', 'Botswana', 'passing', 'out', 'Pulas', 'and', 'on', 'the', 'walls', 'of', 'the', 'MOMA', 'pieces', 'of', 'melted', 'egos', 'are', 'hanging,', 'Without', 'oceans,', 'Without', 'people,', 'Rivers', 'of', 'people', 'doing', 'what', 'they', 'DON’T', 'feel,', 'doing', 'what', 'they', 'think', 'they’re', 'supposed', 'to', 'do,', 'what', 'someone', 'told', 'them', 'to', 'do', 'or', 'something', 'that', 'they', 'read', 'in', 'the', 'Time', 'Out', 'New', 'York,', 'or', 'in', 'the', 'Brooklyn', 'Rail,', 'The', 'Setinkane', 'drum', 'sounds', 'and', 'someone', 'plays', 'the', 'Phala', 'Picasso', 'slowly', 'walks', 'through', 'the', 'streets', 'of', 'Gaborone', 'while', 'on', 'the', 'other', 'side', 'of', 'the', 'world,', 'a', 'painting', 'that', 'he', 'didn’t']\n"
     ]
    },
    {
     "name": "stderr",
     "output_type": "stream",
     "text": [
      "Setting `pad_token_id` to `eos_token_id`:50256 for open-end generation.\n"
     ]
    },
    {
     "name": "stdout",
     "output_type": "stream",
     "text": [
      "Art is a game and not everyone is invited to play, Art is a game and if Picasso had been born in Botswana nobody would be buying postcards of his works in the gift shop of the MET, Art is what we agree art is, and if someone doesn’t agree, we call them a heretic and we throw them in the Hudson with a sculpture of Robert Indiana tied to their legs to see if they float, It’s art if it doesn’t sink in the river, It’s art if five zeros line up in your wallet, It’s art if it smells like gold, if it tastes like gold, if it weighs the same as gold, It’ll be art if you stop repeating how good it is and you stop to look at it, if you stop trying to understand it, to explain it, Picasso in Botswana passing out Pulas and on the walls of the MOMA pieces of melted egos are hanging, Without oceans, Without people, Rivers of people doing what they DON’T feel, doing what they think they’re supposed to do, what someone told them to do or something that they read in the Time Out New York, or in the Brooklyn Rail, The Setinkane drum sounds and someone plays the Phala Picasso slowly walks through the streets of Gaborone while on the other side of the world, a painting that he didn’t ^^  even know existed, a painting that he didn’\n",
      "['Art', 'is', 'a', 'game', 'and', 'not', 'everyone', 'is', 'invited', 'to', 'play,', 'Art', 'is', 'a', 'game', 'and', 'if', 'Picasso', 'had', 'been', 'born', 'in', 'Botswana', 'nobody', 'would', 'be', 'buying', 'postcards', 'of', 'his', 'works', 'in', 'the', 'gift', 'shop', 'of', 'the', 'MET,', 'Art', 'is', 'what', 'we', 'agree', 'art', 'is,', 'and', 'if', 'someone', 'doesn’t', 'agree,', 'we', 'call', 'them', 'a', 'heretic', 'and', 'we', 'throw', 'them', 'in', 'the', 'Hudson', 'with', 'a', 'sculpture', 'of', 'Robert', 'Indiana', 'tied', 'to', 'their', 'legs', 'to', 'see', 'if', 'they', 'float,', 'It’s', 'art', 'if', 'it', 'doesn’t', 'sink', 'in', 'the', 'river,', 'It’s', 'art', 'if', 'five', 'zeros', 'line', 'up', 'in', 'your', 'wallet,', 'It’s', 'art', 'if', 'it', 'smells', 'like', 'gold,', 'if', 'it', 'tastes', 'like', 'gold,', 'if', 'it', 'weighs', 'the', 'same', 'as', 'gold,', 'It’ll', 'be', 'art', 'if', 'you', 'stop', 'repeating', 'how', 'good', 'it', 'is', 'and', 'you', 'stop', 'to', 'look', 'at', 'it,', 'if', 'you', 'stop', 'trying', 'to', 'understand', 'it,', 'to', 'explain', 'it,', 'Picasso', 'in', 'Botswana', 'passing', 'out', 'Pulas', 'and', 'on', 'the', 'walls', 'of', 'the', 'MOMA', 'pieces', 'of', 'melted', 'egos', 'are', 'hanging,', 'Without', 'oceans,', 'Without', 'people,', 'Rivers', 'of', 'people', 'doing', 'what', 'they', 'DON’T', 'feel,', 'doing', 'what', 'they', 'think', 'they’re', 'supposed', 'to', 'do,', 'what', 'someone', 'told', 'them', 'to', 'do', 'or', 'something', 'that', 'they', 'read', 'in', 'the', 'Time', 'Out', 'New', 'York,', 'or', 'in', 'the', 'Brooklyn', 'Rail,', 'The', 'Setinkane', 'drum', 'sounds', 'and', 'someone', 'plays', 'the', 'Phala', 'Picasso', 'slowly', 'walks', 'through', 'the', 'streets', 'of', 'Gaborone', 'while', 'on', 'the', 'other', 'side', 'of', 'the', 'world,', 'a', 'painting', 'that', 'he', 'didn’t', 'paint']\n"
     ]
    },
    {
     "name": "stderr",
     "output_type": "stream",
     "text": [
      "Setting `pad_token_id` to `eos_token_id`:50256 for open-end generation.\n"
     ]
    },
    {
     "name": "stdout",
     "output_type": "stream",
     "text": [
      "Art is a game and not everyone is invited to play, Art is a game and if Picasso had been born in Botswana nobody would be buying postcards of his works in the gift shop of the MET, Art is what we agree art is, and if someone doesn’t agree, we call them a heretic and we throw them in the Hudson with a sculpture of Robert Indiana tied to their legs to see if they float, It’s art if it doesn’t sink in the river, It’s art if five zeros line up in your wallet, It’s art if it smells like gold, if it tastes like gold, if it weighs the same as gold, It’ll be art if you stop repeating how good it is and you stop to look at it, if you stop trying to understand it, to explain it, Picasso in Botswana passing out Pulas and on the walls of the MOMA pieces of melted egos are hanging, Without oceans, Without people, Rivers of people doing what they DON’T feel, doing what they think they’re supposed to do, what someone told them to do or something that they read in the Time Out New York, or in the Brooklyn Rail, The Setinkane drum sounds and someone plays the Phala Picasso slowly walks through the streets of Gaborone while on the other side of the world, a painting that he didn’t paint ^^ , a painting that he didn’t paint\n",
      "['Art', 'is', 'a', 'game', 'and', 'not', 'everyone', 'is', 'invited', 'to', 'play,', 'Art', 'is', 'a', 'game', 'and', 'if', 'Picasso', 'had', 'been', 'born', 'in', 'Botswana', 'nobody', 'would', 'be', 'buying', 'postcards', 'of', 'his', 'works', 'in', 'the', 'gift', 'shop', 'of', 'the', 'MET,', 'Art', 'is', 'what', 'we', 'agree', 'art', 'is,', 'and', 'if', 'someone', 'doesn’t', 'agree,', 'we', 'call', 'them', 'a', 'heretic', 'and', 'we', 'throw', 'them', 'in', 'the', 'Hudson', 'with', 'a', 'sculpture', 'of', 'Robert', 'Indiana', 'tied', 'to', 'their', 'legs', 'to', 'see', 'if', 'they', 'float,', 'It’s', 'art', 'if', 'it', 'doesn’t', 'sink', 'in', 'the', 'river,', 'It’s', 'art', 'if', 'five', 'zeros', 'line', 'up', 'in', 'your', 'wallet,', 'It’s', 'art', 'if', 'it', 'smells', 'like', 'gold,', 'if', 'it', 'tastes', 'like', 'gold,', 'if', 'it', 'weighs', 'the', 'same', 'as', 'gold,', 'It’ll', 'be', 'art', 'if', 'you', 'stop', 'repeating', 'how', 'good', 'it', 'is', 'and', 'you', 'stop', 'to', 'look', 'at', 'it,', 'if', 'you', 'stop', 'trying', 'to', 'understand', 'it,', 'to', 'explain', 'it,', 'Picasso', 'in', 'Botswana', 'passing', 'out', 'Pulas', 'and', 'on', 'the', 'walls', 'of', 'the', 'MOMA', 'pieces', 'of', 'melted', 'egos', 'are', 'hanging,', 'Without', 'oceans,', 'Without', 'people,', 'Rivers', 'of', 'people', 'doing', 'what', 'they', 'DON’T', 'feel,', 'doing', 'what', 'they', 'think', 'they’re', 'supposed', 'to', 'do,', 'what', 'someone', 'told', 'them', 'to', 'do', 'or', 'something', 'that', 'they', 'read', 'in', 'the', 'Time', 'Out', 'New', 'York,', 'or', 'in', 'the', 'Brooklyn', 'Rail,', 'The', 'Setinkane', 'drum', 'sounds', 'and', 'someone', 'plays', 'the', 'Phala', 'Picasso', 'slowly', 'walks', 'through', 'the', 'streets', 'of', 'Gaborone', 'while', 'on', 'the', 'other', 'side', 'of', 'the', 'world,', 'a', 'painting', 'that', 'he', 'didn’t', 'paint', 'sells']\n"
     ]
    },
    {
     "name": "stderr",
     "output_type": "stream",
     "text": [
      "Setting `pad_token_id` to `eos_token_id`:50256 for open-end generation.\n"
     ]
    },
    {
     "name": "stdout",
     "output_type": "stream",
     "text": [
      "Art is a game and not everyone is invited to play, Art is a game and if Picasso had been born in Botswana nobody would be buying postcards of his works in the gift shop of the MET, Art is what we agree art is, and if someone doesn’t agree, we call them a heretic and we throw them in the Hudson with a sculpture of Robert Indiana tied to their legs to see if they float, It’s art if it doesn’t sink in the river, It’s art if five zeros line up in your wallet, It’s art if it smells like gold, if it tastes like gold, if it weighs the same as gold, It’ll be art if you stop repeating how good it is and you stop to look at it, if you stop trying to understand it, to explain it, Picasso in Botswana passing out Pulas and on the walls of the MOMA pieces of melted egos are hanging, Without oceans, Without people, Rivers of people doing what they DON’T feel, doing what they think they’re supposed to do, what someone told them to do or something that they read in the Time Out New York, or in the Brooklyn Rail, The Setinkane drum sounds and someone plays the Phala Picasso slowly walks through the streets of Gaborone while on the other side of the world, a painting that he didn’t paint sells ^^  for $1,000, and if you\n",
      "['Art', 'is', 'a', 'game', 'and', 'not', 'everyone', 'is', 'invited', 'to', 'play,', 'Art', 'is', 'a', 'game', 'and', 'if', 'Picasso', 'had', 'been', 'born', 'in', 'Botswana', 'nobody', 'would', 'be', 'buying', 'postcards', 'of', 'his', 'works', 'in', 'the', 'gift', 'shop', 'of', 'the', 'MET,', 'Art', 'is', 'what', 'we', 'agree', 'art', 'is,', 'and', 'if', 'someone', 'doesn’t', 'agree,', 'we', 'call', 'them', 'a', 'heretic', 'and', 'we', 'throw', 'them', 'in', 'the', 'Hudson', 'with', 'a', 'sculpture', 'of', 'Robert', 'Indiana', 'tied', 'to', 'their', 'legs', 'to', 'see', 'if', 'they', 'float,', 'It’s', 'art', 'if', 'it', 'doesn’t', 'sink', 'in', 'the', 'river,', 'It’s', 'art', 'if', 'five', 'zeros', 'line', 'up', 'in', 'your', 'wallet,', 'It’s', 'art', 'if', 'it', 'smells', 'like', 'gold,', 'if', 'it', 'tastes', 'like', 'gold,', 'if', 'it', 'weighs', 'the', 'same', 'as', 'gold,', 'It’ll', 'be', 'art', 'if', 'you', 'stop', 'repeating', 'how', 'good', 'it', 'is', 'and', 'you', 'stop', 'to', 'look', 'at', 'it,', 'if', 'you', 'stop', 'trying', 'to', 'understand', 'it,', 'to', 'explain', 'it,', 'Picasso', 'in', 'Botswana', 'passing', 'out', 'Pulas', 'and', 'on', 'the', 'walls', 'of', 'the', 'MOMA', 'pieces', 'of', 'melted', 'egos', 'are', 'hanging,', 'Without', 'oceans,', 'Without', 'people,', 'Rivers', 'of', 'people', 'doing', 'what', 'they', 'DON’T', 'feel,', 'doing', 'what', 'they', 'think', 'they’re', 'supposed', 'to', 'do,', 'what', 'someone', 'told', 'them', 'to', 'do', 'or', 'something', 'that', 'they', 'read', 'in', 'the', 'Time', 'Out', 'New', 'York,', 'or', 'in', 'the', 'Brooklyn', 'Rail,', 'The', 'Setinkane', 'drum', 'sounds', 'and', 'someone', 'plays', 'the', 'Phala', 'Picasso', 'slowly', 'walks', 'through', 'the', 'streets', 'of', 'Gaborone', 'while', 'on', 'the', 'other', 'side', 'of', 'the', 'world,', 'a', 'painting', 'that', 'he', 'didn’t', 'paint', 'sells', 'for']\n"
     ]
    },
    {
     "name": "stderr",
     "output_type": "stream",
     "text": [
      "Setting `pad_token_id` to `eos_token_id`:50256 for open-end generation.\n"
     ]
    },
    {
     "name": "stdout",
     "output_type": "stream",
     "text": [
      "Art is a game and not everyone is invited to play, Art is a game and if Picasso had been born in Botswana nobody would be buying postcards of his works in the gift shop of the MET, Art is what we agree art is, and if someone doesn’t agree, we call them a heretic and we throw them in the Hudson with a sculpture of Robert Indiana tied to their legs to see if they float, It’s art if it doesn’t sink in the river, It’s art if five zeros line up in your wallet, It’s art if it smells like gold, if it tastes like gold, if it weighs the same as gold, It’ll be art if you stop repeating how good it is and you stop to look at it, if you stop trying to understand it, to explain it, Picasso in Botswana passing out Pulas and on the walls of the MOMA pieces of melted egos are hanging, Without oceans, Without people, Rivers of people doing what they DON’T feel, doing what they think they’re supposed to do, what someone told them to do or something that they read in the Time Out New York, or in the Brooklyn Rail, The Setinkane drum sounds and someone plays the Phala Picasso slowly walks through the streets of Gaborone while on the other side of the world, a painting that he didn’t paint sells for ^^  $1,000, and if you\n",
      "['Art', 'is', 'a', 'game', 'and', 'not', 'everyone', 'is', 'invited', 'to', 'play,', 'Art', 'is', 'a', 'game', 'and', 'if', 'Picasso', 'had', 'been', 'born', 'in', 'Botswana', 'nobody', 'would', 'be', 'buying', 'postcards', 'of', 'his', 'works', 'in', 'the', 'gift', 'shop', 'of', 'the', 'MET,', 'Art', 'is', 'what', 'we', 'agree', 'art', 'is,', 'and', 'if', 'someone', 'doesn’t', 'agree,', 'we', 'call', 'them', 'a', 'heretic', 'and', 'we', 'throw', 'them', 'in', 'the', 'Hudson', 'with', 'a', 'sculpture', 'of', 'Robert', 'Indiana', 'tied', 'to', 'their', 'legs', 'to', 'see', 'if', 'they', 'float,', 'It’s', 'art', 'if', 'it', 'doesn’t', 'sink', 'in', 'the', 'river,', 'It’s', 'art', 'if', 'five', 'zeros', 'line', 'up', 'in', 'your', 'wallet,', 'It’s', 'art', 'if', 'it', 'smells', 'like', 'gold,', 'if', 'it', 'tastes', 'like', 'gold,', 'if', 'it', 'weighs', 'the', 'same', 'as', 'gold,', 'It’ll', 'be', 'art', 'if', 'you', 'stop', 'repeating', 'how', 'good', 'it', 'is', 'and', 'you', 'stop', 'to', 'look', 'at', 'it,', 'if', 'you', 'stop', 'trying', 'to', 'understand', 'it,', 'to', 'explain', 'it,', 'Picasso', 'in', 'Botswana', 'passing', 'out', 'Pulas', 'and', 'on', 'the', 'walls', 'of', 'the', 'MOMA', 'pieces', 'of', 'melted', 'egos', 'are', 'hanging,', 'Without', 'oceans,', 'Without', 'people,', 'Rivers', 'of', 'people', 'doing', 'what', 'they', 'DON’T', 'feel,', 'doing', 'what', 'they', 'think', 'they’re', 'supposed', 'to', 'do,', 'what', 'someone', 'told', 'them', 'to', 'do', 'or', 'something', 'that', 'they', 'read', 'in', 'the', 'Time', 'Out', 'New', 'York,', 'or', 'in', 'the', 'Brooklyn', 'Rail,', 'The', 'Setinkane', 'drum', 'sounds', 'and', 'someone', 'plays', 'the', 'Phala', 'Picasso', 'slowly', 'walks', 'through', 'the', 'streets', 'of', 'Gaborone', 'while', 'on', 'the', 'other', 'side', 'of', 'the', 'world,', 'a', 'painting', 'that', 'he', 'didn’t', 'paint', 'sells', 'for', 'millions']\n"
     ]
    },
    {
     "name": "stderr",
     "output_type": "stream",
     "text": [
      "Setting `pad_token_id` to `eos_token_id`:50256 for open-end generation.\n"
     ]
    },
    {
     "name": "stdout",
     "output_type": "stream",
     "text": [
      "Art is a game and not everyone is invited to play, Art is a game and if Picasso had been born in Botswana nobody would be buying postcards of his works in the gift shop of the MET, Art is what we agree art is, and if someone doesn’t agree, we call them a heretic and we throw them in the Hudson with a sculpture of Robert Indiana tied to their legs to see if they float, It’s art if it doesn’t sink in the river, It’s art if five zeros line up in your wallet, It’s art if it smells like gold, if it tastes like gold, if it weighs the same as gold, It’ll be art if you stop repeating how good it is and you stop to look at it, if you stop trying to understand it, to explain it, Picasso in Botswana passing out Pulas and on the walls of the MOMA pieces of melted egos are hanging, Without oceans, Without people, Rivers of people doing what they DON’T feel, doing what they think they’re supposed to do, what someone told them to do or something that they read in the Time Out New York, or in the Brooklyn Rail, The Setinkane drum sounds and someone plays the Phala Picasso slowly walks through the streets of Gaborone while on the other side of the world, a painting that he didn’t paint sells for millions ^^  of dollars, and it’\n",
      "['Art', 'is', 'a', 'game', 'and', 'not', 'everyone', 'is', 'invited', 'to', 'play,', 'Art', 'is', 'a', 'game', 'and', 'if', 'Picasso', 'had', 'been', 'born', 'in', 'Botswana', 'nobody', 'would', 'be', 'buying', 'postcards', 'of', 'his', 'works', 'in', 'the', 'gift', 'shop', 'of', 'the', 'MET,', 'Art', 'is', 'what', 'we', 'agree', 'art', 'is,', 'and', 'if', 'someone', 'doesn’t', 'agree,', 'we', 'call', 'them', 'a', 'heretic', 'and', 'we', 'throw', 'them', 'in', 'the', 'Hudson', 'with', 'a', 'sculpture', 'of', 'Robert', 'Indiana', 'tied', 'to', 'their', 'legs', 'to', 'see', 'if', 'they', 'float,', 'It’s', 'art', 'if', 'it', 'doesn’t', 'sink', 'in', 'the', 'river,', 'It’s', 'art', 'if', 'five', 'zeros', 'line', 'up', 'in', 'your', 'wallet,', 'It’s', 'art', 'if', 'it', 'smells', 'like', 'gold,', 'if', 'it', 'tastes', 'like', 'gold,', 'if', 'it', 'weighs', 'the', 'same', 'as', 'gold,', 'It’ll', 'be', 'art', 'if', 'you', 'stop', 'repeating', 'how', 'good', 'it', 'is', 'and', 'you', 'stop', 'to', 'look', 'at', 'it,', 'if', 'you', 'stop', 'trying', 'to', 'understand', 'it,', 'to', 'explain', 'it,', 'Picasso', 'in', 'Botswana', 'passing', 'out', 'Pulas', 'and', 'on', 'the', 'walls', 'of', 'the', 'MOMA', 'pieces', 'of', 'melted', 'egos', 'are', 'hanging,', 'Without', 'oceans,', 'Without', 'people,', 'Rivers', 'of', 'people', 'doing', 'what', 'they', 'DON’T', 'feel,', 'doing', 'what', 'they', 'think', 'they’re', 'supposed', 'to', 'do,', 'what', 'someone', 'told', 'them', 'to', 'do', 'or', 'something', 'that', 'they', 'read', 'in', 'the', 'Time', 'Out', 'New', 'York,', 'or', 'in', 'the', 'Brooklyn', 'Rail,', 'The', 'Setinkane', 'drum', 'sounds', 'and', 'someone', 'plays', 'the', 'Phala', 'Picasso', 'slowly', 'walks', 'through', 'the', 'streets', 'of', 'Gaborone', 'while', 'on', 'the', 'other', 'side', 'of', 'the', 'world,', 'a', 'painting', 'that', 'he', 'didn’t', 'paint', 'sells', 'for', 'millions', 'of']\n"
     ]
    },
    {
     "name": "stderr",
     "output_type": "stream",
     "text": [
      "Setting `pad_token_id` to `eos_token_id`:50256 for open-end generation.\n"
     ]
    },
    {
     "name": "stdout",
     "output_type": "stream",
     "text": [
      "Art is a game and not everyone is invited to play, Art is a game and if Picasso had been born in Botswana nobody would be buying postcards of his works in the gift shop of the MET, Art is what we agree art is, and if someone doesn’t agree, we call them a heretic and we throw them in the Hudson with a sculpture of Robert Indiana tied to their legs to see if they float, It’s art if it doesn’t sink in the river, It’s art if five zeros line up in your wallet, It’s art if it smells like gold, if it tastes like gold, if it weighs the same as gold, It’ll be art if you stop repeating how good it is and you stop to look at it, if you stop trying to understand it, to explain it, Picasso in Botswana passing out Pulas and on the walls of the MOMA pieces of melted egos are hanging, Without oceans, Without people, Rivers of people doing what they DON’T feel, doing what they think they’re supposed to do, what someone told them to do or something that they read in the Time Out New York, or in the Brooklyn Rail, The Setinkane drum sounds and someone plays the Phala Picasso slowly walks through the streets of Gaborone while on the other side of the world, a painting that he didn’t paint sells for millions of ^^  dollars, and it’\n",
      "['Art', 'is', 'a', 'game', 'and', 'not', 'everyone', 'is', 'invited', 'to', 'play,', 'Art', 'is', 'a', 'game', 'and', 'if', 'Picasso', 'had', 'been', 'born', 'in', 'Botswana', 'nobody', 'would', 'be', 'buying', 'postcards', 'of', 'his', 'works', 'in', 'the', 'gift', 'shop', 'of', 'the', 'MET,', 'Art', 'is', 'what', 'we', 'agree', 'art', 'is,', 'and', 'if', 'someone', 'doesn’t', 'agree,', 'we', 'call', 'them', 'a', 'heretic', 'and', 'we', 'throw', 'them', 'in', 'the', 'Hudson', 'with', 'a', 'sculpture', 'of', 'Robert', 'Indiana', 'tied', 'to', 'their', 'legs', 'to', 'see', 'if', 'they', 'float,', 'It’s', 'art', 'if', 'it', 'doesn’t', 'sink', 'in', 'the', 'river,', 'It’s', 'art', 'if', 'five', 'zeros', 'line', 'up', 'in', 'your', 'wallet,', 'It’s', 'art', 'if', 'it', 'smells', 'like', 'gold,', 'if', 'it', 'tastes', 'like', 'gold,', 'if', 'it', 'weighs', 'the', 'same', 'as', 'gold,', 'It’ll', 'be', 'art', 'if', 'you', 'stop', 'repeating', 'how', 'good', 'it', 'is', 'and', 'you', 'stop', 'to', 'look', 'at', 'it,', 'if', 'you', 'stop', 'trying', 'to', 'understand', 'it,', 'to', 'explain', 'it,', 'Picasso', 'in', 'Botswana', 'passing', 'out', 'Pulas', 'and', 'on', 'the', 'walls', 'of', 'the', 'MOMA', 'pieces', 'of', 'melted', 'egos', 'are', 'hanging,', 'Without', 'oceans,', 'Without', 'people,', 'Rivers', 'of', 'people', 'doing', 'what', 'they', 'DON’T', 'feel,', 'doing', 'what', 'they', 'think', 'they’re', 'supposed', 'to', 'do,', 'what', 'someone', 'told', 'them', 'to', 'do', 'or', 'something', 'that', 'they', 'read', 'in', 'the', 'Time', 'Out', 'New', 'York,', 'or', 'in', 'the', 'Brooklyn', 'Rail,', 'The', 'Setinkane', 'drum', 'sounds', 'and', 'someone', 'plays', 'the', 'Phala', 'Picasso', 'slowly', 'walks', 'through', 'the', 'streets', 'of', 'Gaborone', 'while', 'on', 'the', 'other', 'side', 'of', 'the', 'world,', 'a', 'painting', 'that', 'he', 'didn’t', 'paint', 'sells', 'for', 'millions', 'of', 'dollars,']\n"
     ]
    },
    {
     "name": "stderr",
     "output_type": "stream",
     "text": [
      "Setting `pad_token_id` to `eos_token_id`:50256 for open-end generation.\n"
     ]
    },
    {
     "name": "stdout",
     "output_type": "stream",
     "text": [
      "Art is a game and not everyone is invited to play, Art is a game and if Picasso had been born in Botswana nobody would be buying postcards of his works in the gift shop of the MET, Art is what we agree art is, and if someone doesn’t agree, we call them a heretic and we throw them in the Hudson with a sculpture of Robert Indiana tied to their legs to see if they float, It’s art if it doesn’t sink in the river, It’s art if five zeros line up in your wallet, It’s art if it smells like gold, if it tastes like gold, if it weighs the same as gold, It’ll be art if you stop repeating how good it is and you stop to look at it, if you stop trying to understand it, to explain it, Picasso in Botswana passing out Pulas and on the walls of the MOMA pieces of melted egos are hanging, Without oceans, Without people, Rivers of people doing what they DON’T feel, doing what they think they’re supposed to do, what someone told them to do or something that they read in the Time Out New York, or in the Brooklyn Rail, The Setinkane drum sounds and someone plays the Phala Picasso slowly walks through the streets of Gaborone while on the other side of the world, a painting that he didn’t paint sells for millions of dollars, ^^  and it’s\n",
      "['Art', 'is', 'a', 'game', 'and', 'not', 'everyone', 'is', 'invited', 'to', 'play,', 'Art', 'is', 'a', 'game', 'and', 'if', 'Picasso', 'had', 'been', 'born', 'in', 'Botswana', 'nobody', 'would', 'be', 'buying', 'postcards', 'of', 'his', 'works', 'in', 'the', 'gift', 'shop', 'of', 'the', 'MET,', 'Art', 'is', 'what', 'we', 'agree', 'art', 'is,', 'and', 'if', 'someone', 'doesn’t', 'agree,', 'we', 'call', 'them', 'a', 'heretic', 'and', 'we', 'throw', 'them', 'in', 'the', 'Hudson', 'with', 'a', 'sculpture', 'of', 'Robert', 'Indiana', 'tied', 'to', 'their', 'legs', 'to', 'see', 'if', 'they', 'float,', 'It’s', 'art', 'if', 'it', 'doesn’t', 'sink', 'in', 'the', 'river,', 'It’s', 'art', 'if', 'five', 'zeros', 'line', 'up', 'in', 'your', 'wallet,', 'It’s', 'art', 'if', 'it', 'smells', 'like', 'gold,', 'if', 'it', 'tastes', 'like', 'gold,', 'if', 'it', 'weighs', 'the', 'same', 'as', 'gold,', 'It’ll', 'be', 'art', 'if', 'you', 'stop', 'repeating', 'how', 'good', 'it', 'is', 'and', 'you', 'stop', 'to', 'look', 'at', 'it,', 'if', 'you', 'stop', 'trying', 'to', 'understand', 'it,', 'to', 'explain', 'it,', 'Picasso', 'in', 'Botswana', 'passing', 'out', 'Pulas', 'and', 'on', 'the', 'walls', 'of', 'the', 'MOMA', 'pieces', 'of', 'melted', 'egos', 'are', 'hanging,', 'Without', 'oceans,', 'Without', 'people,', 'Rivers', 'of', 'people', 'doing', 'what', 'they', 'DON’T', 'feel,', 'doing', 'what', 'they', 'think', 'they’re', 'supposed', 'to', 'do,', 'what', 'someone', 'told', 'them', 'to', 'do', 'or', 'something', 'that', 'they', 'read', 'in', 'the', 'Time', 'Out', 'New', 'York,', 'or', 'in', 'the', 'Brooklyn', 'Rail,', 'The', 'Setinkane', 'drum', 'sounds', 'and', 'someone', 'plays', 'the', 'Phala', 'Picasso', 'slowly', 'walks', 'through', 'the', 'streets', 'of', 'Gaborone', 'while', 'on', 'the', 'other', 'side', 'of', 'the', 'world,', 'a', 'painting', 'that', 'he', 'didn’t', 'paint', 'sells', 'for', 'millions', 'of', 'dollars,', 'Nobody']\n"
     ]
    },
    {
     "name": "stderr",
     "output_type": "stream",
     "text": [
      "Setting `pad_token_id` to `eos_token_id`:50256 for open-end generation.\n"
     ]
    },
    {
     "name": "stdout",
     "output_type": "stream",
     "text": [
      "Art is a game and not everyone is invited to play, Art is a game and if Picasso had been born in Botswana nobody would be buying postcards of his works in the gift shop of the MET, Art is what we agree art is, and if someone doesn’t agree, we call them a heretic and we throw them in the Hudson with a sculpture of Robert Indiana tied to their legs to see if they float, It’s art if it doesn’t sink in the river, It’s art if five zeros line up in your wallet, It’s art if it smells like gold, if it tastes like gold, if it weighs the same as gold, It’ll be art if you stop repeating how good it is and you stop to look at it, if you stop trying to understand it, to explain it, Picasso in Botswana passing out Pulas and on the walls of the MOMA pieces of melted egos are hanging, Without oceans, Without people, Rivers of people doing what they DON’T feel, doing what they think they’re supposed to do, what someone told them to do or something that they read in the Time Out New York, or in the Brooklyn Rail, The Setinkane drum sounds and someone plays the Phala Picasso slowly walks through the streets of Gaborone while on the other side of the world, a painting that he didn’t paint sells for millions of dollars, Nobody ^^ ’s going\n",
      "['Art', 'is', 'a', 'game', 'and', 'not', 'everyone', 'is', 'invited', 'to', 'play,', 'Art', 'is', 'a', 'game', 'and', 'if', 'Picasso', 'had', 'been', 'born', 'in', 'Botswana', 'nobody', 'would', 'be', 'buying', 'postcards', 'of', 'his', 'works', 'in', 'the', 'gift', 'shop', 'of', 'the', 'MET,', 'Art', 'is', 'what', 'we', 'agree', 'art', 'is,', 'and', 'if', 'someone', 'doesn’t', 'agree,', 'we', 'call', 'them', 'a', 'heretic', 'and', 'we', 'throw', 'them', 'in', 'the', 'Hudson', 'with', 'a', 'sculpture', 'of', 'Robert', 'Indiana', 'tied', 'to', 'their', 'legs', 'to', 'see', 'if', 'they', 'float,', 'It’s', 'art', 'if', 'it', 'doesn’t', 'sink', 'in', 'the', 'river,', 'It’s', 'art', 'if', 'five', 'zeros', 'line', 'up', 'in', 'your', 'wallet,', 'It’s', 'art', 'if', 'it', 'smells', 'like', 'gold,', 'if', 'it', 'tastes', 'like', 'gold,', 'if', 'it', 'weighs', 'the', 'same', 'as', 'gold,', 'It’ll', 'be', 'art', 'if', 'you', 'stop', 'repeating', 'how', 'good', 'it', 'is', 'and', 'you', 'stop', 'to', 'look', 'at', 'it,', 'if', 'you', 'stop', 'trying', 'to', 'understand', 'it,', 'to', 'explain', 'it,', 'Picasso', 'in', 'Botswana', 'passing', 'out', 'Pulas', 'and', 'on', 'the', 'walls', 'of', 'the', 'MOMA', 'pieces', 'of', 'melted', 'egos', 'are', 'hanging,', 'Without', 'oceans,', 'Without', 'people,', 'Rivers', 'of', 'people', 'doing', 'what', 'they', 'DON’T', 'feel,', 'doing', 'what', 'they', 'think', 'they’re', 'supposed', 'to', 'do,', 'what', 'someone', 'told', 'them', 'to', 'do', 'or', 'something', 'that', 'they', 'read', 'in', 'the', 'Time', 'Out', 'New', 'York,', 'or', 'in', 'the', 'Brooklyn', 'Rail,', 'The', 'Setinkane', 'drum', 'sounds', 'and', 'someone', 'plays', 'the', 'Phala', 'Picasso', 'slowly', 'walks', 'through', 'the', 'streets', 'of', 'Gaborone', 'while', 'on', 'the', 'other', 'side', 'of', 'the', 'world,', 'a', 'painting', 'that', 'he', 'didn’t', 'paint', 'sells', 'for', 'millions', 'of', 'dollars,', 'Nobody', 'knows']\n"
     ]
    },
    {
     "name": "stderr",
     "output_type": "stream",
     "text": [
      "Setting `pad_token_id` to `eos_token_id`:50256 for open-end generation.\n"
     ]
    },
    {
     "name": "stdout",
     "output_type": "stream",
     "text": [
      "Art is a game and not everyone is invited to play, Art is a game and if Picasso had been born in Botswana nobody would be buying postcards of his works in the gift shop of the MET, Art is what we agree art is, and if someone doesn’t agree, we call them a heretic and we throw them in the Hudson with a sculpture of Robert Indiana tied to their legs to see if they float, It’s art if it doesn’t sink in the river, It’s art if five zeros line up in your wallet, It’s art if it smells like gold, if it tastes like gold, if it weighs the same as gold, It’ll be art if you stop repeating how good it is and you stop to look at it, if you stop trying to understand it, to explain it, Picasso in Botswana passing out Pulas and on the walls of the MOMA pieces of melted egos are hanging, Without oceans, Without people, Rivers of people doing what they DON’T feel, doing what they think they’re supposed to do, what someone told them to do or something that they read in the Time Out New York, or in the Brooklyn Rail, The Setinkane drum sounds and someone plays the Phala Picasso slowly walks through the streets of Gaborone while on the other side of the world, a painting that he didn’t paint sells for millions of dollars, Nobody knows ^^  what he�\n",
      "['Art', 'is', 'a', 'game', 'and', 'not', 'everyone', 'is', 'invited', 'to', 'play,', 'Art', 'is', 'a', 'game', 'and', 'if', 'Picasso', 'had', 'been', 'born', 'in', 'Botswana', 'nobody', 'would', 'be', 'buying', 'postcards', 'of', 'his', 'works', 'in', 'the', 'gift', 'shop', 'of', 'the', 'MET,', 'Art', 'is', 'what', 'we', 'agree', 'art', 'is,', 'and', 'if', 'someone', 'doesn’t', 'agree,', 'we', 'call', 'them', 'a', 'heretic', 'and', 'we', 'throw', 'them', 'in', 'the', 'Hudson', 'with', 'a', 'sculpture', 'of', 'Robert', 'Indiana', 'tied', 'to', 'their', 'legs', 'to', 'see', 'if', 'they', 'float,', 'It’s', 'art', 'if', 'it', 'doesn’t', 'sink', 'in', 'the', 'river,', 'It’s', 'art', 'if', 'five', 'zeros', 'line', 'up', 'in', 'your', 'wallet,', 'It’s', 'art', 'if', 'it', 'smells', 'like', 'gold,', 'if', 'it', 'tastes', 'like', 'gold,', 'if', 'it', 'weighs', 'the', 'same', 'as', 'gold,', 'It’ll', 'be', 'art', 'if', 'you', 'stop', 'repeating', 'how', 'good', 'it', 'is', 'and', 'you', 'stop', 'to', 'look', 'at', 'it,', 'if', 'you', 'stop', 'trying', 'to', 'understand', 'it,', 'to', 'explain', 'it,', 'Picasso', 'in', 'Botswana', 'passing', 'out', 'Pulas', 'and', 'on', 'the', 'walls', 'of', 'the', 'MOMA', 'pieces', 'of', 'melted', 'egos', 'are', 'hanging,', 'Without', 'oceans,', 'Without', 'people,', 'Rivers', 'of', 'people', 'doing', 'what', 'they', 'DON’T', 'feel,', 'doing', 'what', 'they', 'think', 'they’re', 'supposed', 'to', 'do,', 'what', 'someone', 'told', 'them', 'to', 'do', 'or', 'something', 'that', 'they', 'read', 'in', 'the', 'Time', 'Out', 'New', 'York,', 'or', 'in', 'the', 'Brooklyn', 'Rail,', 'The', 'Setinkane', 'drum', 'sounds', 'and', 'someone', 'plays', 'the', 'Phala', 'Picasso', 'slowly', 'walks', 'through', 'the', 'streets', 'of', 'Gaborone', 'while', 'on', 'the', 'other', 'side', 'of', 'the', 'world,', 'a', 'painting', 'that', 'he', 'didn’t', 'paint', 'sells', 'for', 'millions', 'of', 'dollars,', 'Nobody', 'knows', 'who']\n"
     ]
    },
    {
     "name": "stderr",
     "output_type": "stream",
     "text": [
      "Setting `pad_token_id` to `eos_token_id`:50256 for open-end generation.\n"
     ]
    },
    {
     "name": "stdout",
     "output_type": "stream",
     "text": [
      "Art is a game and not everyone is invited to play, Art is a game and if Picasso had been born in Botswana nobody would be buying postcards of his works in the gift shop of the MET, Art is what we agree art is, and if someone doesn’t agree, we call them a heretic and we throw them in the Hudson with a sculpture of Robert Indiana tied to their legs to see if they float, It’s art if it doesn’t sink in the river, It’s art if five zeros line up in your wallet, It’s art if it smells like gold, if it tastes like gold, if it weighs the same as gold, It’ll be art if you stop repeating how good it is and you stop to look at it, if you stop trying to understand it, to explain it, Picasso in Botswana passing out Pulas and on the walls of the MOMA pieces of melted egos are hanging, Without oceans, Without people, Rivers of people doing what they DON’T feel, doing what they think they’re supposed to do, what someone told them to do or something that they read in the Time Out New York, or in the Brooklyn Rail, The Setinkane drum sounds and someone plays the Phala Picasso slowly walks through the streets of Gaborone while on the other side of the world, a painting that he didn’t paint sells for millions of dollars, Nobody knows who ^^  he is\n",
      "['Art', 'is', 'a', 'game', 'and', 'not', 'everyone', 'is', 'invited', 'to', 'play,', 'Art', 'is', 'a', 'game', 'and', 'if', 'Picasso', 'had', 'been', 'born', 'in', 'Botswana', 'nobody', 'would', 'be', 'buying', 'postcards', 'of', 'his', 'works', 'in', 'the', 'gift', 'shop', 'of', 'the', 'MET,', 'Art', 'is', 'what', 'we', 'agree', 'art', 'is,', 'and', 'if', 'someone', 'doesn’t', 'agree,', 'we', 'call', 'them', 'a', 'heretic', 'and', 'we', 'throw', 'them', 'in', 'the', 'Hudson', 'with', 'a', 'sculpture', 'of', 'Robert', 'Indiana', 'tied', 'to', 'their', 'legs', 'to', 'see', 'if', 'they', 'float,', 'It’s', 'art', 'if', 'it', 'doesn’t', 'sink', 'in', 'the', 'river,', 'It’s', 'art', 'if', 'five', 'zeros', 'line', 'up', 'in', 'your', 'wallet,', 'It’s', 'art', 'if', 'it', 'smells', 'like', 'gold,', 'if', 'it', 'tastes', 'like', 'gold,', 'if', 'it', 'weighs', 'the', 'same', 'as', 'gold,', 'It’ll', 'be', 'art', 'if', 'you', 'stop', 'repeating', 'how', 'good', 'it', 'is', 'and', 'you', 'stop', 'to', 'look', 'at', 'it,', 'if', 'you', 'stop', 'trying', 'to', 'understand', 'it,', 'to', 'explain', 'it,', 'Picasso', 'in', 'Botswana', 'passing', 'out', 'Pulas', 'and', 'on', 'the', 'walls', 'of', 'the', 'MOMA', 'pieces', 'of', 'melted', 'egos', 'are', 'hanging,', 'Without', 'oceans,', 'Without', 'people,', 'Rivers', 'of', 'people', 'doing', 'what', 'they', 'DON’T', 'feel,', 'doing', 'what', 'they', 'think', 'they’re', 'supposed', 'to', 'do,', 'what', 'someone', 'told', 'them', 'to', 'do', 'or', 'something', 'that', 'they', 'read', 'in', 'the', 'Time', 'Out', 'New', 'York,', 'or', 'in', 'the', 'Brooklyn', 'Rail,', 'The', 'Setinkane', 'drum', 'sounds', 'and', 'someone', 'plays', 'the', 'Phala', 'Picasso', 'slowly', 'walks', 'through', 'the', 'streets', 'of', 'Gaborone', 'while', 'on', 'the', 'other', 'side', 'of', 'the', 'world,', 'a', 'painting', 'that', 'he', 'didn’t', 'paint', 'sells', 'for', 'millions', 'of', 'dollars,', 'Nobody', 'knows', 'who', 'Picasso']\n"
     ]
    },
    {
     "name": "stderr",
     "output_type": "stream",
     "text": [
      "Setting `pad_token_id` to `eos_token_id`:50256 for open-end generation.\n",
      "Input length of input_ids is 312, but ``max_length`` is set to 312.This can lead to unexpected behavior. You should consider increasing ``config.max_length`` or ``max_length``.\n"
     ]
    },
    {
     "name": "stdout",
     "output_type": "stream",
     "text": [
      "Art is a game and not everyone is invited to play, Art is a game and if Picasso had been born in Botswana nobody would be buying postcards of his works in the gift shop of the MET, Art is what we agree art is, and if someone doesn’t agree, we call them a heretic and we throw them in the Hudson with a sculpture of Robert Indiana tied to their legs to see if they float, It’s art if it doesn’t sink in the river, It’s art if five zeros line up in your wallet, It’s art if it smells like gold, if it tastes like gold, if it weighs the same as gold, It’ll be art if you stop repeating how good it is and you stop to look at it, if you stop trying to understand it, to explain it, Picasso in Botswana passing out Pulas and on the walls of the MOMA pieces of melted egos are hanging, Without oceans, Without people, Rivers of people doing what they DON’T feel, doing what they think they’re supposed to do, what someone told them to do or something that they read in the Time Out New York, or in the Brooklyn Rail, The Setinkane drum sounds and someone plays the Phala Picasso slowly walks through the streets of Gaborone while on the other side of the world, a painting that he didn’t paint sells for millions of dollars, Nobody knows who Picasso ^^  is\n",
      "['Art', 'is', 'a', 'game', 'and', 'not', 'everyone', 'is', 'invited', 'to', 'play,', 'Art', 'is', 'a', 'game', 'and', 'if', 'Picasso', 'had', 'been', 'born', 'in', 'Botswana', 'nobody', 'would', 'be', 'buying', 'postcards', 'of', 'his', 'works', 'in', 'the', 'gift', 'shop', 'of', 'the', 'MET,', 'Art', 'is', 'what', 'we', 'agree', 'art', 'is,', 'and', 'if', 'someone', 'doesn’t', 'agree,', 'we', 'call', 'them', 'a', 'heretic', 'and', 'we', 'throw', 'them', 'in', 'the', 'Hudson', 'with', 'a', 'sculpture', 'of', 'Robert', 'Indiana', 'tied', 'to', 'their', 'legs', 'to', 'see', 'if', 'they', 'float,', 'It’s', 'art', 'if', 'it', 'doesn’t', 'sink', 'in', 'the', 'river,', 'It’s', 'art', 'if', 'five', 'zeros', 'line', 'up', 'in', 'your', 'wallet,', 'It’s', 'art', 'if', 'it', 'smells', 'like', 'gold,', 'if', 'it', 'tastes', 'like', 'gold,', 'if', 'it', 'weighs', 'the', 'same', 'as', 'gold,', 'It’ll', 'be', 'art', 'if', 'you', 'stop', 'repeating', 'how', 'good', 'it', 'is', 'and', 'you', 'stop', 'to', 'look', 'at', 'it,', 'if', 'you', 'stop', 'trying', 'to', 'understand', 'it,', 'to', 'explain', 'it,', 'Picasso', 'in', 'Botswana', 'passing', 'out', 'Pulas', 'and', 'on', 'the', 'walls', 'of', 'the', 'MOMA', 'pieces', 'of', 'melted', 'egos', 'are', 'hanging,', 'Without', 'oceans,', 'Without', 'people,', 'Rivers', 'of', 'people', 'doing', 'what', 'they', 'DON’T', 'feel,', 'doing', 'what', 'they', 'think', 'they’re', 'supposed', 'to', 'do,', 'what', 'someone', 'told', 'them', 'to', 'do', 'or', 'something', 'that', 'they', 'read', 'in', 'the', 'Time', 'Out', 'New', 'York,', 'or', 'in', 'the', 'Brooklyn', 'Rail,', 'The', 'Setinkane', 'drum', 'sounds', 'and', 'someone', 'plays', 'the', 'Phala', 'Picasso', 'slowly', 'walks', 'through', 'the', 'streets', 'of', 'Gaborone', 'while', 'on', 'the', 'other', 'side', 'of', 'the', 'world,', 'a', 'painting', 'that', 'he', 'didn’t', 'paint', 'sells', 'for', 'millions', 'of', 'dollars,', 'Nobody', 'knows', 'who', 'Picasso', 'is']\n",
      "Art is a game and not everyone is invited to play, Art is a game and if Picasso had been born in Botswana nobody would be buying postcards of his works in the gift shop of the MET, Art is what we agree art is, and if someone doesn’t agree, we call them a heretic and we throw them in the Hudson with a sculpture of Robert Indiana tied to their legs to see if they float, It’s art if it doesn’t sink in the river, It’s art if five zeros line up in your wallet, It’s art if it smells like gold, if it tastes like gold, if it weighs the same as gold, It’ll be art if you stop repeating how good it is and you stop to look at it, if you stop trying to understand it, to explain it, Picasso in Botswana passing out Pulas and on the walls of the MOMA pieces of melted egos are hanging, Without oceans, Without people, Rivers of people doing what they DON’T feel, doing what they think they’re supposed to do, what someone told them to do or something that they read in the Time Out New York, or in the Brooklyn Rail, The Setinkane drum sounds and someone plays the Phala Picasso slowly walks through the streets of Gaborone while on the other side of the world, a painting that he didn’t paint sells for millions of dollars, Nobody knows who Picasso is ^^ ,\n"
     ]
    }
   ],
   "source": [
    "partial_poem = []\n",
    "for word in poem:\n",
    "    partial_poem.append(word)\n",
    "    print(partial_poem)\n",
    "    initial_text = \" \".join(partial_poem)\n",
    "    result = generate_text(initial_text)\n",
    "    file_dest.write(result+\"\\n\")\n",
    "    print(result)"
   ]
  },
  {
   "cell_type": "code",
   "execution_count": 132,
   "metadata": {},
   "outputs": [],
   "source": [
    "file_dest.close()"
   ]
  },
  {
   "cell_type": "code",
   "execution_count": null,
   "metadata": {},
   "outputs": [],
   "source": []
  }
 ],
 "metadata": {
  "kernelspec": {
   "display_name": "Python 3",
   "language": "python",
   "name": "python3"
  },
  "language_info": {
   "codemirror_mode": {
    "name": "ipython",
    "version": 3
   },
   "file_extension": ".py",
   "mimetype": "text/x-python",
   "name": "python",
   "nbconvert_exporter": "python",
   "pygments_lexer": "ipython3",
   "version": "3.8.3"
  }
 },
 "nbformat": 4,
 "nbformat_minor": 4
}
